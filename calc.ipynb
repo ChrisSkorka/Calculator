{
 "cells": [
  {
   "cell_type": "markdown",
   "metadata": {
    "heading_collapsed": true
   },
   "source": [
    "# Imports"
   ]
  },
  {
   "cell_type": "code",
   "execution_count": 1,
   "metadata": {
    "ExecuteTime": {
     "end_time": "2020-07-31T15:41:38.377962Z",
     "start_time": "2020-07-31T15:41:38.278767Z"
    },
    "hidden": true
   },
   "outputs": [],
   "source": [
    "import math, pyperclip, os, re, decimal\n",
    "from decimal import Decimal\n",
    "import numpy as np\n",
    "from functools import reduce\n",
    "from itertools import product\n",
    "from datetime import datetime, date, time"
   ]
  },
  {
   "cell_type": "markdown",
   "metadata": {
    "heading_collapsed": true
   },
   "source": [
    "# Docs"
   ]
  },
  {
   "cell_type": "code",
   "execution_count": 2,
   "metadata": {
    "ExecuteTime": {
     "end_time": "2020-07-31T15:41:38.393958Z",
     "start_time": "2020-07-31T15:41:38.379963Z"
    },
    "hidden": true
   },
   "outputs": [],
   "source": [
    "\"\"\"\n",
    "Data types: Real, Complex, Int, Boolean, String, Undefined\n",
    "Data structures: Scalar, Vector, Matrix, ...\n",
    "Variables: v\n",
    "Functions: fun\n",
    "Named operators: v operation u\n",
    "Conversion specifier: 45deg\n",
    "Data properties: object.property\n",
    "Oppertation: Numeric, Sets, Comparison \n",
    "\n",
    "Data Structures\n",
    "Tensor: [a, b,, c, d,,, ...]\n",
    "List: (a, b, c, ...)\n",
    "Function Body: {expression}\n",
    "\n",
    "Implicit Operations\n",
    "2(expression)      *\n",
    "(expression)2      *\n",
    "var(expression)    *\n",
    "fun(parameters)    call\n",
    "\n",
    "Named operators\n",
    "on two values: v operation u\n",
    "on one value: v.operation\n",
    "\n",
    "Input and Output conversion\n",
    "1m + 12cm @ cm\n",
    "2hr + 45min + 1hr + 30min @ datetime\n",
    "0b1100 * 0xFF @ dec\n",
    "\n",
    "Basic Operations:\n",
    "Standard:       | Bitwise: int&bool | Comparison:           | \n",
    "+           add | ~             not | ==             equals | \n",
    "-      subtract | &&            and | !=          not equal | \n",
    "*      multiply | ||             or | <           less than | \n",
    "/        divide | <xor>         xor | >        greater then | \n",
    "//      int div | <<     left shift | <=      less or equal | \n",
    "%       modulus | >>    right shift | >=   greater or equal | \n",
    "^         power |                   |                       | \n",
    "!     factorial |                   |                       | \n",
    "|val|  absolute |                   |                       | \n",
    "=    assignment |                   |                       | \n",
    "\n",
    "Ternary Operators\n",
    "= =                return values = function = body\n",
    "a < x < b          between\n",
    "a if cond else b   \n",
    "\n",
    "Higher Ranking Data Structure Operations:\n",
    "Vector:                 | Matrix:                          | Reductions:\n",
    "<dot>       dot product | <matmul>   matrix multiplication | <all>\n",
    "<cross>   cross product | |mat|                            | <any>\n",
    "|vec|            length | .T              transpose matrix | <\n",
    ".length          length | \n",
    ".angle            angle | \n",
    "\n",
    "\n",
    "\n",
    "1 + sqrt 4\n",
    "1 + sqrt x\n",
    "1 + $4\n",
    "1 + 3 root 8\n",
    "1 + b root x\n",
    "1 + b $ x\n",
    "\n",
    "10 nPr 2\n",
    "n nPr r\n",
    "10 nCr 2\n",
    "n nCr r\n",
    "\n",
    "[1, 2,, 3, 4] # [5, 6,, 7, 8]\n",
    "[1, 2,, 3, 4].T\n",
    "mat1.T\n",
    "\n",
    "5*x\n",
    "\n",
    "sin 30deg\n",
    "sin pi\n",
    "sin2 pi\n",
    "sini 0.5\n",
    "\n",
    "Function definitions\n",
    "fun = x => x^2               single value output\n",
    "fun = x => [x, x*2, x^2]     tensor outputs\n",
    "fun = x => (x, x*2, x^2)     multiple outputs\n",
    "fun = x => {                 piecewise function\n",
    "    0,   if x < 0 ; \n",
    "    x^2, if 0 <= x <= 1 ; \n",
    "    x,   else\n",
    "}\n",
    "fun(x) = {                  piecewise function\n",
    "    0   if x < 0\n",
    "    x^2 if 0 <= x <= 1\n",
    "    x   else\n",
    "}\n",
    "\n",
    "fun(x,y,z) = {\n",
    "    a = x+2\n",
    "    b = y*2\n",
    "    c = z^2\n",
    "    (a,b,c)\n",
    "}\n",
    "\n",
    "if x < 0 {\n",
    "    x = 0\n",
    "}\n",
    "\n",
    "for i = 0:10{\n",
    "    x += i\n",
    "}\n",
    "\n",
    "while x < 0 {\n",
    "    x += 1\n",
    "}\n",
    "\n",
    "5(m/s^2) / 3(m/s)\n",
    "\n",
    "Statistical Operations:\n",
    "\"\"\"\n",
    "None"
   ]
  },
  {
   "cell_type": "code",
   "execution_count": 3,
   "metadata": {
    "ExecuteTime": {
     "end_time": "2020-07-31T15:41:38.409957Z",
     "start_time": "2020-07-31T15:41:38.395957Z"
    },
    "hidden": true
   },
   "outputs": [],
   "source": [
    "\"\"\"\n",
    "Conversion specifiers\n",
    "\n",
    "Time:\n",
    "    Seconds: s, ms, µs, ns, ps, \n",
    "        fs, as, zs, ys, ks, Ms, Gs, Ts, Ps, Es, Zs, Ys\n",
    "    Other: min, hr, D, W, M, Y, am, pm\n",
    "    \n",
    "Distance:\n",
    "    Metric: m, dm, cm, mm, µm, nm, pm, km, \n",
    "        fm, am, zm, ym, Mm, Gm, Tm, Pm, Em, Zm, Ym\n",
    "    Imperial: th, in, ft, yd, mi\n",
    "    Other: nmi\n",
    "\n",
    "Mass: \n",
    "    Metrix: mg, µg, ng, pg, kg, Mg, tonne\n",
    "        dg, cg, fg, ag, zg, yg, dag, hg, Mg, Gg, Tg, Pg, Eg, Zg, Yg\n",
    "    Imperial: oz, lb, ton\n",
    "    Other: mol\n",
    "    \n",
    "Temparature: K, C, F, R\n",
    "\n",
    "Luminosity: cd, lx\n",
    "\n",
    "Force: N, kN, lbf, pdl\n",
    "\n",
    "\"\"\"\n",
    "None"
   ]
  },
  {
   "cell_type": "markdown",
   "metadata": {
    "heading_collapsed": true
   },
   "source": [
    "# Classes"
   ]
  },
  {
   "cell_type": "markdown",
   "metadata": {
    "heading_collapsed": true,
    "hidden": true
   },
   "source": [
    "## Exceptions"
   ]
  },
  {
   "cell_type": "markdown",
   "metadata": {
    "heading_collapsed": true,
    "hidden": true
   },
   "source": [
    "### TokenNotAllowedException"
   ]
  },
  {
   "cell_type": "code",
   "execution_count": 4,
   "metadata": {
    "ExecuteTime": {
     "end_time": "2020-07-31T15:41:38.424959Z",
     "start_time": "2020-07-31T15:41:38.411959Z"
    },
    "hidden": true
   },
   "outputs": [],
   "source": [
    "class TokenNotAllowedException(Exception):\n",
    "    def __init__(self, source, ln=None, offset=None):\n",
    "        if ln == None and offset == None:\n",
    "            ln = source.ln\n",
    "            offset = source.offset\n",
    "            source = source.source\n",
    "            \n",
    "        message = f\"\\n{source.getSourcePointerString(ln, offset)}\"\n",
    "        \n",
    "        super().__init__(message)"
   ]
  },
  {
   "cell_type": "markdown",
   "metadata": {
    "heading_collapsed": true,
    "hidden": true
   },
   "source": [
    "### VariableNotDefined"
   ]
  },
  {
   "cell_type": "code",
   "execution_count": 5,
   "metadata": {
    "ExecuteTime": {
     "end_time": "2020-07-31T15:41:38.439959Z",
     "start_time": "2020-07-31T15:41:38.426959Z"
    },
    "hidden": true
   },
   "outputs": [],
   "source": [
    "class VariableNotDefined(Exception):\n",
    "    def __init__(self, name):\n",
    "        super().__init__(f\"'{name}'\")"
   ]
  },
  {
   "cell_type": "markdown",
   "metadata": {
    "heading_collapsed": true,
    "hidden": true
   },
   "source": [
    "### NotImplementedException"
   ]
  },
  {
   "cell_type": "code",
   "execution_count": 6,
   "metadata": {
    "ExecuteTime": {
     "end_time": "2020-07-31T15:41:38.455957Z",
     "start_time": "2020-07-31T15:41:38.441961Z"
    },
    "hidden": true
   },
   "outputs": [],
   "source": [
    "class NotImplementedException(Exception):\n",
    "    pass"
   ]
  },
  {
   "cell_type": "markdown",
   "metadata": {
    "heading_collapsed": true,
    "hidden": true
   },
   "source": [
    "## Token Matching"
   ]
  },
  {
   "cell_type": "markdown",
   "metadata": {
    "heading_collapsed": true,
    "hidden": true
   },
   "source": [
    "### TokenOperandDefinition"
   ]
  },
  {
   "cell_type": "code",
   "execution_count": 7,
   "metadata": {
    "ExecuteTime": {
     "end_time": "2020-07-31T15:41:38.471957Z",
     "start_time": "2020-07-31T15:41:38.457960Z"
    },
    "hidden": true
   },
   "outputs": [],
   "source": [
    "class TokenOperandDefinition():\n",
    "    \"\"\"Defines an operand token that can be matched with using a string search\"\"\"\n",
    "    \n",
    "    def __init__(self, token, precedence):\n",
    "        \"\"\"Arguments:\n",
    "            str   token:       string that identifies the operand\n",
    "            float precedence:  precedence in order of operations (higher is executed first)\n",
    "        \"\"\"\n",
    "        \n",
    "        self.token = token\n",
    "        self.precedence = float(precedence)\n",
    "        \n",
    "    def __repr__(self):\n",
    "        return str(self)\n",
    "        \n",
    "    def __str__(self):\n",
    "        return f'TokenOperandDefinition({self.token}, {self.precedence})'"
   ]
  },
  {
   "cell_type": "markdown",
   "metadata": {
    "heading_collapsed": true,
    "hidden": true
   },
   "source": [
    "### TokenGroupDefinition"
   ]
  },
  {
   "cell_type": "code",
   "execution_count": 8,
   "metadata": {
    "ExecuteTime": {
     "end_time": "2020-07-31T15:41:38.487966Z",
     "start_time": "2020-07-31T15:41:38.474958Z"
    },
    "hidden": true
   },
   "outputs": [],
   "source": [
    "class TokenGroupDefinition():\n",
    "    \"\"\"Defines an grouping token pair that can be matched with using a string search\"\"\"\n",
    "    \n",
    "    def __init__(self, open_token, close_token, seperators, ignore_missing, function):\n",
    "        \"\"\"Arguments:\n",
    "            str      open_token:          string that identifies the opening token\n",
    "            str      close_token:         string that identifies the closing token (can be the same as open_token)\n",
    "            dict(str: depth) seperators:  allowed seperators and their seperating depth\n",
    "            function function:            the function to convert the list of items into an in environment object\n",
    "        \"\"\"\n",
    "        \n",
    "        self.open_token = open_token\n",
    "        self.close_token = close_token\n",
    "        self.seperators = seperators\n",
    "        self.ignore_missing = ignore_missing\n",
    "        \n",
    "        self.function = function\n",
    "        \n",
    "    def __repr__(self):\n",
    "        return str(self)\n",
    "        \n",
    "    def __str__(self):\n",
    "        return f'TokenGroupDefinition({self.open_token}, {self.close_token})'"
   ]
  },
  {
   "cell_type": "markdown",
   "metadata": {
    "heading_collapsed": true,
    "hidden": true
   },
   "source": [
    "### TokenNewItemDefinition"
   ]
  },
  {
   "cell_type": "code",
   "execution_count": 9,
   "metadata": {
    "ExecuteTime": {
     "end_time": "2020-07-31T15:41:38.503958Z",
     "start_time": "2020-07-31T15:41:38.489967Z"
    },
    "hidden": true
   },
   "outputs": [],
   "source": [
    "class TokenNewItemDefinition():\n",
    "    \"\"\"Defines an item seperation token that can be matched with using a string search\"\"\"\n",
    "    \n",
    "    def __init__(self, token):\n",
    "        \"\"\"Arguments:\n",
    "            str token:  string that identifies the seperator\n",
    "        \"\"\"\n",
    "        \n",
    "        self.token = token\n",
    "        \n",
    "    def __repr__(self):\n",
    "        return str(self)\n",
    "        \n",
    "    def __str__(self):\n",
    "        return f'TokenNewItemDefinition({self.token}, {self.levels})'"
   ]
  },
  {
   "cell_type": "markdown",
   "metadata": {
    "heading_collapsed": true,
    "hidden": true
   },
   "source": [
    "### Source"
   ]
  },
  {
   "cell_type": "code",
   "execution_count": 10,
   "metadata": {
    "ExecuteTime": {
     "end_time": "2020-07-31T15:41:38.519933Z",
     "start_time": "2020-07-31T15:41:38.505935Z"
    },
    "hidden": true
   },
   "outputs": [],
   "source": [
    "class Source:\n",
    "    \n",
    "    def __init__(self, string=''):\n",
    "        self.string = string\n",
    "        self.lines = []\n",
    "        \n",
    "    def set(self, string):\n",
    "        self.string = string\n",
    "        self.lines = string.splitlines(True)\n",
    "        \n",
    "    def getSourcePointerString(self, ln, offset):\n",
    "        ln_number_string = str(ln+1)\n",
    "        line = f'{ln_number_string}: {self.lines[ln]}'\n",
    "        pointer = ' ' * (len(ln_number_string) + 2 + offset) + '↑'\n",
    "        sep = '' if '\\n' in line[-2:] else '\\n'\n",
    "        \n",
    "        return line + sep + pointer"
   ]
  },
  {
   "cell_type": "markdown",
   "metadata": {
    "heading_collapsed": true,
    "hidden": true
   },
   "source": [
    "### Token"
   ]
  },
  {
   "cell_type": "code",
   "execution_count": 11,
   "metadata": {
    "ExecuteTime": {
     "end_time": "2020-07-31T15:41:38.534934Z",
     "start_time": "2020-07-31T15:41:38.520932Z"
    },
    "hidden": true
   },
   "outputs": [],
   "source": [
    "class Token:\n",
    "    \n",
    "    def __init__(self, token_type, string, ln, offset, source):\n",
    "        self.token_type = token_type\n",
    "        self.string     = string\n",
    "        self.ln         = ln\n",
    "        self.offset     = offset\n",
    "        self.source     = source\n",
    "        \n",
    "    def getSourcePointerString(self):\n",
    "        return self.source.getSourcePointerString(self.ln, self.offset)"
   ]
  },
  {
   "cell_type": "markdown",
   "metadata": {
    "heading_collapsed": true,
    "hidden": true
   },
   "source": [
    "## Token Tree Nodes"
   ]
  },
  {
   "cell_type": "markdown",
   "metadata": {
    "heading_collapsed": true,
    "hidden": true
   },
   "source": [
    "### Abstract NodeToken"
   ]
  },
  {
   "cell_type": "code",
   "execution_count": 12,
   "metadata": {
    "ExecuteTime": {
     "end_time": "2020-07-31T15:41:38.549932Z",
     "start_time": "2020-07-31T15:41:38.535933Z"
    },
    "hidden": true
   },
   "outputs": [],
   "source": [
    "class NodeToken():\n",
    "    \"\"\"represents a value, operation or grouping node that returns an evaluabe that can be evaluated to return a value\"\"\"\n",
    "    \n",
    "    def is_complete(self):\n",
    "        \"\"\"Returns whether this token is complete, if false, it is not a valud token and interpreting failed\"\"\"\n",
    "        \n",
    "        raise NotImplementedException('NodeToken.is_complete()')\n",
    "        \n",
    "    def set_left(self, node):\n",
    "        \"\"\"sets the left child node if it exists\"\"\"\n",
    "        \n",
    "        raise NotImplementedException('NodeToken.set_left(node)')\n",
    "\n",
    "    def set_right(self, node):\n",
    "        \"\"\"sets the right child node if it exists\"\"\"\n",
    "        \n",
    "        raise NotImplementedException('NodeToken.set_right(node)')\n",
    "        \n",
    "    def get_right(self):\n",
    "        \"\"\"segetsts the right child node if it exists\"\"\"\n",
    "        \n",
    "        raise NotImplementedException('NodeToken.get_right()')\n",
    "        \n",
    "    def get_evaluable(self):\n",
    "        \"\"\"return an Evaluable obejct from this token, the token should be complete before this method is called\"\"\"\n",
    "        \n",
    "        raise NotImplementedException('NodeToken.get_evaluable()')"
   ]
  },
  {
   "cell_type": "markdown",
   "metadata": {
    "heading_collapsed": true,
    "hidden": true
   },
   "source": [
    "### NodeBinary"
   ]
  },
  {
   "cell_type": "code",
   "execution_count": 13,
   "metadata": {
    "ExecuteTime": {
     "end_time": "2020-07-31T15:41:38.565943Z",
     "start_time": "2020-07-31T15:41:38.550932Z"
    },
    "hidden": true
   },
   "outputs": [],
   "source": [
    "class NodeBinary(NodeToken):\n",
    "    \"\"\"represents a binary operation with a left and right child\"\"\"\n",
    "    \n",
    "    def __init__(self, operation_definition, parent=None):\n",
    "        self.parent = parent\n",
    "        self.operation_definition = operation_definition\n",
    "        self.precedence = operation_definition.precedence\n",
    "        self.left = None\n",
    "        self.right = None\n",
    "    \n",
    "    def is_complete(self):\n",
    "        return self.left != None and self.right != None and self.left.is_complete() and self.right.is_complete()\n",
    "        \n",
    "    def set_left(self, node):\n",
    "        \"\"\"sets left child\"\"\"\n",
    "        \n",
    "        self.left = node\n",
    "        node.parent = self\n",
    "\n",
    "    def set_right(self, node):\n",
    "        \"\"\"sets right child\"\"\"\n",
    "        \n",
    "        self.right = node\n",
    "        node.parent = self\n",
    "        \n",
    "    def get_right(self):\n",
    "        \"\"\"returns right child\"\"\"\n",
    "        \n",
    "        return self.right\n",
    "    \n",
    "    def get_evaluable(self):\n",
    "        \"\"\"returns Evaluable that computes a result from both child tokens\"\"\"\n",
    "        \n",
    "        return VariableFunction('<binary_operation>'+self.operation_definition.token, (self.left.get_evaluable(), self.right.get_evaluable()))\n",
    "    \n",
    "    def __repr__(self):\n",
    "        return str(self)\n",
    "    \n",
    "    def __str__(self):\n",
    "        return f'NodeBinary({self.operation_definition}, left={self.left}, right={self.right})'"
   ]
  },
  {
   "cell_type": "markdown",
   "metadata": {
    "heading_collapsed": true,
    "hidden": true
   },
   "source": [
    "### NodeUnaryLeft"
   ]
  },
  {
   "cell_type": "code",
   "execution_count": 14,
   "metadata": {
    "ExecuteTime": {
     "end_time": "2020-07-31T15:41:38.581943Z",
     "start_time": "2020-07-31T15:41:38.566944Z"
    },
    "hidden": true
   },
   "outputs": [],
   "source": [
    "class NodeUnaryLeft(NodeToken):\n",
    "    \"\"\"represents a unary operator to the left of its operand with a single child\"\"\"\n",
    "    \n",
    "    def __init__(self, operation_definition, parent=None):\n",
    "        self.parent = parent\n",
    "        self.operation_definition = operation_definition\n",
    "        self.precedence = operation_definition.precedence\n",
    "        self.child = None\n",
    "    \n",
    "    def is_complete(self):\n",
    "        return self.child != None and self.child.is_complete()\n",
    "        \n",
    "    def set_left(self, node):\n",
    "        \"\"\"sets single child\"\"\"\n",
    "        \n",
    "        self.child = node\n",
    "        node.parent = self\n",
    "\n",
    "    def set_right(self, node):\n",
    "        \"\"\"sets single child\"\"\"\n",
    "        \n",
    "        self.child = node\n",
    "        node.parent = self\n",
    "        \n",
    "    def get_right(self):\n",
    "        \"\"\"gets single child\"\"\"\n",
    "        \n",
    "        return self.child\n",
    "    \n",
    "    def get_evaluable(self):\n",
    "        \"\"\"returns Evaluable that computes a result from the child token\"\"\"\n",
    "        \n",
    "        return VariableFunction('<left_unary_operation>'+self.operation_definition.token, (self.child.get_evaluable(), ))\n",
    "    \n",
    "    def __repr__(self):\n",
    "        return str(self)\n",
    "    \n",
    "    def __str__(self):\n",
    "        return f'NodeUnaryLeft({self.operation_definition}, child={self.child})'"
   ]
  },
  {
   "cell_type": "markdown",
   "metadata": {
    "heading_collapsed": true,
    "hidden": true
   },
   "source": [
    "### NodeUnaryRight"
   ]
  },
  {
   "cell_type": "code",
   "execution_count": 15,
   "metadata": {
    "ExecuteTime": {
     "end_time": "2020-07-31T15:41:38.596942Z",
     "start_time": "2020-07-31T15:41:38.582942Z"
    },
    "hidden": true
   },
   "outputs": [],
   "source": [
    "class NodeUnaryRight(NodeToken):\n",
    "    \"\"\"represents a unary operator to the right of its operand with a single child\"\"\"\n",
    "    \n",
    "    def __init__(self, operation_definition, parent=None):\n",
    "        self.parent = parent\n",
    "        self.operation_definition = operation_definition\n",
    "        self.precedence = operation_definition.precedence\n",
    "        self.child = None\n",
    "    \n",
    "    def is_complete(self):\n",
    "        return self.child != None and self.child.is_complete()\n",
    "        \n",
    "    def set_left(self, node):\n",
    "        \"\"\"sets single child\"\"\"\n",
    "        \n",
    "        self.child = node\n",
    "        node.parent = self\n",
    "\n",
    "    def set_right(self, node):\n",
    "        \"\"\"sets single child\"\"\"\n",
    "        \n",
    "        self.child = node\n",
    "        node.parent = self\n",
    "        \n",
    "    def get_right(self):\n",
    "        \"\"\"gets single child\"\"\"\n",
    "        \n",
    "        return self.child\n",
    "    \n",
    "    def get_evaluable(self):\n",
    "        \"\"\"returns Evaluable that computes a result from the child token\"\"\"\n",
    "        \n",
    "        return VariableFunction('<right_unary_operation>'+self.operation_definition.token, (self.child.get_evaluable(), ))\n",
    "    \n",
    "    def __repr__(self):\n",
    "        return str(self)\n",
    "    \n",
    "    def __str__(self):\n",
    "        return f'NodeUnaryRight({self.operation_definition}, child={self.child})'"
   ]
  },
  {
   "cell_type": "markdown",
   "metadata": {
    "heading_collapsed": true,
    "hidden": true
   },
   "source": [
    "### NodeGroup"
   ]
  },
  {
   "cell_type": "code",
   "execution_count": 16,
   "metadata": {
    "ExecuteTime": {
     "end_time": "2020-07-31T15:41:38.628141Z",
     "start_time": "2020-07-31T15:41:38.597942Z"
    },
    "hidden": true
   },
   "outputs": [],
   "source": [
    "class NodeGroup(NodeToken):\n",
    "    \"\"\"represents a grouping\"\"\"\n",
    "    \n",
    "    def __init__(self, group_definition, parent=None):\n",
    "        self.parent = parent\n",
    "        self.children = []\n",
    "        \n",
    "        self.group_definition = group_definition\n",
    "        self.complete = False\n",
    "        \n",
    "        self.shape = {}\n",
    "        self.sep_count = 0\n",
    "    \n",
    "    def is_complete(self, test_self=False):\n",
    "        complete = test_self or self.complete\n",
    "        complete &= all(c.is_complete() for c in self.children)\n",
    "        return complete\n",
    "\n",
    "    def close(self):\n",
    "        self.sep_count = 0\n",
    "        self.complete = True\n",
    "        \n",
    "        expected_size = 1\n",
    "        for d,s in self.shape.items(): expected_size *= s\n",
    "        \n",
    "        if not self.group_definition.ignore_missing:\n",
    "            assert len(self.children) == expected_size, f'Inconsistent dimensions shape={self.shape}, expected={expected_size}, actual={len(self.children)}'\n",
    "    \n",
    "    def set_right(self, node):\n",
    "        self.children[-1] = node\n",
    "        node.parent = self\n",
    "        \n",
    "    def get_right(self):\n",
    "        return self.children[-1]\n",
    "\n",
    "    def add(self, node):\n",
    "        self.children.append(node)\n",
    "        node.parent = self\n",
    "        \n",
    "        if len(self.shape) > 0 and self.sep_count >= len(self.shape):\n",
    "            for i in range(len(self.shape), self.sep_count+1):\n",
    "                self.shape[i-1] = self.shape.get(i-1, 1)\n",
    "            self.shape[self.sep_count-1] += 1\n",
    "            \n",
    "        self.sep_count = 0\n",
    "        \n",
    "    def increase(self, depth=1):\n",
    "        self.sep_count += depth\n",
    "        \n",
    "        if len(self.shape) == 0:\n",
    "            self.shape[0] = 1\n",
    "        \n",
    "        # ensure minumum number of dimensions exists\n",
    "        for i in range(len(self.shape), self.sep_count+1):\n",
    "            self.shape[i-1] = self.shape.get(i-1, 1)\n",
    "    \n",
    "    def get_shape(self):\n",
    "        shape = list(self.shape.items())\n",
    "        shape.sort(key=lambda x:x[0], reverse=True)\n",
    "        shape = tuple(s for d,s in shape)\n",
    "        return shape\n",
    "    \n",
    "    def get_children(self):\n",
    "        return self.children\n",
    "    \n",
    "    def get_evaluable(self):\n",
    "        \n",
    "        evaluables = [v.get_evaluable() for v in self.children]\n",
    "        \n",
    "        return VariableTensor(evaluables, self.get_shape(), self.group_definition.function)\n",
    "    \n",
    "    def __repr__(self):\n",
    "        return str(self)\n",
    "    \n",
    "    def __str__(self):\n",
    "        return f'NodeGroup({self.group_definition}, children={self.children})'"
   ]
  },
  {
   "cell_type": "markdown",
   "metadata": {
    "heading_collapsed": true,
    "hidden": true
   },
   "source": [
    "### NodeValue"
   ]
  },
  {
   "cell_type": "code",
   "execution_count": 17,
   "metadata": {
    "ExecuteTime": {
     "end_time": "2020-07-31T15:41:38.643449Z",
     "start_time": "2020-07-31T15:41:38.629143Z"
    },
    "hidden": true
   },
   "outputs": [],
   "source": [
    "class NodeValue(NodeToken):\n",
    "    \"\"\"represents a value\"\"\"\n",
    "    \n",
    "    def __init__(self, value, value_type, parent=None):\n",
    "        self.parent = parent\n",
    "        self.value = value\n",
    "        self.value_type = value_type\n",
    "    \n",
    "    def is_complete(self):\n",
    "        return True\n",
    "    \n",
    "    def get_evaluable(self):\n",
    "        \"\"\"returns the approriate Evaluable for the tyoe of value this node holds\"\"\"\n",
    "\n",
    "        value = None\n",
    "        if self.value_type == TOKEN_TYPE_STRING:\n",
    "            trimmed_string = self.value.strip(self.value[0])\n",
    "            value = String(trimmed_string)\n",
    "            value = VariableTensor([value], ())\n",
    "            \n",
    "        if self.value_type == TOKEN_TYPE_INTEGER:\n",
    "            value = Integer(self.value)\n",
    "            value = VariableTensor([value], ())\n",
    "            \n",
    "        if self.value_type == TOKEN_TYPE_NUMBER:\n",
    "            value = Real(self.value)\n",
    "            value = VariableTensor([value], ())\n",
    "            \n",
    "        if self.value_type == TOKEN_TYPE_LITERAL:\n",
    "            value = Variable(self.value)\n",
    "        \n",
    "        return value\n",
    "    \n",
    "    def __repr__(self):\n",
    "        return str(self)\n",
    "    \n",
    "    def __str__(self):\n",
    "        return f'NodeValue({self.value}, {self.value_type})'"
   ]
  },
  {
   "cell_type": "markdown",
   "metadata": {
    "heading_collapsed": true,
    "hidden": true
   },
   "source": [
    "## Evaluable Tree Nodes"
   ]
  },
  {
   "cell_type": "markdown",
   "metadata": {
    "heading_collapsed": true,
    "hidden": true
   },
   "source": [
    "### Abstract Evaluable"
   ]
  },
  {
   "cell_type": "code",
   "execution_count": 18,
   "metadata": {
    "ExecuteTime": {
     "end_time": "2020-07-31T15:41:38.658923Z",
     "start_time": "2020-07-31T15:41:38.644927Z"
    },
    "hidden": true
   },
   "outputs": [],
   "source": [
    "class Evaluable():\n",
    "    \"\"\"represents a node that can be evaluated\"\"\"\n",
    "    \n",
    "    def eval(self, environment, **kwargs):\n",
    "        \"\"\"performs the final evaluation returning an in environment value\n",
    "        \n",
    "        Arguments:\n",
    "            Environment environment:  holds the current environment variables\n",
    "                           **kwargs:  any arguments the Evaluable requires to evaluate\n",
    "        \"\"\"\n",
    "        \n",
    "        raise NotImplementedException('Evaluable.eval(environment)')"
   ]
  },
  {
   "cell_type": "markdown",
   "metadata": {
    "heading_collapsed": true,
    "hidden": true
   },
   "source": [
    "### VariableFunction"
   ]
  },
  {
   "cell_type": "code",
   "execution_count": 19,
   "metadata": {
    "ExecuteTime": {
     "end_time": "2020-07-31T15:41:38.674786Z",
     "start_time": "2020-07-31T15:41:38.660927Z"
    },
    "hidden": true
   },
   "outputs": [],
   "source": [
    "class VariableFunction(Evaluable):\n",
    "    \n",
    "    def __init__(self, name, parameters):\n",
    "        \n",
    "        self.dtype = Evaluable\n",
    "        self.name = name\n",
    "        self.parameters = parameters\n",
    "        if isinstance(parameters, VariableTensor):\n",
    "            self.parameters = parameters.data\n",
    "    \n",
    "    def eval(self, environment, evaluable=False, **kwargs):\n",
    "        \n",
    "        if evaluable:\n",
    "            return self\n",
    "        \n",
    "        assert self.name in environment, f'Function {self.name} not found'\n",
    "        assert type(environment[self.name]) == FunctionSet, f'{self.name} is not a function'\n",
    "        \n",
    "        return environment[self.name].eval(environment, self.parameters)\n",
    "    \n",
    "    def __repr__(self):\n",
    "        return str(self)\n",
    "    \n",
    "    def __str__(self):\n",
    "        return f'VariableFunction_{self.name}({self.parameters})'"
   ]
  },
  {
   "cell_type": "markdown",
   "metadata": {
    "heading_collapsed": true,
    "hidden": true
   },
   "source": [
    "### Variable"
   ]
  },
  {
   "cell_type": "code",
   "execution_count": 20,
   "metadata": {
    "ExecuteTime": {
     "end_time": "2020-07-31T15:41:38.689932Z",
     "start_time": "2020-07-31T15:41:38.675933Z"
    },
    "hidden": true
   },
   "outputs": [],
   "source": [
    "class Variable(Evaluable):\n",
    "    \n",
    "    def __init__(self, name):\n",
    "        \n",
    "        self.dtype = Evaluable\n",
    "        self.name = name\n",
    "    \n",
    "    def eval(self, environment, references=False, evaluable=False, **kwargs):\n",
    "        \n",
    "        if references:\n",
    "            return Tensor(Reference(self.name), ())\n",
    "        \n",
    "        if evaluable:\n",
    "            return self\n",
    "        \n",
    "        if self.name not in environment:\n",
    "            raise VariableNotDefined(self.name)\n",
    "        \n",
    "        value = environment[self.name]\n",
    "        \n",
    "        if type(value) == Evaluable:\n",
    "            value = value.eval(environment)\n",
    "        \n",
    "        return value\n",
    "    \n",
    "    def __repr__(self):\n",
    "        return str(self)\n",
    "    \n",
    "    def __str__(self):\n",
    "        return f\"Variable({self.name})\""
   ]
  },
  {
   "cell_type": "markdown",
   "metadata": {
    "heading_collapsed": true,
    "hidden": true
   },
   "source": [
    "### VariableTensor"
   ]
  },
  {
   "cell_type": "code",
   "execution_count": 21,
   "metadata": {
    "ExecuteTime": {
     "end_time": "2020-07-31T15:41:38.705227Z",
     "start_time": "2020-07-31T15:41:38.690933Z"
    },
    "hidden": true
   },
   "outputs": [],
   "source": [
    "class VariableTensor(Evaluable):\n",
    "    \n",
    "    def __init__(self, data, shape, function=None):\n",
    "        \n",
    "        self.dtype = Evaluable\n",
    "        self.data = data\n",
    "        self.shape = shape\n",
    "        self.function = function\n",
    "    \n",
    "    def eval(self, environment, evaluable=False, **kwargs):\n",
    "        \n",
    "        if evaluable:\n",
    "            return self\n",
    "        \n",
    "        values = [v.eval(environment, **kwargs) for v in self.data]\n",
    "        \n",
    "        if self.function == None and self.shape == ():\n",
    "            return Tensor(values[:1], self.shape)\n",
    "        else:\n",
    "            return self.function(environment, values, self.shape, **kwargs)\n",
    "    \n",
    "    def __repr__(self):\n",
    "        return str(self)\n",
    "    \n",
    "    def __str__(self):\n",
    "        return f'VariableTensor({self.data}, {self.shape})'"
   ]
  },
  {
   "cell_type": "markdown",
   "metadata": {
    "heading_collapsed": true,
    "hidden": true
   },
   "source": [
    "## Data Structures"
   ]
  },
  {
   "cell_type": "markdown",
   "metadata": {
    "heading_collapsed": true,
    "hidden": true
   },
   "source": [
    "### Tensor"
   ]
  },
  {
   "cell_type": "code",
   "execution_count": 22,
   "metadata": {
    "ExecuteTime": {
     "end_time": "2020-07-31T15:41:38.720967Z",
     "start_time": "2020-07-31T15:41:38.706227Z"
    },
    "hidden": true
   },
   "outputs": [],
   "source": [
    "def nd_index_from_shape(int_index, shape):\n",
    "    devisor = 1\n",
    "    devisors = [] if len(shape) == 0 else [devisor]\n",
    "    for s in reversed(shape[1:]):\n",
    "        devisor *= s\n",
    "        devisors.append(devisor)\n",
    "    index = []\n",
    "    for devisor in reversed(devisors):\n",
    "        i = int_index // devisor\n",
    "        index.append(i)\n",
    "        int_index -= i * devisor\n",
    "    return index"
   ]
  },
  {
   "cell_type": "code",
   "execution_count": 23,
   "metadata": {
    "ExecuteTime": {
     "end_time": "2020-07-31T15:41:38.735977Z",
     "start_time": "2020-07-31T15:41:38.724969Z"
    },
    "hidden": true
   },
   "outputs": [],
   "source": [
    "def count_end_zeros(data, sub=None):\n",
    "    if sub:\n",
    "        data = [d-s+1 for [d,s] in zip(data, sub)]\n",
    "    c = 0\n",
    "    for i in reversed(data):\n",
    "        if i == 0:\n",
    "            c += 1\n",
    "        else:\n",
    "            break\n",
    "    return c"
   ]
  },
  {
   "cell_type": "code",
   "execution_count": 24,
   "metadata": {
    "ExecuteTime": {
     "end_time": "2020-07-31T15:41:38.767140Z",
     "start_time": "2020-07-31T15:41:38.737976Z"
    },
    "hidden": true
   },
   "outputs": [],
   "source": [
    "class Tensor(Evaluable):\n",
    "    \"\"\"\n",
    "    represents a value/tensor of any type, shape and rank\n",
    "    \"\"\"\n",
    "    def __init__(self, data, shape=()):\n",
    "        \n",
    "        data = np.array(data, object)\n",
    "        data = data.reshape((data.size,))\n",
    "        \n",
    "        assert data.size > 0, 'Tensor cannot be empty'\n",
    "        \n",
    "        if all(type(t) == Tensor for t in data):\n",
    "            inner_shape = data[0].shape\n",
    "            assert all(t.shape == inner_shape for t in data), 'Cannot combine tensors of different shapes'\n",
    "            \n",
    "            data = np.concatenate([t.data for t in data])\n",
    "            shape = shape + inner_shape\n",
    "        \n",
    "        self._data = np.array(data, object).reshape(shape)\n",
    "        self.data = self._data.reshape((self._data.size))\n",
    "        \n",
    "        self.first = self.data[0]\n",
    "        self.shape = self._data.shape\n",
    "        self.size = self._data.size\n",
    "        self.rank = self._data.ndim\n",
    "        self.dtype = type(self.data[0])\n",
    "        \n",
    "        assert all([type(i) == self.dtype for i in self.data]), 'All items in a Tensor must be of the same type'\n",
    "        \n",
    "    def __getitem__(self, index):\n",
    "        \n",
    "        data = self.data[index] if type(index) == int else self._data[index]\n",
    "        shape = data.shape if type(data) == np.ndarray else ()\n",
    "            \n",
    "        return Tensor(data, shape)\n",
    "        \n",
    "    def __setitem__(self, index, value):\n",
    "        \n",
    "        if type(value) == Tensor:\n",
    "            value = value._data\n",
    "        \n",
    "        if type(index) == int:\n",
    "            self.data[index] = value\n",
    "        else:\n",
    "            self._data[index] = value\n",
    "    \n",
    "    def eval(self, environment, **kwargs):\n",
    "        return self\n",
    "    \n",
    "    def __repr__(self):\n",
    "        if self.rank == 0:\n",
    "            return f'Tensor({self.data[()]})'\n",
    "        else:\n",
    "            return f'Tensor({self.data}, {self.shape})'\n",
    "    \n",
    "    def __str__(self):\n",
    "        if self.rank == 0:\n",
    "            return str(self.first)\n",
    "        else:\n",
    "            shape = list(self.shape)\n",
    "            inner_size = shape.pop()\n",
    "            strings = [str(i) for i in self.data]\n",
    "            inner_lists = list(zip(*[iter(strings)]*inner_size))\n",
    "            strings = ['['+', '.join(l)+']' for l in inner_lists]\n",
    "            \n",
    "            indexes = [nd_index_from_shape(i, shape) for i in range(len(strings))]\n",
    "            \n",
    "            left = [count_end_zeros(d) for d in indexes]\n",
    "            left = [(len(shape) - i) * ' ' + i * '[' for i in left]\n",
    "\n",
    "            right = [count_end_zeros(d, shape) for d in indexes]\n",
    "            right = [i * ']' + ',' + i * '\\n' for i in right]\n",
    "\n",
    "            strings = [l+s+r for (l,s,r) in zip(left, strings, right)]\n",
    "            strings[-1] = strings[-1].strip('\\n,')\n",
    "\n",
    "            string = '\\n'.join(strings)\n",
    "        \n",
    "            return string"
   ]
  },
  {
   "cell_type": "markdown",
   "metadata": {
    "heading_collapsed": true,
    "hidden": true
   },
   "source": [
    "### Array"
   ]
  },
  {
   "cell_type": "code",
   "execution_count": 25,
   "metadata": {
    "ExecuteTime": {
     "end_time": "2020-07-31T15:41:38.783143Z",
     "start_time": "2020-07-31T15:41:38.768150Z"
    },
    "hidden": true
   },
   "outputs": [],
   "source": [
    "class Array(Evaluable):\n",
    "    \n",
    "    def __init__(self, data):\n",
    "        self.data = np.array(data, object)\n",
    "        self.data = self.data.reshape((self.data.size,))\n",
    "        self.size = self.data.size\n",
    "        self.dtype = Array\n",
    "            \n",
    "    def __getitem__(self, index):\n",
    "        if type(index) == int:\n",
    "            return self.data[index]\n",
    "        elif type(index) in [tuple, list]:\n",
    "            if len(index) == 0:\n",
    "                raise Exception('No index given in array item lookup')\n",
    "            elif len(index) == 1:\n",
    "                return self.data[index[0]]\n",
    "            else:\n",
    "                raise Exception('Too many indices given in array item lookup')\n",
    "        else:\n",
    "            return Array(self.data[index])\n",
    "        \n",
    "    def __setitem__(self, index, value):\n",
    "        self.data[index] = value\n",
    "    \n",
    "    def eval(self, environment, **kwargs):\n",
    "        return self\n",
    "    \n",
    "    def __repr__(self):\n",
    "        return f'Array({self.data[()]})'\n",
    "    \n",
    "    def __str__(self):\n",
    "        items = [str(i) for i in self.data]\n",
    "        items = ', '.join(items)\n",
    "        return f'({items})'"
   ]
  },
  {
   "cell_type": "markdown",
   "metadata": {
    "heading_collapsed": true,
    "hidden": true
   },
   "source": [
    "### FunctionSet"
   ]
  },
  {
   "cell_type": "code",
   "execution_count": 26,
   "metadata": {
    "ExecuteTime": {
     "end_time": "2020-07-31T15:41:38.814023Z",
     "start_time": "2020-07-31T15:41:38.784431Z"
    },
    "hidden": true
   },
   "outputs": [],
   "source": [
    "class FunctionSet(Evaluable):\n",
    "    \n",
    "    def __init__(self, name, evaluation_paremeters=None):\n",
    "        self.name = name\n",
    "        self.signatures = {}\n",
    "        self.evaluation_paremeters = evaluation_paremeters or {}\n",
    "        \n",
    "        self.dtype = FunctionSet\n",
    "        \n",
    "    def __contains__(self, partial_signature):\n",
    "        l = len(partial_signature)\n",
    "        for signature in self.signatures:\n",
    "            if signature[:l] == partial_signature:\n",
    "                return True\n",
    "            \n",
    "        return False\n",
    "    \n",
    "    def __getitem__(self, signature):\n",
    "        return self.signatures[signature]\n",
    "    \n",
    "    def __setitem__(self, signature, value):\n",
    "        par_names, function = value\n",
    "        self.signatures[signature] = (par_names, function)\n",
    "        \n",
    "    def add(self, function_signature):\n",
    "        self.signatures[function_signature.parameter_types] = function_signature\n",
    "        \n",
    "    def eval(self, environment, parameters, **kwargs):\n",
    "        \n",
    "        parameters = list(parameters)\n",
    "        signature = [type(p) for p in parameters]\n",
    "        \n",
    "        for i, parameter in enumerate(parameters):\n",
    "            eval_params = self.evaluation_paremeters.get(i, {})\n",
    "            parameters[i] = parameter.eval(environment, **eval_params)\n",
    "            signature[i] = parameters[i].dtype\n",
    "        \n",
    "        signature = tuple(signature)\n",
    "        function_signature = None\n",
    "        \n",
    "        for signature_candidate in self.signatures:\n",
    "            if len(signature) == len(signature_candidate) and all([a==b or a==None for a,b in zip(signature_candidate, signature)]):\n",
    "                function_signature = self.signatures[signature_candidate]\n",
    "        \n",
    "#         assert signature in self.signatures, f'Signature {self.name}{tuple(p.__name__ for p in signature)} has no matching overload'\n",
    "        assert function_signature != None, f'Signature {self.name}{tuple(p.__name__ for p in signature)} has no matching overload'\n",
    "            \n",
    "#         function_signature = self.signatures[signature]\n",
    "        \n",
    "        function = function_signature.function\n",
    "        parameter_names = function_signature.parameter_names\n",
    "        \n",
    "        actual_shapes = [p.shape if type(p) == Tensor else () for p in parameters]\n",
    "        actual_ranks = [len(s) for s in actual_shapes]\n",
    "        \n",
    "        ranks = [r if r!=None else a for r,a in zip(function_signature.parameter_ranks, actual_ranks)]\n",
    "        extended_shapes = [s if r==0 else s[:-r] for s,r in zip(actual_shapes, ranks)]\n",
    "        \n",
    "        if len(ranks) == len(extended_shapes) == 0:\n",
    "            extended_shape = []\n",
    "        else:\n",
    "            extended_shape = reduce(lambda x,y: x if len(x) > len(y) else y, extended_shapes)\n",
    "        extended_ranks = [len(s) for s in extended_shapes]\n",
    "        \n",
    "        assert all([s in [extended_shape, ()] for s in extended_shapes]), f'Ranks, shape or extended shapes do not match'\n",
    "        \n",
    "        if extended_shape == ():\n",
    "            return self.runFunction(function, environment, parameter_names, parameters)\n",
    "        \n",
    "        else:\n",
    "            data = np.empty(extended_shape, dtype=object)\n",
    "            \n",
    "            for i in product(*[range(d) for d in extended_shape]):\n",
    "                extracted_parameters = [p if r == 0 else p[i] for p, r in zip(parameters, extended_ranks)]\n",
    "                \n",
    "                data[i] = self.runFunction(function, environment, parameter_names, extracted_parameters)._data.tolist()\n",
    "                    \n",
    "            data = np.array(data.tolist())\n",
    "            \n",
    "            return Tensor(data, data.shape)\n",
    "        \n",
    "    def runFunction(self, function, environment, parameter_names, parameters):\n",
    "        \n",
    "        if parameter_names == False or parameter_names == None:\n",
    "            return function(*parameters)\n",
    "        \n",
    "        elif parameter_names == True:\n",
    "            return function(environment, *parameters)\n",
    "\n",
    "        else:\n",
    "            new_scoped_environment = environment.enterScope({k:v for k,v in zip(parameter_names, parameters)})\n",
    "            return function(new_scoped_environment)\n",
    "        \n",
    "    def __repr__(self):\n",
    "        return f'FunctionSet({self.name}, {self.signatures})'\n",
    "    \n",
    "    def __str__(self):\n",
    "        if len(self.signatures) == 0:\n",
    "            parameter_types = ''\n",
    "        if len(self.signatures) == 1:\n",
    "            parameter_types = next(iter(self.signatures))\n",
    "            parameter_types = ['Any' if t == None else t.__name__ for t in parameter_types]\n",
    "            parameter_types = ', '.join(parameter_types)\n",
    "        else:\n",
    "            parameter_types = '...'\n",
    "            \n",
    "        name = '<AnonymousFunction>' if self.name == '' else self.name\n",
    "            \n",
    "        return f'{name}({parameter_types})'"
   ]
  },
  {
   "cell_type": "markdown",
   "metadata": {
    "heading_collapsed": true,
    "hidden": true
   },
   "source": [
    "### ConversionFunctionSet"
   ]
  },
  {
   "cell_type": "code",
   "execution_count": 27,
   "metadata": {
    "ExecuteTime": {
     "end_time": "2020-07-31T15:41:38.830002Z",
     "start_time": "2020-07-31T15:41:38.815004Z"
    },
    "hidden": true
   },
   "outputs": [],
   "source": [
    "class ConversionFunctionSet(Evaluable):\n",
    "    \n",
    "    def __init__(self, name, forwards, backwards):\n",
    "        self.name = name\n",
    "        self.forwards = forwards\n",
    "        self.backwards = backwards\n",
    "        self.dtype = ConversionFunctionSet\n",
    "    \n",
    "    def eval(self, environment, tensor, forwards=True, **kwargs):\n",
    "        shape = tensor.shape\n",
    "        data = tensor.data\n",
    "        \n",
    "        if forwards:\n",
    "            converted_data = [self.forwards(d) for d in data]\n",
    "        else:\n",
    "            converted_data = [self.backwards(d) for d in data]\n",
    "            \n",
    "        return Tensor(converted_data, shape)\n",
    "    \n",
    "    def __repr__(self):\n",
    "        return f'ConversionFunctionSet({self.name})'\n",
    "    \n",
    "    def __str__(self):\n",
    "        return f'<{self.name}>'"
   ]
  },
  {
   "cell_type": "markdown",
   "metadata": {
    "heading_collapsed": true,
    "hidden": true
   },
   "source": [
    "## Data Types"
   ]
  },
  {
   "cell_type": "markdown",
   "metadata": {
    "heading_collapsed": true,
    "hidden": true
   },
   "source": [
    "### Abstract Data"
   ]
  },
  {
   "cell_type": "code",
   "execution_count": 28,
   "metadata": {
    "ExecuteTime": {
     "end_time": "2020-07-31T15:41:38.845166Z",
     "start_time": "2020-07-31T15:41:38.832005Z"
    },
    "hidden": true
   },
   "outputs": [],
   "source": [
    "class Data(Evaluable):\n",
    "    pass"
   ]
  },
  {
   "cell_type": "markdown",
   "metadata": {
    "heading_collapsed": true,
    "hidden": true
   },
   "source": [
    "### String"
   ]
  },
  {
   "cell_type": "code",
   "execution_count": 29,
   "metadata": {
    "ExecuteTime": {
     "end_time": "2020-07-31T15:41:38.861165Z",
     "start_time": "2020-07-31T15:41:38.846166Z"
    },
    "hidden": true
   },
   "outputs": [],
   "source": [
    "class String(Data):\n",
    "    \n",
    "    def __init__(self, value):\n",
    "        self.value = value\n",
    "    \n",
    "    def eval(self, environment, **kwargs):\n",
    "        return self\n",
    "    \n",
    "    def __repr__(self):\n",
    "        return f'String(\"{self.value}\")'\n",
    "    \n",
    "    def __str__(self):\n",
    "        return f'\"{self.value}\"'"
   ]
  },
  {
   "cell_type": "markdown",
   "metadata": {
    "heading_collapsed": true,
    "hidden": true
   },
   "source": [
    "### Integer"
   ]
  },
  {
   "cell_type": "code",
   "execution_count": 30,
   "metadata": {
    "ExecuteTime": {
     "end_time": "2020-07-31T15:41:38.877167Z",
     "start_time": "2020-07-31T15:41:38.863167Z"
    },
    "hidden": true
   },
   "outputs": [],
   "source": [
    "class Integer(Data):\n",
    "    \n",
    "    def __init__(self, value):\n",
    "        self.value = value\n",
    "    \n",
    "    def eval(self, environment, **kwargs):\n",
    "        return self"
   ]
  },
  {
   "cell_type": "markdown",
   "metadata": {
    "heading_collapsed": true,
    "hidden": true
   },
   "source": [
    "### Real"
   ]
  },
  {
   "cell_type": "code",
   "execution_count": 31,
   "metadata": {
    "ExecuteTime": {
     "end_time": "2020-07-31T15:41:38.892767Z",
     "start_time": "2020-07-31T15:41:38.879167Z"
    },
    "hidden": true
   },
   "outputs": [],
   "source": [
    "class Real(Data):\n",
    "    \n",
    "    def __init__(self, value):\n",
    "        self.value = Decimal(value)\n",
    "    \n",
    "    def eval(self, environment, **kwargs):\n",
    "        return self\n",
    "    \n",
    "    def __repr__(self):\n",
    "        return f'Real({str(self.value)})'\n",
    "    \n",
    "    def __str__(self):\n",
    "        return str(self.value)"
   ]
  },
  {
   "cell_type": "markdown",
   "metadata": {
    "heading_collapsed": true,
    "hidden": true
   },
   "source": [
    "### Complex"
   ]
  },
  {
   "cell_type": "code",
   "execution_count": null,
   "metadata": {
    "hidden": true
   },
   "outputs": [],
   "source": []
  },
  {
   "cell_type": "markdown",
   "metadata": {
    "heading_collapsed": true,
    "hidden": true
   },
   "source": [
    "### Boolean"
   ]
  },
  {
   "cell_type": "code",
   "execution_count": 32,
   "metadata": {
    "ExecuteTime": {
     "end_time": "2020-07-31T15:41:38.908413Z",
     "start_time": "2020-07-31T15:41:38.894407Z"
    },
    "hidden": true
   },
   "outputs": [],
   "source": [
    "class Boolean(Data):\n",
    "    \n",
    "    def __init__(self, value):\n",
    "        self.value = value\n",
    "    \n",
    "    def eval(self, environment, **kwargs):\n",
    "        return self"
   ]
  },
  {
   "cell_type": "markdown",
   "metadata": {
    "heading_collapsed": true,
    "hidden": true
   },
   "source": [
    "### FunctionSignature"
   ]
  },
  {
   "cell_type": "code",
   "execution_count": 33,
   "metadata": {
    "ExecuteTime": {
     "end_time": "2020-07-31T15:41:38.923127Z",
     "start_time": "2020-07-31T15:41:38.910413Z"
    },
    "hidden": true
   },
   "outputs": [],
   "source": [
    "class FunctionSignature():\n",
    "    \n",
    "    def __init__(self, name, function, parameter_names, parameter_types, parameter_ranks=None, parameter_shapes=None):\n",
    "        \n",
    "        self.name = name\n",
    "        self.function = function\n",
    "        self.parameter_count = len(parameter_types)\n",
    "        self.parameter_names = parameter_names\n",
    "        self.parameter_types = parameter_types\n",
    "        self.parameter_ranks = parameter_ranks or self.parameter_count*(None,)\n",
    "        self.parameter_shapes = parameter_shapes or self.parameter_count*(None,)\n",
    "        \n",
    "    def __repr__(self):\n",
    "        return f'FunctionSignature{(self.name, self.function, self.parameter_names, self.parameter_types, self.parameter_ranks, self.parameter_shapes)}'\n",
    "    \n",
    "    def __str__(self):\n",
    "        parameter_types = [str(t) for t in self.parameter_types]\n",
    "        parameter_types = ', '.join(parameter_types)\n",
    "        return f'{self.name}({parameter_types})'"
   ]
  },
  {
   "cell_type": "markdown",
   "metadata": {
    "heading_collapsed": true,
    "hidden": true
   },
   "source": [
    "### Reference"
   ]
  },
  {
   "cell_type": "code",
   "execution_count": 34,
   "metadata": {
    "ExecuteTime": {
     "end_time": "2020-07-31T15:41:38.938475Z",
     "start_time": "2020-07-31T15:41:38.925015Z"
    },
    "hidden": true
   },
   "outputs": [],
   "source": [
    "class Reference(Data):\n",
    "    \n",
    "    def __init__(self, value):\n",
    "        self.value = value\n",
    "    \n",
    "    def eval(self, environment, **kwargs):\n",
    "        return self"
   ]
  },
  {
   "cell_type": "markdown",
   "metadata": {
    "heading_collapsed": true,
    "hidden": true
   },
   "source": [
    "## BuiltIns"
   ]
  },
  {
   "cell_type": "code",
   "execution_count": 35,
   "metadata": {
    "ExecuteTime": {
     "end_time": "2020-07-31T15:41:38.954046Z",
     "start_time": "2020-07-31T15:41:38.940476Z"
    },
    "code_folding": [],
    "hidden": true
   },
   "outputs": [],
   "source": [
    "class BuiltIns():\n",
    "    \n",
    "    def __init__(self):\n",
    "        self.functions = []\n",
    "        self.function_parameter_evaluation_parameters = {}\n",
    "        self.vars = []\n",
    "        self.binary_operators = []\n",
    "        self.binary_operators_continuing = []\n",
    "        self.left_unary_operators = []\n",
    "        self.right_unary_operators = []\n",
    "        self.groups = []\n",
    "        self.new_items = []\n",
    "        self.conversion_function_sets = []\n",
    "        \n",
    "    def register_function(self, \n",
    "                          name, \n",
    "                          function, \n",
    "                          parameter_names, \n",
    "                          parameter_types, \n",
    "                          parameter_ranks=None, \n",
    "                          parameter_shapes=None\n",
    "                         ):\n",
    "        self.functions.append((\n",
    "            name, \n",
    "            function, \n",
    "            parameter_names, \n",
    "            parameter_types, \n",
    "            parameter_ranks, \n",
    "            parameter_shapes))\n",
    "        \n",
    "    def register_operation_function(self, \n",
    "                                    operation, \n",
    "                                    name, \n",
    "                                    function, \n",
    "                                    parameter_names, \n",
    "                                    parameter_types, \n",
    "                                    parameter_ranks=None, \n",
    "                                    parameter_shapes=None\n",
    "                                   ):\n",
    "        names = name if type(name) == list else [name]\n",
    "        for name in names:\n",
    "            self.functions.append((\n",
    "                f'<{operation}_operation>{name}', \n",
    "                function, \n",
    "                parameter_names, \n",
    "                parameter_types, \n",
    "                parameter_ranks, \n",
    "                parameter_shapes))\n",
    "        \n",
    "    def set_evaluation_parameter(self, function_name, operation, parameter_index, key, value):\n",
    "        function_name = f'<{operation}_operation>{function_name}'\n",
    "        parameter_list = self.function_parameter_evaluation_parameters.get(function_name, {})\n",
    "        parameters = parameter_list.get(parameter_index, {})\n",
    "        parameters[key] = value\n",
    "        parameter_list[parameter_index] = parameters\n",
    "        self.function_parameter_evaluation_parameters[function_name] = parameter_list\n",
    "        \n",
    "    def register_binary_operator(self, name, precedence, continuing=False):\n",
    "        if continuing:\n",
    "            self.binary_operators_continuing.append(TokenOperandDefinition(name, precedence))\n",
    "        \n",
    "        self.binary_operators.append(TokenOperandDefinition(name, precedence))\n",
    "        \n",
    "    def register_left_unary_operator(self, name, precedence):\n",
    "        self.left_unary_operators.append(TokenOperandDefinition(name, precedence))\n",
    "        \n",
    "    def register_right_unary_operator(self, name, precedence):\n",
    "        self.right_unary_operators.append(TokenOperandDefinition(name, precedence))\n",
    "        \n",
    "    def register_var(self, name, value):\n",
    "        self.vars.append((name, value))\n",
    "        \n",
    "    def register_grouping(self, open_token, close_token, seperators, ignore_missing, function):\n",
    "        self.groups.append(TokenGroupDefinition(open_token, close_token, seperators, ignore_missing, function))\n",
    "        \n",
    "    def register_new_item_seperator(self, token):\n",
    "        self.new_items.append(TokenNewItemDefinition(token))\n",
    "        \n",
    "    def register_conversion_function_set(self, name, forwards, backwards):\n",
    "        self.conversion_function_sets.append((name, forwards, backwards))\n",
    "        \n",
    "        \n",
    "built_ins = BuiltIns()"
   ]
  },
  {
   "cell_type": "markdown",
   "metadata": {
    "heading_collapsed": true
   },
   "source": [
    "# Built In Functions, Operators and Variables"
   ]
  },
  {
   "cell_type": "markdown",
   "metadata": {
    "heading_collapsed": true,
    "hidden": true
   },
   "source": [
    "### Groups"
   ]
  },
  {
   "cell_type": "markdown",
   "metadata": {
    "heading_collapsed": true,
    "hidden": true
   },
   "source": [
    "#### Group ( )"
   ]
  },
  {
   "cell_type": "code",
   "execution_count": 36,
   "metadata": {
    "ExecuteTime": {
     "end_time": "2020-07-31T15:41:38.969046Z",
     "start_time": "2020-07-31T15:41:38.956048Z"
    },
    "hidden": true
   },
   "outputs": [],
   "source": [
    "def group_round(environment, items, shape, force_array=False, **kwargs):\n",
    "    \n",
    "    if shape == () and len(items) > 0 and force_array == False:\n",
    "        return items[0]\n",
    "    else:\n",
    "        return Array(items)\n",
    "\n",
    "built_ins.register_grouping('(', ')', {',': 1, '\\n': 1}, True, group_round)"
   ]
  },
  {
   "cell_type": "markdown",
   "metadata": {
    "heading_collapsed": true,
    "hidden": true
   },
   "source": [
    "#### Group [ ]"
   ]
  },
  {
   "cell_type": "code",
   "execution_count": 37,
   "metadata": {
    "ExecuteTime": {
     "end_time": "2020-07-31T15:41:38.984793Z",
     "start_time": "2020-07-31T15:41:38.970046Z"
    },
    "hidden": true
   },
   "outputs": [],
   "source": [
    "def group_squre(environment, items, shape, **kwargs):\n",
    "    \n",
    "    assert len(items) > 0, 'Tensors can not be empty'\n",
    "    \n",
    "    base_shape = items[0].shape\n",
    "    assert all([i.shape == base_shape for i in items]), 'Tensor elements have inconsistent shapes'\n",
    "    \n",
    "    extended_shape = shape + base_shape\n",
    "    data = np.array([i.data for i in items]).reshape(extended_shape)\n",
    "    \n",
    "    return Tensor(data, extended_shape)\n",
    "\n",
    "built_ins.register_grouping('[', ']', {',': 1, ';': 2, '\\n': 0}, False, group_squre)"
   ]
  },
  {
   "cell_type": "markdown",
   "metadata": {
    "heading_collapsed": true,
    "hidden": true
   },
   "source": [
    "#### Group { }"
   ]
  },
  {
   "cell_type": "code",
   "execution_count": 38,
   "metadata": {
    "ExecuteTime": {
     "end_time": "2020-07-31T15:41:39.000050Z",
     "start_time": "2020-07-31T15:41:38.987048Z"
    },
    "hidden": true
   },
   "outputs": [],
   "source": [
    "def group_curly(environment, items, shape, **kwargs):\n",
    "    return items[-1]\n",
    "\n",
    "built_ins.register_grouping('{', '}', {';': 1, '\\n': 1}, True, group_curly)"
   ]
  },
  {
   "cell_type": "markdown",
   "metadata": {
    "heading_collapsed": true,
    "hidden": true
   },
   "source": [
    "#### Group | |"
   ]
  },
  {
   "cell_type": "code",
   "execution_count": 39,
   "metadata": {
    "ExecuteTime": {
     "end_time": "2020-07-31T15:41:39.014945Z",
     "start_time": "2020-07-31T15:41:39.002050Z"
    },
    "hidden": true
   },
   "outputs": [],
   "source": [
    "def group_straight(environment, items, shape, **kwargs):\n",
    "    \n",
    "    assert shape == (), 'Cannot take absolute value of an array'\n",
    "    assert items[0].dtype == Real, 'Cannot take absolute value of non Real value'\n",
    "    \n",
    "#     return Tensor(Real(abs(items[0].first.value)))\n",
    "\n",
    "    return VariableFunction('abs', items).eval(environment)\n",
    "\n",
    "built_ins.register_grouping('|', '|', {}, True, group_straight)\n",
    "built_ins.register_grouping('||', '||', {}, True, group_straight)"
   ]
  },
  {
   "cell_type": "markdown",
   "metadata": {
    "heading_collapsed": true,
    "hidden": true
   },
   "source": [
    "### New Item Seperators"
   ]
  },
  {
   "cell_type": "code",
   "execution_count": 40,
   "metadata": {
    "ExecuteTime": {
     "end_time": "2020-07-31T15:41:39.030462Z",
     "start_time": "2020-07-31T15:41:39.016129Z"
    },
    "hidden": true
   },
   "outputs": [],
   "source": [
    "built_ins.register_new_item_seperator(',')\n",
    "built_ins.register_new_item_seperator(';')\n",
    "built_ins.register_new_item_seperator('\\n')"
   ]
  },
  {
   "cell_type": "markdown",
   "metadata": {
    "heading_collapsed": true,
    "hidden": true
   },
   "source": [
    "### Variabels"
   ]
  },
  {
   "cell_type": "code",
   "execution_count": 41,
   "metadata": {
    "ExecuteTime": {
     "end_time": "2020-07-31T15:41:39.045752Z",
     "start_time": "2020-07-31T15:41:39.032464Z"
    },
    "hidden": true
   },
   "outputs": [],
   "source": [
    "built_ins.register_var('PI', Tensor([Real('3.141592653589793238462643383279502884197')]))\n",
    "built_ins.register_var('e', Tensor([Real('2.718281828459045235360287471352662497757')]))\n",
    "built_ins.register_var('phi', Tensor([Real('1.61803398874989484820458683436563811772')]))"
   ]
  },
  {
   "cell_type": "markdown",
   "metadata": {
    "heading_collapsed": true,
    "hidden": true
   },
   "source": [
    "### Operations Tokens"
   ]
  },
  {
   "cell_type": "code",
   "execution_count": 42,
   "metadata": {
    "ExecuteTime": {
     "end_time": "2020-07-31T15:41:39.061323Z",
     "start_time": "2020-07-31T15:41:39.047753Z"
    },
    "hidden": true
   },
   "outputs": [],
   "source": [
    "# Unary Operations: -, +\n",
    "built_ins.register_left_unary_operator('+', 7)\n",
    "built_ins.register_left_unary_operator('-', 7)\n",
    "built_ins.register_left_unary_operator('=', 0)\n",
    "\n",
    "# Binary Operations:\n",
    "\n",
    "# arithmetic\n",
    "built_ins.register_binary_operator('+',   3, True)\n",
    "built_ins.register_binary_operator('-',   3, True)\n",
    "built_ins.register_binary_operator('*',   4, True)\n",
    "built_ins.register_binary_operator('4',   4)\n",
    "built_ins.register_binary_operator('/',   4, True)\n",
    "built_ins.register_binary_operator('//',  4, True)\n",
    "# built_ins.register_binary_operator('%',   4, True)\n",
    "built_ins.register_binary_operator('mod', 4, True)\n",
    "built_ins.register_binary_operator('^',   5, True)\n",
    "\n",
    "# matrix\n",
    "built_ins.register_binary_operator('#',   4, True)\n",
    "built_ins.register_binary_operator('matmul', 4, True)\n",
    "\n",
    "# vector\n",
    "built_ins.register_binary_operator('.*' , 4, True)\n",
    "built_ins.register_binary_operator('dot', 4, True)\n",
    "\n",
    "# root\n",
    "built_ins.register_left_unary_operator('$', 6)\n",
    "built_ins.register_binary_operator('$', 6)\n",
    "\n",
    "# function call\n",
    "built_ins.register_binary_operator('9', 9)\n",
    "built_ins.set_evaluation_parameter('9', 'binary', 1, 'force_array', True)\n",
    "built_ins.register_binary_operator('?', 7)\n",
    "\n",
    "# function definition\n",
    "built_ins.register_binary_operator('=>', 1)\n",
    "built_ins.set_evaluation_parameter('=>', 'binary', 0, 'references', True)\n",
    "built_ins.set_evaluation_parameter('=>', 'binary', 1, 'evaluable', True)\n",
    "\n",
    "built_ins.register_binary_operator('=', 0)\n",
    "built_ins.set_evaluation_parameter('=', 'binary', 0, 'references', True)\n",
    "built_ins.set_evaluation_parameter('=', 'left_unary', 0, 'references', True)\n",
    "\n",
    "# conversion\n",
    "built_ins.register_binary_operator('@', -1, True)"
   ]
  },
  {
   "cell_type": "markdown",
   "metadata": {
    "heading_collapsed": true,
    "hidden": true
   },
   "source": [
    "### Operation Functions"
   ]
  },
  {
   "cell_type": "markdown",
   "metadata": {
    "heading_collapsed": true,
    "hidden": true
   },
   "source": [
    "#### Assignment: ="
   ]
  },
  {
   "cell_type": "code",
   "execution_count": 43,
   "metadata": {
    "ExecuteTime": {
     "end_time": "2020-07-31T15:41:39.076836Z",
     "start_time": "2020-07-31T15:41:39.063323Z"
    },
    "hidden": true
   },
   "outputs": [],
   "source": [
    "def assignment(environment, key, value):\n",
    "    \n",
    "    if type(key) == Array:\n",
    "        for k, v in zip(key, value):\n",
    "            assignment(environment, k, v)\n",
    "    else:\n",
    "        environment[key.first.value] = value\n",
    "        \n",
    "    return value\n",
    "\n",
    "def post_assignment(environment, key):\n",
    "    value = environment['']\n",
    "    return assignment(environment, key, value)\n",
    "\n",
    "\n",
    "built_ins.register_operation_function(\n",
    "    operation        = 'binary', \n",
    "    name             = '=', \n",
    "    function         = assignment, \n",
    "    parameter_names  = True, \n",
    "    parameter_types  = (Array, None), \n",
    "    parameter_ranks  = None, \n",
    "    parameter_shapes = None\n",
    ")\n",
    "built_ins.register_operation_function(\n",
    "    operation        = 'binary', \n",
    "    name             = '=', \n",
    "    function         = assignment, \n",
    "    parameter_names  = True, \n",
    "    parameter_types  = (Reference, None), \n",
    "    parameter_ranks  = None, \n",
    "    parameter_shapes = None\n",
    ")\n",
    "built_ins.register_operation_function(\n",
    "    operation        = 'left_unary', \n",
    "    name             = '=', \n",
    "    function         = post_assignment, \n",
    "    parameter_names  = True, \n",
    "    parameter_types  = (Reference,), \n",
    "    parameter_ranks  = None, \n",
    "    parameter_shapes = None\n",
    ")\n"
   ]
  },
  {
   "cell_type": "markdown",
   "metadata": {
    "heading_collapsed": true,
    "hidden": true
   },
   "source": [
    "#### Function Definition: =>"
   ]
  },
  {
   "cell_type": "code",
   "execution_count": 44,
   "metadata": {
    "ExecuteTime": {
     "end_time": "2020-07-31T15:41:39.092833Z",
     "start_time": "2020-07-31T15:41:39.077834Z"
    },
    "hidden": true
   },
   "outputs": [],
   "source": [
    "def define_function(environment, parameters, evaluable):\n",
    "    \n",
    "    if type(parameters) == Tensor and parameters.dtype == Reference:\n",
    "        parameter_names = [parameters.first.value]\n",
    "    elif type(parameters) == Array:\n",
    "        parameter_names = [p.first.value for p in parameters.data]\n",
    "    elif type(parameters) == tuple:\n",
    "        parameter_names = list(parameters)\n",
    "    \n",
    "    parameter_types = tuple([None] * len(parameter_names))\n",
    "    \n",
    "    def function(environment):\n",
    "        return evaluable.eval(environment)\n",
    "    \n",
    "    function_signature = FunctionSignature('', function, parameter_names, parameter_types, parameter_ranks=None, parameter_shapes=None)\n",
    "\n",
    "    function_set = FunctionSet('')\n",
    "    function_set.add(function_signature)\n",
    "    \n",
    "    return function_set\n",
    "\n",
    "built_ins.register_operation_function(\n",
    "    operation        = 'binary', \n",
    "    name             = '=>', \n",
    "    function         = define_function, \n",
    "    parameter_names  = True, \n",
    "    parameter_types  = (Reference, None), \n",
    "    parameter_ranks  = None, \n",
    "    parameter_shapes = None\n",
    ")\n",
    "built_ins.register_operation_function(\n",
    "    operation        = 'binary', \n",
    "    name             = '=>', \n",
    "    function         = define_function, \n",
    "    parameter_names  = True, \n",
    "    parameter_types  = (Array, None), \n",
    "    parameter_ranks  = None, \n",
    "    parameter_shapes = None\n",
    ")\n"
   ]
  },
  {
   "cell_type": "markdown",
   "metadata": {
    "heading_collapsed": true,
    "hidden": true
   },
   "source": [
    "#### Unary Operations: -, +"
   ]
  },
  {
   "cell_type": "code",
   "execution_count": 45,
   "metadata": {
    "ExecuteTime": {
     "end_time": "2020-07-31T15:41:39.108833Z",
     "start_time": "2020-07-31T15:41:39.094832Z"
    },
    "hidden": true
   },
   "outputs": [],
   "source": [
    "built_ins.register_operation_function(\n",
    "    operation        = 'left_unary', \n",
    "    name             = '+', \n",
    "    function         = lambda t:Tensor(Real(+t.first.value)),\n",
    "    parameter_names  = None, \n",
    "    parameter_types  = (Real,), \n",
    "    parameter_ranks  = (0,), \n",
    "    parameter_shapes = None\n",
    ")\n",
    "built_ins.register_operation_function(\n",
    "    operation        = 'left_unary', \n",
    "    name             = '-', \n",
    "    function         = lambda t:Tensor(Real(-t.first.value)),\n",
    "    parameter_names  = None, \n",
    "    parameter_types  = (Real,), \n",
    "    parameter_ranks  = (0,), \n",
    "    parameter_shapes = None\n",
    ")\n"
   ]
  },
  {
   "cell_type": "markdown",
   "metadata": {
    "heading_collapsed": true,
    "hidden": true
   },
   "source": [
    "#### Binary Operantors: +, -, *, /, //, %, ^"
   ]
  },
  {
   "cell_type": "code",
   "execution_count": 46,
   "metadata": {
    "ExecuteTime": {
     "end_time": "2020-07-31T15:41:39.124623Z",
     "start_time": "2020-07-31T15:41:39.110833Z"
    },
    "hidden": true
   },
   "outputs": [],
   "source": [
    "# A + B\n",
    "built_ins.register_operation_function(\n",
    "    operation        = 'binary', \n",
    "    name             = '+', \n",
    "    function         = lambda a, b: Tensor(Real(a.first.value + b.first.value)), \n",
    "    parameter_names  = None, \n",
    "    parameter_types  = (Real, Real), \n",
    "    parameter_ranks  = (0, 0), \n",
    "    parameter_shapes = None\n",
    ")\n",
    "\n",
    "# A - B\n",
    "built_ins.register_operation_function(\n",
    "    operation        = 'binary', \n",
    "    name             = '-', \n",
    "    function         = lambda a, b: Tensor(Real(a.first.value - b.first.value)), \n",
    "    parameter_names  = None, \n",
    "    parameter_types  = (Real, Real), \n",
    "    parameter_ranks  = (0, 0), \n",
    "    parameter_shapes = None\n",
    ")\n",
    "\n",
    "# A * B\n",
    "built_ins.register_operation_function(\n",
    "    operation        = 'binary', \n",
    "    name             = '*', \n",
    "    function         = lambda a, b: Tensor(Real(a.first.value * b.first.value)), \n",
    "    parameter_names  = None, \n",
    "    parameter_types  = (Real, Real), \n",
    "    parameter_ranks  = (0, 0), \n",
    "    parameter_shapes = None\n",
    ")\n",
    "\n",
    "# A / B\n",
    "built_ins.register_operation_function(\n",
    "    operation        = 'binary', \n",
    "    name             = '/', \n",
    "    function         = lambda a, b: Tensor(Real(a.first.value / b.first.value)), \n",
    "    parameter_names  = None, \n",
    "    parameter_types  = (Real, Real), \n",
    "    parameter_ranks  = (0, 0), \n",
    "    parameter_shapes = None\n",
    ")\n",
    "\n",
    "# A // B\n",
    "built_ins.register_operation_function(\n",
    "    operation        = 'binary', \n",
    "    name             = '//', \n",
    "    function         = lambda a, b: Tensor(Real(a.first.value // b.first.value)), \n",
    "    parameter_names  = None, \n",
    "    parameter_types  = (Real, Real), \n",
    "    parameter_ranks  = (0, 0), \n",
    "    parameter_shapes = None\n",
    ")\n",
    "\n",
    "# A % B\n",
    "built_ins.register_operation_function(\n",
    "    operation        = 'binary', \n",
    "    name             = 'mod', \n",
    "    function         = lambda a, b: Tensor(Real(a.first.value % b.first.value)), \n",
    "    parameter_names  = None, \n",
    "    parameter_types  = (Real, Real), \n",
    "    parameter_ranks  = (0, 0), \n",
    "    parameter_shapes = None\n",
    ")\n",
    "\n",
    "# A ^ B\n",
    "built_ins.register_operation_function(\n",
    "    operation        = 'binary', \n",
    "    name             = '^', \n",
    "    function         = lambda a, b: Tensor(Real(a.first.value ** b.first.value)), \n",
    "    parameter_names  = None, \n",
    "    parameter_types  = (Real, Real), \n",
    "    parameter_ranks  = (0, 0), \n",
    "    parameter_shapes = None\n",
    ")\n"
   ]
  },
  {
   "cell_type": "markdown",
   "metadata": {
    "heading_collapsed": true,
    "hidden": true
   },
   "source": [
    "#### Matrix Multiplication: # #"
   ]
  },
  {
   "cell_type": "code",
   "execution_count": 47,
   "metadata": {
    "ExecuteTime": {
     "end_time": "2020-07-31T15:41:39.140186Z",
     "start_time": "2020-07-31T15:41:39.126599Z"
    },
    "hidden": true
   },
   "outputs": [],
   "source": [
    "def matmul(A, B):\n",
    "    \n",
    "    a_shape = A.shape\n",
    "    b_shape = B.shape\n",
    "    \n",
    "    assert A.rank >= 2 and B.rank >= 2, 'left and right sides must be matrices'\n",
    "    assert a_shape[-1] == b_shape[-2], 'left n_cols must equal right n_rows'\n",
    "    \n",
    "    n_rows = a_shape[0]\n",
    "    n_cols = b_shape[1]\n",
    "    n_vec = a_shape[1]\n",
    "    shape = (n_rows , n_cols)\n",
    "    \n",
    "    data = np.empty(shape, dtype=object)\n",
    "    \n",
    "    for row in range(n_rows):\n",
    "        for col in range(n_cols):\n",
    "            v = 0\n",
    "            for i in range(n_vec):\n",
    "                v += A[(row, i)].first.value * B[(i, col)].first.value\n",
    "            data[row,col] = Real(v)\n",
    "    \n",
    "    return Tensor(data, shape)\n",
    "\n",
    "built_ins.register_operation_function(\n",
    "    operation        = 'binary', \n",
    "    name             = ['#', 'matmul'], \n",
    "    function         = matmul, \n",
    "    parameter_names  = None, \n",
    "    parameter_types  = (Real, Real), \n",
    "    parameter_ranks  = (2, 2), \n",
    "    parameter_shapes = None\n",
    ")\n"
   ]
  },
  {
   "cell_type": "markdown",
   "metadata": {
    "heading_collapsed": true,
    "hidden": true
   },
   "source": [
    "#### Vector Dot Product: .*"
   ]
  },
  {
   "cell_type": "code",
   "execution_count": 48,
   "metadata": {
    "ExecuteTime": {
     "end_time": "2020-07-31T15:41:39.155414Z",
     "start_time": "2020-07-31T15:41:39.142189Z"
    },
    "hidden": true
   },
   "outputs": [],
   "source": [
    "def dot(A, B):\n",
    "    \n",
    "    a_shape = A.shape\n",
    "    b_shape = B.shape\n",
    "    \n",
    "    assert A.rank == 1 and B.rank == 1, 'left and right sides must be vectors'\n",
    "    assert a_shape == b_shape, 'vector length must match'\n",
    "    \n",
    "    n_vec = a_shape[-1]\n",
    "    \n",
    "    v = 0\n",
    "    for i in range(n_vec):\n",
    "        v += A[(i,)].first.value * B[(i,)].first.value\n",
    "    \n",
    "    return Tensor(Real(v))\n",
    "\n",
    "built_ins.register_operation_function(\n",
    "    operation        = 'binary', \n",
    "    name             = ['.*', 'dot'], \n",
    "    function         = dot, \n",
    "    parameter_names  = None, \n",
    "    parameter_types  = (Real, Real), \n",
    "    parameter_ranks  = (1, 1), \n",
    "    parameter_shapes = None\n",
    ")\n"
   ]
  },
  {
   "cell_type": "markdown",
   "metadata": {
    "heading_collapsed": true,
    "hidden": true
   },
   "source": [
    "#### Root and Square root: $"
   ]
  },
  {
   "cell_type": "code",
   "execution_count": 49,
   "metadata": {
    "ExecuteTime": {
     "end_time": "2020-07-31T15:41:39.171213Z",
     "start_time": "2020-07-31T15:41:39.156196Z"
    },
    "hidden": true
   },
   "outputs": [],
   "source": [
    "def root(A, B):\n",
    "    return Tensor(Real(B.first.value ** (Decimal(1) / A.first.value)))\n",
    "\n",
    "def sqrt(A):\n",
    "    return Tensor(Real(A.first.value ** Decimal(0.5)))\n",
    "\n",
    "built_ins.register_operation_function(\n",
    "    operation        = 'left_unary', \n",
    "    name             = '$', \n",
    "    function         = sqrt, \n",
    "    parameter_names  = None, \n",
    "    parameter_types  = (Real,), \n",
    "    parameter_ranks  = (0,), \n",
    "    parameter_shapes = None\n",
    ")\n",
    "built_ins.register_operation_function(\n",
    "    operation        = 'binary', \n",
    "    name             = '$', \n",
    "    function         = root, \n",
    "    parameter_names  = None, \n",
    "    parameter_types  = (Real, Real), \n",
    "    parameter_ranks  = (0, 0), \n",
    "    parameter_shapes = None\n",
    ")\n"
   ]
  },
  {
   "cell_type": "markdown",
   "metadata": {
    "heading_collapsed": true,
    "hidden": true
   },
   "source": [
    "#### Factorial: !"
   ]
  },
  {
   "cell_type": "code",
   "execution_count": 50,
   "metadata": {
    "ExecuteTime": {
     "end_time": "2020-07-31T15:41:39.186933Z",
     "start_time": "2020-07-31T15:41:39.172218Z"
    },
    "hidden": true
   },
   "outputs": [],
   "source": [
    "def factorial(A):\n",
    "    count = int(A.first.value)\n",
    "    value = Decimal(1)\n",
    "    for i in range(1, count+1):\n",
    "        value *= Decimal(i)\n",
    "    \n",
    "    return Tensor(Real(value))\n",
    "\n",
    "built_ins.register_operation_function(\n",
    "    operation        = 'right_unary', \n",
    "    name             = '!', \n",
    "    function         = factorial, \n",
    "    parameter_names  = None, \n",
    "    parameter_types  = (Real,), \n",
    "    parameter_ranks  = (0,), \n",
    "    parameter_shapes = None\n",
    ")"
   ]
  },
  {
   "cell_type": "markdown",
   "metadata": {
    "heading_collapsed": true,
    "hidden": true
   },
   "source": [
    "#### Function Call"
   ]
  },
  {
   "cell_type": "code",
   "execution_count": 51,
   "metadata": {
    "ExecuteTime": {
     "end_time": "2020-07-31T15:41:39.201874Z",
     "start_time": "2020-07-31T15:41:39.187934Z"
    },
    "hidden": true
   },
   "outputs": [],
   "source": [
    "def function_call(environment, function_set, parameters):\n",
    "    return function_set.eval(environment, parameters)\n",
    "\n",
    "def piped_function_call(environment, parameters, function_set):\n",
    "    return function_call(environment, function_set, parameters)\n",
    "\n",
    "built_ins.register_operation_function(\n",
    "    operation        = 'binary', \n",
    "    name             = '9', \n",
    "    function         = function_call, \n",
    "    parameter_names  = True, \n",
    "    parameter_types  = (FunctionSet, Array), \n",
    "    parameter_ranks  = None, \n",
    "    parameter_shapes = None\n",
    ")\n",
    "built_ins.register_operation_function(\n",
    "    operation        = 'binary', \n",
    "    name             = '?', \n",
    "    function         = piped_function_call, \n",
    "    parameter_names  = True, \n",
    "    parameter_types  = (None, FunctionSet), \n",
    "    parameter_ranks  = None, \n",
    "    parameter_shapes = None\n",
    ")"
   ]
  },
  {
   "cell_type": "markdown",
   "metadata": {
    "heading_collapsed": true,
    "hidden": true
   },
   "source": [
    "#### Tensor Lookup"
   ]
  },
  {
   "cell_type": "code",
   "execution_count": 52,
   "metadata": {
    "ExecuteTime": {
     "end_time": "2020-07-31T15:41:39.217896Z",
     "start_time": "2020-07-31T15:41:39.202881Z"
    },
    "hidden": true
   },
   "outputs": [],
   "source": [
    "def tensor_lookup(environment, tensor, parameters):\n",
    "    index = [int(p.first.value) for p in parameters]\n",
    "    return tensor[tuple(index)]\n",
    "\n",
    "built_ins.register_operation_function(\n",
    "    operation        = 'binary', \n",
    "    name             = '9', \n",
    "    function         = tensor_lookup, \n",
    "    parameter_names  = True, \n",
    "    parameter_types  = (Real, Array), \n",
    "    parameter_ranks  = None, \n",
    "    parameter_shapes = None\n",
    ")"
   ]
  },
  {
   "cell_type": "markdown",
   "metadata": {
    "heading_collapsed": true,
    "hidden": true
   },
   "source": [
    "#### Array Lookup"
   ]
  },
  {
   "cell_type": "code",
   "execution_count": 53,
   "metadata": {
    "ExecuteTime": {
     "end_time": "2020-07-31T15:41:39.232815Z",
     "start_time": "2020-07-31T15:41:39.218897Z"
    },
    "hidden": true
   },
   "outputs": [],
   "source": [
    "def array_lookup(environment, array, parameters):\n",
    "    index = [int(p.first.value) for p in parameters]\n",
    "    return array[tuple(index)]\n",
    "\n",
    "built_ins.register_operation_function(\n",
    "    operation        = 'binary', \n",
    "    name             = '9', \n",
    "    function         = array_lookup, \n",
    "    parameter_names  = True, \n",
    "    parameter_types  = (Array, Array), \n",
    "    parameter_ranks  = None, \n",
    "    parameter_shapes = None\n",
    ")"
   ]
  },
  {
   "cell_type": "markdown",
   "metadata": {
    "heading_collapsed": true,
    "hidden": true
   },
   "source": [
    "#### Conversion @, [implocit]"
   ]
  },
  {
   "cell_type": "code",
   "execution_count": 54,
   "metadata": {
    "ExecuteTime": {
     "end_time": "2020-07-31T15:41:39.247820Z",
     "start_time": "2020-07-31T15:41:39.234816Z"
    },
    "hidden": true
   },
   "outputs": [],
   "source": [
    "def conversion_forwards_function_call(environment, tensor, conversion_function_set):\n",
    "    return conversion_function_set.eval(environment, tensor, True)\n",
    "\n",
    "def conversion_backwards_function_call(environment, tensor, conversion_function_set):\n",
    "    return conversion_function_set.eval(environment, tensor, False)\n",
    "\n",
    "built_ins.register_function('9', conversion_forwards_function_call, True, (None, ConversionFunctionSet))\n",
    "built_ins.register_function('@', conversion_backwards_function_call, True, (None, ConversionFunctionSet))\n",
    "\n",
    "built_ins.register_operation_function(\n",
    "    operation        = 'binary', \n",
    "    name             = '9', \n",
    "    function         = conversion_forwards_function_call, \n",
    "    parameter_names  = True, \n",
    "    parameter_types  = (None, ConversionFunctionSet), \n",
    "    parameter_ranks  = None, \n",
    "    parameter_shapes = None\n",
    ")\n",
    "built_ins.register_operation_function(\n",
    "    operation        = 'binary', \n",
    "    name             = '@', \n",
    "    function         = conversion_backwards_function_call, \n",
    "    parameter_names  = True, \n",
    "    parameter_types  = (None, ConversionFunctionSet), \n",
    "    parameter_ranks  = None, \n",
    "    parameter_shapes = None\n",
    ")"
   ]
  },
  {
   "cell_type": "markdown",
   "metadata": {
    "heading_collapsed": true,
    "hidden": true
   },
   "source": [
    "### Builtin functions"
   ]
  },
  {
   "cell_type": "markdown",
   "metadata": {
    "heading_collapsed": true,
    "hidden": true
   },
   "source": [
    "#### Absolute value: abs"
   ]
  },
  {
   "cell_type": "code",
   "execution_count": 55,
   "metadata": {
    "ExecuteTime": {
     "end_time": "2020-07-31T15:41:39.263821Z",
     "start_time": "2020-07-31T15:41:39.249821Z"
    },
    "hidden": true
   },
   "outputs": [],
   "source": [
    "def absolute(A):\n",
    "    return Tensor(Real(abs(A.first.value)))\n",
    "\n",
    "built_ins.register_function('abs', absolute, None, (Real,), (0,))"
   ]
  },
  {
   "cell_type": "markdown",
   "metadata": {
    "heading_collapsed": true,
    "hidden": true
   },
   "source": [
    "#### Round: round"
   ]
  },
  {
   "cell_type": "code",
   "execution_count": 56,
   "metadata": {
    "ExecuteTime": {
     "end_time": "2020-07-31T15:41:39.279764Z",
     "start_time": "2020-07-31T15:41:39.265821Z"
    },
    "hidden": true
   },
   "outputs": [],
   "source": [
    "def _round(A):\n",
    "    return Tensor(Real( A.first.value.quantize(Decimal(1)) ))\n",
    "\n",
    "built_ins.register_function('round', _round, None, (Real,), (0,))"
   ]
  },
  {
   "cell_type": "markdown",
   "metadata": {
    "heading_collapsed": true,
    "hidden": true
   },
   "source": [
    "#### Round down: floor"
   ]
  },
  {
   "cell_type": "code",
   "execution_count": 57,
   "metadata": {
    "ExecuteTime": {
     "end_time": "2020-07-31T15:41:39.295763Z",
     "start_time": "2020-07-31T15:41:39.281762Z"
    },
    "hidden": true
   },
   "outputs": [],
   "source": [
    "def floor(A):\n",
    "    return Tensor(Real( A.first.value.quantize(Decimal(1), rounding=decimal.ROUND_DOWN) ))\n",
    "\n",
    "built_ins.register_function('floor', floor, None, (Real,), (0,))"
   ]
  },
  {
   "cell_type": "markdown",
   "metadata": {
    "heading_collapsed": true,
    "hidden": true
   },
   "source": [
    "#### Round up: ceil"
   ]
  },
  {
   "cell_type": "code",
   "execution_count": 58,
   "metadata": {
    "ExecuteTime": {
     "end_time": "2020-07-31T15:41:39.311255Z",
     "start_time": "2020-07-31T15:41:39.297762Z"
    },
    "hidden": true
   },
   "outputs": [],
   "source": [
    "def ceil(A):\n",
    "    return Tensor(Real( A.first.value.quantize(Decimal(1), rounding=decimal.ROUND_UP) ))\n",
    "\n",
    "built_ins.register_function('ceil', ceil, None, (Real,), (0,))"
   ]
  },
  {
   "cell_type": "markdown",
   "metadata": {
    "heading_collapsed": true,
    "hidden": true
   },
   "source": [
    "### Conversion Specifiers"
   ]
  },
  {
   "cell_type": "markdown",
   "metadata": {
    "heading_collapsed": true,
    "hidden": true
   },
   "source": [
    "#### Distance"
   ]
  },
  {
   "cell_type": "code",
   "execution_count": 59,
   "metadata": {
    "ExecuteTime": {
     "end_time": "2020-07-31T15:41:39.341934Z",
     "start_time": "2020-07-31T15:41:39.313255Z"
    },
    "hidden": true
   },
   "outputs": [],
   "source": [
    "def km_forwards(km):\n",
    "    return Real(km.value * Decimal(1000))\n",
    "\n",
    "def km_backwards(m):\n",
    "    return Real(m.value / Decimal(1000))\n",
    "\n",
    "def  m_forwards(m):\n",
    "    return Real(m.value)\n",
    "\n",
    "def  m_backwards(m):\n",
    "    return Real(m.value)\n",
    "\n",
    "def cm_forwards(cm):\n",
    "    return Real(cm.value / Decimal(100))\n",
    "\n",
    "def cm_backwards(m):\n",
    "    return Real(m.value * Decimal(100))\n",
    "\n",
    "def mm_forwards(mm):\n",
    "    return Real(mm.value / Decimal(1000))\n",
    "\n",
    "def mm_backwards(m):\n",
    "    return Real(m.value * Decimal(1000))\n",
    "\n",
    "def um_forwards(um):\n",
    "    return Real(um.value / Decimal(1000000))\n",
    "\n",
    "def um_backwards(m):\n",
    "    return Real(m.value * Decimal(1000000))\n",
    "\n",
    "def nm_forwards(nm):\n",
    "    return Real(nm.value / Decimal(1000000000))\n",
    "\n",
    "def nm_backwards(m):\n",
    "    return Real(m.value * Decimal(1000000000))\n",
    "\n",
    "def pm_forwards(pm):\n",
    "    return Real(pm.value / Decimal(1000000000000))\n",
    "\n",
    "def pm_backwards(m):\n",
    "    return Real(m.value * Decimal(1000000000000))\n",
    "\n",
    "\n",
    "def in_forwards(_in):\n",
    "    return Real(_in.value * Decimal('0.0254'))\n",
    "\n",
    "def in_backwards(m):\n",
    "    return Real(m.value / Decimal('0.0254'))\n",
    "\n",
    "def ft_forwards(ft):\n",
    "    return Real(ft.value * Decimal('0.3048'))\n",
    "\n",
    "def ft_backwards(m):\n",
    "    return Real(m.value / Decimal('0.3048'))\n",
    "\n",
    "def yd_forwards(yd):\n",
    "    return Real(yd.value * Decimal('0.9144'))\n",
    "\n",
    "def yd_backwards(m):\n",
    "    return Real(m.value / Decimal('0.9144'))\n",
    "\n",
    "def mi_forwards(mi):\n",
    "    return Real(mi.value * Decimal('1609.344'))\n",
    "\n",
    "def mi_backwards(m):\n",
    "    return Real(m.value / Decimal('1609.344'))\n",
    "\n",
    "built_ins.register_conversion_function_set('km', km_forwards, km_backwards)\n",
    "built_ins.register_conversion_function_set( 'm',  m_forwards,  m_backwards)\n",
    "built_ins.register_conversion_function_set('cm', cm_forwards, cm_backwards)\n",
    "built_ins.register_conversion_function_set('mm', mm_forwards, mm_backwards)\n",
    "built_ins.register_conversion_function_set('um', um_forwards, um_backwards)\n",
    "built_ins.register_conversion_function_set('nm', nm_forwards, nm_backwards)\n",
    "built_ins.register_conversion_function_set('pm', pm_forwards, pm_backwards)\n",
    "\n",
    "built_ins.register_conversion_function_set('in', in_forwards, in_backwards)\n",
    "built_ins.register_conversion_function_set('ft', ft_forwards, ft_backwards)\n",
    "built_ins.register_conversion_function_set('yd', yd_forwards, yd_backwards)\n",
    "built_ins.register_conversion_function_set('mi', mi_forwards, mi_backwards)"
   ]
  },
  {
   "cell_type": "markdown",
   "metadata": {
    "heading_collapsed": true,
    "hidden": true
   },
   "source": [
    "#### Area"
   ]
  },
  {
   "cell_type": "code",
   "execution_count": 60,
   "metadata": {
    "ExecuteTime": {
     "end_time": "2020-07-31T15:41:39.357232Z",
     "start_time": "2020-07-31T15:41:39.343934Z"
    },
    "hidden": true
   },
   "outputs": [],
   "source": [
    "def km2_forwards(km):\n",
    "    return Real(km.value * Decimal(1000**2))\n",
    "\n",
    "def km2_backwards(m):\n",
    "    return Real(m.value / Decimal(1000**2))\n",
    "\n",
    "def  m2_forwards(m):\n",
    "    return Real(m.value)\n",
    "\n",
    "def  m2_backwards(m):\n",
    "    return Real(m.value)\n",
    "\n",
    "def cm2_forwards(cm):\n",
    "    return Real(cm.value / Decimal(100**2))\n",
    "\n",
    "def cm2_backwards(m):\n",
    "    return Real(m.value * Decimal(100**2))\n",
    "\n",
    "def mm2_forwards(mm):\n",
    "    return Real(mm.value / Decimal(1000**2))\n",
    "\n",
    "def mm2_backwards(m):\n",
    "    return Real(m.value * Decimal(1000**2))\n",
    "\n",
    "def um2_forwards(um):\n",
    "    return Real(um.value / Decimal(1000000**2))\n",
    "\n",
    "def um2_backwards(m):\n",
    "    return Real(m.value * Decimal(1000000**2))\n",
    "\n",
    "def nm2_forwards(nm):\n",
    "    return Real(nm.value / Decimal(1000000000**2))\n",
    "\n",
    "def nm2_backwards(m):\n",
    "    return Real(m.value * Decimal(1000000000**2))\n",
    "\n",
    "def pm2_forwards(pm):\n",
    "    return Real(pm.value / Decimal(1000000000000**2))\n",
    "\n",
    "def pm2_backwards(m):\n",
    "    return Real(m.value * Decimal(1000000000000**2))\n",
    "\n",
    "built_ins.register_conversion_function_set('km2', km2_forwards, km2_backwards)\n",
    "built_ins.register_conversion_function_set( 'm2',  m2_forwards,  m2_backwards)\n",
    "built_ins.register_conversion_function_set('cm2', cm2_forwards, cm2_backwards)\n",
    "built_ins.register_conversion_function_set('mm2', mm2_forwards, mm2_backwards)\n",
    "built_ins.register_conversion_function_set('um2', um2_forwards, um2_backwards)\n",
    "built_ins.register_conversion_function_set('nm2', nm2_forwards, nm2_backwards)\n",
    "built_ins.register_conversion_function_set('pm2', pm2_forwards, pm2_backwards)"
   ]
  },
  {
   "cell_type": "markdown",
   "metadata": {
    "heading_collapsed": true,
    "hidden": true
   },
   "source": [
    "#### Volume"
   ]
  },
  {
   "cell_type": "code",
   "execution_count": 61,
   "metadata": {
    "ExecuteTime": {
     "end_time": "2020-07-31T15:41:39.372947Z",
     "start_time": "2020-07-31T15:41:39.359233Z"
    },
    "hidden": true
   },
   "outputs": [],
   "source": [
    "def km3_forwards(km):\n",
    "    return Real(km.value * Decimal(1000**3))\n",
    "\n",
    "def km3_backwards(m):\n",
    "    return Real(m.value / Decimal(1000**3))\n",
    "\n",
    "def  m3_forwards(m):\n",
    "    return Real(m.value)\n",
    "\n",
    "def  m3_backwards(m):\n",
    "    return Real(m.value)\n",
    "\n",
    "def   l_forwards(l):\n",
    "    return Real(l.value / Decimal(10**3))\n",
    "\n",
    "def   l_backwards(m):\n",
    "    return Real(m.value * Decimal(10**3))\n",
    "\n",
    "def cm3_forwards(cm):\n",
    "    return Real(cm.value / Decimal(100**3))\n",
    "\n",
    "def cm3_backwards(m):\n",
    "    return Real(m.value * Decimal(100**3))\n",
    "\n",
    "def mm3_forwards(mm):\n",
    "    return Real(mm.value / Decimal(1000**3))\n",
    "\n",
    "def mm3_backwards(m):\n",
    "    return Real(m.value * Decimal(1000**3))\n",
    "\n",
    "def um3_forwards(um):\n",
    "    return Real(um.value / Decimal(1000000**3))\n",
    "\n",
    "def um3_backwards(m):\n",
    "    return Real(m.value * Decimal(1000000**3))\n",
    "\n",
    "def nm3_forwards(nm):\n",
    "    return Real(nm.value / Decimal(1000000000**3))\n",
    "\n",
    "def nm3_backwards(m):\n",
    "    return Real(m.value * Decimal(1000000000**3))\n",
    "\n",
    "def pm3_forwards(pm):\n",
    "    return Real(pm.value / Decimal(1000000000000**3))\n",
    "\n",
    "def pm3_backwards(m):\n",
    "    return Real(m.value * Decimal(1000000000000**3))\n",
    "\n",
    "built_ins.register_conversion_function_set('km3', km3_forwards, km3_backwards)\n",
    "built_ins.register_conversion_function_set( 'm3',  m3_forwards,  m3_backwards)\n",
    "built_ins.register_conversion_function_set(  'l',   l_forwards,   l_backwards)\n",
    "built_ins.register_conversion_function_set('cm3', cm3_forwards, cm3_backwards)\n",
    "built_ins.register_conversion_function_set( 'ml', cm3_forwards, cm3_backwards)\n",
    "built_ins.register_conversion_function_set('mm3', mm3_forwards, mm3_backwards)\n",
    "built_ins.register_conversion_function_set('um3', um3_forwards, um3_backwards)\n",
    "built_ins.register_conversion_function_set('nm3', nm3_forwards, nm3_backwards)\n",
    "built_ins.register_conversion_function_set('pm3', pm3_forwards, pm3_backwards)"
   ]
  },
  {
   "cell_type": "markdown",
   "metadata": {
    "heading_collapsed": true,
    "hidden": true
   },
   "source": [
    "#### Time"
   ]
  },
  {
   "cell_type": "code",
   "execution_count": 62,
   "metadata": {
    "ExecuteTime": {
     "end_time": "2020-07-31T15:41:39.404778Z",
     "start_time": "2020-07-31T15:41:39.374948Z"
    },
    "hidden": true
   },
   "outputs": [],
   "source": [
    "def  ms_forwards(ms):\n",
    "    return Real(ms.value / Decimal(1000))\n",
    "\n",
    "def  ms_backwards(s):\n",
    "    return Real(s.value * Decimal(1000))\n",
    "\n",
    "def   s_forwards(s):\n",
    "    return Real(s.value)\n",
    "\n",
    "def   s_backwards(s):\n",
    "    return Real(s.value)\n",
    "\n",
    "def min_forwards(min):\n",
    "    return Real(min.value * Decimal(60))\n",
    "\n",
    "def min_backwards(s):\n",
    "    return Real(s.value / Decimal(60))\n",
    "\n",
    "def  hr_forwards(hr):\n",
    "    return Real(hr.value * Decimal(3600))\n",
    "\n",
    "def  hr_backwards(s):\n",
    "    return Real(s.value / Decimal(3600))\n",
    "\n",
    "def day_forwards(day):\n",
    "    return Real(day.value * Decimal(86400))\n",
    "\n",
    "def day_backwards(s):\n",
    "    return Real(s.value / Decimal(86400))\n",
    "\n",
    "def time_forwards(string):\n",
    "    pattern = r'(?:(\\d+)(?:d|D)\\s*)?(\\d{1,2})(?:h|H)?:(\\d{1,2})(?:m|M)?(?::(\\d{1,2}(?:\\.\\d+)?)(?:s|S)?)?'\n",
    "    match = re.fullmatch(pattern, string.value.strip())\n",
    "    if match:\n",
    "        d = match.group(1) or 0\n",
    "        h = match.group(2) or 0\n",
    "        m = match.group(3) or 0\n",
    "        s = match.group(4) or 0\n",
    "        return Tensor(Real( Decimal(d) * 86400 + Decimal(h) * 3600 + Decimal(m) * 60 + Decimal(s)))\n",
    "    else:\n",
    "        raise Exception(f'Invalid time formatting: \"{string.value}\"')\n",
    "\n",
    "def time_backwards(t):\n",
    "    t = t.value\n",
    "    d = t // Decimal(86400)\n",
    "    t -= d * Decimal(86400)\n",
    "    h = t // Decimal(3600)\n",
    "    t -= h * Decimal(3600)\n",
    "    m = t // Decimal(60)\n",
    "    t -= m * Decimal(60)\n",
    "    s = t // Decimal(1)\n",
    "    t -= s * Decimal(1)\n",
    "    ms = t // Decimal('0.001')\n",
    "    t -= ms * Decimal('0.001')\n",
    "    ps = t / Decimal('0.000001')\n",
    "    \n",
    "    str_d = str(int(d))\n",
    "    str_h = str(int(h)).zfill(2)\n",
    "    str_m = str(int(m)).zfill(2)\n",
    "    str_s = str(int(s)).zfill(2)\n",
    "    str_ms = str(int(ms)).zfill(3)\n",
    "    str_ps = str(int(ps)).zfill(3)\n",
    "    \n",
    "    str_days = '' if d == 0 else                    f'{str_d}d ' \n",
    "    str_time =                                      f'{str_h}h:{str_m}m:{str_s}'\n",
    "    str_fraction_1 = '' if ms == 0 and ps == 0 else f'.{str_ms}'\n",
    "    str_fraction_2 = '' if ps == 0 else             f'{str_ps}'\n",
    "    \n",
    "    return Tensor(String( str_days+str_time+str_fraction_1+str_fraction_2+'s' ))\n",
    "        \n",
    "\n",
    "built_ins.register_conversion_function_set(  'ms',   ms_forwards,   ms_backwards)\n",
    "built_ins.register_conversion_function_set(   's',    s_forwards,    s_backwards)\n",
    "built_ins.register_conversion_function_set( 'min',  min_forwards,  min_backwards)\n",
    "built_ins.register_conversion_function_set(  'hr',   hr_forwards,   hr_backwards)\n",
    "built_ins.register_conversion_function_set( 'day',  day_forwards,  day_backwards)\n",
    "built_ins.register_conversion_function_set('time', time_forwards, time_backwards)"
   ]
  },
  {
   "cell_type": "markdown",
   "metadata": {
    "heading_collapsed": true
   },
   "source": [
    "# Define Token"
   ]
  },
  {
   "cell_type": "markdown",
   "metadata": {
    "heading_collapsed": true,
    "hidden": true
   },
   "source": [
    "## Tokens Types"
   ]
  },
  {
   "cell_type": "code",
   "execution_count": 63,
   "metadata": {
    "ExecuteTime": {
     "end_time": "2020-07-31T15:41:39.420248Z",
     "start_time": "2020-07-31T15:41:39.405813Z"
    },
    "hidden": true
   },
   "outputs": [],
   "source": [
    "TOKEN_TYPE_STRING     = 'string'\n",
    "TOKEN_TYPE_INTEGER    = 'integer'\n",
    "TOKEN_TYPE_NUMBER     = 'number'\n",
    "TOKEN_TYPE_OPERATOR   = 'operand'\n",
    "TOKEN_TYPE_OPEN_GROUP = 'group'\n",
    "TOKEN_TYPE_LITERAL    = 'literal'\n",
    "\n",
    "TOKEN_TYPE_OPEN_GROUP        = 'open group'\n",
    "TOKEN_TYPE_CLOSE_GROUP       = 'close group'\n",
    "TOKEN_TYPE_NEW_ITEM          = 'new item'\n",
    "TOKEN_TYPE_BINARY            = 'binary operand'\n",
    "TOKEN_TYPE_BINARY_CONTINUING = 'continuing binary operand'\n",
    "TOKEN_TYPE_UNARY_LEFT        = 'left unary operand'\n",
    "TOKEN_TYPE_UNARY_RIGHT       = 'right unary operand'\n",
    "\n",
    "OPERAND_TYPES = [\n",
    "    TOKEN_TYPE_OPEN_GROUP,\n",
    "    TOKEN_TYPE_CLOSE_GROUP, \n",
    "    TOKEN_TYPE_NEW_ITEM, \n",
    "    TOKEN_TYPE_BINARY, \n",
    "    TOKEN_TYPE_BINARY_CONTINUING, \n",
    "    TOKEN_TYPE_UNARY_LEFT, \n",
    "    TOKEN_TYPE_UNARY_RIGHT, \n",
    "]\n",
    "\n",
    "TOKEN_TYPE_VALUE = [\n",
    "    TOKEN_TYPE_STRING,\n",
    "    TOKEN_TYPE_INTEGER,\n",
    "    TOKEN_TYPE_NUMBER,\n",
    "    TOKEN_TYPE_LITERAL,\n",
    "]"
   ]
  },
  {
   "cell_type": "markdown",
   "metadata": {
    "heading_collapsed": true,
    "hidden": true
   },
   "source": [
    "## Token Operations"
   ]
  },
  {
   "cell_type": "code",
   "execution_count": 64,
   "metadata": {
    "ExecuteTime": {
     "end_time": "2020-07-31T15:41:39.436073Z",
     "start_time": "2020-07-31T15:41:39.422254Z"
    },
    "hidden": true,
    "scrolled": true
   },
   "outputs": [],
   "source": [
    "token_definitions = {\n",
    "    TOKEN_TYPE_OPEN_GROUP:        built_ins.groups,\n",
    "    TOKEN_TYPE_CLOSE_GROUP:       built_ins.groups, \n",
    "    TOKEN_TYPE_NEW_ITEM:          built_ins.new_items, \n",
    "    TOKEN_TYPE_BINARY:            built_ins.binary_operators, \n",
    "    TOKEN_TYPE_BINARY_CONTINUING: built_ins.binary_operators_continuing, \n",
    "    TOKEN_TYPE_UNARY_LEFT:        built_ins.left_unary_operators, \n",
    "    TOKEN_TYPE_UNARY_RIGHT:       built_ins.right_unary_operators, \n",
    "}"
   ]
  },
  {
   "cell_type": "markdown",
   "metadata": {
    "heading_collapsed": true,
    "hidden": true
   },
   "source": [
    "## Operation Indexing"
   ]
  },
  {
   "cell_type": "code",
   "execution_count": 65,
   "metadata": {
    "ExecuteTime": {
     "end_time": "2020-07-31T15:41:39.451241Z",
     "start_time": "2020-07-31T15:41:39.437074Z"
    },
    "hidden": true
   },
   "outputs": [],
   "source": [
    "def find_token_definition(string, token_type, f = lambda x:x.token):\n",
    "    for token_definition in token_definitions[token_type]:\n",
    "        if string == f(token_definition):\n",
    "#         if re.fullmatch(operator.re_match, string) != None:\n",
    "            return token_definition\n",
    "    return None"
   ]
  },
  {
   "cell_type": "markdown",
   "metadata": {
    "heading_collapsed": true,
    "hidden": true
   },
   "source": [
    "## Define Token Regular Expressions"
   ]
  },
  {
   "cell_type": "code",
   "execution_count": 66,
   "metadata": {
    "ExecuteTime": {
     "end_time": "2020-07-31T15:41:39.482247Z",
     "start_time": "2020-07-31T15:41:39.452246Z"
    },
    "hidden": true
   },
   "outputs": [
    {
     "data": {
      "text/plain": [
       "{'string': '((\\\\\"\"\".*?\\\\\"\"\")|(\\'\\'\\'.*?\\'\\'\\')|(\".*?\")|(\\'.*?\\'))',\n",
       " 'integer': '((0b|0o|0d|0x|[0-9]+_)[0-9a-zA-Z,]+)',\n",
       " 'number': '((([\\\\.][0-9]+)|([0-9]+[\\\\.]?[0-9]*))([eE][-+]?[0-9]+)?)',\n",
       " 'literal': '([A-Za-z_][A-Za-z0-9_]*)',\n",
       " 'open group': '(\\\\|\\\\|)|(\\\\()|(\\\\[)|(\\\\{)|(\\\\|)',\n",
       " 'binary operand': '(matmul)|(mod)|(dot)|(\\\\/\\\\/)|(\\\\.\\\\*)|(\\\\=\\\\>)|(\\\\+)|(\\\\-)|(\\\\*)|(4)|(\\\\/)|(\\\\^)|(\\\\#)|(\\\\$)|(9)|(\\\\?)|(\\\\=)|(\\\\@)',\n",
       " 'continuing binary operand': '(matmul)|(mod)|(dot)|(\\\\/\\\\/)|(\\\\.\\\\*)|(\\\\+)|(\\\\-)|(\\\\*)|(\\\\/)|(\\\\^)|(\\\\#)|(\\\\@)',\n",
       " 'left unary operand': '(\\\\+)|(\\\\-)|(\\\\=)|(\\\\$)',\n",
       " 'right unary operand': '()',\n",
       " 'new item': '(\\\\,)|(\\\\;)|(\\\\\\n)',\n",
       " 'close group': '(\\\\|\\\\|)|(\\\\))|(\\\\])|(\\\\})|(\\\\|)'}"
      ]
     },
     "execution_count": 66,
     "metadata": {},
     "output_type": "execute_result"
    }
   ],
   "source": [
    "def re_join(l, f=lambda x:x):\n",
    "    items = [f(i) for i in l]\n",
    "    items.sort(key=lambda x:len(x), reverse=True)\n",
    "    return '(' + ')|('.join([re.escape(i) for i in items]) + ')'\n",
    "\n",
    "# regex\n",
    "re_number =    r\"\"\"((([\\.][0-9]+)|([0-9]+[\\.]?[0-9]*))([eE][-+]?[0-9]+)?)\"\"\"\n",
    "re_integer =   r\"\"\"((0b|0o|0d|0x|[0-9]+_)[0-9a-zA-Z,]+)\"\"\"\n",
    "re_string =    r\"\"\"((\\\"\"\".*?\\\"\"\")|('''.*?''')|(\".*?\")|('.*?'))\"\"\"\n",
    "re_literal =   r\"\"\"([A-Za-z_][A-Za-z0-9_]*)\"\"\"\n",
    "\n",
    "\n",
    "re_open_group =                 re_join(built_ins.groups, lambda x:x.open_token)\n",
    "re_close_group =                re_join(built_ins.groups, lambda x:x.close_token)\n",
    "re_binary_operands =            re_join(built_ins.binary_operators, lambda x:x.token)\n",
    "re_binary_continuing_operands = re_join(built_ins.binary_operators_continuing, lambda x:x.token)\n",
    "re_left_unary_operands =        re_join(built_ins.left_unary_operators, lambda x:x.token)\n",
    "re_right_unary_operands =       re_join(built_ins.right_unary_operators, lambda x:x.token)\n",
    "re_new_item =                   re_join(built_ins.new_items, lambda x:x.token)\n",
    "\n",
    "\n",
    "re_tokens = {\n",
    "    TOKEN_TYPE_STRING:            re_string,\n",
    "    TOKEN_TYPE_INTEGER:           re_integer,\n",
    "    TOKEN_TYPE_NUMBER:            re_number,\n",
    "    TOKEN_TYPE_LITERAL:           re_literal,\n",
    "    TOKEN_TYPE_OPEN_GROUP:        re_open_group,\n",
    "    TOKEN_TYPE_BINARY:            re_binary_operands,\n",
    "    TOKEN_TYPE_BINARY_CONTINUING: re_binary_continuing_operands,\n",
    "    TOKEN_TYPE_UNARY_LEFT:        re_left_unary_operands,\n",
    "    TOKEN_TYPE_UNARY_RIGHT:       re_right_unary_operands,\n",
    "    TOKEN_TYPE_NEW_ITEM:          re_new_item,\n",
    "    TOKEN_TYPE_CLOSE_GROUP:       re_close_group,\n",
    "}\n",
    "\n",
    "re_tokens"
   ]
  },
  {
   "cell_type": "markdown",
   "metadata": {},
   "source": [
    "# Parse"
   ]
  },
  {
   "cell_type": "markdown",
   "metadata": {
    "heading_collapsed": true
   },
   "source": [
    "## Lexing"
   ]
  },
  {
   "cell_type": "code",
   "execution_count": 67,
   "metadata": {
    "ExecuteTime": {
     "end_time": "2020-07-31T15:41:39.497861Z",
     "start_time": "2020-07-31T15:41:39.483944Z"
    },
    "hidden": true
   },
   "outputs": [],
   "source": [
    "def re_match_length(string, re_pattern):\n",
    "    match = re.match(re_pattern, string)\n",
    "    return match.span()[1] if match != None else 0"
   ]
  },
  {
   "cell_type": "code",
   "execution_count": 68,
   "metadata": {
    "ExecuteTime": {
     "end_time": "2020-07-31T15:41:39.529862Z",
     "start_time": "2020-07-31T15:41:39.503861Z"
    },
    "hidden": true
   },
   "outputs": [],
   "source": [
    "class Lexer:\n",
    "    def __init__(self, ans_available=False):\n",
    "        self.tokens = []\n",
    "        self.ans_available = ans_available\n",
    "        \n",
    "        self.source_string = ''\n",
    "        self.current_ln_offset = 0\n",
    "        self.ln_count = 0\n",
    "        self.source = Source()\n",
    "        \n",
    "    def process(self, string):\n",
    "        # TOKEN_TYPE_STRING\n",
    "        # TOKEN_TYPE_INTEGER\n",
    "        # TOKEN_TYPE_NUMBER\n",
    "        # TOKEN_TYPE_LITERAL\n",
    "\n",
    "        # TOKEN_TYPE_OPEN_GROUP\n",
    "        # TOKEN_TYPE_BINARY\n",
    "        # TOKEN_TYPE_BINARY_CONTINUING\n",
    "        # TOKEN_TYPE_UNARY_LEFT\n",
    "        # TOKEN_TYPE_UNARY_RIGHT\n",
    "        # TOKEN_TYPE_NEW_ITEM\n",
    "        # TOKEN_TYPE_CLOSE_GROUP\n",
    "        \n",
    "        tokens = []\n",
    "        \n",
    "        i = len(self.source_string)\n",
    "        string = self.source_string = self.source_string + string\n",
    "        self.source.set(string)\n",
    "        \n",
    "        while i < len(string):\n",
    "\n",
    "            if string[i] in ' ':\n",
    "                i += 1\n",
    "                continue\n",
    "                \n",
    "            offset = i - self.current_ln_offset\n",
    "            ln = self.ln_count\n",
    "            \n",
    "            if string[i] == '\\n':\n",
    "                self.current_ln_offset = i+1\n",
    "                self.ln_count += 1\n",
    "\n",
    "            if len(tokens) > 0:\n",
    "                last_token_type =  tokens[-1].token_type\n",
    "            elif len(self.tokens) > 0:\n",
    "                last_token_type = self.tokens[-1].token_type\n",
    "            else:\n",
    "                last_token_type = None\n",
    "                \n",
    "            allowed_token_types = []\n",
    "            allowed_token_types_with_implicit_op = {}\n",
    "            allowed_token_types_with_ans = {}\n",
    "\n",
    "            # begin with\n",
    "            if last_token_type in [\n",
    "                None,\n",
    "            ]:\n",
    "\n",
    "                allowed_token_types = [\n",
    "                    TOKEN_TYPE_UNARY_LEFT,\n",
    "                    TOKEN_TYPE_OPEN_GROUP,\n",
    "                    TOKEN_TYPE_NEW_ITEM,\n",
    "                    TOKEN_TYPE_CLOSE_GROUP,\n",
    "                    *TOKEN_TYPE_VALUE,\n",
    "                ]\n",
    "                if self.ans_available:\n",
    "                    allowed_token_types_with_ans = {\n",
    "                        TOKEN_TYPE_UNARY_RIGHT: '',\n",
    "                        TOKEN_TYPE_BINARY_CONTINUING: '',\n",
    "                    }\n",
    "\n",
    "            if last_token_type in [\\\n",
    "                TOKEN_TYPE_OPEN_GROUP,\n",
    "                TOKEN_TYPE_NEW_ITEM,\n",
    "            ]:\n",
    "                allowed_token_types = [\n",
    "                    TOKEN_TYPE_UNARY_LEFT,\n",
    "                    TOKEN_TYPE_OPEN_GROUP,\n",
    "                    TOKEN_TYPE_NEW_ITEM,\n",
    "                    TOKEN_TYPE_CLOSE_GROUP,\n",
    "                    *TOKEN_TYPE_VALUE,\n",
    "                ]\n",
    "\n",
    "            # after value excluding literal\n",
    "            if last_token_type in [\n",
    "                TOKEN_TYPE_CLOSE_GROUP,\n",
    "                TOKEN_TYPE_UNARY_RIGHT,\n",
    "                TOKEN_TYPE_STRING,\n",
    "                TOKEN_TYPE_INTEGER,\n",
    "                TOKEN_TYPE_NUMBER,\n",
    "            ]:\n",
    "                allowed_token_types = [\n",
    "                    TOKEN_TYPE_UNARY_RIGHT,\n",
    "                    TOKEN_TYPE_BINARY,\n",
    "                    TOKEN_TYPE_NEW_ITEM,\n",
    "                    TOKEN_TYPE_CLOSE_GROUP,\n",
    "                ]\n",
    "                allowed_token_types_with_implicit_op = {\n",
    "                    TOKEN_TYPE_OPEN_GROUP: '9',\n",
    "                    TOKEN_TYPE_LITERAL: '9',\n",
    "                }\n",
    "\n",
    "            # after literal value\n",
    "            if last_token_type in [\n",
    "                TOKEN_TYPE_LITERAL,\n",
    "            ]:\n",
    "                allowed_token_types = [\n",
    "                    TOKEN_TYPE_UNARY_RIGHT,\n",
    "                    TOKEN_TYPE_BINARY,\n",
    "                    TOKEN_TYPE_NEW_ITEM,\n",
    "                    TOKEN_TYPE_CLOSE_GROUP,\n",
    "                ]\n",
    "                allowed_token_types_with_implicit_op = {\n",
    "                    TOKEN_TYPE_OPEN_GROUP: '9',\n",
    "                    TOKEN_TYPE_LITERAL: '9',\n",
    "                }\n",
    "\n",
    "            # after operator\n",
    "            if last_token_type in [\n",
    "                TOKEN_TYPE_BINARY,\n",
    "                TOKEN_TYPE_BINARY_CONTINUING,\n",
    "                TOKEN_TYPE_UNARY_LEFT,\n",
    "\n",
    "            ]:\n",
    "                allowed_token_types = [\n",
    "                    TOKEN_TYPE_OPEN_GROUP,\n",
    "                    TOKEN_TYPE_UNARY_LEFT,\n",
    "                    *TOKEN_TYPE_VALUE,\n",
    "                ]\n",
    "\n",
    "\n",
    "            # find matching token type\n",
    "            token_type, token_str = None, None\n",
    "\n",
    "            all_allowed_token_types = [\n",
    "                list(allowed_token_types_with_ans.items()),\n",
    "                [(t, None) for t in allowed_token_types],\n",
    "                list(allowed_token_types_with_implicit_op.items()),\n",
    "            ]\n",
    "            all_allowed_token_types = sum(all_allowed_token_types, [])\n",
    "\n",
    "            for possible_token_type, implicit_op in all_allowed_token_types:\n",
    "                re_pattern = re_tokens[possible_token_type]\n",
    "\n",
    "                l = re_match_length(string[i:], re_pattern)\n",
    "                if l > 0:\n",
    "\n",
    "                    if implicit_op == '':\n",
    "                        tokens.append(Token(TOKEN_TYPE_LITERAL, implicit_op, ln, offset, self.source))\n",
    "                    elif implicit_op != None:\n",
    "                        tokens.append(Token(TOKEN_TYPE_BINARY, implicit_op, ln, offset, self.source))\n",
    "\n",
    "                    token_type = possible_token_type\n",
    "                    token_str = string[i:i+l]\n",
    "                    break\n",
    "\n",
    "\n",
    "\n",
    "            # invalid token\n",
    "            if token_type == None:\n",
    "                raise TokenNotAllowedException(self.source, ln, offset)\n",
    "                i += 1\n",
    "            else:\n",
    "                tokens.append(Token(token_type, token_str, ln, offset, self.source))\n",
    "                i += len(token_str)\n",
    "\n",
    "        self.tokens += tokens\n",
    "        return tokens  "
   ]
  },
  {
   "cell_type": "markdown",
   "metadata": {
    "heading_collapsed": true
   },
   "source": [
    "## Treeify"
   ]
  },
  {
   "cell_type": "code",
   "execution_count": 69,
   "metadata": {
    "ExecuteTime": {
     "end_time": "2020-07-31T15:41:39.544951Z",
     "start_time": "2020-07-31T15:41:39.531863Z"
    },
    "hidden": true
   },
   "outputs": [],
   "source": [
    "def bubble_up(focus, new):\n",
    "    \"\"\"\n",
    "    Finds ancestor/parent in tree upwards from `token` thats the first group token or the first\n",
    "    \"\"\"\n",
    "    \n",
    "    while True:\n",
    "        if type(focus) == NodeGroup or focus.precedence < new.precedence:\n",
    "            return focus\n",
    "        else:\n",
    "            focus = focus.parent"
   ]
  },
  {
   "cell_type": "code",
   "execution_count": 70,
   "metadata": {
    "ExecuteTime": {
     "end_time": "2020-07-31T15:41:39.560966Z",
     "start_time": "2020-07-31T15:41:39.546951Z"
    },
    "hidden": true
   },
   "outputs": [],
   "source": [
    "def bubble_up_to_group(focus):\n",
    "    while True:\n",
    "        if type(focus) == NodeGroup:\n",
    "            return focus\n",
    "        else:\n",
    "            focus = focus.parent"
   ]
  },
  {
   "cell_type": "code",
   "execution_count": 71,
   "metadata": {
    "ExecuteTime": {
     "end_time": "2020-07-31T15:41:39.591976Z",
     "start_time": "2020-07-31T15:41:39.562967Z"
    },
    "hidden": true
   },
   "outputs": [],
   "source": [
    "class TokenTreeBuilder:\n",
    "    \n",
    "    def __init__(self):\n",
    "        self.root = NodeGroup(find_token_definition('{', TOKEN_TYPE_OPEN_GROUP, lambda x:x.open_token), None)\n",
    "        self.focus = self.root\n",
    "\n",
    "    def build(self, tokens):\n",
    "    \n",
    "        # TOKEN_TYPE_STRING\n",
    "        # TOKEN_TYPE_INTEGER\n",
    "        # TOKEN_TYPE_NUMBER\n",
    "        # TOKEN_TYPE_LITERAL\n",
    "\n",
    "        # TOKEN_TYPE_OPEN_GROUP\n",
    "        # TOKEN_TYPE_BINARY\n",
    "        # TOKEN_TYPE_UNARY_LEFT\n",
    "        # TOKEN_TYPE_UNARY_RIGHT\n",
    "\n",
    "        # TOKEN_TYPE_NEW_ITEM\n",
    "        # TOKEN_TYPE_CLOSE_GROUP\n",
    "\n",
    "        for token in tokens:\n",
    "\n",
    "\n",
    "            # focus is\n",
    "            # Binary Operator\n",
    "            # Left Unary Operator\n",
    "            if type(self.focus) in [\n",
    "                NodeBinary,\n",
    "                NodeUnaryLeft,\n",
    "            ]:\n",
    "\n",
    "                # next is \n",
    "                # Unary left\n",
    "                if token.token_type == TOKEN_TYPE_UNARY_LEFT:\n",
    "\n",
    "                    operand = find_token_definition(token.string, TOKEN_TYPE_UNARY_LEFT)\n",
    "                    next_node = NodeUnaryLeft(operand)\n",
    "\n",
    "                    self.focus.set_right(next_node)\n",
    "                    self.focus = next_node\n",
    "\n",
    "                # next is\n",
    "                # Group\n",
    "                elif token.token_type == TOKEN_TYPE_OPEN_GROUP:\n",
    "\n",
    "                    group = find_token_definition(token.string, TOKEN_TYPE_OPEN_GROUP, lambda x:x.open_token)\n",
    "                    next_node = NodeGroup(group)\n",
    "                    self.focus.set_right(next_node)\n",
    "                    self.focus = next_node\n",
    "\n",
    "                # next is\n",
    "                # TOKEN_TYPE_STRING\n",
    "                # TOKEN_TYPE_INTEGER\n",
    "                # TOKEN_TYPE_NUMBER\n",
    "                # TOKEN_TYPE_LITERAL\n",
    "                elif token.token_type in TOKEN_TYPE_VALUE:\n",
    "\n",
    "                    next_node = NodeValue(token.string, token.token_type)\n",
    "                    self.focus.set_right(next_node)\n",
    "                    self.focus = next_node\n",
    "\n",
    "                else:\n",
    "                    raise TokenNotAllowedException(token)\n",
    "\n",
    "\n",
    "            # focus is\n",
    "            # Value\n",
    "            # Closed Group\n",
    "            elif type(self.focus) == NodeValue or (type(self.focus) == NodeGroup and self.focus.is_complete()):\n",
    "\n",
    "                # next is\n",
    "                # Binary\n",
    "                if token.token_type in [TOKEN_TYPE_BINARY, TOKEN_TYPE_BINARY_CONTINUING]:\n",
    "\n",
    "                    operand = find_token_definition(token.string, TOKEN_TYPE_BINARY)\n",
    "                    next_node = NodeBinary(operand)\n",
    "\n",
    "                    parent_node = bubble_up(self.focus.parent, next_node)\n",
    "                    child_node = parent_node.get_right()\n",
    "                    parent_node.set_right(next_node)\n",
    "                    next_node.set_left(child_node)\n",
    "                    self.focus = next_node\n",
    "\n",
    "\n",
    "                # next is\n",
    "                # Unary right\n",
    "                elif token.token_type == TOKEN_TYPE_UNARY_RIGHT:\n",
    "\n",
    "                    operand = find_token_definition(token.string, TOKEN_TYPE_UNARY_RIGHT)\n",
    "                    next_node = NodeUnaryRight(operand)\n",
    "\n",
    "                    parent_node = self.focus.parent # bubble_up(self.focus.parent, next_node)\n",
    "                    child_node = parent_node.get_right()\n",
    "                    parent_node.set_right(next_node)\n",
    "                    next_node.set_left(child_node)\n",
    "                    # self.focus = next_node\n",
    "\n",
    "                # next is\n",
    "                # New item\n",
    "                elif token.token_type == TOKEN_TYPE_NEW_ITEM:\n",
    "\n",
    "                    token_definition = find_token_definition(token.string, TOKEN_TYPE_NEW_ITEM)\n",
    "\n",
    "                    parent_node = bubble_up_to_group(self.focus.parent)\n",
    "\n",
    "                    if token_definition.token in parent_node.group_definition.seperators:\n",
    "\n",
    "                        depth = parent_node.group_definition.seperators[token_definition.token]\n",
    "                        if depth > 0:\n",
    "                            parent_node.increase(depth)\n",
    "                            self.focus = parent_node\n",
    "                    else:\n",
    "                        raise TokenNotAllowedException(token)\n",
    "\n",
    "\n",
    "                # next is\n",
    "                # Close group\n",
    "                elif token.token_type == TOKEN_TYPE_CLOSE_GROUP:\n",
    "\n",
    "                    parent_node = bubble_up_to_group(self.focus.parent)\n",
    "                    parent_node.close()\n",
    "                    self.focus = parent_node\n",
    "\n",
    "                # next is\n",
    "                else:\n",
    "                    raise TokenNotAllowedException(token)\n",
    "\n",
    "\n",
    "            # focus is\n",
    "            # Open Group\n",
    "            elif type(self.focus) == NodeGroup and not self.focus.is_complete(): \n",
    "\n",
    "                # next is\n",
    "                # Binary - use ans on left\n",
    "                if token.token_type == TOKEN_TYPE_BINARY:\n",
    "\n",
    "                    left = NodeValue('ans', TOKEN_TYPE_LITERAL)\n",
    "\n",
    "                    operand = find_token_definition(token.string, TOKEN_TYPE_BINARY)\n",
    "                    next_node = NodeBinary(operand)\n",
    "                    next_node.set_left(left)\n",
    "\n",
    "                    self.focus.add(next_node)\n",
    "                    self.focus = next_node\n",
    "\n",
    "                # next is\n",
    "                # Unary left\n",
    "                elif token.token_type == TOKEN_TYPE_UNARY_LEFT:\n",
    "\n",
    "                    operand = find_token_definition(token.string, TOKEN_TYPE_UNARY_LEFT)\n",
    "                    next_node = NodeUnaryLeft(operand)\n",
    "\n",
    "                    self.focus.add(next_node)\n",
    "                    self.focus = next_node\n",
    "\n",
    "                # next is\n",
    "                # Group\n",
    "                elif token.token_type == TOKEN_TYPE_OPEN_GROUP:\n",
    "\n",
    "                    group = find_token_definition(token.string, TOKEN_TYPE_OPEN_GROUP, lambda x:x.open_token)\n",
    "                    next_node = NodeGroup(group)\n",
    "                    self.focus.add(next_node)\n",
    "                    self.focus = next_node\n",
    "\n",
    "                # next is\n",
    "                # Close Group\n",
    "                elif token.token_type == TOKEN_TYPE_CLOSE_GROUP:\n",
    "\n",
    "                    self.focus.close()\n",
    "\n",
    "                # next is\n",
    "                # TOKEN_TYPE_STRING\n",
    "                # TOKEN_TYPE_INTEGER\n",
    "                # TOKEN_TYPE_NUMBER\n",
    "                # TOKEN_TYPE_LITERAL\n",
    "                elif token.token_type in TOKEN_TYPE_VALUE:\n",
    "\n",
    "                    next_node = NodeValue(token.string, token.token_type)\n",
    "                    self.focus.add(next_node)\n",
    "                    self.focus = next_node\n",
    "\n",
    "                # next is \n",
    "                # TOKEN_TYPE_NEW_ITEM\n",
    "                elif token.token_type == TOKEN_TYPE_NEW_ITEM:\n",
    "\n",
    "                    token_definition = find_token_definition(token.string, TOKEN_TYPE_NEW_ITEM)\n",
    "\n",
    "                    if token_definition.token in self.focus.group_definition.seperators:\n",
    "\n",
    "                        depth = self.focus.group_definition.seperators[token_definition.token]\n",
    "                        if depth > 0:\n",
    "                            self.focus.increase(depth)\n",
    "                    else:\n",
    "                        raise TokenNotAllowedException(token)\n",
    "\n",
    "                # next is\n",
    "                else:\n",
    "                    raise TokenNotAllowedException(token)\n",
    "\n",
    "\n",
    "\n",
    "        return self.root\n"
   ]
  },
  {
   "cell_type": "markdown",
   "metadata": {
    "heading_collapsed": true
   },
   "source": [
    "## Computation Graph"
   ]
  },
  {
   "cell_type": "code",
   "execution_count": 72,
   "metadata": {
    "ExecuteTime": {
     "end_time": "2020-07-31T15:41:39.607979Z",
     "start_time": "2020-07-31T15:41:39.593975Z"
    },
    "hidden": true
   },
   "outputs": [],
   "source": [
    "def build_computation_graph(token_tree):\n",
    "    return token_tree.get_evaluable()"
   ]
  },
  {
   "cell_type": "markdown",
   "metadata": {},
   "source": [
    "# Excecute"
   ]
  },
  {
   "cell_type": "markdown",
   "metadata": {
    "heading_collapsed": true
   },
   "source": [
    "## Environment"
   ]
  },
  {
   "cell_type": "code",
   "execution_count": 73,
   "metadata": {
    "ExecuteTime": {
     "end_time": "2020-07-31T15:41:39.623985Z",
     "start_time": "2020-07-31T15:41:39.609987Z"
    },
    "hidden": true
   },
   "outputs": [],
   "source": [
    "class Environment():\n",
    "       \n",
    "    def __init__(self, parent=None, dictionary=None):\n",
    "        self.parent = parent\n",
    "        self.dictionary = dictionary or {}\n",
    "        self.ln_count = 1\n",
    "        self.ans_available = False\n",
    "        \n",
    "    def __getitem__(self, key):\n",
    "        \n",
    "        if key in self.dictionary:\n",
    "            return self.dictionary[key]\n",
    "        elif self.parent != None:\n",
    "            return self.parent[key]\n",
    "        else:\n",
    "            assert False, f'key {key} is not defined in this scope'\n",
    "        \n",
    "    def __setitem__(self, key, value):\n",
    "        \n",
    "        if type(key) in [list, tuple] and type(value) in [list, tuple]:\n",
    "            for k,v in zip(key, value):\n",
    "                self[key] = value\n",
    "        \n",
    "        else:\n",
    "            if key in self.dictionary:\n",
    "                self.dictionary[key] = value\n",
    "            elif self.parent != None:\n",
    "                self.parent[key] = value\n",
    "            else:\n",
    "                self.dictionary[key] = value\n",
    "    \n",
    "    def __contains__(self, key):\n",
    "        \n",
    "        if key in self.dictionary:\n",
    "            return True\n",
    "        elif self.parent != None:\n",
    "            return key in self.parent\n",
    "        else:\n",
    "            return False\n",
    "        \n",
    "    def getLnCount(self):\n",
    "        return str(self.ln_count)\n",
    "        \n",
    "    def addLn(self, value, code, environment):\n",
    "        in_name = f'in{self.ln_count}'\n",
    "        out_name = f'out{self.ln_count}'\n",
    "        self[in_name] = define_function(environment, (), code)\n",
    "        self[out_name] = value\n",
    "        self[''] = value\n",
    "        \n",
    "        self.ln_count += 1\n",
    "        self.ans_available = True\n",
    "        \n",
    "        return out_name\n",
    "    \n",
    "    def enterScope(self, dictionary=None):\n",
    "        return Environment(self, dictionary)\n",
    "        \n",
    "    def exitScope(self):\n",
    "        return self if self.parent == None else self.parent\n",
    "        \n",
    "    def __repr__(self):\n",
    "        return str(self)\n",
    "    \n",
    "    def __str__(self):\n",
    "        return f'Environment({self.dictionary, self.parent})'"
   ]
  },
  {
   "cell_type": "code",
   "execution_count": 74,
   "metadata": {
    "ExecuteTime": {
     "end_time": "2020-07-31T15:41:39.638849Z",
     "start_time": "2020-07-31T15:41:39.625989Z"
    },
    "hidden": true
   },
   "outputs": [],
   "source": [
    "def create_base_environment():\n",
    "    built_in_variables = {k:v for k,v in built_ins.vars}\n",
    "    built_in_functions = {}\n",
    "    built_in_conversion_function_sets = {}\n",
    "    \n",
    "    for name, function, parameter_names, parameter_types, parameter_ranks, parameter_shapes in built_ins.functions:\n",
    "        \n",
    "        parameter_evaluation_parameters = built_ins.function_parameter_evaluation_parameters.get(name, {})\n",
    "        \n",
    "        built_in_functions[name] = built_in_functions.get(name, FunctionSet(name, parameter_evaluation_parameters))\n",
    "        built_in_functions[name].add(FunctionSignature(\n",
    "            name, \n",
    "            function, \n",
    "            parameter_names, \n",
    "            parameter_types, \n",
    "            parameter_ranks, \n",
    "            parameter_shapes\n",
    "        ))\n",
    "        \n",
    "    for name, forward, reverse in built_ins.conversion_function_sets:\n",
    "        built_in_conversion_function_sets[name] = ConversionFunctionSet(name, forward, reverse)\n",
    "    \n",
    "    environment = Environment(None, {**built_in_variables, **built_in_functions, **built_in_conversion_function_sets})\n",
    "    \n",
    "    return environment"
   ]
  },
  {
   "cell_type": "markdown",
   "metadata": {
    "heading_collapsed": true
   },
   "source": [
    "## Evaluate"
   ]
  },
  {
   "cell_type": "code",
   "execution_count": 75,
   "metadata": {
    "ExecuteTime": {
     "end_time": "2020-07-31T15:41:39.653847Z",
     "start_time": "2020-07-31T15:41:39.639857Z"
    },
    "hidden": true
   },
   "outputs": [],
   "source": [
    "def evaluate(computation_graph, environment):\n",
    "    return computation_graph.eval(environment)"
   ]
  },
  {
   "cell_type": "code",
   "execution_count": 76,
   "metadata": {
    "ExecuteTime": {
     "end_time": "2020-07-31T15:41:39.668775Z",
     "start_time": "2020-07-31T15:41:39.654848Z"
    },
    "hidden": true
   },
   "outputs": [],
   "source": [
    "def read(string, environment, lexer=None, token_tree_builder=None, **kwargs):\n",
    "    \n",
    "    lexer = lexer or Lexer(environment.ans_available)\n",
    "    tokens = lexer.process(string)\n",
    "    \n",
    "    token_tree_builder = token_tree_builder or TokenTreeBuilder()\n",
    "    token_tree = token_tree_builder.build(tokens)\n",
    "    is_complete = token_tree.is_complete(True)\n",
    "    \n",
    "    return {\n",
    "        'environment': environment,\n",
    "        'lexer':       lexer,\n",
    "        'token_tree_builder': token_tree_builder,\n",
    "        'is_complete': is_complete,\n",
    "    }"
   ]
  },
  {
   "cell_type": "code",
   "execution_count": 77,
   "metadata": {
    "ExecuteTime": {
     "end_time": "2020-07-31T15:41:39.683944Z",
     "start_time": "2020-07-31T15:41:39.669781Z"
    },
    "hidden": true
   },
   "outputs": [],
   "source": [
    "def execute(token_tree_builder, environment, **kwargs):\n",
    "    computation_graph = build_computation_graph(token_tree_builder.root)\n",
    "    result = evaluate(computation_graph, environment)\n",
    "    ln_name = environment.addLn(result, computation_graph, environment)\n",
    "    print_result(result, ln_name)\n",
    "\n",
    "    return result"
   ]
  },
  {
   "cell_type": "code",
   "execution_count": 78,
   "metadata": {
    "ExecuteTime": {
     "end_time": "2020-07-31T15:41:39.699209Z",
     "start_time": "2020-07-31T15:41:39.685945Z"
    },
    "hidden": true
   },
   "outputs": [],
   "source": [
    "def print_result(result, ln_name):\n",
    "    ln_name = ln_name + ': '\n",
    "    space = ' ' * len(ln_name)\n",
    "    lines = str(result).split('\\n')\n",
    "    pre = [ln_name] + (len(lines)-1) * [space]\n",
    "    \n",
    "    lines = [p+l for p,l in zip(pre, lines)]\n",
    "    \n",
    "    print(*lines, sep='\\n')"
   ]
  },
  {
   "cell_type": "markdown",
   "metadata": {
    "heading_collapsed": true
   },
   "source": [
    "## Run"
   ]
  },
  {
   "cell_type": "code",
   "execution_count": 79,
   "metadata": {
    "ExecuteTime": {
     "end_time": "2020-07-31T15:41:39.714778Z",
     "start_time": "2020-07-31T15:41:39.700215Z"
    },
    "hidden": true
   },
   "outputs": [],
   "source": [
    "def calc(query, environment, debug=False):\n",
    "\n",
    "    context = read(query, environment)\n",
    "    result = execute(**context)\n",
    "    return result"
   ]
  },
  {
   "cell_type": "markdown",
   "metadata": {},
   "source": [
    "## Test"
   ]
  },
  {
   "cell_type": "markdown",
   "metadata": {
    "heading_collapsed": true
   },
   "source": [
    "### Basics"
   ]
  },
  {
   "cell_type": "code",
   "execution_count": 80,
   "metadata": {
    "ExecuteTime": {
     "end_time": "2020-07-31T15:41:39.730324Z",
     "start_time": "2020-07-31T15:41:39.715778Z"
    },
    "hidden": true
   },
   "outputs": [],
   "source": [
    "e = create_base_environment()"
   ]
  },
  {
   "cell_type": "code",
   "execution_count": 81,
   "metadata": {
    "ExecuteTime": {
     "end_time": "2020-07-31T15:41:39.745370Z",
     "start_time": "2020-07-31T15:41:39.731325Z"
    },
    "hidden": true
   },
   "outputs": [
    {
     "name": "stdout",
     "output_type": "stream",
     "text": [
      "out1: 0.3\n"
     ]
    },
    {
     "data": {
      "text/plain": [
       "Tensor([Real(0.3)])"
      ]
     },
     "execution_count": 81,
     "metadata": {},
     "output_type": "execute_result"
    }
   ],
   "source": [
    "calc('0.1 + 0.2', e)"
   ]
  },
  {
   "cell_type": "code",
   "execution_count": 82,
   "metadata": {
    "ExecuteTime": {
     "end_time": "2020-07-31T15:41:39.760389Z",
     "start_time": "2020-07-31T15:41:39.747370Z"
    },
    "hidden": true
   },
   "outputs": [
    {
     "name": "stdout",
     "output_type": "stream",
     "text": [
      "out2: [1.61803398874989484820458683436563811772, 0.6180339887498948482045868344]\n"
     ]
    },
    {
     "data": {
      "text/plain": [
       "Tensor([Real(1.61803398874989484820458683436563811772)\n",
       " Real(0.6180339887498948482045868344)], (2,))"
      ]
     },
     "execution_count": 82,
     "metadata": {},
     "output_type": "execute_result"
    }
   ],
   "source": [
    "calc('[phi, 1/phi]', e)"
   ]
  },
  {
   "cell_type": "code",
   "execution_count": 83,
   "metadata": {
    "ExecuteTime": {
     "end_time": "2020-07-31T15:41:39.775841Z",
     "start_time": "2020-07-31T15:41:39.762388Z"
    },
    "hidden": true,
    "scrolled": true
   },
   "outputs": [
    {
     "name": "stdout",
     "output_type": "stream",
     "text": [
      "out3: [3, 5, 7]\n"
     ]
    },
    {
     "data": {
      "text/plain": [
       "Tensor([Real(3) Real(5) Real(7)], (3,))"
      ]
     },
     "execution_count": 83,
     "metadata": {},
     "output_type": "execute_result"
    }
   ],
   "source": [
    "calc('(1 + [1,2,3]) * 2; 1 + [1,2,3] * 2', e)"
   ]
  },
  {
   "cell_type": "code",
   "execution_count": 84,
   "metadata": {
    "ExecuteTime": {
     "end_time": "2020-07-31T15:41:39.791870Z",
     "start_time": "2020-07-31T15:41:39.777841Z"
    },
    "hidden": true,
    "scrolled": false
   },
   "outputs": [
    {
     "name": "stdout",
     "output_type": "stream",
     "text": [
      "out4: [1, 4, 9, 16]\n"
     ]
    },
    {
     "data": {
      "text/plain": [
       "Tensor([Real(1) Real(4) Real(9) Real(16)], (4,))"
      ]
     },
     "execution_count": 84,
     "metadata": {},
     "output_type": "execute_result"
    }
   ],
   "source": [
    "calc('2 ^ [1,2,3,4]; [1,2,3,4] ^ 2', e)"
   ]
  },
  {
   "cell_type": "code",
   "execution_count": 85,
   "metadata": {
    "ExecuteTime": {
     "end_time": "2020-07-31T15:41:39.806842Z",
     "start_time": "2020-07-31T15:41:39.793871Z"
    },
    "hidden": true
   },
   "outputs": [
    {
     "name": "stdout",
     "output_type": "stream",
     "text": [
      "out5: [4, 64, 4096]\n"
     ]
    },
    {
     "data": {
      "text/plain": [
       "Tensor([Real(4) Real(64) Real(4096)], (3,))"
      ]
     },
     "execution_count": 85,
     "metadata": {},
     "output_type": "execute_result"
    }
   ],
   "source": [
    "calc('[2,4,8] ^ [2,3,4]', e)"
   ]
  },
  {
   "cell_type": "code",
   "execution_count": 86,
   "metadata": {
    "ExecuteTime": {
     "end_time": "2020-07-31T15:41:39.822492Z",
     "start_time": "2020-07-31T15:41:39.807843Z"
    },
    "hidden": true
   },
   "outputs": [
    {
     "name": "stdout",
     "output_type": "stream",
     "text": [
      "out6: [[[1.570796326794896619231321692, 3.141592653589793238462643383, 6.283185307179586476925286767]]]\n"
     ]
    },
    {
     "data": {
      "text/plain": [
       "Tensor([Real(1.570796326794896619231321692) Real(3.141592653589793238462643383)\n",
       " Real(6.283185307179586476925286767)], (1, 1, 3))"
      ]
     },
     "execution_count": 86,
     "metadata": {},
     "output_type": "execute_result"
    }
   ],
   "source": [
    "calc('PI * [1/2, 1, 2,,,]', e)"
   ]
  },
  {
   "cell_type": "code",
   "execution_count": 87,
   "metadata": {
    "ExecuteTime": {
     "end_time": "2020-07-31T15:41:39.838298Z",
     "start_time": "2020-07-31T15:41:39.824155Z"
    },
    "hidden": true,
    "scrolled": true
   },
   "outputs": [
    {
     "name": "stdout",
     "output_type": "stream",
     "text": [
      "out7: [[9, 12, 15],\n",
      "       [19, 26, 33],\n",
      "       [29, 40, 51]]\n"
     ]
    },
    {
     "data": {
      "text/plain": [
       "Tensor([Real(9) Real(12) Real(15) Real(19) Real(26) Real(33) Real(29) Real(40)\n",
       " Real(51)], (3, 3))"
      ]
     },
     "execution_count": 87,
     "metadata": {},
     "output_type": "execute_result"
    }
   ],
   "source": [
    "calc('[1,2,,3,4,,5,6] # [1,2,3,,4,5,6]', e)"
   ]
  },
  {
   "cell_type": "code",
   "execution_count": 88,
   "metadata": {
    "ExecuteTime": {
     "end_time": "2020-07-31T15:41:39.853870Z",
     "start_time": "2020-07-31T15:41:39.840300Z"
    },
    "hidden": true
   },
   "outputs": [
    {
     "name": "stdout",
     "output_type": "stream",
     "text": [
      "out8: [1, 1, 2, 2]\n"
     ]
    },
    {
     "data": {
      "text/plain": [
       "Tensor([Real(1) Real(1) Real(2) Real(2)], (4,))"
      ]
     },
     "execution_count": 88,
     "metadata": {},
     "output_type": "execute_result"
    }
   ],
   "source": [
    "calc('|0 - |10-100| |; |0-1|; ||0-1||; |[1,-1,2,-2]|', e)"
   ]
  },
  {
   "cell_type": "code",
   "execution_count": 89,
   "metadata": {
    "ExecuteTime": {
     "end_time": "2020-07-31T15:41:39.869874Z",
     "start_time": "2020-07-31T15:41:39.855843Z"
    },
    "hidden": true
   },
   "outputs": [
    {
     "name": "stdout",
     "output_type": "stream",
     "text": [
      "out9: 10000000000\n"
     ]
    },
    {
     "data": {
      "text/plain": [
       "Tensor([Real(10000000000)])"
      ]
     },
     "execution_count": 89,
     "metadata": {},
     "output_type": "execute_result"
    }
   ],
   "source": [
    "calc('$[1,4,9,16]; 3$[1,8,27,64]; 0.1$10; 10^(1/0.1)', e)"
   ]
  },
  {
   "cell_type": "code",
   "execution_count": 90,
   "metadata": {
    "ExecuteTime": {
     "end_time": "2020-07-31T15:41:39.885842Z",
     "start_time": "2020-07-31T15:41:39.870875Z"
    },
    "hidden": true,
    "scrolled": true
   },
   "outputs": [
    {
     "name": "stdout",
     "output_type": "stream",
     "text": [
      "out10: [32, 122]\n"
     ]
    },
    {
     "data": {
      "text/plain": [
       "Tensor([Real(32) Real(122)], (2,))"
      ]
     },
     "execution_count": 90,
     "metadata": {},
     "output_type": "execute_result"
    }
   ],
   "source": [
    "calc('[1,2,3] .* [3,2,1]; [1,2,3,,] # [3,,2,,1]; [1,2,3,,4,5,6] .* [4,5,6,,7,8,9]', e)"
   ]
  },
  {
   "cell_type": "code",
   "execution_count": 91,
   "metadata": {
    "ExecuteTime": {
     "end_time": "2020-07-31T15:41:39.901866Z",
     "start_time": "2020-07-31T15:41:39.887842Z"
    },
    "hidden": true
   },
   "outputs": [
    {
     "name": "stdout",
     "output_type": "stream",
     "text": [
      "out11: [[[1, 2, 3],\n",
      "         [4, 5, 6]],\n",
      "       \n",
      "        [[6, 5, 4],\n",
      "         [3, 2, 1]],\n",
      "       \n",
      "        [[1, 2, 3],\n",
      "         [4, 5, 6]]]\n"
     ]
    },
    {
     "data": {
      "text/plain": [
       "Tensor([Real(1) Real(2) Real(3) Real(4) Real(5) Real(6) Real(6) Real(5) Real(4)\n",
       " Real(3) Real(2) Real(1) Real(1) Real(2) Real(3) Real(4) Real(5) Real(6)], (3, 2, 3))"
      ]
     },
     "execution_count": 91,
     "metadata": {},
     "output_type": "execute_result"
    }
   ],
   "source": [
    "calc(\"\"\"\n",
    "[\n",
    "    1,2,3,,\n",
    "    4,5,6\n",
    "    ,,,\n",
    "    6,5,4,,\n",
    "    3,2,1\n",
    "    ,,,\n",
    "    1,2,3,,\n",
    "    4,5,6\n",
    "]\n",
    "\"\"\", e)"
   ]
  },
  {
   "cell_type": "code",
   "execution_count": 92,
   "metadata": {
    "ExecuteTime": {
     "end_time": "2020-07-31T15:41:39.917849Z",
     "start_time": "2020-07-31T15:41:39.902868Z"
    },
    "hidden": true
   },
   "outputs": [
    {
     "name": "stdout",
     "output_type": "stream",
     "text": [
      "out12: [[[1, 2, 3],\n",
      "         [4, 5, 6]],\n",
      "       \n",
      "        [[6, 5, 4],\n",
      "         [3, 2, 1]],\n",
      "       \n",
      "        [[1, 2, 3],\n",
      "         [4, 5, 6]]]\n"
     ]
    },
    {
     "data": {
      "text/plain": [
       "Tensor([Real(1) Real(2) Real(3) Real(4) Real(5) Real(6) Real(6) Real(5) Real(4)\n",
       " Real(3) Real(2) Real(1) Real(1) Real(2) Real(3) Real(4) Real(5) Real(6)], (3, 2, 3))"
      ]
     },
     "execution_count": 92,
     "metadata": {},
     "output_type": "execute_result"
    }
   ],
   "source": [
    "calc(\"\"\"\n",
    "[[[1, 2, 3],\n",
    "  [4, 5, 6]],\n",
    "\n",
    " [[6, 5, 4],\n",
    "  [3, 2, 1]],\n",
    "\n",
    " [[1, 2, 3],\n",
    "  [4, 5, 6]]]\n",
    "\"\"\", e)"
   ]
  },
  {
   "cell_type": "markdown",
   "metadata": {
    "heading_collapsed": true
   },
   "source": [
    "### Variables"
   ]
  },
  {
   "cell_type": "code",
   "execution_count": 93,
   "metadata": {
    "ExecuteTime": {
     "end_time": "2020-07-31T15:41:39.933881Z",
     "start_time": "2020-07-31T15:41:39.919849Z"
    },
    "hidden": true,
    "scrolled": true
   },
   "outputs": [
    {
     "name": "stdout",
     "output_type": "stream",
     "text": [
      "out13: 9\n"
     ]
    },
    {
     "data": {
      "text/plain": [
       "Tensor([Real(9)])"
      ]
     },
     "execution_count": 93,
     "metadata": {},
     "output_type": "execute_result"
    }
   ],
   "source": [
    "calc('x = 1; y = 2; x = 3; x^y', e)"
   ]
  },
  {
   "cell_type": "code",
   "execution_count": 94,
   "metadata": {
    "ExecuteTime": {
     "end_time": "2020-07-31T15:41:39.948880Z",
     "start_time": "2020-07-31T15:41:39.935885Z"
    },
    "hidden": true
   },
   "outputs": [
    {
     "name": "stdout",
     "output_type": "stream",
     "text": [
      "out14: 65536\n"
     ]
    },
    {
     "data": {
      "text/plain": [
       "Tensor([Real(65536)])"
      ]
     },
     "execution_count": 94,
     "metadata": {},
     "output_type": "execute_result"
    }
   ],
   "source": [
    "calc('a = ((2, 4), 8); ((x, y), z) = a; x^y; y^z', e)"
   ]
  },
  {
   "cell_type": "code",
   "execution_count": 95,
   "metadata": {
    "ExecuteTime": {
     "end_time": "2020-07-31T15:41:39.963790Z",
     "start_time": "2020-07-31T15:41:39.949881Z"
    },
    "hidden": true,
    "scrolled": true
   },
   "outputs": [
    {
     "name": "stdout",
     "output_type": "stream",
     "text": [
      "out15: (1, 2, 3, 4)\n"
     ]
    },
    {
     "data": {
      "text/plain": [
       "Array([Tensor([Real(1)]) Tensor([Real(2)]) Tensor([Real(3)]) Tensor([Real(4)])])"
      ]
     },
     "execution_count": 95,
     "metadata": {},
     "output_type": "execute_result"
    }
   ],
   "source": [
    "calc('x = [1,2,,3,4]; (a,b,c,d) = x; (a,b,c,d)', e)"
   ]
  },
  {
   "cell_type": "markdown",
   "metadata": {
    "heading_collapsed": true
   },
   "source": [
    "### Implicit Multiplication"
   ]
  },
  {
   "cell_type": "code",
   "execution_count": 96,
   "metadata": {
    "ExecuteTime": {
     "end_time": "2020-07-31T15:41:39.979301Z",
     "start_time": "2020-07-31T15:41:39.964848Z"
    },
    "hidden": true
   },
   "outputs": [],
   "source": [
    "# print(calc('x = 5; 2 * x; 2(3)(3+4)x; 3x^2'))"
   ]
  },
  {
   "cell_type": "code",
   "execution_count": 97,
   "metadata": {
    "ExecuteTime": {
     "end_time": "2020-07-31T15:41:39.994872Z",
     "start_time": "2020-07-31T15:41:39.981304Z"
    },
    "hidden": true
   },
   "outputs": [],
   "source": [
    "# print(calc('x = 5; 2 x x'))"
   ]
  },
  {
   "cell_type": "code",
   "execution_count": 98,
   "metadata": {
    "ExecuteTime": {
     "end_time": "2020-07-31T15:41:40.009741Z",
     "start_time": "2020-07-31T15:41:39.996862Z"
    },
    "hidden": true
   },
   "outputs": [],
   "source": [
    "# print(calc('f = x => 2x; 3 f(5)'))"
   ]
  },
  {
   "cell_type": "markdown",
   "metadata": {
    "heading_collapsed": true
   },
   "source": [
    "### Functions"
   ]
  },
  {
   "cell_type": "code",
   "execution_count": 99,
   "metadata": {
    "ExecuteTime": {
     "end_time": "2020-07-31T15:41:40.025130Z",
     "start_time": "2020-07-31T15:41:40.010741Z"
    },
    "hidden": true
   },
   "outputs": [
    {
     "name": "stdout",
     "output_type": "stream",
     "text": [
      "out16: 125\n"
     ]
    },
    {
     "data": {
      "text/plain": [
       "Tensor([Real(125)])"
      ]
     },
     "execution_count": 99,
     "metadata": {},
     "output_type": "execute_result"
    }
   ],
   "source": [
    "calc('f = x => x^3; f(5)', e)"
   ]
  },
  {
   "cell_type": "code",
   "execution_count": 100,
   "metadata": {
    "ExecuteTime": {
     "end_time": "2020-07-31T15:41:40.040299Z",
     "start_time": "2020-07-31T15:41:40.027135Z"
    },
    "hidden": true
   },
   "outputs": [
    {
     "name": "stdout",
     "output_type": "stream",
     "text": [
      "out17: [1, 32, 729]\n"
     ]
    },
    {
     "data": {
      "text/plain": [
       "Tensor([Real(1) Real(32) Real(729)], (3,))"
      ]
     },
     "execution_count": 100,
     "metadata": {},
     "output_type": "execute_result"
    }
   ],
   "source": [
    "calc('f = (x, y) => x^y; f(3,4); f([1,2,3], [4,5,6])', e)"
   ]
  },
  {
   "cell_type": "code",
   "execution_count": 101,
   "metadata": {
    "ExecuteTime": {
     "end_time": "2020-07-31T15:41:40.055852Z",
     "start_time": "2020-07-31T15:41:40.042306Z"
    },
    "hidden": true
   },
   "outputs": [
    {
     "name": "stdout",
     "output_type": "stream",
     "text": [
      "out18: 81\n"
     ]
    },
    {
     "data": {
      "text/plain": [
       "Tensor([Real(81)])"
      ]
     },
     "execution_count": 101,
     "metadata": {},
     "output_type": "execute_result"
    }
   ],
   "source": [
    "calc('f = x => {y = x + 1; x^y}; f(3)', e)"
   ]
  },
  {
   "cell_type": "code",
   "execution_count": 102,
   "metadata": {
    "ExecuteTime": {
     "end_time": "2020-07-31T15:41:40.071875Z",
     "start_time": "2020-07-31T15:41:40.056852Z"
    },
    "hidden": true
   },
   "outputs": [
    {
     "name": "stdout",
     "output_type": "stream",
     "text": [
      "out19: (8, 4)\n"
     ]
    },
    {
     "data": {
      "text/plain": [
       "Array([Tensor([Real(8)]) Tensor([Real(4)])])"
      ]
     },
     "execution_count": 102,
     "metadata": {},
     "output_type": "execute_result"
    }
   ],
   "source": [
    "calc(\"\"\"\n",
    "    f = x => {\n",
    "        inc = x => x + 1\n",
    "        y = inc(x)\n",
    "        x^y\n",
    "    }\n",
    "    g = x => x^x\n",
    "    \n",
    "    (\n",
    "        f(2)\n",
    "        g(2)\n",
    "    )\n",
    "\"\"\", e)"
   ]
  },
  {
   "cell_type": "code",
   "execution_count": 103,
   "metadata": {
    "ExecuteTime": {
     "end_time": "2020-07-31T15:41:40.087243Z",
     "start_time": "2020-07-31T15:41:40.072875Z"
    },
    "hidden": true
   },
   "outputs": [
    {
     "name": "stdout",
     "output_type": "stream",
     "text": [
      "out20: 1\n"
     ]
    },
    {
     "data": {
      "text/plain": [
       "Tensor([Real(1)])"
      ]
     },
     "execution_count": 103,
     "metadata": {},
     "output_type": "execute_result"
    }
   ],
   "source": [
    "calc('f = () => 1; f()', e)"
   ]
  },
  {
   "cell_type": "code",
   "execution_count": 104,
   "metadata": {
    "ExecuteTime": {
     "end_time": "2020-07-31T15:41:40.102735Z",
     "start_time": "2020-07-31T15:41:40.089244Z"
    },
    "hidden": true
   },
   "outputs": [
    {
     "name": "stdout",
     "output_type": "stream",
     "text": [
      "out21: [27, 9, 3]\n"
     ]
    },
    {
     "data": {
      "text/plain": [
       "Tensor([Real(27) Real(9) Real(3)], (3,))"
      ]
     },
     "execution_count": 104,
     "metadata": {},
     "output_type": "execute_result"
    }
   ],
   "source": [
    "calc(\"\"\"\n",
    "f = x => (x, x^2, x^3)\n",
    "(a,b,c) = f(3)\n",
    "[c,b,a]\n",
    "\"\"\", e)"
   ]
  },
  {
   "cell_type": "markdown",
   "metadata": {
    "heading_collapsed": true
   },
   "source": [
    "### Array and Tensor Item Lookup"
   ]
  },
  {
   "cell_type": "code",
   "execution_count": 105,
   "metadata": {
    "ExecuteTime": {
     "end_time": "2020-07-31T15:41:40.118311Z",
     "start_time": "2020-07-31T15:41:40.104746Z"
    },
    "hidden": true
   },
   "outputs": [
    {
     "name": "stdout",
     "output_type": "stream",
     "text": [
      "out22: 2\n"
     ]
    },
    {
     "data": {
      "text/plain": [
       "Tensor([Real(2)])"
      ]
     },
     "execution_count": 105,
     "metadata": {},
     "output_type": "execute_result"
    }
   ],
   "source": [
    "calc(\"\"\"\n",
    "    f = x => x^2\n",
    "    c = 1\n",
    "    a = (1,2,3)\n",
    "    t = [0.1, 0.2, 0.3,, 0.4, 0.5, 0.6]\n",
    "    t(1,c)\n",
    "    a(c)\n",
    "\"\"\", e)"
   ]
  },
  {
   "cell_type": "code",
   "execution_count": 106,
   "metadata": {
    "ExecuteTime": {
     "end_time": "2020-07-31T15:41:40.133861Z",
     "start_time": "2020-07-31T15:41:40.119310Z"
    },
    "hidden": true,
    "scrolled": true
   },
   "outputs": [
    {
     "name": "stdout",
     "output_type": "stream",
     "text": [
      "out23: 2\n"
     ]
    },
    {
     "data": {
      "text/plain": [
       "Tensor([Real(2)])"
      ]
     },
     "execution_count": 106,
     "metadata": {},
     "output_type": "execute_result"
    }
   ],
   "source": [
    "calc('a = (1,2,3); a(1)', e)"
   ]
  },
  {
   "cell_type": "code",
   "execution_count": 107,
   "metadata": {
    "ExecuteTime": {
     "end_time": "2020-07-31T15:41:40.148859Z",
     "start_time": "2020-07-31T15:41:40.135863Z"
    },
    "hidden": true
   },
   "outputs": [
    {
     "name": "stdout",
     "output_type": "stream",
     "text": [
      "out24: 2\n"
     ]
    },
    {
     "data": {
      "text/plain": [
       "Tensor([Real(2)])"
      ]
     },
     "execution_count": 107,
     "metadata": {},
     "output_type": "execute_result"
    }
   ],
   "source": [
    "calc('t = [1,2,3]; t(1)', e)"
   ]
  },
  {
   "cell_type": "markdown",
   "metadata": {
    "heading_collapsed": true
   },
   "source": [
    "### Conversions"
   ]
  },
  {
   "cell_type": "code",
   "execution_count": 108,
   "metadata": {
    "ExecuteTime": {
     "end_time": "2020-07-31T15:41:40.164865Z",
     "start_time": "2020-07-31T15:41:40.150859Z"
    },
    "hidden": true
   },
   "outputs": [
    {
     "name": "stdout",
     "output_type": "stream",
     "text": [
      "out25: 1215.000\n"
     ]
    },
    {
     "data": {
      "text/plain": [
       "Tensor([Real(1215.000)])"
      ]
     },
     "execution_count": 108,
     "metadata": {},
     "output_type": "execute_result"
    }
   ],
   "source": [
    "calc('120cm + 15mm @ mm', e)"
   ]
  },
  {
   "cell_type": "code",
   "execution_count": 109,
   "metadata": {
    "ExecuteTime": {
     "end_time": "2020-07-31T15:41:40.179859Z",
     "start_time": "2020-07-31T15:41:40.166867Z"
    },
    "hidden": true,
    "scrolled": true
   },
   "outputs": [
    {
     "name": "stdout",
     "output_type": "stream",
     "text": [
      "out26: 10000.00\n"
     ]
    },
    {
     "data": {
      "text/plain": [
       "Tensor([Real(10000.00)])"
      ]
     },
     "execution_count": 109,
     "metadata": {},
     "output_type": "execute_result"
    }
   ],
   "source": [
    "calc('1m * 1cm @ mm2', e)"
   ]
  },
  {
   "cell_type": "code",
   "execution_count": 110,
   "metadata": {
    "ExecuteTime": {
     "end_time": "2020-07-31T15:41:40.195860Z",
     "start_time": "2020-07-31T15:41:40.181860Z"
    },
    "hidden": true
   },
   "outputs": [
    {
     "name": "stdout",
     "output_type": "stream",
     "text": [
      "out27: [0.01, 0.02, 0.03]\n"
     ]
    },
    {
     "data": {
      "text/plain": [
       "Tensor([Real(0.01) Real(0.02) Real(0.03)], (3,))"
      ]
     },
     "execution_count": 110,
     "metadata": {},
     "output_type": "execute_result"
    }
   ],
   "source": [
    "calc('[1,2,3]cm', e)"
   ]
  },
  {
   "cell_type": "code",
   "execution_count": 111,
   "metadata": {
    "ExecuteTime": {
     "end_time": "2020-07-31T15:41:40.210885Z",
     "start_time": "2020-07-31T15:41:40.197859Z"
    },
    "hidden": true
   },
   "outputs": [
    {
     "name": "stdout",
     "output_type": "stream",
     "text": [
      "out28: [0.001, 0.01, 1, 1000]\n"
     ]
    },
    {
     "data": {
      "text/plain": [
       "Tensor([Real(0.001) Real(0.01) Real(1) Real(1000)], (4,))"
      ]
     },
     "execution_count": 111,
     "metadata": {},
     "output_type": "execute_result"
    }
   ],
   "source": [
    "calc('[1mm, 1cm, 1m, 1km] @ m', e)"
   ]
  },
  {
   "cell_type": "code",
   "execution_count": 112,
   "metadata": {
    "ExecuteTime": {
     "end_time": "2020-07-31T15:41:40.226859Z",
     "start_time": "2020-07-31T15:41:40.212880Z"
    },
    "hidden": true
   },
   "outputs": [
    {
     "name": "stdout",
     "output_type": "stream",
     "text": [
      "out29: 320.000\n"
     ]
    },
    {
     "data": {
      "text/plain": [
       "Tensor([Real(320.000)])"
      ]
     },
     "execution_count": 112,
     "metadata": {},
     "output_type": "execute_result"
    }
   ],
   "source": [
    "calc('160cm * 50cm * 40cm @ l', e)"
   ]
  },
  {
   "cell_type": "code",
   "execution_count": 113,
   "metadata": {
    "ExecuteTime": {
     "end_time": "2020-07-31T15:41:40.241891Z",
     "start_time": "2020-07-31T15:41:40.228859Z"
    },
    "hidden": true
   },
   "outputs": [
    {
     "name": "stdout",
     "output_type": "stream",
     "text": [
      "out30: \"01h:05m:01s\"\n"
     ]
    },
    {
     "data": {
      "text/plain": [
       "Tensor([String(\"01h:05m:01s\")])"
      ]
     },
     "execution_count": 113,
     "metadata": {},
     "output_type": "execute_result"
    }
   ],
   "source": [
    "calc('1hr + 5min + 1000ms @ time', e)"
   ]
  },
  {
   "cell_type": "code",
   "execution_count": 114,
   "metadata": {
    "ExecuteTime": {
     "end_time": "2020-07-31T15:41:40.256854Z",
     "start_time": "2020-07-31T15:41:40.244900Z"
    },
    "hidden": true
   },
   "outputs": [
    {
     "name": "stdout",
     "output_type": "stream",
     "text": [
      "out31: \"4d 04h:15m:00.001100s\"\n"
     ]
    },
    {
     "data": {
      "text/plain": [
       "Tensor([String(\"4d 04h:15m:00.001100s\")])"
      ]
     },
     "execution_count": 114,
     "metadata": {},
     "output_type": "execute_result"
    }
   ],
   "source": [
    "calc(\"'1d 2:40:0.0001'time + '3d 1:35:0.001'time @ time\", e)"
   ]
  },
  {
   "cell_type": "code",
   "execution_count": 115,
   "metadata": {
    "ExecuteTime": {
     "end_time": "2020-07-31T15:41:40.272854Z",
     "start_time": "2020-07-31T15:41:40.257854Z"
    },
    "hidden": true
   },
   "outputs": [
    {
     "name": "stdout",
     "output_type": "stream",
     "text": [
      "out32: \"04h:45m:00s\"\n"
     ]
    },
    {
     "data": {
      "text/plain": [
       "Tensor([String(\"04h:45m:00s\")])"
      ]
     },
     "execution_count": 115,
     "metadata": {},
     "output_type": "execute_result"
    }
   ],
   "source": [
    "calc(\"'1:35'time * 3 @ time\", e)"
   ]
  },
  {
   "cell_type": "code",
   "execution_count": 116,
   "metadata": {
    "ExecuteTime": {
     "end_time": "2020-07-31T15:41:40.287999Z",
     "start_time": "2020-07-31T15:41:40.274481Z"
    },
    "hidden": true
   },
   "outputs": [
    {
     "name": "stdout",
     "output_type": "stream",
     "text": [
      "out33: \"02h:00m:00s\"\n"
     ]
    },
    {
     "data": {
      "text/plain": [
       "Tensor([String(\"02h:00m:00s\")])"
      ]
     },
     "execution_count": 116,
     "metadata": {},
     "output_type": "execute_result"
    }
   ],
   "source": [
    "calc(\"('10:00'time * 5) mod 24hr @ time\", e)"
   ]
  },
  {
   "cell_type": "code",
   "execution_count": 117,
   "metadata": {
    "ExecuteTime": {
     "end_time": "2020-07-31T15:41:40.302887Z",
     "start_time": "2020-07-31T15:41:40.289005Z"
    },
    "hidden": true,
    "scrolled": false
   },
   "outputs": [
    {
     "name": "stdout",
     "output_type": "stream",
     "text": [
      "out34: \"1d 07h:01m:30s\"\n"
     ]
    },
    {
     "data": {
      "text/plain": [
       "Tensor([String(\"1d 07h:01m:30s\")])"
      ]
     },
     "execution_count": 117,
     "metadata": {},
     "output_type": "execute_result"
    }
   ],
   "source": [
    "calc('\"1h:2m:3s\"time * 30 @ time', e)"
   ]
  },
  {
   "cell_type": "code",
   "execution_count": 118,
   "metadata": {
    "ExecuteTime": {
     "end_time": "2020-07-31T15:41:40.318878Z",
     "start_time": "2020-07-31T15:41:40.304894Z"
    },
    "hidden": true
   },
   "outputs": [
    {
     "name": "stdout",
     "output_type": "stream",
     "text": [
      "out35: 0.05\n"
     ]
    },
    {
     "data": {
      "text/plain": [
       "Tensor([Real(0.05)])"
      ]
     },
     "execution_count": 118,
     "metadata": {},
     "output_type": "execute_result"
    }
   ],
   "source": [
    "calc('x = 5cm @ mm; x', e)"
   ]
  },
  {
   "cell_type": "markdown",
   "metadata": {
    "heading_collapsed": true
   },
   "source": [
    "### Continued Equations"
   ]
  },
  {
   "cell_type": "code",
   "execution_count": 119,
   "metadata": {
    "ExecuteTime": {
     "end_time": "2020-07-31T15:41:40.334893Z",
     "start_time": "2020-07-31T15:41:40.319884Z"
    },
    "hidden": true,
    "scrolled": true
   },
   "outputs": [
    {
     "name": "stdout",
     "output_type": "stream",
     "text": [
      "out36: 81\n",
      "out37: 20.25\n"
     ]
    },
    {
     "data": {
      "text/plain": [
       "Tensor([Real(20.25)])"
      ]
     },
     "execution_count": 119,
     "metadata": {},
     "output_type": "execute_result"
    }
   ],
   "source": [
    "# calc('3 ^ 4', e)\n",
    "# calc(' / 4', e)\n",
    "execute(**read('3 ^ 4', e))\n",
    "execute(**read(' / 4', e))"
   ]
  },
  {
   "cell_type": "code",
   "execution_count": 120,
   "metadata": {
    "ExecuteTime": {
     "end_time": "2020-07-31T15:41:40.350901Z",
     "start_time": "2020-07-31T15:41:40.336862Z"
    },
    "hidden": true,
    "scrolled": true
   },
   "outputs": [
    {
     "name": "stdout",
     "output_type": "stream",
     "text": [
      "out38: 8\n",
      "out39: 40.50\n"
     ]
    },
    {
     "data": {
      "text/plain": [
       "Tensor([Real(40.50)])"
      ]
     },
     "execution_count": 120,
     "metadata": {},
     "output_type": "execute_result"
    }
   ],
   "source": [
    "calc('2 ^ 3', e)\n",
    "calc('out37 * 2', e)"
   ]
  },
  {
   "cell_type": "code",
   "execution_count": 121,
   "metadata": {
    "ExecuteTime": {
     "end_time": "2020-07-31T15:41:40.366900Z",
     "start_time": "2020-07-31T15:41:40.351901Z"
    },
    "hidden": true,
    "scrolled": true
   },
   "outputs": [
    {
     "name": "stdout",
     "output_type": "stream",
     "text": [
      "out40: [1, 2, 3]\n"
     ]
    },
    {
     "data": {
      "text/plain": [
       "Tensor([Real(1) Real(2) Real(3)], (3,))"
      ]
     },
     "execution_count": 121,
     "metadata": {},
     "output_type": "execute_result"
    }
   ],
   "source": [
    "# calc('[1,2', e)\n",
    "context = read('[1,2', e)\n",
    "context = read(',3]', **context)\n",
    "execute(**context)"
   ]
  },
  {
   "cell_type": "code",
   "execution_count": 122,
   "metadata": {
    "ExecuteTime": {
     "end_time": "2020-07-31T15:41:40.382628Z",
     "start_time": "2020-07-31T15:41:40.368901Z"
    },
    "hidden": true
   },
   "outputs": [
    {
     "name": "stdout",
     "output_type": "stream",
     "text": [
      "out41: 3\n"
     ]
    },
    {
     "data": {
      "text/plain": [
       "Tensor([Real(3)])"
      ]
     },
     "execution_count": 122,
     "metadata": {},
     "output_type": "execute_result"
    }
   ],
   "source": [
    "# calc('1 +', e)\n",
    "context = read('1 +', e)\n",
    "context = read(' 2', **context)\n",
    "execute(**context)"
   ]
  },
  {
   "cell_type": "code",
   "execution_count": 123,
   "metadata": {
    "ExecuteTime": {
     "end_time": "2020-07-31T15:41:40.398112Z",
     "start_time": "2020-07-31T15:41:40.384403Z"
    },
    "hidden": true
   },
   "outputs": [
    {
     "name": "stdout",
     "output_type": "stream",
     "text": [
      "out42: [[[1, 2],\n",
      "         [3, 4]],\n",
      "       \n",
      "        [[5, 6],\n",
      "         [7, 8]]]\n"
     ]
    },
    {
     "data": {
      "text/plain": [
       "Tensor([Real(1) Real(2) Real(3) Real(4) Real(5) Real(6) Real(7) Real(8)], (2, 2, 2))"
      ]
     },
     "execution_count": 123,
     "metadata": {},
     "output_type": "execute_result"
    }
   ],
   "source": [
    "context = read('[1,2,,'   , e)\n",
    "context = read(' 3,4,,,'  , **context)\n",
    "context = read(''         , **context)\n",
    "context = read(' 5,6,,'   , **context)\n",
    "context = read(' 7,8]'    , **context)\n",
    "execute(**context)"
   ]
  },
  {
   "cell_type": "code",
   "execution_count": 124,
   "metadata": {
    "ExecuteTime": {
     "end_time": "2020-07-31T15:41:40.413111Z",
     "start_time": "2020-07-31T15:41:40.401111Z"
    },
    "hidden": true
   },
   "outputs": [
    {
     "name": "stdout",
     "output_type": "stream",
     "text": [
      "out43: 18\n"
     ]
    },
    {
     "data": {
      "text/plain": [
       "<__main__.Source at 0x2343ea69400>"
      ]
     },
     "execution_count": 124,
     "metadata": {},
     "output_type": "execute_result"
    }
   ],
   "source": [
    "context = read('    f = x => {  ', e)\n",
    "context = read('\\n    y = 2 * x ', **context)\n",
    "context = read('\\n    x * y     ', **context)\n",
    "context = read('\\n  }; f(3)     ', **context)\n",
    "execute(**context)\n",
    "context['lexer'].source"
   ]
  },
  {
   "cell_type": "code",
   "execution_count": 125,
   "metadata": {
    "ExecuteTime": {
     "end_time": "2020-07-31T15:41:40.428769Z",
     "start_time": "2020-07-31T15:41:40.414871Z"
    },
    "hidden": true
   },
   "outputs": [
    {
     "name": "stdout",
     "output_type": "stream",
     "text": [
      "out44: (8, 4)\n",
      "10:         f(2)\n",
      "            ↑\n"
     ]
    }
   ],
   "source": [
    "context = read(\"\"\"\n",
    "    f = x => {\n",
    "        inc = x => x + 1\n",
    "        y = inc(x)\n",
    "        x^y\n",
    "    }\n",
    "    g = x => x^x\n",
    "    \n",
    "    (\n",
    "        f(2)\n",
    "        g(2)\n",
    "    )\n",
    "\"\"\", e)\n",
    "execute(**context)\n",
    "print(context['lexer'].tokens[40].getSourcePointerString())"
   ]
  },
  {
   "cell_type": "markdown",
   "metadata": {
    "heading_collapsed": true
   },
   "source": [
    "### Post Variable Assignment"
   ]
  },
  {
   "cell_type": "code",
   "execution_count": 126,
   "metadata": {
    "ExecuteTime": {
     "end_time": "2020-07-31T15:41:40.444868Z",
     "start_time": "2020-07-31T15:41:40.430772Z"
    },
    "hidden": true
   },
   "outputs": [
    {
     "name": "stdout",
     "output_type": "stream",
     "text": [
      "out45: 5\n",
      "out46: 81\n",
      "out47: 81\n",
      "out48: 81\n"
     ]
    },
    {
     "data": {
      "text/plain": [
       "Tensor([Real(81)])"
      ]
     },
     "execution_count": 126,
     "metadata": {},
     "output_type": "execute_result"
    }
   ],
   "source": [
    "calc('x = 5', e)\n",
    "calc('3 ^ 4', e)\n",
    "calc('= x', e)\n",
    "calc('x', e)"
   ]
  },
  {
   "cell_type": "markdown",
   "metadata": {
    "heading_collapsed": true
   },
   "source": [
    "### Syntaxt error pointers"
   ]
  },
  {
   "cell_type": "code",
   "execution_count": 127,
   "metadata": {
    "ExecuteTime": {
     "end_time": "2020-07-31T15:41:40.460784Z",
     "start_time": "2020-07-31T15:41:40.446784Z"
    },
    "hidden": true,
    "scrolled": true
   },
   "outputs": [],
   "source": [
    "# calc('123 ** 3', e)"
   ]
  },
  {
   "cell_type": "code",
   "execution_count": 128,
   "metadata": {
    "ExecuteTime": {
     "end_time": "2020-07-31T15:41:40.476396Z",
     "start_time": "2020-07-31T15:41:40.462785Z"
    },
    "hidden": true
   },
   "outputs": [],
   "source": [
    "# calc('(1,2;3)', e)"
   ]
  },
  {
   "cell_type": "code",
   "execution_count": 129,
   "metadata": {
    "ExecuteTime": {
     "end_time": "2020-07-31T15:41:40.492324Z",
     "start_time": "2020-07-31T15:41:40.478403Z"
    },
    "hidden": true
   },
   "outputs": [],
   "source": [
    "# calc('123 / 0', e)"
   ]
  },
  {
   "cell_type": "code",
   "execution_count": 130,
   "metadata": {
    "ExecuteTime": {
     "end_time": "2020-07-31T15:41:40.508081Z",
     "start_time": "2020-07-31T15:41:40.495079Z"
    },
    "hidden": true
   },
   "outputs": [],
   "source": [
    "# calc('non_existing_var', e)"
   ]
  },
  {
   "cell_type": "markdown",
   "metadata": {},
   "source": [
    "### Reuse Code Snipits"
   ]
  },
  {
   "cell_type": "code",
   "execution_count": 131,
   "metadata": {
    "ExecuteTime": {
     "end_time": "2020-07-31T15:41:40.523797Z",
     "start_time": "2020-07-31T15:41:40.510086Z"
    },
    "scrolled": false
   },
   "outputs": [
    {
     "name": "stdout",
     "output_type": "stream",
     "text": [
      "out1: 2\n",
      "out2: 6\n",
      "out3: 5\n",
      "out4: 15\n",
      "out5: 6\n"
     ]
    },
    {
     "data": {
      "text/plain": [
       "Tensor([Real(6)])"
      ]
     },
     "execution_count": 131,
     "metadata": {},
     "output_type": "execute_result"
    }
   ],
   "source": [
    "e = create_base_environment()\n",
    "calc('x = 2', e)\n",
    "calc('x * 3', e)\n",
    "calc('x = 5', e)\n",
    "calc('in2()', e)\n",
    "calc('out2', e)"
   ]
  },
  {
   "cell_type": "code",
   "execution_count": 141,
   "metadata": {
    "ExecuteTime": {
     "end_time": "2020-08-01T02:16:39.431889Z",
     "start_time": "2020-08-01T02:16:39.424850Z"
    }
   },
   "outputs": [
    {
     "name": "stdout",
     "output_type": "stream",
     "text": [
      "out1: 3\n",
      "out2: 3\n",
      "out3: 3\n"
     ]
    },
    {
     "data": {
      "text/plain": [
       "Tensor([Real(3)])"
      ]
     },
     "execution_count": 141,
     "metadata": {},
     "output_type": "execute_result"
    }
   ],
   "source": [
    "e = create_base_environment()\n",
    "calc('-3 ? abs', e)\n",
    "calc('abs(-3)', e)\n",
    "calc('|-3|', e)"
   ]
  },
  {
   "cell_type": "code",
   "execution_count": 138,
   "metadata": {
    "ExecuteTime": {
     "end_time": "2020-07-31T15:43:31.828314Z",
     "start_time": "2020-07-31T15:43:31.815237Z"
    }
   },
   "outputs": [
    {
     "name": "stdout",
     "output_type": "stream",
     "text": [
      "out2: 2\n",
      "out3: 2\n",
      "out4: 1\n",
      "out5: 1\n",
      "out6: 2\n"
     ]
    },
    {
     "data": {
      "text/plain": [
       "Tensor([Real(2)])"
      ]
     },
     "execution_count": 138,
     "metadata": {},
     "output_type": "execute_result"
    }
   ],
   "source": [
    "calc('round(1.73)', e)\n",
    "calc('1.73 ? round', e)\n",
    "calc('1.23 ? round', e)\n",
    "calc('1.23 ? floor', e)\n",
    "calc('1.23 ? ceil', e)"
   ]
  },
  {
   "cell_type": "code",
   "execution_count": null,
   "metadata": {},
   "outputs": [],
   "source": []
  }
 ],
 "metadata": {
  "kernelspec": {
   "display_name": "Python 3",
   "language": "python",
   "name": "python3"
  },
  "language_info": {
   "codemirror_mode": {
    "name": "ipython",
    "version": 3
   },
   "file_extension": ".py",
   "mimetype": "text/x-python",
   "name": "python",
   "nbconvert_exporter": "python",
   "pygments_lexer": "ipython3",
   "version": "3.6.8"
  },
  "varInspector": {
   "cols": {
    "lenName": 16,
    "lenType": 16,
    "lenVar": 40
   },
   "kernels_config": {
    "python": {
     "delete_cmd_postfix": "",
     "delete_cmd_prefix": "del ",
     "library": "var_list.py",
     "varRefreshCmd": "print(var_dic_list())"
    },
    "r": {
     "delete_cmd_postfix": ") ",
     "delete_cmd_prefix": "rm(",
     "library": "var_list.r",
     "varRefreshCmd": "cat(var_dic_list()) "
    }
   },
   "oldHeight": 275,
   "position": {
    "height": "297px",
    "left": "1537px",
    "right": "20px",
    "top": "119px",
    "width": "363px"
   },
   "types_to_exclude": [
    "module",
    "function",
    "builtin_function_or_method",
    "instance",
    "_Feature"
   ],
   "varInspector_section_display": "block",
   "window_display": true
  }
 },
 "nbformat": 4,
 "nbformat_minor": 2
}
