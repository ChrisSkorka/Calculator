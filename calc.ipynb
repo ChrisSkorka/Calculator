{
 "cells": [
  {
   "cell_type": "markdown",
   "metadata": {
    "heading_collapsed": true
   },
   "source": [
    "# Imports"
   ]
  },
  {
   "cell_type": "code",
   "execution_count": 1,
   "metadata": {
    "ExecuteTime": {
     "end_time": "2020-09-09T13:28:59.732706Z",
     "start_time": "2020-09-09T13:28:59.579791Z"
    },
    "hidden": true
   },
   "outputs": [],
   "source": [
    "import math, pyperclip, os, re, decimal\n",
    "from decimal import Decimal\n",
    "import numpy as np\n",
    "from functools import reduce\n",
    "from itertools import product\n",
    "from datetime import datetime, date, time"
   ]
  },
  {
   "cell_type": "markdown",
   "metadata": {
    "heading_collapsed": true
   },
   "source": [
    "# Docs"
   ]
  },
  {
   "cell_type": "code",
   "execution_count": 2,
   "metadata": {
    "ExecuteTime": {
     "end_time": "2020-09-09T13:28:59.748706Z",
     "start_time": "2020-09-09T13:28:59.734707Z"
    },
    "hidden": true
   },
   "outputs": [],
   "source": [
    "\"\"\"\n",
    "Data types: Real, Complex, Int, Boolean, String, Undefined\n",
    "Data structures: Scalar, Vector, Matrix, ...\n",
    "Variables: v\n",
    "Functions: fun\n",
    "Named operators: v operation u\n",
    "Conversion specifier: 45deg\n",
    "Data properties: object.property\n",
    "Oppertation: Numeric, Sets, Comparison \n",
    "\n",
    "Data Structures\n",
    "Tensor: [a, b,, c, d,,, ...]\n",
    "List: (a, b, c, ...)\n",
    "Function Body: {expression}\n",
    "\n",
    "Implicit Operations\n",
    "2(expression)      *\n",
    "(expression)2      *\n",
    "var(expression)    *\n",
    "fun(parameters)    call\n",
    "\n",
    "Named operators\n",
    "on two values: v operation u\n",
    "on one value: v.operation\n",
    "\n",
    "Input and Output conversion\n",
    "1m + 12cm @ cm\n",
    "2hr + 45min + 1hr + 30min @ datetime\n",
    "0b1100 * 0xFF @ dec\n",
    "\n",
    "Basic Operations:\n",
    "Standard:       | Bitwise: int&bool | Comparison:           | \n",
    "+           add | ~             not | ==             equals | \n",
    "-      subtract | &&            and | !=          not equal | \n",
    "*      multiply | ||             or | <           less than | \n",
    "/        divide | <xor>         xor | >        greater then | \n",
    "//      int div | <<     left shift | <=      less or equal | \n",
    "%       modulus | >>    right shift | >=   greater or equal | \n",
    "^         power |                   |                       | \n",
    "!     factorial |                   |                       | \n",
    "|val|  absolute |                   |                       | \n",
    "=    assignment |                   |                       | \n",
    "\n",
    "Ternary Operators\n",
    "= =                return values = function = body\n",
    "a < x < b          between\n",
    "a if cond else b   \n",
    "\n",
    "Higher Ranking Data Structure Operations:\n",
    "Vector:                 | Matrix:                          | Reductions:\n",
    "<dot>       dot product | <matmul>   matrix multiplication | <all>\n",
    "<cross>   cross product | |mat|                            | <any>\n",
    "|vec|            length | .T              transpose matrix | <\n",
    ".length          length | \n",
    ".angle            angle | \n",
    "\n",
    "\n",
    "\n",
    "1 + sqrt 4\n",
    "1 + sqrt x\n",
    "1 + $4\n",
    "1 + 3 root 8\n",
    "1 + b root x\n",
    "1 + b $ x\n",
    "\n",
    "10 nPr 2\n",
    "n nPr r\n",
    "10 nCr 2\n",
    "n nCr r\n",
    "\n",
    "[1, 2,, 3, 4] # [5, 6,, 7, 8]\n",
    "[1, 2,, 3, 4].T\n",
    "mat1.T\n",
    "\n",
    "5*x\n",
    "\n",
    "sin 30deg\n",
    "sin pi\n",
    "sin2 pi\n",
    "sini 0.5\n",
    "\n",
    "Function definitions\n",
    "fun = x => x^2               single value output\n",
    "fun = x => [x, x*2, x^2]     tensor outputs\n",
    "fun = x => (x, x*2, x^2)     multiple outputs\n",
    "fun = x => {                 piecewise function\n",
    "    0,   if x < 0 ; \n",
    "    x^2, if 0 <= x <= 1 ; \n",
    "    x,   else\n",
    "}\n",
    "fun(x) = {                  piecewise function\n",
    "    0   if x < 0\n",
    "    x^2 if 0 <= x <= 1\n",
    "    x   else\n",
    "}\n",
    "\n",
    "fun(x,y,z) = {\n",
    "    a = x+2\n",
    "    b = y*2\n",
    "    c = z^2\n",
    "    (a,b,c)\n",
    "}\n",
    "\n",
    "if x < 0 {\n",
    "    x = 0\n",
    "}\n",
    "\n",
    "for i = 0:10{\n",
    "    x += i\n",
    "}\n",
    "\n",
    "while x < 0 {\n",
    "    x += 1\n",
    "}\n",
    "\n",
    "5(m/s^2) / 3(m/s)\n",
    "8(L/100km)\n",
    "\n",
    "Statistical Operations:\n",
    "\"\"\"\n",
    "None"
   ]
  },
  {
   "cell_type": "code",
   "execution_count": 3,
   "metadata": {
    "ExecuteTime": {
     "end_time": "2020-09-09T13:28:59.764705Z",
     "start_time": "2020-09-09T13:28:59.750707Z"
    },
    "hidden": true
   },
   "outputs": [],
   "source": [
    "\"\"\"\n",
    "Conversion specifiers\n",
    "\n",
    "Time:\n",
    "    Seconds: s, ms, µs, ns, ps, \n",
    "        fs, as, zs, ys, ks, Ms, Gs, Ts, Ps, Es, Zs, Ys\n",
    "    Other: min, hr, D, W, M, Y, am, pm\n",
    "    \n",
    "Distance:\n",
    "    Metric: m, dm, cm, mm, µm, nm, pm, km, \n",
    "        fm, am, zm, ym, Mm, Gm, Tm, Pm, Em, Zm, Ym\n",
    "    Imperial: th, in, ft, yd, mi\n",
    "    Other: nmi\n",
    "\n",
    "Mass: \n",
    "    Metrix: mg, µg, ng, pg, kg, Mg, tonne\n",
    "        dg, cg, fg, ag, zg, yg, dag, hg, Mg, Gg, Tg, Pg, Eg, Zg, Yg\n",
    "    Imperial: oz, lb, ton\n",
    "    Other: mol\n",
    "    \n",
    "Temparature: K, C, F, R\n",
    "\n",
    "Luminosity: cd, lx\n",
    "\n",
    "Force: N, kN, lbf, pdl\n",
    "\n",
    "\"\"\"\n",
    "None"
   ]
  },
  {
   "cell_type": "markdown",
   "metadata": {},
   "source": [
    "# Classes"
   ]
  },
  {
   "cell_type": "markdown",
   "metadata": {
    "heading_collapsed": true
   },
   "source": [
    "## Exceptions"
   ]
  },
  {
   "cell_type": "markdown",
   "metadata": {
    "heading_collapsed": true,
    "hidden": true
   },
   "source": [
    "### TokenNotAllowedException"
   ]
  },
  {
   "cell_type": "code",
   "execution_count": 4,
   "metadata": {
    "ExecuteTime": {
     "end_time": "2020-09-09T13:28:59.780704Z",
     "start_time": "2020-09-09T13:28:59.766706Z"
    },
    "hidden": true
   },
   "outputs": [],
   "source": [
    "class TokenNotAllowedException(Exception):\n",
    "    def __init__(self, source, ln=None, offset=None):\n",
    "        if ln == None and offset == None:\n",
    "            ln = source.ln\n",
    "            offset = source.offset\n",
    "            source = source.source\n",
    "            \n",
    "        message = f\"\\n{source.getSourcePointerString(ln, offset)}\"\n",
    "        \n",
    "        super().__init__(message)"
   ]
  },
  {
   "cell_type": "markdown",
   "metadata": {
    "heading_collapsed": true,
    "hidden": true
   },
   "source": [
    "### VariableNotDefined"
   ]
  },
  {
   "cell_type": "code",
   "execution_count": 5,
   "metadata": {
    "ExecuteTime": {
     "end_time": "2020-09-09T13:28:59.796704Z",
     "start_time": "2020-09-09T13:28:59.781705Z"
    },
    "hidden": true
   },
   "outputs": [],
   "source": [
    "class VariableNotDefined(Exception):\n",
    "    def __init__(self, name):\n",
    "        super().__init__(f\"'{name}'\")"
   ]
  },
  {
   "cell_type": "markdown",
   "metadata": {
    "heading_collapsed": true,
    "hidden": true
   },
   "source": [
    "### NotImplementedException"
   ]
  },
  {
   "cell_type": "code",
   "execution_count": 6,
   "metadata": {
    "ExecuteTime": {
     "end_time": "2020-09-09T13:28:59.811704Z",
     "start_time": "2020-09-09T13:28:59.797705Z"
    },
    "hidden": true
   },
   "outputs": [],
   "source": [
    "class NotImplementedException(Exception):\n",
    "    pass"
   ]
  },
  {
   "cell_type": "markdown",
   "metadata": {
    "heading_collapsed": true
   },
   "source": [
    "## Token Matching"
   ]
  },
  {
   "cell_type": "markdown",
   "metadata": {
    "heading_collapsed": true,
    "hidden": true
   },
   "source": [
    "### TokenOperandDefinition"
   ]
  },
  {
   "cell_type": "code",
   "execution_count": 7,
   "metadata": {
    "ExecuteTime": {
     "end_time": "2020-09-09T13:28:59.827705Z",
     "start_time": "2020-09-09T13:28:59.812705Z"
    },
    "hidden": true
   },
   "outputs": [],
   "source": [
    "class TokenOperandDefinition():\n",
    "    \"\"\"Defines an operand token that can be matched with using a string search\"\"\"\n",
    "    \n",
    "    def __init__(self, token, precedence):\n",
    "        \"\"\"Arguments:\n",
    "            str   token:       string that identifies the operand\n",
    "            float precedence:  precedence in order of operations (higher is executed first)\n",
    "        \"\"\"\n",
    "        \n",
    "        self.token = token\n",
    "        self.precedence = float(precedence)\n",
    "        \n",
    "    def __repr__(self):\n",
    "        return str(self)\n",
    "        \n",
    "    def __str__(self):\n",
    "        return f'TokenOperandDefinition({self.token}, {self.precedence})'"
   ]
  },
  {
   "cell_type": "markdown",
   "metadata": {
    "heading_collapsed": true,
    "hidden": true
   },
   "source": [
    "### TokenGroupDefinition"
   ]
  },
  {
   "cell_type": "code",
   "execution_count": 8,
   "metadata": {
    "ExecuteTime": {
     "end_time": "2020-09-09T13:28:59.843732Z",
     "start_time": "2020-09-09T13:28:59.829707Z"
    },
    "hidden": true
   },
   "outputs": [],
   "source": [
    "class TokenGroupDefinition():\n",
    "    \"\"\"Defines an grouping token pair that can be matched with using a string search\"\"\"\n",
    "    \n",
    "    def __init__(self, open_token, close_token, seperators, ignore_missing, function):\n",
    "        \"\"\"Arguments:\n",
    "            str      open_token:          string that identifies the opening token\n",
    "            str      close_token:         string that identifies the closing token (can be the same as open_token)\n",
    "            dict(str: depth) seperators:  allowed seperators and their seperating depth\n",
    "            function function:            the function to convert the list of items into an in environment object\n",
    "        \"\"\"\n",
    "        \n",
    "        self.open_token = open_token\n",
    "        self.close_token = close_token\n",
    "        self.seperators = seperators\n",
    "        self.ignore_missing = ignore_missing\n",
    "        \n",
    "        self.function = function\n",
    "        \n",
    "    def __repr__(self):\n",
    "        return str(self)\n",
    "        \n",
    "    def __str__(self):\n",
    "        return f'TokenGroupDefinition({self.open_token}, {self.close_token})'"
   ]
  },
  {
   "cell_type": "markdown",
   "metadata": {
    "heading_collapsed": true,
    "hidden": true
   },
   "source": [
    "### TokenNewItemDefinition"
   ]
  },
  {
   "cell_type": "code",
   "execution_count": 9,
   "metadata": {
    "ExecuteTime": {
     "end_time": "2020-09-09T13:28:59.859733Z",
     "start_time": "2020-09-09T13:28:59.845734Z"
    },
    "hidden": true
   },
   "outputs": [],
   "source": [
    "class TokenNewItemDefinition():\n",
    "    \"\"\"Defines an item seperation token that can be matched with using a string search\"\"\"\n",
    "    \n",
    "    def __init__(self, token):\n",
    "        \"\"\"Arguments:\n",
    "            str token:  string that identifies the seperator\n",
    "        \"\"\"\n",
    "        \n",
    "        self.token = token\n",
    "        \n",
    "    def __repr__(self):\n",
    "        return str(self)\n",
    "        \n",
    "    def __str__(self):\n",
    "        return f'TokenNewItemDefinition({self.token}, {self.levels})'"
   ]
  },
  {
   "cell_type": "markdown",
   "metadata": {
    "heading_collapsed": true,
    "hidden": true
   },
   "source": [
    "### Source"
   ]
  },
  {
   "cell_type": "code",
   "execution_count": 10,
   "metadata": {
    "ExecuteTime": {
     "end_time": "2020-09-09T13:28:59.875630Z",
     "start_time": "2020-09-09T13:28:59.860732Z"
    },
    "hidden": true
   },
   "outputs": [],
   "source": [
    "class Source:\n",
    "    \n",
    "    def __init__(self, string=''):\n",
    "        self.string = string\n",
    "        self.lines = []\n",
    "        \n",
    "    def set(self, string):\n",
    "        self.string = string\n",
    "        self.lines = string.splitlines(True)\n",
    "        \n",
    "    def getSourcePointerString(self, ln, offset):\n",
    "        ln_number_string = str(ln+1)\n",
    "        line = f'{ln_number_string}: {self.lines[ln]}'\n",
    "        pointer = ' ' * (len(ln_number_string) + 2 + offset) + '↑'\n",
    "        sep = '' if '\\n' in line[-2:] else '\\n'\n",
    "        \n",
    "        return line + sep + pointer"
   ]
  },
  {
   "cell_type": "markdown",
   "metadata": {
    "heading_collapsed": true,
    "hidden": true
   },
   "source": [
    "### Token"
   ]
  },
  {
   "cell_type": "code",
   "execution_count": 11,
   "metadata": {
    "ExecuteTime": {
     "end_time": "2020-09-09T13:28:59.891683Z",
     "start_time": "2020-09-09T13:28:59.877634Z"
    },
    "hidden": true
   },
   "outputs": [],
   "source": [
    "class Token:\n",
    "    \n",
    "    def __init__(self, token_type, string, ln, offset, source):\n",
    "        self.token_type = token_type\n",
    "        self.string     = string\n",
    "        self.ln         = ln\n",
    "        self.offset     = offset\n",
    "        self.source     = source\n",
    "        \n",
    "    def getSourcePointerString(self):\n",
    "        return self.source.getSourcePointerString(self.ln, self.offset)"
   ]
  },
  {
   "cell_type": "markdown",
   "metadata": {
    "heading_collapsed": true
   },
   "source": [
    "## Token Tree Nodes"
   ]
  },
  {
   "cell_type": "markdown",
   "metadata": {
    "heading_collapsed": true,
    "hidden": true
   },
   "source": [
    "### Abstract NodeToken"
   ]
  },
  {
   "cell_type": "code",
   "execution_count": 12,
   "metadata": {
    "ExecuteTime": {
     "end_time": "2020-09-09T13:28:59.907598Z",
     "start_time": "2020-09-09T13:28:59.893654Z"
    },
    "hidden": true
   },
   "outputs": [],
   "source": [
    "class NodeToken():\n",
    "    \"\"\"represents a value, operation or grouping node that returns an evaluabe that can be evaluated to return a value\"\"\"\n",
    "    \n",
    "    def is_complete(self):\n",
    "        \"\"\"Returns whether this token is complete, if false, it is not a valud token and interpreting failed\"\"\"\n",
    "        \n",
    "        raise NotImplementedException('NodeToken.is_complete()')\n",
    "        \n",
    "    def set_left(self, node):\n",
    "        \"\"\"sets the left child node if it exists\"\"\"\n",
    "        \n",
    "        raise NotImplementedException('NodeToken.set_left(node)')\n",
    "\n",
    "    def set_right(self, node):\n",
    "        \"\"\"sets the right child node if it exists\"\"\"\n",
    "        \n",
    "        raise NotImplementedException('NodeToken.set_right(node)')\n",
    "        \n",
    "    def get_right(self):\n",
    "        \"\"\"segetsts the right child node if it exists\"\"\"\n",
    "        \n",
    "        raise NotImplementedException('NodeToken.get_right()')\n",
    "        \n",
    "    def get_evaluable(self):\n",
    "        \"\"\"return an Evaluable obejct from this token, the token should be complete before this method is called\"\"\"\n",
    "        \n",
    "        raise NotImplementedException('NodeToken.get_evaluable()')"
   ]
  },
  {
   "cell_type": "markdown",
   "metadata": {
    "heading_collapsed": true,
    "hidden": true
   },
   "source": [
    "### NodeBinary"
   ]
  },
  {
   "cell_type": "code",
   "execution_count": 13,
   "metadata": {
    "ExecuteTime": {
     "end_time": "2020-09-09T13:28:59.923678Z",
     "start_time": "2020-09-09T13:28:59.908598Z"
    },
    "hidden": true
   },
   "outputs": [],
   "source": [
    "class NodeBinary(NodeToken):\n",
    "    \"\"\"represents a binary operation with a left and right child\"\"\"\n",
    "    \n",
    "    def __init__(self, operation_definition, parent=None):\n",
    "        self.parent = parent\n",
    "        self.operation_definition = operation_definition\n",
    "        self.precedence = operation_definition.precedence\n",
    "        self.left = None\n",
    "        self.right = None\n",
    "    \n",
    "    def is_complete(self):\n",
    "        return self.left != None and self.right != None and self.left.is_complete() and self.right.is_complete()\n",
    "        \n",
    "    def set_left(self, node):\n",
    "        \"\"\"sets left child\"\"\"\n",
    "        \n",
    "        self.left = node\n",
    "        node.parent = self\n",
    "\n",
    "    def set_right(self, node):\n",
    "        \"\"\"sets right child\"\"\"\n",
    "        \n",
    "        self.right = node\n",
    "        node.parent = self\n",
    "        \n",
    "    def get_right(self):\n",
    "        \"\"\"returns right child\"\"\"\n",
    "        \n",
    "        return self.right\n",
    "    \n",
    "    def get_evaluable(self):\n",
    "        \"\"\"returns Evaluable that computes a result from both child tokens\"\"\"\n",
    "        \n",
    "        return VariableFunction('<binary_operation>'+self.operation_definition.token, (self.left.get_evaluable(), self.right.get_evaluable()))\n",
    "    \n",
    "    def __repr__(self):\n",
    "        return str(self)\n",
    "    \n",
    "    def __str__(self):\n",
    "        return f'NodeBinary({self.operation_definition}, left={self.left}, right={self.right})'"
   ]
  },
  {
   "cell_type": "markdown",
   "metadata": {
    "heading_collapsed": true,
    "hidden": true
   },
   "source": [
    "### NodeUnaryLeft"
   ]
  },
  {
   "cell_type": "code",
   "execution_count": 14,
   "metadata": {
    "ExecuteTime": {
     "end_time": "2020-09-09T13:28:59.939618Z",
     "start_time": "2020-09-09T13:28:59.925679Z"
    },
    "hidden": true
   },
   "outputs": [],
   "source": [
    "class NodeUnaryLeft(NodeToken):\n",
    "    \"\"\"represents a unary operator to the left of its operand with a single child\"\"\"\n",
    "    \n",
    "    def __init__(self, operation_definition, parent=None):\n",
    "        self.parent = parent\n",
    "        self.operation_definition = operation_definition\n",
    "        self.precedence = operation_definition.precedence\n",
    "        self.child = None\n",
    "    \n",
    "    def is_complete(self):\n",
    "        return self.child != None and self.child.is_complete()\n",
    "        \n",
    "    def set_left(self, node):\n",
    "        \"\"\"sets single child\"\"\"\n",
    "        \n",
    "        self.child = node\n",
    "        node.parent = self\n",
    "\n",
    "    def set_right(self, node):\n",
    "        \"\"\"sets single child\"\"\"\n",
    "        \n",
    "        self.child = node\n",
    "        node.parent = self\n",
    "        \n",
    "    def get_right(self):\n",
    "        \"\"\"gets single child\"\"\"\n",
    "        \n",
    "        return self.child\n",
    "    \n",
    "    def get_evaluable(self):\n",
    "        \"\"\"returns Evaluable that computes a result from the child token\"\"\"\n",
    "        \n",
    "        return VariableFunction('<left_unary_operation>'+self.operation_definition.token, (self.child.get_evaluable(), ))\n",
    "    \n",
    "    def __repr__(self):\n",
    "        return str(self)\n",
    "    \n",
    "    def __str__(self):\n",
    "        return f'NodeUnaryLeft({self.operation_definition}, child={self.child})'"
   ]
  },
  {
   "cell_type": "markdown",
   "metadata": {
    "heading_collapsed": true,
    "hidden": true
   },
   "source": [
    "### NodeUnaryRight"
   ]
  },
  {
   "cell_type": "code",
   "execution_count": 15,
   "metadata": {
    "ExecuteTime": {
     "end_time": "2020-09-09T13:28:59.955671Z",
     "start_time": "2020-09-09T13:28:59.941619Z"
    },
    "hidden": true
   },
   "outputs": [],
   "source": [
    "class NodeUnaryRight(NodeToken):\n",
    "    \"\"\"represents a unary operator to the right of its operand with a single child\"\"\"\n",
    "    \n",
    "    def __init__(self, operation_definition, parent=None):\n",
    "        self.parent = parent\n",
    "        self.operation_definition = operation_definition\n",
    "        self.precedence = operation_definition.precedence\n",
    "        self.child = None\n",
    "    \n",
    "    def is_complete(self):\n",
    "        return self.child != None and self.child.is_complete()\n",
    "        \n",
    "    def set_left(self, node):\n",
    "        \"\"\"sets single child\"\"\"\n",
    "        \n",
    "        self.child = node\n",
    "        node.parent = self\n",
    "\n",
    "    def set_right(self, node):\n",
    "        \"\"\"sets single child\"\"\"\n",
    "        \n",
    "        self.child = node\n",
    "        node.parent = self\n",
    "        \n",
    "    def get_right(self):\n",
    "        \"\"\"gets single child\"\"\"\n",
    "        \n",
    "        return self.child\n",
    "    \n",
    "    def get_evaluable(self):\n",
    "        \"\"\"returns Evaluable that computes a result from the child token\"\"\"\n",
    "        \n",
    "        return VariableFunction('<right_unary_operation>'+self.operation_definition.token, (self.child.get_evaluable(), ))\n",
    "    \n",
    "    def __repr__(self):\n",
    "        return str(self)\n",
    "    \n",
    "    def __str__(self):\n",
    "        return f'NodeUnaryRight({self.operation_definition}, child={self.child})'"
   ]
  },
  {
   "cell_type": "markdown",
   "metadata": {
    "heading_collapsed": true,
    "hidden": true
   },
   "source": [
    "### NodeGroup"
   ]
  },
  {
   "cell_type": "code",
   "execution_count": 16,
   "metadata": {
    "ExecuteTime": {
     "end_time": "2020-09-09T13:28:59.971687Z",
     "start_time": "2020-09-09T13:28:59.957672Z"
    },
    "hidden": true
   },
   "outputs": [],
   "source": [
    "class NodeGroup(NodeToken):\n",
    "    \"\"\"represents a grouping\"\"\"\n",
    "    \n",
    "    def __init__(self, group_definition, parent=None):\n",
    "        self.parent = parent\n",
    "        self.children = []\n",
    "        \n",
    "        self.group_definition = group_definition\n",
    "        self.complete = False\n",
    "        \n",
    "        self.shape = {}\n",
    "        self.sep_count = 0\n",
    "    \n",
    "    def is_complete(self, test_self=False):\n",
    "        complete = test_self or self.complete\n",
    "        complete &= all(c.is_complete() for c in self.children)\n",
    "        return complete\n",
    "\n",
    "    def close(self):\n",
    "        self.sep_count = 0\n",
    "        self.complete = True\n",
    "        \n",
    "        expected_size = 1\n",
    "        for d,s in self.shape.items(): expected_size *= s\n",
    "        \n",
    "        if not self.group_definition.ignore_missing:\n",
    "            assert len(self.children) == expected_size, f'Inconsistent dimensions shape={self.shape}, expected={expected_size}, actual={len(self.children)}'\n",
    "    \n",
    "    def set_right(self, node):\n",
    "        self.children[-1] = node\n",
    "        node.parent = self\n",
    "        \n",
    "    def get_right(self):\n",
    "        return self.children[-1]\n",
    "\n",
    "    def add(self, node):\n",
    "        self.children.append(node)\n",
    "        node.parent = self\n",
    "        \n",
    "        if len(self.shape) > 0 and self.sep_count >= len(self.shape):\n",
    "            for i in range(len(self.shape), self.sep_count+1):\n",
    "                self.shape[i-1] = self.shape.get(i-1, 1)\n",
    "            self.shape[self.sep_count-1] += 1\n",
    "            \n",
    "        self.sep_count = 0\n",
    "        \n",
    "    def increase(self, depth=1):\n",
    "        self.sep_count += depth\n",
    "        \n",
    "        if len(self.shape) == 0:\n",
    "            self.shape[0] = 1\n",
    "        \n",
    "        # ensure minumum number of dimensions exists\n",
    "        for i in range(len(self.shape), self.sep_count+1):\n",
    "            self.shape[i-1] = self.shape.get(i-1, 1)\n",
    "    \n",
    "    def get_shape(self):\n",
    "        shape = list(self.shape.items())\n",
    "        shape.sort(key=lambda x:x[0], reverse=True)\n",
    "        shape = tuple(s for d,s in shape)\n",
    "        return shape\n",
    "    \n",
    "    def get_children(self):\n",
    "        return self.children\n",
    "    \n",
    "    def get_evaluable(self):\n",
    "        \n",
    "        evaluables = [v.get_evaluable() for v in self.children]\n",
    "        \n",
    "        return VariableTensor(evaluables, self.get_shape(), self.group_definition.function)\n",
    "    \n",
    "    def __repr__(self):\n",
    "        return str(self)\n",
    "    \n",
    "    def __str__(self):\n",
    "        return f'NodeGroup({self.group_definition}, children={self.children})'"
   ]
  },
  {
   "cell_type": "markdown",
   "metadata": {
    "heading_collapsed": true,
    "hidden": true
   },
   "source": [
    "### NodeValue"
   ]
  },
  {
   "cell_type": "code",
   "execution_count": 17,
   "metadata": {
    "ExecuteTime": {
     "end_time": "2020-09-09T13:28:59.986812Z",
     "start_time": "2020-09-09T13:28:59.973684Z"
    },
    "hidden": true
   },
   "outputs": [],
   "source": [
    "class NodeValue(NodeToken):\n",
    "    \"\"\"represents a value\"\"\"\n",
    "    \n",
    "    def __init__(self, value, value_type, parent=None):\n",
    "        self.parent = parent\n",
    "        self.value = value\n",
    "        self.value_type = value_type\n",
    "    \n",
    "    def is_complete(self):\n",
    "        return True\n",
    "    \n",
    "    def get_evaluable(self):\n",
    "        \"\"\"returns the approriate Evaluable for the tyoe of value this node holds\"\"\"\n",
    "\n",
    "        value = None\n",
    "        if self.value_type == TOKEN_TYPE_STRING:\n",
    "            trimmed_string = self.value.strip(self.value[0])\n",
    "            value = String(trimmed_string)\n",
    "            value = VariableTensor([value], ())\n",
    "            \n",
    "        if self.value_type == TOKEN_TYPE_INTEGER:\n",
    "            value = Integer(self.value)\n",
    "            value = VariableTensor([value], ())\n",
    "            \n",
    "        if self.value_type == TOKEN_TYPE_NUMBER:\n",
    "            value = Real(self.value)\n",
    "            value = VariableTensor([value], ())\n",
    "            \n",
    "        if self.value_type == TOKEN_TYPE_LITERAL:\n",
    "            value = Variable(self.value)\n",
    "        \n",
    "        return value\n",
    "    \n",
    "    def __repr__(self):\n",
    "        return str(self)\n",
    "    \n",
    "    def __str__(self):\n",
    "        return f'NodeValue({self.value}, {self.value_type})'"
   ]
  },
  {
   "cell_type": "markdown",
   "metadata": {
    "heading_collapsed": true
   },
   "source": [
    "## Evaluable Tree Nodes"
   ]
  },
  {
   "cell_type": "markdown",
   "metadata": {
    "heading_collapsed": true,
    "hidden": true
   },
   "source": [
    "### Abstract Evaluable"
   ]
  },
  {
   "cell_type": "code",
   "execution_count": 18,
   "metadata": {
    "ExecuteTime": {
     "end_time": "2020-09-09T13:29:00.002825Z",
     "start_time": "2020-09-09T13:28:59.988816Z"
    },
    "hidden": true
   },
   "outputs": [],
   "source": [
    "class Evaluable():\n",
    "    \"\"\"represents a node that can be evaluated\"\"\"\n",
    "    \n",
    "    def eval(self, environment, **kwargs):\n",
    "        \"\"\"performs the final evaluation returning an in environment value\n",
    "        \n",
    "        Arguments:\n",
    "            Environment environment:  holds the current environment variables\n",
    "                           **kwargs:  any arguments the Evaluable requires to evaluate\n",
    "        \"\"\"\n",
    "        \n",
    "        raise NotImplementedException('Evaluable.eval(environment)')"
   ]
  },
  {
   "cell_type": "markdown",
   "metadata": {
    "heading_collapsed": true,
    "hidden": true
   },
   "source": [
    "### VariableFunction"
   ]
  },
  {
   "cell_type": "code",
   "execution_count": 19,
   "metadata": {
    "ExecuteTime": {
     "end_time": "2020-09-09T13:29:00.018123Z",
     "start_time": "2020-09-09T13:29:00.004828Z"
    },
    "hidden": true
   },
   "outputs": [],
   "source": [
    "class VariableFunction(Evaluable):\n",
    "    \n",
    "    def __init__(self, name, parameters):\n",
    "        \n",
    "        self.dtype = Evaluable\n",
    "        self.name = name\n",
    "        self.parameters = parameters\n",
    "        if isinstance(parameters, VariableTensor):\n",
    "            self.parameters = parameters.data\n",
    "    \n",
    "    def eval(self, environment, evaluable=False, **kwargs):\n",
    "        \n",
    "        if evaluable:\n",
    "            return self\n",
    "        \n",
    "        assert self.name in environment, f'Function {self.name} not found'\n",
    "        assert type(environment[self.name]) == FunctionSet, f'{self.name} is not a function'\n",
    "        \n",
    "        return environment[self.name].eval(environment, self.parameters, **kwargs)\n",
    "    \n",
    "    def __repr__(self):\n",
    "        return str(self)\n",
    "    \n",
    "    def __str__(self):\n",
    "        return f'VariableFunction_{self.name}({self.parameters})'"
   ]
  },
  {
   "cell_type": "markdown",
   "metadata": {
    "heading_collapsed": true,
    "hidden": true
   },
   "source": [
    "### Variable"
   ]
  },
  {
   "cell_type": "code",
   "execution_count": 20,
   "metadata": {
    "ExecuteTime": {
     "end_time": "2020-09-09T13:29:00.033320Z",
     "start_time": "2020-09-09T13:29:00.020124Z"
    },
    "hidden": true
   },
   "outputs": [],
   "source": [
    "class Variable(Evaluable):\n",
    "    \n",
    "    def __init__(self, name):\n",
    "        \n",
    "        self.dtype = Evaluable\n",
    "        self.name = name\n",
    "    \n",
    "    def eval(self, environment, references=False, evaluable=False, prefix=None, **kwargs):\n",
    "        \n",
    "        prefix = '' if prefix == None else f'<{prefix}>'\n",
    "        lookup_name = prefix + self.name\n",
    "        \n",
    "        if references:\n",
    "            return Tensor(Reference(lookup_name), ())\n",
    "        \n",
    "        if evaluable:\n",
    "            return self\n",
    "        \n",
    "        if lookup_name not in environment:\n",
    "            raise VariableNotDefined(lookup_name)\n",
    "        \n",
    "        value = environment[lookup_name]\n",
    "        \n",
    "        if type(value) == Evaluable:\n",
    "            value = value.eval(environment)\n",
    "        \n",
    "        return value\n",
    "    \n",
    "    def __repr__(self):\n",
    "        return str(self)\n",
    "    \n",
    "    def __str__(self):\n",
    "        return f\"Variable({self.name})\""
   ]
  },
  {
   "cell_type": "markdown",
   "metadata": {
    "heading_collapsed": true,
    "hidden": true
   },
   "source": [
    "### VariableTensor"
   ]
  },
  {
   "cell_type": "code",
   "execution_count": 21,
   "metadata": {
    "ExecuteTime": {
     "end_time": "2020-09-09T13:29:00.048645Z",
     "start_time": "2020-09-09T13:29:00.034320Z"
    },
    "hidden": true
   },
   "outputs": [],
   "source": [
    "class VariableTensor(Evaluable):\n",
    "    \n",
    "    def __init__(self, data, shape, function=None):\n",
    "        \n",
    "        self.dtype = Evaluable\n",
    "        self.data = data\n",
    "        self.shape = shape\n",
    "        self.function = function\n",
    "    \n",
    "    def eval(self, environment, evaluable=False, **kwargs):\n",
    "        \n",
    "        if evaluable:\n",
    "            return self\n",
    "        \n",
    "        values = [v.eval(environment, **kwargs) for v in self.data]\n",
    "        \n",
    "        if self.function == None and self.shape == ():\n",
    "            return Tensor(values[:1], self.shape)\n",
    "        else:\n",
    "            return self.function(environment, values, self.shape, **kwargs)\n",
    "    \n",
    "    def __repr__(self):\n",
    "        return str(self)\n",
    "    \n",
    "    def __str__(self):\n",
    "        return f'VariableTensor({self.data}, {self.shape})'"
   ]
  },
  {
   "cell_type": "markdown",
   "metadata": {
    "heading_collapsed": true
   },
   "source": [
    "## Data Structures"
   ]
  },
  {
   "cell_type": "markdown",
   "metadata": {
    "heading_collapsed": true,
    "hidden": true
   },
   "source": [
    "### Tensor"
   ]
  },
  {
   "cell_type": "code",
   "execution_count": 22,
   "metadata": {
    "ExecuteTime": {
     "end_time": "2020-09-09T13:29:00.064692Z",
     "start_time": "2020-09-09T13:29:00.050645Z"
    },
    "hidden": true
   },
   "outputs": [],
   "source": [
    "def nd_index_from_shape(int_index, shape):\n",
    "    devisor = 1\n",
    "    devisors = [] if len(shape) == 0 else [devisor]\n",
    "    for s in reversed(shape[1:]):\n",
    "        devisor *= s\n",
    "        devisors.append(devisor)\n",
    "    index = []\n",
    "    for devisor in reversed(devisors):\n",
    "        i = int_index // devisor\n",
    "        index.append(i)\n",
    "        int_index -= i * devisor\n",
    "    return index"
   ]
  },
  {
   "cell_type": "code",
   "execution_count": 23,
   "metadata": {
    "ExecuteTime": {
     "end_time": "2020-09-09T13:29:00.080691Z",
     "start_time": "2020-09-09T13:29:00.067693Z"
    },
    "hidden": true
   },
   "outputs": [],
   "source": [
    "def count_end_zeros(data, sub=None):\n",
    "    if sub:\n",
    "        data = [d-s+1 for [d,s] in zip(data, sub)]\n",
    "    c = 0\n",
    "    for i in reversed(data):\n",
    "        if i == 0:\n",
    "            c += 1\n",
    "        else:\n",
    "            break\n",
    "    return c"
   ]
  },
  {
   "cell_type": "code",
   "execution_count": 24,
   "metadata": {
    "ExecuteTime": {
     "end_time": "2020-09-09T13:29:00.112271Z",
     "start_time": "2020-09-09T13:29:00.082757Z"
    },
    "hidden": true
   },
   "outputs": [],
   "source": [
    "class Tensor(Evaluable):\n",
    "    \"\"\"\n",
    "    represents a value/tensor of any type, shape and rank\n",
    "    \"\"\"\n",
    "    def __init__(self, data, shape=()):\n",
    "        \n",
    "        data = np.array(data, object)\n",
    "        data = data.reshape((data.size,))\n",
    "        \n",
    "        assert data.size > 0, 'Tensor cannot be empty'\n",
    "        \n",
    "        if all(type(t) == Tensor for t in data):\n",
    "            inner_shape = data[0].shape\n",
    "            assert all(t.shape == inner_shape for t in data), 'Cannot combine tensors of different shapes'\n",
    "            \n",
    "            data = np.concatenate([t.data for t in data])\n",
    "            shape = shape + inner_shape\n",
    "        \n",
    "        self._data = np.array(data, object).reshape(shape)\n",
    "        self.data = self._data.reshape((self._data.size))\n",
    "        \n",
    "        self.first = self.data[0]\n",
    "        self.shape = self._data.shape\n",
    "        self.size = self._data.size\n",
    "        self.rank = self._data.ndim\n",
    "        self.dtype = type(self.data[0])\n",
    "        \n",
    "        assert all([type(i) == self.dtype for i in self.data]), 'All items in a Tensor must be of the same type'\n",
    "        \n",
    "    def __getitem__(self, index):\n",
    "        \n",
    "        data = self.data[index] if type(index) == int else self._data[index]\n",
    "        shape = data.shape if type(data) == np.ndarray else ()\n",
    "            \n",
    "        return Tensor(data, shape)\n",
    "        \n",
    "    def __setitem__(self, index, value):\n",
    "        \n",
    "        if type(value) == Tensor:\n",
    "            value = value._data\n",
    "        \n",
    "        if type(index) == int:\n",
    "            self.data[index] = value\n",
    "        else:\n",
    "            self._data[index] = value\n",
    "    \n",
    "    def eval(self, environment, **kwargs):\n",
    "        return self\n",
    "    \n",
    "    def __repr__(self):\n",
    "        if self.rank == 0:\n",
    "            return f'Tensor({self.data[()]})'\n",
    "        else:\n",
    "            return f'Tensor({self.data}, {self.shape})'\n",
    "    \n",
    "    def __str__(self):\n",
    "        if self.rank == 0:\n",
    "            return str(self.first)\n",
    "        else:\n",
    "            shape = list(self.shape)\n",
    "            inner_size = shape.pop()\n",
    "            strings = [str(i) for i in self.data]\n",
    "            inner_lists = list(zip(*[iter(strings)]*inner_size))\n",
    "            strings = ['['+', '.join(l)+']' for l in inner_lists]\n",
    "            \n",
    "            indexes = [nd_index_from_shape(i, shape) for i in range(len(strings))]\n",
    "            \n",
    "            left = [count_end_zeros(d) for d in indexes]\n",
    "            left = [(len(shape) - i) * ' ' + i * '[' for i in left]\n",
    "\n",
    "            right = [count_end_zeros(d, shape) for d in indexes]\n",
    "            right = [i * ']' + ',' + i * '\\n' for i in right]\n",
    "\n",
    "            strings = [l+s+r for (l,s,r) in zip(left, strings, right)]\n",
    "            strings[-1] = strings[-1].strip('\\n,')\n",
    "\n",
    "            string = '\\n'.join(strings)\n",
    "        \n",
    "            return string"
   ]
  },
  {
   "cell_type": "markdown",
   "metadata": {
    "heading_collapsed": true,
    "hidden": true
   },
   "source": [
    "### Array"
   ]
  },
  {
   "cell_type": "code",
   "execution_count": 25,
   "metadata": {
    "ExecuteTime": {
     "end_time": "2020-09-09T13:29:00.128221Z",
     "start_time": "2020-09-09T13:29:00.114242Z"
    },
    "hidden": true
   },
   "outputs": [],
   "source": [
    "class Array(Evaluable):\n",
    "    \n",
    "    def __init__(self, data):\n",
    "        self.data = np.array(data, object)\n",
    "        self.data = self.data.reshape((self.data.size,))\n",
    "        self.size = self.data.size\n",
    "        self.dtype = Array\n",
    "            \n",
    "    def __getitem__(self, index):\n",
    "        if type(index) == int:\n",
    "            return self.data[index]\n",
    "        elif type(index) in [tuple, list]:\n",
    "            if len(index) == 0:\n",
    "                raise Exception('No index given in array item lookup')\n",
    "            elif len(index) == 1:\n",
    "                return self.data[index[0]]\n",
    "            else:\n",
    "                raise Exception('Too many indices given in array item lookup')\n",
    "        else:\n",
    "            return Array(self.data[index])\n",
    "        \n",
    "    def __setitem__(self, index, value):\n",
    "        self.data[index] = value\n",
    "    \n",
    "    def eval(self, environment, **kwargs):\n",
    "        return self\n",
    "    \n",
    "    def __repr__(self):\n",
    "        return f'Array({self.data[()]})'\n",
    "    \n",
    "    def __str__(self):\n",
    "        items = [str(i) for i in self.data]\n",
    "        items = ', '.join(items)\n",
    "        return f'({items})'"
   ]
  },
  {
   "cell_type": "markdown",
   "metadata": {
    "heading_collapsed": true,
    "hidden": true
   },
   "source": [
    "### FunctionSet"
   ]
  },
  {
   "cell_type": "code",
   "execution_count": 26,
   "metadata": {
    "ExecuteTime": {
     "end_time": "2020-09-09T13:29:00.159236Z",
     "start_time": "2020-09-09T13:29:00.130223Z"
    },
    "hidden": true
   },
   "outputs": [],
   "source": [
    "class FunctionSet(Evaluable):\n",
    "    \n",
    "    def __init__(self, name, evaluation_paremeters=None):\n",
    "        self.name = name\n",
    "        self.signatures = {}\n",
    "        self.evaluation_paremeters = evaluation_paremeters or {}\n",
    "        \n",
    "        self.dtype = FunctionSet\n",
    "        \n",
    "    def __contains__(self, partial_signature):\n",
    "        l = len(partial_signature)\n",
    "        for signature in self.signatures:\n",
    "            if signature[:l] == partial_signature:\n",
    "                return True\n",
    "            \n",
    "        return False\n",
    "    \n",
    "    def __getitem__(self, signature):\n",
    "        return self.signatures[signature]\n",
    "    \n",
    "    def __setitem__(self, signature, value):\n",
    "        par_names, function = value\n",
    "        self.signatures[signature] = (par_names, function)\n",
    "        \n",
    "    def add(self, function_signature):\n",
    "        self.signatures[function_signature.parameter_types] = function_signature\n",
    "        \n",
    "    def eval(self, environment, parameters, **kwargs):\n",
    "        \n",
    "        parameters = list(parameters)\n",
    "        signature = [type(p) for p in parameters]\n",
    "        \n",
    "        for i, parameter in enumerate(parameters):\n",
    "            eval_params = self.evaluation_paremeters.get(i, {})\n",
    "            parameters[i] = parameter.eval(environment, **kwargs, **eval_params)\n",
    "            signature[i] = parameters[i].dtype\n",
    "        \n",
    "        signature = tuple(signature)\n",
    "        function_signature = None\n",
    "        \n",
    "        for signature_candidate in self.signatures:\n",
    "            if len(signature) == len(signature_candidate) and all([a==b or a==None for a,b in zip(signature_candidate, signature)]):\n",
    "                function_signature = self.signatures[signature_candidate]\n",
    "        \n",
    "#         assert signature in self.signatures, f'Signature {self.name}{tuple(p.__name__ for p in signature)} has no matching overload'\n",
    "        assert function_signature != None, f'Signature {self.name}{tuple(p.__name__ for p in signature)} has no matching overload'\n",
    "            \n",
    "#         function_signature = self.signatures[signature]\n",
    "        \n",
    "        output_unit = None\n",
    "        output_unit_instructions = function_signature.output_unit\n",
    "        if output_unit_instructions != None:\n",
    "            input_units = [p.first.unit if type(p) == Tensor else None for p in parameters]\n",
    "            output_unit = Units()\n",
    "            for instruction, input_unit in zip(output_unit_instructions, input_units):\n",
    "                \n",
    "                if type(instruction) == int:\n",
    "                    if instruction == 1:\n",
    "                        output_unit.add(input_unit)\n",
    "                    if instruction == -1:\n",
    "                        output_unit.sub(input_unit)\n",
    "                    \n",
    "                elif type(instruction) == bool:\n",
    "                    if instruction == True:\n",
    "                        if output_unit != input_unit:\n",
    "                            raise Exception('Units not compatiple')\n",
    "                            \n",
    "                elif type(instruction) == Unit:\n",
    "                    output_unit.add(instruction)\n",
    "                            \n",
    "                elif type(instruction) == Units:\n",
    "                    output_unit.add(instruction)\n",
    "        \n",
    "            if output_unit.units == {}:\n",
    "                output_unit = None\n",
    "                    \n",
    "    \n",
    "    \n",
    "        function = function_signature.function\n",
    "        parameter_names = function_signature.parameter_names\n",
    "        \n",
    "        actual_shapes = [p.shape if type(p) == Tensor else () for p in parameters]\n",
    "        actual_ranks = [len(s) for s in actual_shapes]\n",
    "        \n",
    "        ranks = [r if r!=None else a for r,a in zip(function_signature.parameter_ranks, actual_ranks)]\n",
    "        extended_shapes = [s if r==0 else s[:-r] for s,r in zip(actual_shapes, ranks)]\n",
    "        \n",
    "        if len(ranks) == len(extended_shapes) == 0:\n",
    "            extended_shape = []\n",
    "        else:\n",
    "            extended_shape = reduce(lambda x,y: x if len(x) > len(y) else y, extended_shapes)\n",
    "        extended_ranks = [len(s) for s in extended_shapes]\n",
    "        \n",
    "        assert all([s in [extended_shape, ()] for s in extended_shapes]), f'Ranks, shape or extended shapes do not match'\n",
    "        \n",
    "        if extended_shape == ():\n",
    "            return self.runFunction(function, environment, parameter_names, parameters, output_unit)\n",
    "        \n",
    "        else:\n",
    "            data = np.empty(extended_shape, dtype=object)\n",
    "            \n",
    "            for i in product(*[range(d) for d in extended_shape]):\n",
    "                extracted_parameters = [p if r == 0 else p[i] for p, r in zip(parameters, extended_ranks)]\n",
    "                \n",
    "                data[i] = self.runFunction(function, environment, parameter_names, extracted_parameters, output_unit)._data.tolist()\n",
    "                    \n",
    "            data = np.array(data.tolist())\n",
    "            \n",
    "            return Tensor(data, data.shape)\n",
    "        \n",
    "    def runFunction(self, function, environment, parameter_names, parameters, output_unit):\n",
    "        \n",
    "        if parameter_names == False or parameter_names == None:\n",
    "            results = function(*parameters)\n",
    "        \n",
    "        elif parameter_names == True:\n",
    "            results = function(environment, *parameters)\n",
    "\n",
    "        else:\n",
    "            new_scoped_environment = environment.enterScope({k:v for k,v in zip(parameter_names, parameters)})\n",
    "            results = function(new_scoped_environment)\n",
    "        \n",
    "        if output_unit != None:\n",
    "            for value in results.data:\n",
    "                value.unit = Units(output_unit)\n",
    "            \n",
    "        return results\n",
    "        \n",
    "    def attach_units(self, value, unit):\n",
    "        pass\n",
    "        \n",
    "    def __repr__(self):\n",
    "        return f'FunctionSet({self.name}, {self.signatures})'\n",
    "    \n",
    "    def __str__(self):\n",
    "        if len(self.signatures) == 0:\n",
    "            parameter_types = ''\n",
    "        if len(self.signatures) == 1:\n",
    "            parameter_types = next(iter(self.signatures))\n",
    "            parameter_types = ['Any' if t == None else t.__name__ for t in parameter_types]\n",
    "            parameter_types = ', '.join(parameter_types)\n",
    "        else:\n",
    "            parameter_types = '...'\n",
    "            \n",
    "        name = '<AnonymousFunction>' if self.name == '' else self.name\n",
    "            \n",
    "        return f'{name}({parameter_types})'"
   ]
  },
  {
   "cell_type": "markdown",
   "metadata": {
    "heading_collapsed": true,
    "hidden": true
   },
   "source": [
    "### ConversionFunctionSet (DEPRICATED)"
   ]
  },
  {
   "cell_type": "code",
   "execution_count": 27,
   "metadata": {
    "ExecuteTime": {
     "end_time": "2020-09-09T13:29:00.173920Z",
     "start_time": "2020-09-09T13:29:00.161240Z"
    },
    "hidden": true
   },
   "outputs": [],
   "source": [
    "# class ConversionFunctionSet(Evaluable):\n",
    "    \n",
    "#     def __init__(self, name, forwards, backwards):\n",
    "#         self.name = name\n",
    "#         self.forwards = forwards\n",
    "#         self.backwards = backwards\n",
    "#         self.dtype = ConversionFunctionSet\n",
    "    \n",
    "#     def eval(self, environment, tensor, forwards=True, **kwargs):\n",
    "#         shape = tensor.shape\n",
    "#         data = tensor.data\n",
    "        \n",
    "#         if forwards:\n",
    "#             converted_data = [self.forwards(d) for d in data]\n",
    "#         else:\n",
    "#             converted_data = [self.backwards(d) for d in data]\n",
    "            \n",
    "#         return Tensor(converted_data, shape)\n",
    "    \n",
    "#     def __repr__(self):\n",
    "#         return f'ConversionFunctionSet({self.name})'\n",
    "    \n",
    "#     def __str__(self):\n",
    "#         return f'<{self.name}>'"
   ]
  },
  {
   "cell_type": "markdown",
   "metadata": {
    "heading_collapsed": true
   },
   "source": [
    "## Data Types"
   ]
  },
  {
   "cell_type": "markdown",
   "metadata": {
    "heading_collapsed": true,
    "hidden": true
   },
   "source": [
    "### Abstract Data"
   ]
  },
  {
   "cell_type": "code",
   "execution_count": 28,
   "metadata": {
    "ExecuteTime": {
     "end_time": "2020-09-09T13:29:00.189666Z",
     "start_time": "2020-09-09T13:29:00.175921Z"
    },
    "hidden": true
   },
   "outputs": [],
   "source": [
    "class Data(Evaluable):\n",
    "    pass"
   ]
  },
  {
   "cell_type": "markdown",
   "metadata": {
    "heading_collapsed": true,
    "hidden": true
   },
   "source": [
    "### String"
   ]
  },
  {
   "cell_type": "code",
   "execution_count": 29,
   "metadata": {
    "ExecuteTime": {
     "end_time": "2020-09-09T13:29:00.204665Z",
     "start_time": "2020-09-09T13:29:00.191666Z"
    },
    "hidden": true
   },
   "outputs": [],
   "source": [
    "class String(Data):\n",
    "    \n",
    "    def __init__(self, value):\n",
    "        self.value = value\n",
    "    \n",
    "    def eval(self, environment, **kwargs):\n",
    "        return self\n",
    "    \n",
    "    def __repr__(self):\n",
    "        return f'String(\"{self.value}\")'\n",
    "    \n",
    "    def __str__(self):\n",
    "        return f'\"{self.value}\"'"
   ]
  },
  {
   "cell_type": "markdown",
   "metadata": {
    "heading_collapsed": true,
    "hidden": true
   },
   "source": [
    "### Integer"
   ]
  },
  {
   "cell_type": "code",
   "execution_count": 30,
   "metadata": {
    "ExecuteTime": {
     "end_time": "2020-09-09T13:29:00.219665Z",
     "start_time": "2020-09-09T13:29:00.207670Z"
    },
    "hidden": true
   },
   "outputs": [],
   "source": [
    "class Integer(Data):\n",
    "    \n",
    "    def __init__(self, value):\n",
    "        self.value = value\n",
    "    \n",
    "    def eval(self, environment, **kwargs):\n",
    "        return self"
   ]
  },
  {
   "cell_type": "markdown",
   "metadata": {
    "heading_collapsed": true,
    "hidden": true
   },
   "source": [
    "### Real"
   ]
  },
  {
   "cell_type": "code",
   "execution_count": 31,
   "metadata": {
    "ExecuteTime": {
     "end_time": "2020-09-09T13:29:00.235665Z",
     "start_time": "2020-09-09T13:29:00.221667Z"
    },
    "hidden": true
   },
   "outputs": [],
   "source": [
    "class Real(Data):\n",
    "    \n",
    "    def __init__(self, value, unit=None):\n",
    "        self.value = Decimal(value)\n",
    "        self.unit = unit\n",
    "    \n",
    "    def eval(self, environment, **kwargs):\n",
    "        return self\n",
    "    \n",
    "    def __repr__(self):\n",
    "        return f'Real({self.value}, {self.unit})'\n",
    "    \n",
    "    def __str__(self):\n",
    "        if self.unit == None:\n",
    "            return f'{self.value}'\n",
    "        else:\n",
    "            value = self.unit.convert_backwards(Tensor(self))\n",
    "            return f'{value}{self.unit}'"
   ]
  },
  {
   "cell_type": "markdown",
   "metadata": {
    "heading_collapsed": true,
    "hidden": true
   },
   "source": [
    "### Complex"
   ]
  },
  {
   "cell_type": "code",
   "execution_count": null,
   "metadata": {
    "hidden": true
   },
   "outputs": [],
   "source": []
  },
  {
   "cell_type": "markdown",
   "metadata": {
    "heading_collapsed": true,
    "hidden": true
   },
   "source": [
    "### Boolean"
   ]
  },
  {
   "cell_type": "code",
   "execution_count": 32,
   "metadata": {
    "ExecuteTime": {
     "end_time": "2020-09-09T13:29:00.251719Z",
     "start_time": "2020-09-09T13:29:00.237666Z"
    },
    "hidden": true
   },
   "outputs": [],
   "source": [
    "class Boolean(Data):\n",
    "    \n",
    "    def __init__(self, value):\n",
    "        self.value = value\n",
    "    \n",
    "    def eval(self, environment, **kwargs):\n",
    "        return self"
   ]
  },
  {
   "cell_type": "markdown",
   "metadata": {
    "heading_collapsed": true,
    "hidden": true
   },
   "source": [
    "### FunctionSignature"
   ]
  },
  {
   "cell_type": "code",
   "execution_count": 33,
   "metadata": {
    "ExecuteTime": {
     "end_time": "2020-09-09T13:29:00.267677Z",
     "start_time": "2020-09-09T13:29:00.252697Z"
    },
    "hidden": true
   },
   "outputs": [],
   "source": [
    "class FunctionSignature():\n",
    "    \n",
    "    def __init__(self, name, function, parameter_names, parameter_types, parameter_ranks=None, parameter_shapes=None, output_unit=None):\n",
    "        \n",
    "        self.name = name\n",
    "        self.function = function\n",
    "        self.parameter_count = len(parameter_types)\n",
    "        self.parameter_names = parameter_names\n",
    "        self.parameter_types = parameter_types\n",
    "        self.parameter_ranks = parameter_ranks or self.parameter_count*(None,)\n",
    "        self.parameter_shapes = parameter_shapes or self.parameter_count*(None,)\n",
    "        self.output_unit     = output_unit\n",
    "        \n",
    "    def __repr__(self):\n",
    "        return f'FunctionSignature{(self.name, self.function, self.parameter_names, self.parameter_types, self.parameter_ranks, self.parameter_shapes, self.output_unit)}'\n",
    "    \n",
    "    def __str__(self):\n",
    "        parameter_types = [str(t) for t in self.parameter_types]\n",
    "        parameter_types = ', '.join(parameter_types)\n",
    "        return f'{self.name}({parameter_types})'"
   ]
  },
  {
   "cell_type": "markdown",
   "metadata": {
    "heading_collapsed": true,
    "hidden": true
   },
   "source": [
    "### Reference"
   ]
  },
  {
   "cell_type": "code",
   "execution_count": 34,
   "metadata": {
    "ExecuteTime": {
     "end_time": "2020-09-09T13:29:00.283691Z",
     "start_time": "2020-09-09T13:29:00.268677Z"
    },
    "hidden": true
   },
   "outputs": [],
   "source": [
    "class Reference(Data):\n",
    "    \n",
    "    def __init__(self, value):\n",
    "        self.value = value\n",
    "    \n",
    "    def eval(self, environment, **kwargs):\n",
    "        return self"
   ]
  },
  {
   "cell_type": "markdown",
   "metadata": {
    "heading_collapsed": true
   },
   "source": [
    "## Units"
   ]
  },
  {
   "cell_type": "markdown",
   "metadata": {
    "heading_collapsed": true,
    "hidden": true
   },
   "source": [
    "### Unit"
   ]
  },
  {
   "cell_type": "code",
   "execution_count": 35,
   "metadata": {
    "ExecuteTime": {
     "end_time": "2020-09-09T13:29:00.298691Z",
     "start_time": "2020-09-09T13:29:00.285694Z"
    },
    "hidden": true
   },
   "outputs": [],
   "source": [
    "class Unit:\n",
    "    \n",
    "    def __init__(self, group_name, unit_name, forwards, backwards):\n",
    "        self.group_name = group_name\n",
    "        self.unit_name = unit_name\n",
    "        self.forwards = forwards\n",
    "        self.backwards = backwards\n",
    "        \n",
    "        self.dtype = Unit\n",
    "        \n",
    "    def convert_forwards(self, tensor):\n",
    "        return self.convert(tensor, self.forwards)\n",
    "        \n",
    "    def convert_backwards(self, tensor):\n",
    "        return self.convert(tensor, self.backwards)\n",
    "        \n",
    "    def convert(self, tensor, converter):\n",
    "        if callable(converter):\n",
    "            return converter(tensor)\n",
    "        else:\n",
    "            return Tensor(Real(tensor.first.value * converter))\n",
    "    \n",
    "    def get_base_units(self):\n",
    "        return {self: 1}\n",
    "        \n",
    "    def __hash__(self):\n",
    "        return hash(self.group_name)\n",
    "    \n",
    "    def __eq__(self, other):\n",
    "        if type(other) != Unit:\n",
    "            return False\n",
    "        return self.group_name == other.group_name\n",
    "        \n",
    "    def __repr__(self):\n",
    "        return f'Unit({self.group_name}, {self.unit_name})'\n",
    "        \n",
    "    def __str__(self):\n",
    "        return self.unit_name"
   ]
  },
  {
   "cell_type": "markdown",
   "metadata": {
    "heading_collapsed": true,
    "hidden": true
   },
   "source": [
    "### Units (Unit collection)"
   ]
  },
  {
   "cell_type": "code",
   "execution_count": 36,
   "metadata": {
    "ExecuteTime": {
     "end_time": "2020-09-09T13:29:00.330766Z",
     "start_time": "2020-09-09T13:29:00.299692Z"
    },
    "hidden": true
   },
   "outputs": [],
   "source": [
    "class Units:\n",
    "    \n",
    "    def __init__(self, units=None, name=None):\n",
    "        \n",
    "        if type(units) == Units:\n",
    "            print('Units -> Units', units, name)\n",
    "            if units.name == None:\n",
    "                self.units = {**units.units}\n",
    "                self.name = units.name\n",
    "            else:\n",
    "                print('child')\n",
    "                self.units = {units: 1}\n",
    "                self.name = name\n",
    "                \n",
    "        elif type(units) == Unit:\n",
    "            self.units = {units: 1}\n",
    "            self.name = name\n",
    "            \n",
    "        else:\n",
    "            self.units = units or {}\n",
    "            self.name = name\n",
    "        \n",
    "        self.dtype = Unit\n",
    "        \n",
    "    def convert_forwards(self, tensor):\n",
    "        tensor = tensor\n",
    "        \n",
    "        for unit, degree in self.units.items():\n",
    "            if degree > 0:\n",
    "                for i in range(degree):\n",
    "                    tensor = unit.convert_forwards(tensor)\n",
    "            else:\n",
    "                for i in range(-degree):\n",
    "                    tensor = unit.convert_backwards(tensor)\n",
    "        \n",
    "        return tensor\n",
    "        \n",
    "    def convert_backwards(self, tensor):\n",
    "        tensor = tensor\n",
    "        \n",
    "        for unit, degree in self.units.items():\n",
    "            if degree > 0:\n",
    "                for i in range(degree):\n",
    "                    tensor = unit.convert_backwards(tensor)\n",
    "            else:\n",
    "                for i in range(degree):\n",
    "                    tensor = unit.convert_forwards(tensor)\n",
    "        \n",
    "        return tensor\n",
    "    \n",
    "    def get_base_units(self):\n",
    "        base_units = {}\n",
    "        for [unit, degree] in self.units.items():\n",
    "            units = unit.get_base_units()\n",
    "            for [inner_unit, inner_degree] in units.items():\n",
    "                base_units[inner_unit] = base_units.get(inner_unit, 0) + inner_degree * degree\n",
    "                \n",
    "        return base_units\n",
    "        \n",
    "    def __hash__(self):\n",
    "        return hash(self.group_name)\n",
    "    \n",
    "    def __eq__(self, other):\n",
    "        if other == None:\n",
    "            return self.units == {}\n",
    "        return self.get_base_units() == other.get_base_units()\n",
    "\n",
    "    def add(self, other, super_degree=1):\n",
    "        \n",
    "        new_units = {}\n",
    "        if other == None:\n",
    "            return\n",
    "        elif type(other) == Unit:\n",
    "            new_units[other] = self.units.get(other, 0) + super_degree\n",
    "        elif type(other) == Units:\n",
    "            for unit, degree in other.units.items():\n",
    "                new_units[unit] = self.units.get(unit, 0) + super_degree * degree\n",
    "            \n",
    "        self.units = {**self.units, **new_units}\n",
    "        \n",
    "        to_be_removed = [unit for unit, degree in self.units.items() if degree == 0]\n",
    "        for unit in to_be_removed:\n",
    "            del self.units[unit]\n",
    "    \n",
    "    def sub(self, other, super_degree=1):\n",
    "        self.add(other, -super_degree)\n",
    "        \n",
    "    def __repr__(self):\n",
    "        return f'Units({self.name}, {self.units})'\n",
    "        \n",
    "    def __str__(self):\n",
    "        if self.name == None:\n",
    "            string_positive = ''\n",
    "            string_negative = ''\n",
    "            \n",
    "            for unit, index in self.units.items():\n",
    "                super_script = ''\n",
    "                if index < -1 or index > 1:\n",
    "                    super_script = '^'+str(abs(index))\n",
    "                    \n",
    "                if index > 0:\n",
    "                    string_positive += f'*{unit}{super_script}'\n",
    "                if index < 0:\n",
    "                    string_negative += f'/{unit}{super_script}'\n",
    "                \n",
    "            return string_positive.strip('*') + string_negative\n",
    "        \n",
    "        else:\n",
    "            return self.name"
   ]
  },
  {
   "cell_type": "markdown",
   "metadata": {
    "heading_collapsed": true
   },
   "source": [
    "## BuiltIns"
   ]
  },
  {
   "cell_type": "code",
   "execution_count": 37,
   "metadata": {
    "ExecuteTime": {
     "end_time": "2020-09-09T13:29:00.361484Z",
     "start_time": "2020-09-09T13:29:00.332696Z"
    },
    "code_folding": [],
    "hidden": true
   },
   "outputs": [],
   "source": [
    "class BuiltIns():\n",
    "    \n",
    "    def __init__(self):\n",
    "        self.functions = []\n",
    "        self.function_parameter_evaluation_parameters = {}\n",
    "        self.vars = []\n",
    "        self.binary_operators = []\n",
    "        self.binary_operators_continuing = []\n",
    "        self.left_unary_operators = []\n",
    "        self.right_unary_operators = []\n",
    "        self.groups = []\n",
    "        self.new_items = []\n",
    "        self.conversion_function_sets = []\n",
    "        self.units = []\n",
    "        \n",
    "    def register_function(self, \n",
    "                          name, \n",
    "                          function, \n",
    "                          parameter_names, \n",
    "                          parameter_types, \n",
    "                          parameter_ranks=None, \n",
    "                          parameter_shapes=None,\n",
    "                          output_unit=None\n",
    "                         ):\n",
    "        self.functions.append((\n",
    "            name, \n",
    "            function, \n",
    "            parameter_names, \n",
    "            parameter_types, \n",
    "            parameter_ranks, \n",
    "            parameter_shapes,\n",
    "            output_unit))\n",
    "        \n",
    "    def register_operation_function(self, \n",
    "                                    operation, \n",
    "                                    name, \n",
    "                                    function, \n",
    "                                    parameter_names, \n",
    "                                    parameter_types, \n",
    "                                    parameter_ranks=None, \n",
    "                                    parameter_shapes=None,\n",
    "                                    output_unit=None\n",
    "                                   ):\n",
    "        names = name if type(name) == list else [name]\n",
    "        for name in names:\n",
    "            self.functions.append((\n",
    "                f'<{operation}_operation>{name}', \n",
    "                function, \n",
    "                parameter_names, \n",
    "                parameter_types, \n",
    "                parameter_ranks, \n",
    "                parameter_shapes,\n",
    "                output_unit))\n",
    "        \n",
    "    def set_evaluation_parameter(self, function_name, operation, parameter_index, key, value):\n",
    "        function_name = f'<{operation}_operation>{function_name}'\n",
    "        parameter_list = self.function_parameter_evaluation_parameters.get(function_name, {})\n",
    "        parameters = parameter_list.get(parameter_index, {})\n",
    "        parameters[key] = value\n",
    "        parameter_list[parameter_index] = parameters\n",
    "        self.function_parameter_evaluation_parameters[function_name] = parameter_list\n",
    "        \n",
    "    def register_binary_operator(self, name, precedence, continuing=False):\n",
    "        if continuing:\n",
    "            self.binary_operators_continuing.append(TokenOperandDefinition(name, precedence))\n",
    "        \n",
    "        self.binary_operators.append(TokenOperandDefinition(name, precedence))\n",
    "        \n",
    "    def register_left_unary_operator(self, name, precedence):\n",
    "        self.left_unary_operators.append(TokenOperandDefinition(name, precedence))\n",
    "        \n",
    "    def register_right_unary_operator(self, name, precedence):\n",
    "        self.right_unary_operators.append(TokenOperandDefinition(name, precedence))\n",
    "        \n",
    "    def register_var(self, name, value):\n",
    "        self.vars.append((name, value))\n",
    "        \n",
    "    def register_grouping(self, open_token, close_token, seperators, ignore_missing, function):\n",
    "        self.groups.append(TokenGroupDefinition(open_token, close_token, seperators, ignore_missing, function))\n",
    "        \n",
    "    def register_new_item_seperator(self, token):\n",
    "        self.new_items.append(TokenNewItemDefinition(token))\n",
    "        \n",
    "    def register_conversion_function_set(self, name, forwards, backwards):\n",
    "        self.conversion_function_sets.append((name, forwards, backwards))\n",
    "        \n",
    "    def register_unit(self, unit_name, unit):\n",
    "        self.units.append((unit_name, unit))\n",
    "        \n",
    "    def register_unit_group(self, group_name, unit_group):\n",
    "        for [unit_name, converters] in unit_group.items():\n",
    "            self.register_unit(\n",
    "                unit_name,\n",
    "                Unit(\n",
    "                    group_name, \n",
    "                    unit_name, \n",
    "                    converters['forwards'], \n",
    "                    converters['backwards']\n",
    "                )\n",
    "            )\n",
    "        \n",
    "        \n",
    "built_ins = BuiltIns()"
   ]
  },
  {
   "cell_type": "markdown",
   "metadata": {},
   "source": [
    "# Built In Functions, Operators and Variables"
   ]
  },
  {
   "cell_type": "markdown",
   "metadata": {
    "heading_collapsed": true
   },
   "source": [
    "### Groups"
   ]
  },
  {
   "cell_type": "markdown",
   "metadata": {
    "heading_collapsed": true,
    "hidden": true
   },
   "source": [
    "#### Group ( )"
   ]
  },
  {
   "cell_type": "code",
   "execution_count": 38,
   "metadata": {
    "ExecuteTime": {
     "end_time": "2020-09-09T13:29:00.376499Z",
     "start_time": "2020-09-09T13:29:00.362504Z"
    },
    "hidden": true
   },
   "outputs": [],
   "source": [
    "def group_round(environment, items, shape, force_array=False, **kwargs):\n",
    "    \n",
    "    if shape == () and len(items) > 0 and force_array == False:\n",
    "        return items[0]\n",
    "    else:\n",
    "        return Array(items)\n",
    "\n",
    "built_ins.register_grouping('(', ')', {',': 1, '\\n': 1}, True, group_round)"
   ]
  },
  {
   "cell_type": "markdown",
   "metadata": {
    "heading_collapsed": true,
    "hidden": true
   },
   "source": [
    "#### Group [ ]"
   ]
  },
  {
   "cell_type": "code",
   "execution_count": 39,
   "metadata": {
    "ExecuteTime": {
     "end_time": "2020-09-09T13:29:00.392545Z",
     "start_time": "2020-09-09T13:29:00.377499Z"
    },
    "hidden": true
   },
   "outputs": [],
   "source": [
    "def group_squre(environment, items, shape, **kwargs):\n",
    "    \n",
    "    assert len(items) > 0, 'Tensors can not be empty'\n",
    "    \n",
    "    base_shape = items[0].shape\n",
    "    assert all([i.shape == base_shape for i in items]), 'Tensor elements have inconsistent shapes'\n",
    "    \n",
    "    extended_shape = shape + base_shape\n",
    "    data = np.array([i.data for i in items]).reshape(extended_shape)\n",
    "    \n",
    "    return Tensor(data, extended_shape)\n",
    "\n",
    "built_ins.register_grouping('[', ']', {',': 1, ';': 2, '\\n': 0}, False, group_squre)"
   ]
  },
  {
   "cell_type": "markdown",
   "metadata": {
    "heading_collapsed": true,
    "hidden": true
   },
   "source": [
    "#### Group { }"
   ]
  },
  {
   "cell_type": "code",
   "execution_count": 40,
   "metadata": {
    "ExecuteTime": {
     "end_time": "2020-09-09T13:29:00.408511Z",
     "start_time": "2020-09-09T13:29:00.393698Z"
    },
    "hidden": true
   },
   "outputs": [],
   "source": [
    "def group_curly(environment, items, shape, **kwargs):\n",
    "    return items[-1]\n",
    "\n",
    "built_ins.register_grouping('{', '}', {';': 1, '\\n': 1}, True, group_curly)"
   ]
  },
  {
   "cell_type": "markdown",
   "metadata": {
    "heading_collapsed": true,
    "hidden": true
   },
   "source": [
    "#### Group | |"
   ]
  },
  {
   "cell_type": "code",
   "execution_count": 41,
   "metadata": {
    "ExecuteTime": {
     "end_time": "2020-09-09T13:29:00.424549Z",
     "start_time": "2020-09-09T13:29:00.410532Z"
    },
    "hidden": true
   },
   "outputs": [],
   "source": [
    "def group_straight(environment, items, shape, **kwargs):\n",
    "    \n",
    "    assert shape == (), 'Cannot take absolute value of an array'\n",
    "    assert items[0].dtype == Real, 'Cannot take absolute value of non Real value'\n",
    "    \n",
    "#     return Tensor(Real(abs(items[0].first.value)))\n",
    "\n",
    "    return VariableFunction('abs', items).eval(environment)\n",
    "\n",
    "built_ins.register_grouping('|', '|', {}, True, group_straight)\n",
    "built_ins.register_grouping('||', '||', {}, True, group_straight)"
   ]
  },
  {
   "cell_type": "markdown",
   "metadata": {
    "heading_collapsed": true
   },
   "source": [
    "### New Item Seperators"
   ]
  },
  {
   "cell_type": "code",
   "execution_count": 42,
   "metadata": {
    "ExecuteTime": {
     "end_time": "2020-09-09T13:29:00.440456Z",
     "start_time": "2020-09-09T13:29:00.425550Z"
    },
    "hidden": true
   },
   "outputs": [],
   "source": [
    "built_ins.register_new_item_seperator(',')\n",
    "built_ins.register_new_item_seperator(';')\n",
    "built_ins.register_new_item_seperator('\\n')"
   ]
  },
  {
   "cell_type": "markdown",
   "metadata": {},
   "source": [
    "### Units"
   ]
  },
  {
   "cell_type": "markdown",
   "metadata": {
    "heading_collapsed": true
   },
   "source": [
    "#### Distance"
   ]
  },
  {
   "cell_type": "code",
   "execution_count": 43,
   "metadata": {
    "ExecuteTime": {
     "end_time": "2020-09-09T13:29:00.456283Z",
     "start_time": "2020-09-09T13:29:00.442271Z"
    },
    "hidden": true
   },
   "outputs": [],
   "source": [
    "distance = {\n",
    "    'km': {\n",
    "        'forwards':  Decimal('1000'),\n",
    "        'backwards': Decimal('.001'),\n",
    "    },\n",
    "    'm': {\n",
    "        'forwards':  Decimal('1'),\n",
    "        'backwards': Decimal('1'),\n",
    "    },\n",
    "    'dm': {\n",
    "        'forwards':  Decimal('.1'),\n",
    "        'backwards': Decimal('10'),\n",
    "    },\n",
    "    'cm': {\n",
    "        'forwards':  Decimal('.01'),\n",
    "        'backwards': Decimal('100'),\n",
    "    },\n",
    "    'mm': {\n",
    "        'forwards':  Decimal('.001'),\n",
    "        'backwards': Decimal('1000'),\n",
    "    },\n",
    "    'um': {\n",
    "        'forwards':  Decimal('.000001'),\n",
    "        'backwards': Decimal('1000000'),\n",
    "    },\n",
    "    'nm': {\n",
    "        'forwards':  Decimal('.000000001'),\n",
    "        'backwards': Decimal('1000000000'),\n",
    "    },\n",
    "    'pm': {\n",
    "        'forwards':  Decimal('.000000000001'),\n",
    "        'backwards': Decimal('1000000000000'),\n",
    "    },\n",
    "    'in': {\n",
    "        'forwards':  Decimal('0.0254'),\n",
    "        'backwards': Decimal('39.37007874015748031496062992'),\n",
    "    },\n",
    "    'tf': {\n",
    "        'forwards':  Decimal('0.3048'),\n",
    "        'backwards': Decimal('3.280839895013123359580052493'),\n",
    "    },\n",
    "    'yd': {\n",
    "        'forwards':  Decimal('0.9144'),\n",
    "        'backwards': Decimal('1.093613298337707786526684164'),\n",
    "    },\n",
    "    'mi': {\n",
    "        'forwards':  Decimal('1609.344'),\n",
    "        'backwards': Decimal('0.0006213711922373339696174341844'),\n",
    "    },\n",
    "}\n",
    "\n",
    "dm = Unit(\n",
    "    'distance', \n",
    "    'dm', \n",
    "    distance['dm']['forwards'], \n",
    "    distance['dm']['backwards']\n",
    ")\n",
    "\n",
    "cm = Unit(\n",
    "    'distance', \n",
    "    'cm', \n",
    "    distance['cm']['forwards'], \n",
    "    distance['cm']['backwards']\n",
    ")\n",
    "\n",
    "built_ins.register_unit_group('distance', distance)"
   ]
  },
  {
   "cell_type": "markdown",
   "metadata": {
    "heading_collapsed": true
   },
   "source": [
    "#### Volume"
   ]
  },
  {
   "cell_type": "code",
   "execution_count": 44,
   "metadata": {
    "ExecuteTime": {
     "end_time": "2020-09-09T13:29:00.472247Z",
     "start_time": "2020-09-09T13:29:00.458279Z"
    },
    "hidden": true
   },
   "outputs": [],
   "source": [
    "L  = Units({dm: 3}, 'L')\n",
    "mL = Units({cm: 3}, 'mL')\n",
    "cc = Units({cm: 3}, 'cc')\n",
    "\n",
    "built_ins.register_unit('L', L)\n",
    "built_ins.register_unit('mL', mL)\n",
    "built_ins.register_unit('cc', cc)"
   ]
  },
  {
   "cell_type": "markdown",
   "metadata": {
    "heading_collapsed": true
   },
   "source": [
    "#### Time"
   ]
  },
  {
   "cell_type": "code",
   "execution_count": 45,
   "metadata": {
    "ExecuteTime": {
     "end_time": "2020-09-09T13:29:00.488213Z",
     "start_time": "2020-09-09T13:29:00.474216Z"
    },
    "hidden": true
   },
   "outputs": [],
   "source": [
    "def time_formart_forwards(string):\n",
    "    pass\n",
    "\n",
    "def time_formart_backwards(seconds):\n",
    "    pass\n",
    "\n",
    "time = {\n",
    "    'd': {\n",
    "        'forwards':  Decimal('86400'),\n",
    "        'backwards': Decimal('.00001157407407407407407407407407'),\n",
    "    },\n",
    "    'hr': {\n",
    "        'forwards':  Decimal('3600'),\n",
    "        'backwards': Decimal('.0002777777777777777777777777778'),\n",
    "    },\n",
    "    'min': {\n",
    "        'forwards':  Decimal('60'),\n",
    "        'backwards': Decimal('.01666666666666666666666666667'),\n",
    "    },\n",
    "    's': {\n",
    "        'forwards':  Decimal('1'),\n",
    "        'backwards': Decimal('1'),\n",
    "    },\n",
    "    'ms': {\n",
    "        'forwards':  Decimal('.001'),\n",
    "        'backwards': Decimal('1000'),\n",
    "    },\n",
    "    'us': {\n",
    "        'forwards':  Decimal('.000001'),\n",
    "        'backwards': Decimal('1000000'),\n",
    "    },\n",
    "    'ns': {\n",
    "        'forwards':  Decimal('.000000001'),\n",
    "        'backwards': Decimal('1000000000'),\n",
    "    },\n",
    "    'time': {\n",
    "        'forwards':  Decimal('1'),\n",
    "        'backwards': Decimal('1'),\n",
    "        'formart_forwards':  time_formart_forwards,\n",
    "        'formart_backwards': time_formart_backwards,\n",
    "    }\n",
    "}\n",
    "\n",
    "_min = Unit(\n",
    "    'time',\n",
    "    'min',\n",
    "    time['min']['forwards'],\n",
    "    time['min']['backwards'],\n",
    ")\n",
    "\n",
    "built_ins.register_unit_group('time', time)"
   ]
  },
  {
   "cell_type": "markdown",
   "metadata": {
    "heading_collapsed": true
   },
   "source": [
    "#### Angles"
   ]
  },
  {
   "cell_type": "code",
   "execution_count": 46,
   "metadata": {
    "ExecuteTime": {
     "end_time": "2020-09-09T13:29:00.503730Z",
     "start_time": "2020-09-09T13:29:00.489216Z"
    },
    "hidden": true
   },
   "outputs": [],
   "source": [
    "angle = {\n",
    "    'deg': {\n",
    "        'forwards':  Decimal('0.01745329251994329576923690768'),\n",
    "        'backwards': Decimal('57.29577951308232087679815483'),\n",
    "    },\n",
    "    'grad': {\n",
    "        'forwards':  Decimal('0.01570796326794896619231321692'),\n",
    "        'backwards': Decimal('63.66197723675813430755350533'),\n",
    "    },\n",
    "    'rad': {\n",
    "        'forwards':  Decimal('1'),\n",
    "        'backwards': Decimal('1'),\n",
    "    },\n",
    "    'rev': {\n",
    "        'forwards':  Decimal('6.283185307179586476925286767'),\n",
    "        'backwards': Decimal('0.1591549430918953357688837634'),\n",
    "    },\n",
    "}\n",
    "\n",
    "rad = Unit(\n",
    "    'angle', \n",
    "    'rad', \n",
    "    angle['rad']['forwards'], \n",
    "    angle['rad']['backwards'],\n",
    ")\n",
    "\n",
    "rev = Unit(\n",
    "    'angle', \n",
    "    'rev', \n",
    "    angle['rev']['forwards'], \n",
    "    angle['rev']['backwards'],\n",
    ")\n",
    "\n",
    "built_ins.register_unit_group('angle', angle)"
   ]
  },
  {
   "cell_type": "markdown",
   "metadata": {
    "heading_collapsed": true
   },
   "source": [
    "#### Angular Speeds"
   ]
  },
  {
   "cell_type": "code",
   "execution_count": 47,
   "metadata": {
    "ExecuteTime": {
     "end_time": "2020-09-09T13:29:00.518637Z",
     "start_time": "2020-09-09T13:29:00.505735Z"
    },
    "hidden": true
   },
   "outputs": [],
   "source": [
    "rpm = Units({rev: 1, _min: -1}, 'rpm')\n",
    "\n",
    "built_ins.register_unit('rpm', rpm)"
   ]
  },
  {
   "cell_type": "markdown",
   "metadata": {
    "heading_collapsed": true
   },
   "source": [
    "#### "
   ]
  },
  {
   "cell_type": "code",
   "execution_count": null,
   "metadata": {
    "hidden": true
   },
   "outputs": [],
   "source": []
  },
  {
   "cell_type": "markdown",
   "metadata": {
    "heading_collapsed": true
   },
   "source": [
    "### Variabels"
   ]
  },
  {
   "cell_type": "code",
   "execution_count": 48,
   "metadata": {
    "ExecuteTime": {
     "end_time": "2020-09-09T13:29:00.533637Z",
     "start_time": "2020-09-09T13:29:00.520637Z"
    },
    "hidden": true
   },
   "outputs": [],
   "source": [
    "built_ins.register_var('PI', Tensor([Real('3.141592653589793238462643383279502884197')]))\n",
    "built_ins.register_var('e', Tensor([Real('2.718281828459045235360287471352662497757')]))\n",
    "built_ins.register_var('phi', Tensor([Real('1.61803398874989484820458683436563811772')]))"
   ]
  },
  {
   "cell_type": "markdown",
   "metadata": {
    "heading_collapsed": true
   },
   "source": [
    "### Operations Tokens"
   ]
  },
  {
   "cell_type": "code",
   "execution_count": 49,
   "metadata": {
    "ExecuteTime": {
     "end_time": "2020-09-09T13:29:00.548636Z",
     "start_time": "2020-09-09T13:29:00.535638Z"
    },
    "hidden": true
   },
   "outputs": [],
   "source": [
    "# Unary Operations: -, +\n",
    "built_ins.register_left_unary_operator('+', 7)\n",
    "built_ins.register_left_unary_operator('-', 7)\n",
    "built_ins.register_left_unary_operator('=', 0)\n",
    "built_ins.register_right_unary_operator('!', 7)\n",
    "\n",
    "# Binary Operations:\n",
    "\n",
    "# arithmetic\n",
    "built_ins.register_binary_operator('+',   3, True)\n",
    "built_ins.register_binary_operator('-',   3, True)\n",
    "built_ins.register_binary_operator('*',   4, True)\n",
    "built_ins.register_binary_operator('4',   4)\n",
    "built_ins.register_binary_operator('/',   4, True)\n",
    "built_ins.register_binary_operator('//',  4, True)\n",
    "# built_ins.register_binary_operator('%',   4, True)\n",
    "built_ins.register_binary_operator('mod', 4, True)\n",
    "built_ins.register_binary_operator('^',   5, True)\n",
    "\n",
    "# matrix\n",
    "built_ins.register_binary_operator('#',   4, True)\n",
    "built_ins.register_binary_operator('matmul', 4, True)\n",
    "\n",
    "# vector\n",
    "built_ins.register_binary_operator('.*' , 4, True)\n",
    "built_ins.register_binary_operator('dot', 4, True)\n",
    "\n",
    "# root\n",
    "built_ins.register_left_unary_operator('$', 6)\n",
    "built_ins.register_binary_operator('$', 6)\n",
    "\n",
    "# functions as operators\n",
    "built_ins.register_left_unary_operator('ln', 2)\n",
    "built_ins.register_left_unary_operator('log2', 2)\n",
    "built_ins.register_left_unary_operator('log10', 2)\n",
    "\n",
    "# trigonometry\n",
    "built_ins.register_left_unary_operator('sin', 2)\n",
    "built_ins.register_left_unary_operator('cos', 2)\n",
    "built_ins.register_left_unary_operator('tan', 2)\n",
    "built_ins.register_left_unary_operator('asin', 2)\n",
    "built_ins.register_left_unary_operator('acos', 2)\n",
    "built_ins.register_left_unary_operator('atan', 2)\n",
    "\n",
    "# unit\n",
    "built_ins.register_binary_operator('implicit_unit', 9)\n",
    "built_ins.set_evaluation_parameter('implicit_unit', 'binary', 1, 'prefix', 'unit')\n",
    "\n",
    "# function call\n",
    "built_ins.register_binary_operator('implicit_call', 9)\n",
    "built_ins.set_evaluation_parameter('implicit_call', 'binary', 1, 'force_array', True)\n",
    "built_ins.register_binary_operator('?', 7)\n",
    "\n",
    "# function definition\n",
    "built_ins.register_binary_operator('=>', 1)\n",
    "built_ins.set_evaluation_parameter('=>', 'binary', 0, 'references', True)\n",
    "built_ins.set_evaluation_parameter('=>', 'binary', 1, 'evaluable', True)\n",
    "\n",
    "built_ins.register_binary_operator('=', 0)\n",
    "built_ins.set_evaluation_parameter('=', 'binary', 0, 'references', True)\n",
    "built_ins.set_evaluation_parameter('=', 'left_unary', 0, 'references', True)\n",
    "\n",
    "# conversion\n",
    "built_ins.register_binary_operator('@', -1, True)\n",
    "built_ins.set_evaluation_parameter('@', 'binary', 1, 'prefix', 'unit')"
   ]
  },
  {
   "cell_type": "markdown",
   "metadata": {
    "heading_collapsed": true
   },
   "source": [
    "### Operation Functions"
   ]
  },
  {
   "cell_type": "markdown",
   "metadata": {
    "heading_collapsed": true,
    "hidden": true
   },
   "source": [
    "#### Assignment: ="
   ]
  },
  {
   "cell_type": "code",
   "execution_count": 50,
   "metadata": {
    "ExecuteTime": {
     "end_time": "2020-09-09T13:29:00.564636Z",
     "start_time": "2020-09-09T13:29:00.549637Z"
    },
    "hidden": true
   },
   "outputs": [],
   "source": [
    "def assignment(environment, key, value):\n",
    "    \n",
    "    if type(key) == Array:\n",
    "        for k, v in zip(key, value):\n",
    "            assignment(environment, k, v)\n",
    "    else:\n",
    "        environment[key.first.value] = value\n",
    "        \n",
    "    return value\n",
    "\n",
    "def post_assignment(environment, key):\n",
    "    value = environment['']\n",
    "    return assignment(environment, key, value)\n",
    "\n",
    "\n",
    "built_ins.register_operation_function(\n",
    "    operation        = 'binary', \n",
    "    name             = '=', \n",
    "    function         = assignment, \n",
    "    parameter_names  = True, \n",
    "    parameter_types  = (Array, None), \n",
    "    parameter_ranks  = None, \n",
    "    parameter_shapes = None,\n",
    "    output_unit      = None\n",
    ")\n",
    "built_ins.register_operation_function(\n",
    "    operation        = 'binary', \n",
    "    name             = '=', \n",
    "    function         = assignment, \n",
    "    parameter_names  = True, \n",
    "    parameter_types  = (Reference, None), \n",
    "    parameter_ranks  = None, \n",
    "    parameter_shapes = None,\n",
    "    output_unit      = None\n",
    ")\n",
    "built_ins.register_operation_function(\n",
    "    operation        = 'left_unary', \n",
    "    name             = '=', \n",
    "    function         = post_assignment, \n",
    "    parameter_names  = True, \n",
    "    parameter_types  = (Reference,), \n",
    "    parameter_ranks  = None, \n",
    "    parameter_shapes = None,\n",
    "    output_unit      = None\n",
    ")\n"
   ]
  },
  {
   "cell_type": "markdown",
   "metadata": {
    "heading_collapsed": true,
    "hidden": true
   },
   "source": [
    "#### Function Definition: =>"
   ]
  },
  {
   "cell_type": "code",
   "execution_count": 51,
   "metadata": {
    "ExecuteTime": {
     "end_time": "2020-09-09T13:29:00.580642Z",
     "start_time": "2020-09-09T13:29:00.566638Z"
    },
    "hidden": true
   },
   "outputs": [],
   "source": [
    "def define_function(environment, parameters, evaluable):\n",
    "    \n",
    "    if type(parameters) == Tensor and parameters.dtype == Reference:\n",
    "        parameter_names = [parameters.first.value]\n",
    "    elif type(parameters) == Array:\n",
    "        parameter_names = [p.first.value for p in parameters.data]\n",
    "    elif type(parameters) == tuple:\n",
    "        parameter_names = list(parameters)\n",
    "    \n",
    "    parameter_types = tuple([None] * len(parameter_names))\n",
    "    \n",
    "    def function(environment):\n",
    "        return evaluable.eval(environment)\n",
    "    \n",
    "    function_signature = FunctionSignature('', function, parameter_names, parameter_types, parameter_ranks=None, parameter_shapes=None)\n",
    "\n",
    "    function_set = FunctionSet('')\n",
    "    function_set.add(function_signature)\n",
    "    \n",
    "    return function_set\n",
    "\n",
    "built_ins.register_operation_function(\n",
    "    operation        = 'binary', \n",
    "    name             = '=>', \n",
    "    function         = define_function, \n",
    "    parameter_names  = True, \n",
    "    parameter_types  = (Reference, None), \n",
    "    parameter_ranks  = None, \n",
    "    parameter_shapes = None,\n",
    "    output_unit      = None\n",
    ")\n",
    "built_ins.register_operation_function(\n",
    "    operation        = 'binary', \n",
    "    name             = '=>', \n",
    "    function         = define_function, \n",
    "    parameter_names  = True, \n",
    "    parameter_types  = (Array, None), \n",
    "    parameter_ranks  = None, \n",
    "    parameter_shapes = None,\n",
    "    output_unit      = None\n",
    ")\n"
   ]
  },
  {
   "cell_type": "markdown",
   "metadata": {
    "heading_collapsed": true,
    "hidden": true
   },
   "source": [
    "#### Unary Operations: -, +"
   ]
  },
  {
   "cell_type": "code",
   "execution_count": 52,
   "metadata": {
    "ExecuteTime": {
     "end_time": "2020-09-09T13:29:00.596639Z",
     "start_time": "2020-09-09T13:29:00.582640Z"
    },
    "hidden": true
   },
   "outputs": [],
   "source": [
    "built_ins.register_operation_function(\n",
    "    operation        = 'left_unary', \n",
    "    name             = '+', \n",
    "    function         = lambda t:Tensor(Real(+t.first.value)),\n",
    "    parameter_names  = None, \n",
    "    parameter_types  = (Real,), \n",
    "    parameter_ranks  = (0,), \n",
    "    parameter_shapes = None,\n",
    "    output_unit      = (1,)\n",
    ")\n",
    "built_ins.register_operation_function(\n",
    "    operation        = 'left_unary', \n",
    "    name             = '-', \n",
    "    function         = lambda t:Tensor(Real(-t.first.value)),\n",
    "    parameter_names  = None, \n",
    "    parameter_types  = (Real,), \n",
    "    parameter_ranks  = (0,), \n",
    "    parameter_shapes = None,\n",
    "    output_unit      = (1,)\n",
    ")\n"
   ]
  },
  {
   "cell_type": "markdown",
   "metadata": {
    "heading_collapsed": true,
    "hidden": true
   },
   "source": [
    "#### Binary Operantors: +, -, *, /, //, %, ^"
   ]
  },
  {
   "cell_type": "code",
   "execution_count": 53,
   "metadata": {
    "ExecuteTime": {
     "end_time": "2020-09-09T13:29:00.611641Z",
     "start_time": "2020-09-09T13:29:00.598643Z"
    },
    "hidden": true
   },
   "outputs": [],
   "source": [
    "# A + B\n",
    "built_ins.register_operation_function(\n",
    "    operation        = 'binary', \n",
    "    name             = '+', \n",
    "    function         = lambda a, b: Tensor(Real(a.first.value + b.first.value)), \n",
    "    parameter_names  = None, \n",
    "    parameter_types  = (Real, Real), \n",
    "    parameter_ranks  = (0, 0), \n",
    "    parameter_shapes = None,\n",
    "    output_unit      = (1, True)\n",
    ")\n",
    "\n",
    "# A - B\n",
    "built_ins.register_operation_function(\n",
    "    operation        = 'binary', \n",
    "    name             = '-', \n",
    "    function         = lambda a, b: Tensor(Real(a.first.value - b.first.value)), \n",
    "    parameter_names  = None, \n",
    "    parameter_types  = (Real, Real), \n",
    "    parameter_ranks  = (0, 0), \n",
    "    parameter_shapes = None,\n",
    "    output_unit      = (1, True)\n",
    ")\n",
    "\n",
    "# A * B\n",
    "built_ins.register_operation_function(\n",
    "    operation        = 'binary', \n",
    "    name             = '*', \n",
    "    function         = lambda a, b: Tensor(Real(a.first.value * b.first.value)), \n",
    "    parameter_names  = None, \n",
    "    parameter_types  = (Real, Real), \n",
    "    parameter_ranks  = (0, 0), \n",
    "    parameter_shapes = None,\n",
    "    output_unit      = (1, 1)\n",
    ")\n",
    "\n",
    "# A / B\n",
    "built_ins.register_operation_function(\n",
    "    operation        = 'binary', \n",
    "    name             = '/', \n",
    "    function         = lambda a, b: Tensor(Real(a.first.value / b.first.value)), \n",
    "    parameter_names  = None, \n",
    "    parameter_types  = (Real, Real), \n",
    "    parameter_ranks  = (0, 0), \n",
    "    parameter_shapes = None,\n",
    "    output_unit      = (1, -1)\n",
    ")\n",
    "\n",
    "# A // B\n",
    "built_ins.register_operation_function(\n",
    "    operation        = 'binary', \n",
    "    name             = '//', \n",
    "    function         = lambda a, b: Tensor(Real(a.first.value // b.first.value)), \n",
    "    parameter_names  = None, \n",
    "    parameter_types  = (Real, Real), \n",
    "    parameter_ranks  = (0, 0), \n",
    "    parameter_shapes = None,\n",
    "    output_unit      = (1, -1)\n",
    ")\n",
    "\n",
    "# A % B\n",
    "built_ins.register_operation_function(\n",
    "    operation        = 'binary', \n",
    "    name             = 'mod', \n",
    "    function         = lambda a, b: Tensor(Real(a.first.value % b.first.value)), \n",
    "    parameter_names  = None, \n",
    "    parameter_types  = (Real, Real), \n",
    "    parameter_ranks  = (0, 0), \n",
    "    parameter_shapes = None,\n",
    "    output_unit      = (1, None)\n",
    ")\n",
    "\n",
    "# A ^ B\n",
    "built_ins.register_operation_function(\n",
    "    operation        = 'binary', \n",
    "    name             = '^', \n",
    "    function         = lambda a, b: Tensor(Real(a.first.value ** b.first.value)), \n",
    "    parameter_names  = None, \n",
    "    parameter_types  = (Real, Real), \n",
    "    parameter_ranks  = (0, 0), \n",
    "    parameter_shapes = None,\n",
    "    output_unit      = (1, None)\n",
    ")\n"
   ]
  },
  {
   "cell_type": "markdown",
   "metadata": {
    "heading_collapsed": true,
    "hidden": true
   },
   "source": [
    "#### Binary Unit Operantors: *, /, ^"
   ]
  },
  {
   "cell_type": "code",
   "execution_count": 54,
   "metadata": {
    "ExecuteTime": {
     "end_time": "2020-09-09T13:29:00.627166Z",
     "start_time": "2020-09-09T13:29:00.613640Z"
    },
    "hidden": true
   },
   "outputs": [],
   "source": [
    "def units_add(unit1, unit2):\n",
    "    new_unit = Units()\n",
    "    new_unit.add(unit1)\n",
    "    new_unit.add(unit2)\n",
    "    return new_unit\n",
    "    \n",
    "# U1 * U2\n",
    "built_ins.register_operation_function(\n",
    "    operation        = 'binary', \n",
    "    name             = '*', \n",
    "    function         = units_add, \n",
    "    parameter_names  = None, \n",
    "    parameter_types  = (Unit, Unit), \n",
    "    parameter_ranks  = (0, 0), \n",
    "    parameter_shapes = None,\n",
    "    output_unit      = (1, 1)\n",
    ")\n",
    "\n",
    "def units_sub(unit1, unit2):\n",
    "    new_unit = Units()\n",
    "    new_unit.add(unit1)\n",
    "    new_unit.sub(unit2)\n",
    "    return new_unit\n",
    "\n",
    "# U1 / U2\n",
    "built_ins.register_operation_function(\n",
    "    operation        = 'binary', \n",
    "    name             = '/', \n",
    "    function         = units_sub, \n",
    "    parameter_names  = None, \n",
    "    parameter_types  = (Unit, Unit), \n",
    "    parameter_ranks  = (0, 0), \n",
    "    parameter_shapes = None,\n",
    "    output_unit      = (1, -1)\n",
    ")\n",
    "\n",
    "def units_power(unit, tensor):\n",
    "    new_unit = Units()\n",
    "    new_unit.add(unit, int(tensor.first.value))\n",
    "    return new_unit\n",
    "    \n",
    "# U ^ B\n",
    "built_ins.register_operation_function(\n",
    "    operation        = 'binary', \n",
    "    name             = '^', \n",
    "    function         = units_power, \n",
    "    parameter_names  = None, \n",
    "    parameter_types  = (Unit, Real), \n",
    "    parameter_ranks  = (0, 0), \n",
    "    parameter_shapes = None,\n",
    "    output_unit      = None\n",
    ")\n"
   ]
  },
  {
   "cell_type": "markdown",
   "metadata": {
    "heading_collapsed": true,
    "hidden": true
   },
   "source": [
    "#### Matrix Multiplication: # #"
   ]
  },
  {
   "cell_type": "code",
   "execution_count": 55,
   "metadata": {
    "ExecuteTime": {
     "end_time": "2020-09-09T13:29:00.642178Z",
     "start_time": "2020-09-09T13:29:00.628167Z"
    },
    "hidden": true
   },
   "outputs": [],
   "source": [
    "def matmul(A, B):\n",
    "    \n",
    "    a_shape = A.shape\n",
    "    b_shape = B.shape\n",
    "    \n",
    "    assert A.rank >= 2 and B.rank >= 2, 'left and right sides must be matrices'\n",
    "    assert a_shape[-1] == b_shape[-2], 'left n_cols must equal right n_rows'\n",
    "    \n",
    "    n_rows = a_shape[0]\n",
    "    n_cols = b_shape[1]\n",
    "    n_vec = a_shape[1]\n",
    "    shape = (n_rows , n_cols)\n",
    "    \n",
    "    data = np.empty(shape, dtype=object)\n",
    "    \n",
    "    for row in range(n_rows):\n",
    "        for col in range(n_cols):\n",
    "            v = 0\n",
    "            for i in range(n_vec):\n",
    "                v += A[(row, i)].first.value * B[(i, col)].first.value\n",
    "            data[row,col] = Real(v)\n",
    "    \n",
    "    return Tensor(data, shape)\n",
    "\n",
    "built_ins.register_operation_function(\n",
    "    operation        = 'binary', \n",
    "    name             = ['#', 'matmul'], \n",
    "    function         = matmul, \n",
    "    parameter_names  = None, \n",
    "    parameter_types  = (Real, Real), \n",
    "    parameter_ranks  = (2, 2), \n",
    "    parameter_shapes = None\n",
    ")\n"
   ]
  },
  {
   "cell_type": "markdown",
   "metadata": {
    "heading_collapsed": true,
    "hidden": true
   },
   "source": [
    "#### Vector Dot Product: .*"
   ]
  },
  {
   "cell_type": "code",
   "execution_count": 56,
   "metadata": {
    "ExecuteTime": {
     "end_time": "2020-09-09T13:29:00.657244Z",
     "start_time": "2020-09-09T13:29:00.644158Z"
    },
    "hidden": true
   },
   "outputs": [],
   "source": [
    "def dot(A, B):\n",
    "    \n",
    "    a_shape = A.shape\n",
    "    b_shape = B.shape\n",
    "    \n",
    "    assert A.rank == 1 and B.rank == 1, 'left and right sides must be vectors'\n",
    "    assert a_shape == b_shape, 'vector length must match'\n",
    "    \n",
    "    n_vec = a_shape[-1]\n",
    "    \n",
    "    v = 0\n",
    "    for i in range(n_vec):\n",
    "        v += A[(i,)].first.value * B[(i,)].first.value\n",
    "    \n",
    "    return Tensor(Real(v))\n",
    "\n",
    "built_ins.register_operation_function(\n",
    "    operation        = 'binary', \n",
    "    name             = ['.*', 'dot'], \n",
    "    function         = dot, \n",
    "    parameter_names  = None, \n",
    "    parameter_types  = (Real, Real), \n",
    "    parameter_ranks  = (1, 1), \n",
    "    parameter_shapes = None\n",
    ")\n"
   ]
  },
  {
   "cell_type": "markdown",
   "metadata": {
    "heading_collapsed": true,
    "hidden": true
   },
   "source": [
    "#### Root and Square root: $"
   ]
  },
  {
   "cell_type": "code",
   "execution_count": 57,
   "metadata": {
    "ExecuteTime": {
     "end_time": "2020-09-09T13:29:00.672882Z",
     "start_time": "2020-09-09T13:29:00.659245Z"
    },
    "hidden": true
   },
   "outputs": [],
   "source": [
    "def root(A, B):\n",
    "    return Tensor(Real(B.first.value ** (Decimal(1) / A.first.value)))\n",
    "\n",
    "def sqrt(A):\n",
    "    return Tensor(Real(A.first.value ** Decimal(0.5)))\n",
    "\n",
    "built_ins.register_operation_function(\n",
    "    operation        = 'left_unary', \n",
    "    name             = '$', \n",
    "    function         = sqrt, \n",
    "    parameter_names  = None, \n",
    "    parameter_types  = (Real,), \n",
    "    parameter_ranks  = (0,), \n",
    "    parameter_shapes = None,\n",
    "    output_unit      = (1,)\n",
    ")\n",
    "built_ins.register_operation_function(\n",
    "    operation        = 'binary', \n",
    "    name             = '$', \n",
    "    function         = root, \n",
    "    parameter_names  = None, \n",
    "    parameter_types  = (Real, Real), \n",
    "    parameter_ranks  = (0, 0), \n",
    "    parameter_shapes = None,\n",
    "    output_unit      = (None, 1)\n",
    ")\n"
   ]
  },
  {
   "cell_type": "markdown",
   "metadata": {
    "heading_collapsed": true,
    "hidden": true
   },
   "source": [
    "#### Logarithm: ln, log10, log2, log(b, v)"
   ]
  },
  {
   "cell_type": "code",
   "execution_count": 58,
   "metadata": {
    "ExecuteTime": {
     "end_time": "2020-09-09T13:29:00.688881Z",
     "start_time": "2020-09-09T13:29:00.674880Z"
    },
    "hidden": true
   },
   "outputs": [],
   "source": [
    "def log2(A):\n",
    "    return Tensor(Real( math.log2( A.first.value ) ))\n",
    "    \n",
    "def log10(A):\n",
    "    return Tensor(Real( math.log10( A.first.value ) ))\n",
    "    \n",
    "def ln(A):\n",
    "    return Tensor(Real( math.log( A.first.value ) ))\n",
    "    \n",
    "built_ins.register_operation_function(\n",
    "    operation        = 'left_unary', \n",
    "    name             = 'log2', \n",
    "    function         = log2, \n",
    "    parameter_names  = None, \n",
    "    parameter_types  = (Real,), \n",
    "    parameter_ranks  = (0,), \n",
    "    parameter_shapes = None,\n",
    "    output_unit      = (1, None)\n",
    ")\n",
    "    \n",
    "built_ins.register_operation_function(\n",
    "    operation        = 'left_unary', \n",
    "    name             = 'log10', \n",
    "    function         = log10, \n",
    "    parameter_names  = None, \n",
    "    parameter_types  = (Real,), \n",
    "    parameter_ranks  = (0,), \n",
    "    parameter_shapes = None,\n",
    "    output_unit      = (1, None)\n",
    ")\n",
    "    \n",
    "built_ins.register_operation_function(\n",
    "    operation        = 'left_unary', \n",
    "    name             = 'ln', \n",
    "    function         = ln, \n",
    "    parameter_names  = None, \n",
    "    parameter_types  = (Real,), \n",
    "    parameter_ranks  = (0,), \n",
    "    parameter_shapes = None,\n",
    "    output_unit      = (1, None)\n",
    ")"
   ]
  },
  {
   "cell_type": "markdown",
   "metadata": {
    "heading_collapsed": true,
    "hidden": true
   },
   "source": [
    "#### Trigonometry"
   ]
  },
  {
   "cell_type": "code",
   "execution_count": 59,
   "metadata": {
    "ExecuteTime": {
     "end_time": "2020-09-09T13:29:00.704893Z",
     "start_time": "2020-09-09T13:29:00.690881Z"
    },
    "hidden": true
   },
   "outputs": [],
   "source": [
    "def sin(A):\n",
    "    return Tensor(Real( math.sin( A.first.value ) ))\n",
    "\n",
    "def cos(A):\n",
    "    return Tensor(Real( math.cos( A.first.value ) ))\n",
    "\n",
    "def tan(A):\n",
    "    return Tensor(Real( math.tan( A.first.value ) ))\n",
    "  \n",
    "built_ins.register_operation_function(\n",
    "    operation        = 'left_unary', \n",
    "    name             = 'sin', \n",
    "    function         = sin, \n",
    "    parameter_names  = None, \n",
    "    parameter_types  = (Real,), \n",
    "    parameter_ranks  = (0,), \n",
    "    parameter_shapes = None,\n",
    "    output_unit      = (None,)\n",
    ")\n",
    "  \n",
    "built_ins.register_operation_function(\n",
    "    operation        = 'left_unary', \n",
    "    name             = 'cos', \n",
    "    function         = cos, \n",
    "    parameter_names  = None, \n",
    "    parameter_types  = (Real,), \n",
    "    parameter_ranks  = (0,), \n",
    "    parameter_shapes = None,\n",
    "    output_unit      = (None,)\n",
    ")\n",
    "  \n",
    "built_ins.register_operation_function(\n",
    "    operation        = 'left_unary', \n",
    "    name             = 'tan', \n",
    "    function         = tan, \n",
    "    parameter_names  = None, \n",
    "    parameter_types  = (Real,), \n",
    "    parameter_ranks  = (0,), \n",
    "    parameter_shapes = None,\n",
    "    output_unit      = (None,)\n",
    ")"
   ]
  },
  {
   "cell_type": "code",
   "execution_count": 60,
   "metadata": {
    "ExecuteTime": {
     "end_time": "2020-09-09T13:29:00.720369Z",
     "start_time": "2020-09-09T13:29:00.706897Z"
    },
    "hidden": true
   },
   "outputs": [],
   "source": [
    "def asin(A):\n",
    "    return Tensor(Real( math.asin( A.first.value ) ))\n",
    "\n",
    "def acos(A):\n",
    "    return Tensor(Real( math.acos( A.first.value ) ))\n",
    "\n",
    "def atan(A):\n",
    "    return Tensor(Real( math.atan( A.first.value ) ))\n",
    "  \n",
    "built_ins.register_operation_function(\n",
    "    operation        = 'left_unary', \n",
    "    name             = 'asin', \n",
    "    function         = asin, \n",
    "    parameter_names  = None, \n",
    "    parameter_types  = (Real,), \n",
    "    parameter_ranks  = (0,), \n",
    "    parameter_shapes = None,\n",
    "    output_unit      = (rad,)\n",
    ")\n",
    "  \n",
    "built_ins.register_operation_function(\n",
    "    operation        = 'left_unary', \n",
    "    name             = 'acos', \n",
    "    function         = acos, \n",
    "    parameter_names  = None, \n",
    "    parameter_types  = (Real,), \n",
    "    parameter_ranks  = (0,), \n",
    "    parameter_shapes = None,\n",
    "    output_unit      = (rad,)\n",
    ")\n",
    "  \n",
    "built_ins.register_operation_function(\n",
    "    operation        = 'left_unary', \n",
    "    name             = 'atan', \n",
    "    function         = atan, \n",
    "    parameter_names  = None, \n",
    "    parameter_types  = (Real,), \n",
    "    parameter_ranks  = (0,), \n",
    "    parameter_shapes = None,\n",
    "    output_unit      = (rad,)\n",
    ")"
   ]
  },
  {
   "cell_type": "markdown",
   "metadata": {
    "heading_collapsed": true,
    "hidden": true
   },
   "source": [
    "#### Factorial: !"
   ]
  },
  {
   "cell_type": "code",
   "execution_count": 61,
   "metadata": {
    "ExecuteTime": {
     "end_time": "2020-09-09T13:29:00.736229Z",
     "start_time": "2020-09-09T13:29:00.722221Z"
    },
    "hidden": true
   },
   "outputs": [],
   "source": [
    "def factorial(A):\n",
    "    count = int(A.first.value)\n",
    "    value = Decimal(1)\n",
    "    for i in range(1, count+1):\n",
    "        value *= Decimal(i)\n",
    "    \n",
    "    return Tensor(Real(value))\n",
    "\n",
    "built_ins.register_operation_function(\n",
    "    operation        = 'right_unary', \n",
    "    name             = '!', \n",
    "    function         = factorial, \n",
    "    parameter_names  = None, \n",
    "    parameter_types  = (Real,), \n",
    "    parameter_ranks  = (0,), \n",
    "    parameter_shapes = None\n",
    ")"
   ]
  },
  {
   "cell_type": "markdown",
   "metadata": {
    "heading_collapsed": true,
    "hidden": true
   },
   "source": [
    "#### Function Call"
   ]
  },
  {
   "cell_type": "code",
   "execution_count": 62,
   "metadata": {
    "ExecuteTime": {
     "end_time": "2020-09-09T13:29:00.751851Z",
     "start_time": "2020-09-09T13:29:00.737230Z"
    },
    "hidden": true
   },
   "outputs": [],
   "source": [
    "def function_call(environment, function_set, parameters):\n",
    "    return function_set.eval(environment, parameters)\n",
    "\n",
    "def piped_function_call(environment, parameters, function_set):\n",
    "    return function_call(environment, function_set, parameters)\n",
    "\n",
    "built_ins.register_operation_function(\n",
    "    operation        = 'binary', \n",
    "    name             = 'implicit_call', \n",
    "    function         = function_call, \n",
    "    parameter_names  = True, \n",
    "    parameter_types  = (FunctionSet, Array), \n",
    "    parameter_ranks  = None, \n",
    "    parameter_shapes = None\n",
    ")\n",
    "built_ins.register_operation_function(\n",
    "    operation        = 'binary', \n",
    "    name             = '?', \n",
    "    function         = piped_function_call, \n",
    "    parameter_names  = True, \n",
    "    parameter_types  = (None, FunctionSet), \n",
    "    parameter_ranks  = None, \n",
    "    parameter_shapes = None\n",
    ")"
   ]
  },
  {
   "cell_type": "markdown",
   "metadata": {
    "heading_collapsed": true,
    "hidden": true
   },
   "source": [
    "#### Tensor Lookup"
   ]
  },
  {
   "cell_type": "code",
   "execution_count": 63,
   "metadata": {
    "ExecuteTime": {
     "end_time": "2020-09-09T13:29:00.766914Z",
     "start_time": "2020-09-09T13:29:00.753824Z"
    },
    "hidden": true
   },
   "outputs": [],
   "source": [
    "def tensor_lookup(environment, tensor, parameters):\n",
    "    index = [int(p.first.value) for p in parameters]\n",
    "    return tensor[tuple(index)]\n",
    "\n",
    "built_ins.register_operation_function(\n",
    "    operation        = 'binary', \n",
    "    name             = 'implicit_call', \n",
    "    function         = tensor_lookup, \n",
    "    parameter_names  = True, \n",
    "    parameter_types  = (Real, Array), \n",
    "    parameter_ranks  = None, \n",
    "    parameter_shapes = None\n",
    ")"
   ]
  },
  {
   "cell_type": "markdown",
   "metadata": {
    "heading_collapsed": true,
    "hidden": true
   },
   "source": [
    "#### Array Lookup"
   ]
  },
  {
   "cell_type": "code",
   "execution_count": 64,
   "metadata": {
    "ExecuteTime": {
     "end_time": "2020-09-09T13:29:00.782207Z",
     "start_time": "2020-09-09T13:29:00.768916Z"
    },
    "hidden": true
   },
   "outputs": [],
   "source": [
    "def array_lookup(environment, array, parameters):\n",
    "    index = [int(p.first.value) for p in parameters]\n",
    "    return array[tuple(index)]\n",
    "\n",
    "built_ins.register_operation_function(\n",
    "    operation        = 'binary', \n",
    "    name             = 'implicit_call', \n",
    "    function         = array_lookup, \n",
    "    parameter_names  = True, \n",
    "    parameter_types  = (Array, Array), \n",
    "    parameter_ranks  = None, \n",
    "    parameter_shapes = None\n",
    ")"
   ]
  },
  {
   "cell_type": "markdown",
   "metadata": {
    "heading_collapsed": true,
    "hidden": true
   },
   "source": [
    "#### Conversion @, [implocit]"
   ]
  },
  {
   "cell_type": "code",
   "execution_count": 65,
   "metadata": {
    "ExecuteTime": {
     "end_time": "2020-09-09T13:29:00.798261Z",
     "start_time": "2020-09-09T13:29:00.784176Z"
    },
    "hidden": true
   },
   "outputs": [],
   "source": [
    "def unit_attachment(environment, tensor, units):\n",
    "    if type(units) == Unit:\n",
    "        units = Units(units)\n",
    "    converted = units.convert_forwards(tensor)\n",
    "    converted.first.unit = units\n",
    "    return converted\n",
    "\n",
    "def unit_change(environment, tensor, units):\n",
    "    if type(units) == Unit:\n",
    "        units = Units(units)\n",
    "    if units == tensor.first.unit:\n",
    "        tensor.first.unit = units\n",
    "    else:\n",
    "        raise Exception('Units not compatiple')\n",
    "    \n",
    "    return tensor\n",
    "\n",
    "built_ins.register_operation_function(\n",
    "    operation        = 'binary', \n",
    "    name             = 'implicit_unit', \n",
    "    function         = unit_attachment, \n",
    "    parameter_names  = True, \n",
    "    parameter_types  = (None, Unit), \n",
    "    parameter_ranks  = (1, 1), \n",
    "    parameter_shapes = None\n",
    ")\n",
    "built_ins.register_operation_function(\n",
    "    operation        = 'binary', \n",
    "    name             = '@', \n",
    "    function         = unit_change, \n",
    "    parameter_names  = True, \n",
    "    parameter_types  = (None, Unit), \n",
    "    parameter_ranks  = None, \n",
    "    parameter_shapes = None\n",
    ")"
   ]
  },
  {
   "cell_type": "markdown",
   "metadata": {
    "heading_collapsed": true
   },
   "source": [
    "### Builtin functions"
   ]
  },
  {
   "cell_type": "markdown",
   "metadata": {
    "heading_collapsed": true,
    "hidden": true
   },
   "source": [
    "#### Absolute value: abs"
   ]
  },
  {
   "cell_type": "code",
   "execution_count": 66,
   "metadata": {
    "ExecuteTime": {
     "end_time": "2020-09-09T13:29:00.814273Z",
     "start_time": "2020-09-09T13:29:00.800262Z"
    },
    "hidden": true
   },
   "outputs": [],
   "source": [
    "def absolute(A):\n",
    "    return Tensor(Real(abs(A.first.value)))\n",
    "\n",
    "built_ins.register_function('abs', absolute, None, (Real,), (0,))"
   ]
  },
  {
   "cell_type": "markdown",
   "metadata": {
    "heading_collapsed": true,
    "hidden": true
   },
   "source": [
    "#### Round: round"
   ]
  },
  {
   "cell_type": "code",
   "execution_count": 67,
   "metadata": {
    "ExecuteTime": {
     "end_time": "2020-09-09T13:29:00.830067Z",
     "start_time": "2020-09-09T13:29:00.816273Z"
    },
    "hidden": true
   },
   "outputs": [],
   "source": [
    "def _round(A):\n",
    "    return Tensor(Real( A.first.value.quantize(Decimal(1)) ))\n",
    "\n",
    "built_ins.register_function('round', _round, None, (Real,), (0,))"
   ]
  },
  {
   "cell_type": "markdown",
   "metadata": {
    "heading_collapsed": true,
    "hidden": true
   },
   "source": [
    "#### Round down: floor"
   ]
  },
  {
   "cell_type": "code",
   "execution_count": 68,
   "metadata": {
    "ExecuteTime": {
     "end_time": "2020-09-09T13:29:00.845713Z",
     "start_time": "2020-09-09T13:29:00.836714Z"
    },
    "hidden": true
   },
   "outputs": [],
   "source": [
    "def floor(A):\n",
    "    return Tensor(Real( A.first.value.quantize(Decimal(1), rounding=decimal.ROUND_DOWN) ))\n",
    "\n",
    "built_ins.register_function('floor', floor, None, (Real,), (0,))"
   ]
  },
  {
   "cell_type": "markdown",
   "metadata": {
    "heading_collapsed": true,
    "hidden": true
   },
   "source": [
    "#### Round up: ceil"
   ]
  },
  {
   "cell_type": "code",
   "execution_count": 69,
   "metadata": {
    "ExecuteTime": {
     "end_time": "2020-09-09T13:29:00.861748Z",
     "start_time": "2020-09-09T13:29:00.849715Z"
    },
    "hidden": true
   },
   "outputs": [],
   "source": [
    "def ceil(A):\n",
    "    return Tensor(Real( A.first.value.quantize(Decimal(1), rounding=decimal.ROUND_UP) ))\n",
    "\n",
    "built_ins.register_function('ceil', ceil, None, (Real,), (0,))"
   ]
  },
  {
   "cell_type": "markdown",
   "metadata": {
    "heading_collapsed": true,
    "hidden": true
   },
   "source": [
    "#### Logarithm: log"
   ]
  },
  {
   "cell_type": "code",
   "execution_count": 70,
   "metadata": {
    "ExecuteTime": {
     "end_time": "2020-09-09T13:29:00.877739Z",
     "start_time": "2020-09-09T13:29:00.863726Z"
    },
    "hidden": true
   },
   "outputs": [],
   "source": [
    "def log(A, B):\n",
    "    return Tensor(Real( math.log( A.first.value, B.first.value ) ))\n",
    "    \n",
    "built_ins.register_function('log', log, None, (Real,Real), (0,0))"
   ]
  },
  {
   "cell_type": "markdown",
   "metadata": {
    "heading_collapsed": true
   },
   "source": [
    "### Conversion Specifiers"
   ]
  },
  {
   "cell_type": "markdown",
   "metadata": {
    "heading_collapsed": true,
    "hidden": true
   },
   "source": [
    "#### Distance"
   ]
  },
  {
   "cell_type": "code",
   "execution_count": 71,
   "metadata": {
    "ExecuteTime": {
     "end_time": "2020-09-09T13:29:00.893739Z",
     "start_time": "2020-09-09T13:29:00.879742Z"
    },
    "hidden": true
   },
   "outputs": [],
   "source": [
    "# def km_forwards(km):\n",
    "#     return Real(km.value * Decimal(1000))\n",
    "\n",
    "# def km_backwards(m):\n",
    "#     return Real(m.value / Decimal(1000))\n",
    "\n",
    "# def  m_forwards(m):\n",
    "#     return Real(m.value)\n",
    "\n",
    "# def  m_backwards(m):\n",
    "#     return Real(m.value)\n",
    "\n",
    "# def cm_forwards(cm):\n",
    "#     return Real(cm.value / Decimal(100))\n",
    "\n",
    "# def cm_backwards(m):\n",
    "#     return Real(m.value * Decimal(100))\n",
    "\n",
    "# def mm_forwards(mm):\n",
    "#     return Real(mm.value / Decimal(1000))\n",
    "\n",
    "# def mm_backwards(m):\n",
    "#     return Real(m.value * Decimal(1000))\n",
    "\n",
    "# def um_forwards(um):\n",
    "#     return Real(um.value / Decimal(1000000))\n",
    "\n",
    "# def um_backwards(m):\n",
    "#     return Real(m.value * Decimal(1000000))\n",
    "\n",
    "# def nm_forwards(nm):\n",
    "#     return Real(nm.value / Decimal(1000000000))\n",
    "\n",
    "# def nm_backwards(m):\n",
    "#     return Real(m.value * Decimal(1000000000))\n",
    "\n",
    "# def pm_forwards(pm):\n",
    "#     return Real(pm.value / Decimal(1000000000000))\n",
    "\n",
    "# def pm_backwards(m):\n",
    "#     return Real(m.value * Decimal(1000000000000))\n",
    "\n",
    "\n",
    "# def in_forwards(_in):\n",
    "#     return Real(_in.value * Decimal('0.0254'))\n",
    "\n",
    "# def in_backwards(m):\n",
    "#     return Real(m.value / Decimal('0.0254'))\n",
    "\n",
    "# def ft_forwards(ft):\n",
    "#     return Real(ft.value * Decimal('0.3048'))\n",
    "\n",
    "# def ft_backwards(m):\n",
    "#     return Real(m.value / Decimal('0.3048'))\n",
    "\n",
    "# def yd_forwards(yd):\n",
    "#     return Real(yd.value * Decimal('0.9144'))\n",
    "\n",
    "# def yd_backwards(m):\n",
    "#     return Real(m.value / Decimal('0.9144'))\n",
    "\n",
    "# def mi_forwards(mi):\n",
    "#     return Real(mi.value * Decimal('1609.344'))\n",
    "\n",
    "# def mi_backwards(m):\n",
    "#     return Real(m.value / Decimal('1609.344'))\n",
    "\n",
    "# built_ins.register_conversion_function_set('km', km_forwards, km_backwards)\n",
    "# built_ins.register_conversion_function_set( 'm',  m_forwards,  m_backwards)\n",
    "# built_ins.register_conversion_function_set('cm', cm_forwards, cm_backwards)\n",
    "# built_ins.register_conversion_function_set('mm', mm_forwards, mm_backwards)\n",
    "# built_ins.register_conversion_function_set('um', um_forwards, um_backwards)\n",
    "# built_ins.register_conversion_function_set('nm', nm_forwards, nm_backwards)\n",
    "# built_ins.register_conversion_function_set('pm', pm_forwards, pm_backwards)\n",
    "\n",
    "# built_ins.register_conversion_function_set('in', in_forwards, in_backwards)\n",
    "# built_ins.register_conversion_function_set('ft', ft_forwards, ft_backwards)\n",
    "# built_ins.register_conversion_function_set('yd', yd_forwards, yd_backwards)\n",
    "# built_ins.register_conversion_function_set('mi', mi_forwards, mi_backwards)"
   ]
  },
  {
   "cell_type": "markdown",
   "metadata": {
    "heading_collapsed": true,
    "hidden": true
   },
   "source": [
    "#### Area"
   ]
  },
  {
   "cell_type": "code",
   "execution_count": 72,
   "metadata": {
    "ExecuteTime": {
     "end_time": "2020-09-09T13:29:00.909739Z",
     "start_time": "2020-09-09T13:29:00.895740Z"
    },
    "hidden": true
   },
   "outputs": [],
   "source": [
    "# def km2_forwards(km):\n",
    "#     return Real(km.value * Decimal(1000**2))\n",
    "\n",
    "# def km2_backwards(m):\n",
    "#     return Real(m.value / Decimal(1000**2))\n",
    "\n",
    "# def  m2_forwards(m):\n",
    "#     return Real(m.value)\n",
    "\n",
    "# def  m2_backwards(m):\n",
    "#     return Real(m.value)\n",
    "\n",
    "# def cm2_forwards(cm):\n",
    "#     return Real(cm.value / Decimal(100**2))\n",
    "\n",
    "# def cm2_backwards(m):\n",
    "#     return Real(m.value * Decimal(100**2))\n",
    "\n",
    "# def mm2_forwards(mm):\n",
    "#     return Real(mm.value / Decimal(1000**2))\n",
    "\n",
    "# def mm2_backwards(m):\n",
    "#     return Real(m.value * Decimal(1000**2))\n",
    "\n",
    "# def um2_forwards(um):\n",
    "#     return Real(um.value / Decimal(1000000**2))\n",
    "\n",
    "# def um2_backwards(m):\n",
    "#     return Real(m.value * Decimal(1000000**2))\n",
    "\n",
    "# def nm2_forwards(nm):\n",
    "#     return Real(nm.value / Decimal(1000000000**2))\n",
    "\n",
    "# def nm2_backwards(m):\n",
    "#     return Real(m.value * Decimal(1000000000**2))\n",
    "\n",
    "# def pm2_forwards(pm):\n",
    "#     return Real(pm.value / Decimal(1000000000000**2))\n",
    "\n",
    "# def pm2_backwards(m):\n",
    "#     return Real(m.value * Decimal(1000000000000**2))\n",
    "\n",
    "# built_ins.register_conversion_function_set('km2', km2_forwards, km2_backwards)\n",
    "# built_ins.register_conversion_function_set( 'm2',  m2_forwards,  m2_backwards)\n",
    "# built_ins.register_conversion_function_set('cm2', cm2_forwards, cm2_backwards)\n",
    "# built_ins.register_conversion_function_set('mm2', mm2_forwards, mm2_backwards)\n",
    "# built_ins.register_conversion_function_set('um2', um2_forwards, um2_backwards)\n",
    "# built_ins.register_conversion_function_set('nm2', nm2_forwards, nm2_backwards)\n",
    "# built_ins.register_conversion_function_set('pm2', pm2_forwards, pm2_backwards)"
   ]
  },
  {
   "cell_type": "markdown",
   "metadata": {
    "heading_collapsed": true,
    "hidden": true
   },
   "source": [
    "#### Volume"
   ]
  },
  {
   "cell_type": "code",
   "execution_count": 73,
   "metadata": {
    "ExecuteTime": {
     "end_time": "2020-09-09T13:29:00.924753Z",
     "start_time": "2020-09-09T13:29:00.911740Z"
    },
    "hidden": true
   },
   "outputs": [],
   "source": [
    "# def km3_forwards(km):\n",
    "#     return Real(km.value * Decimal(1000**3))\n",
    "\n",
    "# def km3_backwards(m):\n",
    "#     return Real(m.value / Decimal(1000**3))\n",
    "\n",
    "# def  m3_forwards(m):\n",
    "#     return Real(m.value)\n",
    "\n",
    "# def  m3_backwards(m):\n",
    "#     return Real(m.value)\n",
    "\n",
    "# def   l_forwards(l):\n",
    "#     return Real(l.value / Decimal(10**3))\n",
    "\n",
    "# def   l_backwards(m):\n",
    "#     return Real(m.value * Decimal(10**3))\n",
    "\n",
    "# def cm3_forwards(cm):\n",
    "#     return Real(cm.value / Decimal(100**3))\n",
    "\n",
    "# def cm3_backwards(m):\n",
    "#     return Real(m.value * Decimal(100**3))\n",
    "\n",
    "# def mm3_forwards(mm):\n",
    "#     return Real(mm.value / Decimal(1000**3))\n",
    "\n",
    "# def mm3_backwards(m):\n",
    "#     return Real(m.value * Decimal(1000**3))\n",
    "\n",
    "# def um3_forwards(um):\n",
    "#     return Real(um.value / Decimal(1000000**3))\n",
    "\n",
    "# def um3_backwards(m):\n",
    "#     return Real(m.value * Decimal(1000000**3))\n",
    "\n",
    "# def nm3_forwards(nm):\n",
    "#     return Real(nm.value / Decimal(1000000000**3))\n",
    "\n",
    "# def nm3_backwards(m):\n",
    "#     return Real(m.value * Decimal(1000000000**3))\n",
    "\n",
    "# def pm3_forwards(pm):\n",
    "#     return Real(pm.value / Decimal(1000000000000**3))\n",
    "\n",
    "# def pm3_backwards(m):\n",
    "#     return Real(m.value * Decimal(1000000000000**3))\n",
    "\n",
    "# built_ins.register_conversion_function_set('km3', km3_forwards, km3_backwards)\n",
    "# built_ins.register_conversion_function_set( 'm3',  m3_forwards,  m3_backwards)\n",
    "# built_ins.register_conversion_function_set(  'l',   l_forwards,   l_backwards)\n",
    "# built_ins.register_conversion_function_set('cm3', cm3_forwards, cm3_backwards)\n",
    "# built_ins.register_conversion_function_set( 'ml', cm3_forwards, cm3_backwards)\n",
    "# built_ins.register_conversion_function_set('mm3', mm3_forwards, mm3_backwards)\n",
    "# built_ins.register_conversion_function_set('um3', um3_forwards, um3_backwards)\n",
    "# built_ins.register_conversion_function_set('nm3', nm3_forwards, nm3_backwards)\n",
    "# built_ins.register_conversion_function_set('pm3', pm3_forwards, pm3_backwards)"
   ]
  },
  {
   "cell_type": "markdown",
   "metadata": {
    "heading_collapsed": true,
    "hidden": true
   },
   "source": [
    "#### Time"
   ]
  },
  {
   "cell_type": "code",
   "execution_count": 74,
   "metadata": {
    "ExecuteTime": {
     "end_time": "2020-09-09T13:29:00.940862Z",
     "start_time": "2020-09-09T13:29:00.926753Z"
    },
    "hidden": true
   },
   "outputs": [],
   "source": [
    "# def  ms_forwards(ms):\n",
    "#     return Real(ms.value / Decimal(1000))\n",
    "\n",
    "# def  ms_backwards(s):\n",
    "#     return Real(s.value * Decimal(1000))\n",
    "\n",
    "# def   s_forwards(s):\n",
    "#     return Real(s.value)\n",
    "\n",
    "# def   s_backwards(s):\n",
    "#     return Real(s.value)\n",
    "\n",
    "# def min_forwards(min):\n",
    "#     return Real(min.value * Decimal(60))\n",
    "\n",
    "# def min_backwards(s):\n",
    "#     return Real(s.value / Decimal(60))\n",
    "\n",
    "# def  hr_forwards(hr):\n",
    "#     return Real(hr.value * Decimal(3600))\n",
    "\n",
    "# def  hr_backwards(s):\n",
    "#     return Real(s.value / Decimal(3600))\n",
    "\n",
    "# def day_forwards(day):\n",
    "#     return Real(day.value * Decimal(86400))\n",
    "\n",
    "# def day_backwards(s):\n",
    "#     return Real(s.value / Decimal(86400))\n",
    "\n",
    "# def time_forwards(string):\n",
    "#     pattern = r'(?:(\\d+)(?:d|D)\\s*)?(\\d{1,2})(?:h|H)?:(\\d{1,2})(?:m|M)?(?::(\\d{1,2}(?:\\.\\d+)?)(?:s|S)?)?'\n",
    "#     match = re.fullmatch(pattern, string.value.strip())\n",
    "#     if match:\n",
    "#         d = match.group(1) or 0\n",
    "#         h = match.group(2) or 0\n",
    "#         m = match.group(3) or 0\n",
    "#         s = match.group(4) or 0\n",
    "#         return Tensor(Real( Decimal(d) * 86400 + Decimal(h) * 3600 + Decimal(m) * 60 + Decimal(s)))\n",
    "#     else:\n",
    "#         raise Exception(f'Invalid time formatting: \"{string.value}\"')\n",
    "\n",
    "# def time_backwards(t):\n",
    "#     t = t.value\n",
    "#     d = t // Decimal(86400)\n",
    "#     t -= d * Decimal(86400)\n",
    "#     h = t // Decimal(3600)\n",
    "#     t -= h * Decimal(3600)\n",
    "#     m = t // Decimal(60)\n",
    "#     t -= m * Decimal(60)\n",
    "#     s = t // Decimal(1)\n",
    "#     t -= s * Decimal(1)\n",
    "#     ms = t // Decimal('0.001')\n",
    "#     t -= ms * Decimal('0.001')\n",
    "#     ps = t / Decimal('0.000001')\n",
    "    \n",
    "#     str_d = str(int(d))\n",
    "#     str_h = str(int(h)).zfill(2)\n",
    "#     str_m = str(int(m)).zfill(2)\n",
    "#     str_s = str(int(s)).zfill(2)\n",
    "#     str_ms = str(int(ms)).zfill(3)\n",
    "#     str_ps = str(int(ps)).zfill(3)\n",
    "    \n",
    "#     str_days = '' if d == 0 else                    f'{str_d}d ' \n",
    "#     str_time =                                      f'{str_h}h:{str_m}m:{str_s}'\n",
    "#     str_fraction_1 = '' if ms == 0 and ps == 0 else f'.{str_ms}'\n",
    "#     str_fraction_2 = '' if ps == 0 else             f'{str_ps}'\n",
    "    \n",
    "#     return Tensor(String( str_days+str_time+str_fraction_1+str_fraction_2+'s' ))\n",
    "        \n",
    "\n",
    "# built_ins.register_conversion_function_set(  'ms',   ms_forwards,   ms_backwards)\n",
    "# built_ins.register_conversion_function_set(   's',    s_forwards,    s_backwards)\n",
    "# built_ins.register_conversion_function_set( 'min',  min_forwards,  min_backwards)\n",
    "# built_ins.register_conversion_function_set(  'hr',   hr_forwards,   hr_backwards)\n",
    "# built_ins.register_conversion_function_set( 'day',  day_forwards,  day_backwards)\n",
    "# built_ins.register_conversion_function_set('time', time_forwards, time_backwards)"
   ]
  },
  {
   "cell_type": "markdown",
   "metadata": {
    "heading_collapsed": true
   },
   "source": [
    "### Units"
   ]
  },
  {
   "cell_type": "markdown",
   "metadata": {
    "heading_collapsed": true,
    "hidden": true
   },
   "source": [
    "#### Distance"
   ]
  },
  {
   "cell_type": "code",
   "execution_count": 75,
   "metadata": {
    "ExecuteTime": {
     "end_time": "2020-09-09T13:29:00.956880Z",
     "start_time": "2020-09-09T13:29:00.942861Z"
    },
    "hidden": true
   },
   "outputs": [],
   "source": [
    "# distance = {\n",
    "#     'km': {\n",
    "#         'forwards':  Decimal('1000'),\n",
    "#         'backwards': Decimal('.001'),\n",
    "#     },\n",
    "#     'm': {\n",
    "#         'forwards':  Decimal('1'),\n",
    "#         'backwards': Decimal('1'),\n",
    "#     },\n",
    "#     'dm': {\n",
    "#         'forwards':  Decimal('.1'),\n",
    "#         'backwards': Decimal('10'),\n",
    "#     },\n",
    "#     'cm': {\n",
    "#         'forwards':  Decimal('.01'),\n",
    "#         'backwards': Decimal('100'),\n",
    "#     },\n",
    "#     'mm': {\n",
    "#         'forwards':  Decimal('.001'),\n",
    "#         'backwards': Decimal('1000'),\n",
    "#     },\n",
    "#     'um': {\n",
    "#         'forwards':  Decimal('.000001'),\n",
    "#         'backwards': Decimal('1000000'),\n",
    "#     },\n",
    "#     'nm': {\n",
    "#         'forwards':  Decimal('.000000001'),\n",
    "#         'backwards': Decimal('1000000000'),\n",
    "#     },\n",
    "#     'pm': {\n",
    "#         'forwards':  Decimal('.000000000001'),\n",
    "#         'backwards': Decimal('1000000000000'),\n",
    "#     },\n",
    "#     'in': {\n",
    "#         'forwards':  Decimal('0.0254'),\n",
    "#         'backwards': Decimal('39.37007874015748031496062992'),\n",
    "#     },\n",
    "#     'tf': {\n",
    "#         'forwards':  Decimal('0.3048'),\n",
    "#         'backwards': Decimal('3.280839895013123359580052493'),\n",
    "#     },\n",
    "#     'yd': {\n",
    "#         'forwards':  Decimal('0.9144'),\n",
    "#         'backwards': Decimal('1.093613298337707786526684164'),\n",
    "#     },\n",
    "#     'mi': {\n",
    "#         'forwards':  Decimal('1609.344'),\n",
    "#         'backwards': Decimal('0.0006213711922373339696174341844'),\n",
    "#     },\n",
    "# }\n",
    "\n",
    "# built_ins.register_unit_group('distance', distance)"
   ]
  },
  {
   "cell_type": "markdown",
   "metadata": {
    "heading_collapsed": true,
    "hidden": true
   },
   "source": [
    "#### Volume"
   ]
  },
  {
   "cell_type": "code",
   "execution_count": 76,
   "metadata": {
    "ExecuteTime": {
     "end_time": "2020-09-09T13:29:00.972804Z",
     "start_time": "2020-09-09T13:29:00.958879Z"
    },
    "hidden": true
   },
   "outputs": [],
   "source": [
    "# dm = Unit(\n",
    "#     'distance', \n",
    "#     'dm', \n",
    "#     distance['dm']['forwards'], \n",
    "#     distance['dm']['backwards']\n",
    "# )\n",
    "\n",
    "# cm = Unit(\n",
    "#     'distance', \n",
    "#     'cm', \n",
    "#     distance['cm']['forwards'], \n",
    "#     distance['cm']['backwards']\n",
    "# )\n",
    "\n",
    "# L  = Units({dm: 3}, 'L')\n",
    "# mL = Units({cm: 3}, 'mL')\n",
    "# cc = Units({cm: 3}, 'cc')\n",
    "\n",
    "# built_ins.register_unit('L', L)\n",
    "# built_ins.register_unit('mL', mL)\n",
    "# built_ins.register_unit('cc', cc)"
   ]
  },
  {
   "cell_type": "markdown",
   "metadata": {
    "heading_collapsed": true,
    "hidden": true
   },
   "source": [
    "#### Time"
   ]
  },
  {
   "cell_type": "code",
   "execution_count": 77,
   "metadata": {
    "ExecuteTime": {
     "end_time": "2020-09-09T13:29:00.988505Z",
     "start_time": "2020-09-09T13:29:00.974763Z"
    },
    "hidden": true
   },
   "outputs": [],
   "source": [
    "# time = {\n",
    "#     'd': {\n",
    "#         'forwards':  Decimal('86400'),\n",
    "#         'backwards': Decimal('.00001157407407407407407407407407'),\n",
    "#     },\n",
    "#     'hr': {\n",
    "#         'forwards':  Decimal('3600'),\n",
    "#         'backwards': Decimal('.0002777777777777777777777777778'),\n",
    "#     },\n",
    "#     'min': {\n",
    "#         'forwards':  Decimal('60'),\n",
    "#         'backwards': Decimal('.01666666666666666666666666667'),\n",
    "#     },\n",
    "#     's': {\n",
    "#         'forwards':  Decimal('1'),\n",
    "#         'backwards': Decimal('1'),\n",
    "#     },\n",
    "#     'ms': {\n",
    "#         'forwards':  Decimal('.001'),\n",
    "#         'backwards': Decimal('1000'),\n",
    "#     },\n",
    "#     'us': {\n",
    "#         'forwards':  Decimal('.000001'),\n",
    "#         'backwards': Decimal('1000000'),\n",
    "#     },\n",
    "#     'ns': {\n",
    "#         'forwards':  Decimal('.000000001'),\n",
    "#         'backwards': Decimal('1000000000'),\n",
    "#     }\n",
    "# }\n",
    "\n",
    "# built_ins.register_unit_group('time', time)"
   ]
  },
  {
   "cell_type": "markdown",
   "metadata": {
    "heading_collapsed": true,
    "hidden": true
   },
   "source": [
    "#### Angles"
   ]
  },
  {
   "cell_type": "code",
   "execution_count": 78,
   "metadata": {
    "ExecuteTime": {
     "end_time": "2020-09-09T13:29:01.003759Z",
     "start_time": "2020-09-09T13:29:00.990511Z"
    },
    "hidden": true
   },
   "outputs": [],
   "source": [
    "# angle = {\n",
    "#     'deg': {\n",
    "#         'forwards':  Decimal('0.01745329251994329576923690768'),\n",
    "#         'backwards': Decimal('57.29577951308232087679815483'),\n",
    "#     },\n",
    "#     'grad': {\n",
    "#         'forwards':  Decimal('0.01570796326794896619231321692'),\n",
    "#         'backwards': Decimal('63.66197723675813430755350533'),\n",
    "#     },\n",
    "#     'rad': {\n",
    "#         'forwards':  Decimal('1'),\n",
    "#         'backwards': Decimal('1'),\n",
    "#     },\n",
    "#     'rev': {\n",
    "#         'forwards':  Decimal('6.283185307179586476925286767'),\n",
    "#         'backwards': Decimal('0.1591549430918953357688837634'),\n",
    "#     },\n",
    "# }\n",
    "\n",
    "# built_ins.register_unit_group('angle', angle)"
   ]
  },
  {
   "cell_type": "markdown",
   "metadata": {
    "heading_collapsed": true,
    "hidden": true
   },
   "source": [
    "#### Angular Speeds"
   ]
  },
  {
   "cell_type": "code",
   "execution_count": 79,
   "metadata": {
    "ExecuteTime": {
     "end_time": "2020-09-09T13:29:01.019756Z",
     "start_time": "2020-09-09T13:29:01.004763Z"
    },
    "hidden": true
   },
   "outputs": [],
   "source": [
    "# rev = Unit(\n",
    "#     'angle', \n",
    "#     'rev', \n",
    "#     angle['rev']['forwards'], \n",
    "#     angle['rev']['backwards'],\n",
    "# )\n",
    "\n",
    "# _min = Unit(\n",
    "#     'time',\n",
    "#     'min',\n",
    "#     time['min']['forwards'],\n",
    "#     time['min']['backwards'],\n",
    "# )\n",
    "\n",
    "# rpm = Units({rev: 1, _min: -1}, 'rpm')\n",
    "\n",
    "# built_ins.register_unit('rpm', rpm)"
   ]
  },
  {
   "cell_type": "markdown",
   "metadata": {},
   "source": [
    "# Define Token"
   ]
  },
  {
   "cell_type": "markdown",
   "metadata": {
    "heading_collapsed": true
   },
   "source": [
    "## Tokens Types"
   ]
  },
  {
   "cell_type": "code",
   "execution_count": 80,
   "metadata": {
    "ExecuteTime": {
     "end_time": "2020-09-09T13:29:01.035796Z",
     "start_time": "2020-09-09T13:29:01.020759Z"
    },
    "hidden": true
   },
   "outputs": [],
   "source": [
    "TOKEN_TYPE_STRING     = 'string'\n",
    "TOKEN_TYPE_INTEGER    = 'integer'\n",
    "TOKEN_TYPE_NUMBER     = 'number'\n",
    "TOKEN_TYPE_OPERATOR   = 'operand'\n",
    "TOKEN_TYPE_OPEN_GROUP = 'group'\n",
    "TOKEN_TYPE_LITERAL    = 'literal'\n",
    "\n",
    "TOKEN_TYPE_OPEN_GROUP        = 'open group'\n",
    "TOKEN_TYPE_CLOSE_GROUP       = 'close group'\n",
    "TOKEN_TYPE_NEW_ITEM          = 'new item'\n",
    "TOKEN_TYPE_BINARY            = 'binary operand'\n",
    "TOKEN_TYPE_BINARY_CONTINUING = 'continuing binary operand'\n",
    "TOKEN_TYPE_UNARY_LEFT        = 'left unary operand'\n",
    "TOKEN_TYPE_UNARY_RIGHT       = 'right unary operand'\n",
    "\n",
    "OPERAND_TYPES = [\n",
    "    TOKEN_TYPE_OPEN_GROUP,\n",
    "    TOKEN_TYPE_CLOSE_GROUP, \n",
    "    TOKEN_TYPE_NEW_ITEM, \n",
    "    TOKEN_TYPE_BINARY, \n",
    "    TOKEN_TYPE_BINARY_CONTINUING, \n",
    "    TOKEN_TYPE_UNARY_LEFT, \n",
    "    TOKEN_TYPE_UNARY_RIGHT, \n",
    "]\n",
    "\n",
    "TOKEN_TYPE_VALUE = [\n",
    "    TOKEN_TYPE_STRING,\n",
    "    TOKEN_TYPE_INTEGER,\n",
    "    TOKEN_TYPE_NUMBER,\n",
    "    TOKEN_TYPE_LITERAL,\n",
    "]"
   ]
  },
  {
   "cell_type": "markdown",
   "metadata": {
    "heading_collapsed": true
   },
   "source": [
    "## Token Operations"
   ]
  },
  {
   "cell_type": "code",
   "execution_count": 81,
   "metadata": {
    "ExecuteTime": {
     "end_time": "2020-09-09T13:29:01.051144Z",
     "start_time": "2020-09-09T13:29:01.036797Z"
    },
    "hidden": true,
    "scrolled": true
   },
   "outputs": [],
   "source": [
    "token_definitions = {\n",
    "    TOKEN_TYPE_OPEN_GROUP:        built_ins.groups,\n",
    "    TOKEN_TYPE_CLOSE_GROUP:       built_ins.groups, \n",
    "    TOKEN_TYPE_NEW_ITEM:          built_ins.new_items, \n",
    "    TOKEN_TYPE_BINARY:            built_ins.binary_operators, \n",
    "    TOKEN_TYPE_BINARY_CONTINUING: built_ins.binary_operators_continuing, \n",
    "    TOKEN_TYPE_UNARY_LEFT:        built_ins.left_unary_operators, \n",
    "    TOKEN_TYPE_UNARY_RIGHT:       built_ins.right_unary_operators, \n",
    "}"
   ]
  },
  {
   "cell_type": "markdown",
   "metadata": {
    "heading_collapsed": true
   },
   "source": [
    "## Operation Indexing"
   ]
  },
  {
   "cell_type": "code",
   "execution_count": 82,
   "metadata": {
    "ExecuteTime": {
     "end_time": "2020-09-09T13:29:01.066442Z",
     "start_time": "2020-09-09T13:29:01.052201Z"
    },
    "hidden": true
   },
   "outputs": [],
   "source": [
    "def find_token_definition(string, token_type, f = lambda x:x.token):\n",
    "    for token_definition in token_definitions[token_type]:\n",
    "        if string == f(token_definition):\n",
    "#         if re.fullmatch(operator.re_match, string) != None:\n",
    "            return token_definition\n",
    "    return None"
   ]
  },
  {
   "cell_type": "markdown",
   "metadata": {},
   "source": [
    "## Define Token Regular Expressions"
   ]
  },
  {
   "cell_type": "code",
   "execution_count": 83,
   "metadata": {
    "ExecuteTime": {
     "end_time": "2020-09-09T13:29:01.097575Z",
     "start_time": "2020-09-09T13:29:01.067448Z"
    }
   },
   "outputs": [
    {
     "data": {
      "text/plain": [
       "{'string': '((\\\\\"\"\".*?\\\\\"\"\")|(\\'\\'\\'.*?\\'\\'\\')|(\".*?\")|(\\'.*?\\'))',\n",
       " 'integer': '((0b|0o|0d|0x|[0-9]+_)[0-9a-zA-Z,]+)',\n",
       " 'number': '((([\\\\.][0-9]+)|([0-9]+[\\\\.]?[0-9]*))([eE][-+]?[0-9]+)?)',\n",
       " 'literal': '([A-Za-z_][A-Za-z0-9_]*)',\n",
       " 'open group': '(\\\\|\\\\|)|(\\\\()|(\\\\[)|(\\\\{)|(\\\\|)',\n",
       " 'binary operand': '(implicit_unit)|(implicit_call)|(matmul)|(mod)|(dot)|(\\\\/\\\\/)|(\\\\.\\\\*)|(\\\\=\\\\>)|(\\\\+)|(\\\\-)|(\\\\*)|(4)|(\\\\/)|(\\\\^)|(\\\\#)|(\\\\$)|(\\\\?)|(\\\\=)|(\\\\@)',\n",
       " 'continuing binary operand': '(matmul)|(mod)|(dot)|(\\\\/\\\\/)|(\\\\.\\\\*)|(\\\\+)|(\\\\-)|(\\\\*)|(\\\\/)|(\\\\^)|(\\\\#)|(\\\\@)',\n",
       " 'left unary operand': '(log10)|(log2)|(asin)|(acos)|(atan)|(sin)|(cos)|(tan)|(ln)|(\\\\+)|(\\\\-)|(\\\\=)|(\\\\$)',\n",
       " 'right unary operand': '(\\\\!)',\n",
       " 'new item': '(\\\\,)|(\\\\;)|(\\\\\\n)',\n",
       " 'close group': '(\\\\|\\\\|)|(\\\\))|(\\\\])|(\\\\})|(\\\\|)'}"
      ]
     },
     "execution_count": 83,
     "metadata": {},
     "output_type": "execute_result"
    }
   ],
   "source": [
    "def re_join(l, f=lambda x:x):\n",
    "    items = [f(i) for i in l]\n",
    "    items.sort(key=lambda x:len(x), reverse=True)\n",
    "    return '(' + ')|('.join([re.escape(i) for i in items]) + ')'\n",
    "\n",
    "# regex\n",
    "re_number =    r\"\"\"((([\\.][0-9]+)|([0-9]+[\\.]?[0-9]*))([eE][-+]?[0-9]+)?)\"\"\"\n",
    "re_integer =   r\"\"\"((0b|0o|0d|0x|[0-9]+_)[0-9a-zA-Z,]+)\"\"\"\n",
    "re_string =    r\"\"\"((\\\"\"\".*?\\\"\"\")|('''.*?''')|(\".*?\")|('.*?'))\"\"\"\n",
    "re_literal =   r\"\"\"([A-Za-z_][A-Za-z0-9_]*)\"\"\"\n",
    "\n",
    "\n",
    "re_open_group =                 re_join(built_ins.groups, lambda x:x.open_token)\n",
    "re_close_group =                re_join(built_ins.groups, lambda x:x.close_token)\n",
    "re_binary_operands =            re_join(built_ins.binary_operators, lambda x:x.token)\n",
    "re_binary_continuing_operands = re_join(built_ins.binary_operators_continuing, lambda x:x.token)\n",
    "re_left_unary_operands =        re_join(built_ins.left_unary_operators, lambda x:x.token)\n",
    "re_right_unary_operands =       re_join(built_ins.right_unary_operators, lambda x:x.token)\n",
    "re_new_item =                   re_join(built_ins.new_items, lambda x:x.token)\n",
    "\n",
    "\n",
    "re_tokens = {\n",
    "    TOKEN_TYPE_STRING:            re_string,\n",
    "    TOKEN_TYPE_INTEGER:           re_integer,\n",
    "    TOKEN_TYPE_NUMBER:            re_number,\n",
    "    TOKEN_TYPE_LITERAL:           re_literal,\n",
    "    TOKEN_TYPE_OPEN_GROUP:        re_open_group,\n",
    "    TOKEN_TYPE_BINARY:            re_binary_operands,\n",
    "    TOKEN_TYPE_BINARY_CONTINUING: re_binary_continuing_operands,\n",
    "    TOKEN_TYPE_UNARY_LEFT:        re_left_unary_operands,\n",
    "    TOKEN_TYPE_UNARY_RIGHT:       re_right_unary_operands,\n",
    "    TOKEN_TYPE_NEW_ITEM:          re_new_item,\n",
    "    TOKEN_TYPE_CLOSE_GROUP:       re_close_group,\n",
    "}\n",
    "\n",
    "re_tokens"
   ]
  },
  {
   "cell_type": "markdown",
   "metadata": {},
   "source": [
    "# Parse"
   ]
  },
  {
   "cell_type": "markdown",
   "metadata": {},
   "source": [
    "## Lexing"
   ]
  },
  {
   "cell_type": "code",
   "execution_count": 84,
   "metadata": {
    "ExecuteTime": {
     "end_time": "2020-09-09T13:29:01.112744Z",
     "start_time": "2020-09-09T13:29:01.098576Z"
    }
   },
   "outputs": [],
   "source": [
    "def re_match_length(string, re_pattern):\n",
    "    match = re.match(re_pattern, string)\n",
    "    return match.span()[1] if match != None else 0"
   ]
  },
  {
   "cell_type": "code",
   "execution_count": 85,
   "metadata": {
    "ExecuteTime": {
     "end_time": "2020-09-09T13:29:01.143576Z",
     "start_time": "2020-09-09T13:29:01.114577Z"
    }
   },
   "outputs": [],
   "source": [
    "class Lexer:\n",
    "    def __init__(self, ans_available=False):\n",
    "        self.tokens = []\n",
    "        self.ans_available = ans_available\n",
    "        \n",
    "        self.source_string = ''\n",
    "        self.current_ln_offset = 0\n",
    "        self.ln_count = 0\n",
    "        self.source = Source()\n",
    "        \n",
    "    def process(self, string):\n",
    "        # TOKEN_TYPE_STRING\n",
    "        # TOKEN_TYPE_INTEGER\n",
    "        # TOKEN_TYPE_NUMBER\n",
    "        # TOKEN_TYPE_LITERAL\n",
    "\n",
    "        # TOKEN_TYPE_OPEN_GROUP\n",
    "        # TOKEN_TYPE_BINARY\n",
    "        # TOKEN_TYPE_BINARY_CONTINUING\n",
    "        # TOKEN_TYPE_UNARY_LEFT\n",
    "        # TOKEN_TYPE_UNARY_RIGHT\n",
    "        # TOKEN_TYPE_NEW_ITEM\n",
    "        # TOKEN_TYPE_CLOSE_GROUP\n",
    "        \n",
    "        tokens = []\n",
    "        \n",
    "        i = len(self.source_string)\n",
    "        string = self.source_string = self.source_string + string\n",
    "        self.source.set(string)\n",
    "        \n",
    "        while i < len(string):\n",
    "\n",
    "            if string[i] in ' ':\n",
    "                i += 1\n",
    "                continue\n",
    "                \n",
    "            offset = i - self.current_ln_offset\n",
    "            ln = self.ln_count\n",
    "            \n",
    "            if string[i] == '\\n':\n",
    "                self.current_ln_offset = i+1\n",
    "                self.ln_count += 1\n",
    "\n",
    "            if len(tokens) > 0:\n",
    "                last_token_type =  tokens[-1].token_type\n",
    "            elif len(self.tokens) > 0:\n",
    "                last_token_type = self.tokens[-1].token_type\n",
    "            else:\n",
    "                last_token_type = None\n",
    "                \n",
    "            allowed_token_types = []\n",
    "            allowed_token_types_with_implicit_op = {}\n",
    "            allowed_token_types_with_ans = {}\n",
    "\n",
    "            # begin with\n",
    "            if last_token_type in [\n",
    "                None,\n",
    "            ]:\n",
    "\n",
    "                allowed_token_types = [\n",
    "                    TOKEN_TYPE_UNARY_LEFT,\n",
    "                    TOKEN_TYPE_OPEN_GROUP,\n",
    "                    TOKEN_TYPE_NEW_ITEM,\n",
    "                    TOKEN_TYPE_CLOSE_GROUP,\n",
    "                    *TOKEN_TYPE_VALUE,\n",
    "                ]\n",
    "                if self.ans_available:\n",
    "                    allowed_token_types_with_ans = {\n",
    "                        TOKEN_TYPE_UNARY_RIGHT: '',\n",
    "                        TOKEN_TYPE_BINARY_CONTINUING: '',\n",
    "                    }\n",
    "\n",
    "            if last_token_type in [\\\n",
    "                TOKEN_TYPE_OPEN_GROUP,\n",
    "                TOKEN_TYPE_NEW_ITEM,\n",
    "            ]:\n",
    "                allowed_token_types = [\n",
    "                    TOKEN_TYPE_UNARY_LEFT,\n",
    "                    TOKEN_TYPE_OPEN_GROUP,\n",
    "                    TOKEN_TYPE_NEW_ITEM,\n",
    "                    TOKEN_TYPE_CLOSE_GROUP,\n",
    "                    *TOKEN_TYPE_VALUE,\n",
    "                ]\n",
    "\n",
    "            # after value excluding literal\n",
    "            if last_token_type in [\n",
    "                TOKEN_TYPE_CLOSE_GROUP,\n",
    "                TOKEN_TYPE_UNARY_RIGHT,\n",
    "                TOKEN_TYPE_STRING,\n",
    "                TOKEN_TYPE_INTEGER,\n",
    "                TOKEN_TYPE_NUMBER,\n",
    "            ]:\n",
    "                allowed_token_types = [\n",
    "                    TOKEN_TYPE_UNARY_RIGHT,\n",
    "                    TOKEN_TYPE_BINARY,\n",
    "                    TOKEN_TYPE_NEW_ITEM,\n",
    "                    TOKEN_TYPE_CLOSE_GROUP,\n",
    "                ]\n",
    "                allowed_token_types_with_implicit_op = {\n",
    "                    TOKEN_TYPE_OPEN_GROUP: 'implicit_unit',\n",
    "                    TOKEN_TYPE_LITERAL: 'implicit_unit',\n",
    "                }\n",
    "\n",
    "            # after literal value\n",
    "            if last_token_type in [\n",
    "                TOKEN_TYPE_LITERAL,\n",
    "            ]:\n",
    "                allowed_token_types = [\n",
    "                    TOKEN_TYPE_UNARY_RIGHT,\n",
    "                    TOKEN_TYPE_BINARY,\n",
    "                    TOKEN_TYPE_NEW_ITEM,\n",
    "                    TOKEN_TYPE_CLOSE_GROUP,\n",
    "                ]\n",
    "                allowed_token_types_with_implicit_op = {\n",
    "                    TOKEN_TYPE_OPEN_GROUP: 'implicit_call',\n",
    "                    TOKEN_TYPE_LITERAL: 'implicit_call',\n",
    "                }\n",
    "\n",
    "            # after operator\n",
    "            if last_token_type in [\n",
    "                TOKEN_TYPE_BINARY,\n",
    "                TOKEN_TYPE_BINARY_CONTINUING,\n",
    "                TOKEN_TYPE_UNARY_LEFT,\n",
    "\n",
    "            ]:\n",
    "                allowed_token_types = [\n",
    "                    TOKEN_TYPE_OPEN_GROUP,\n",
    "                    TOKEN_TYPE_UNARY_LEFT,\n",
    "                    *TOKEN_TYPE_VALUE,\n",
    "                ]\n",
    "\n",
    "\n",
    "            # find matching token type\n",
    "            token_type, token_str = None, None\n",
    "\n",
    "            all_allowed_token_types = [\n",
    "                list(allowed_token_types_with_ans.items()),\n",
    "                [(t, None) for t in allowed_token_types],\n",
    "                list(allowed_token_types_with_implicit_op.items()),\n",
    "            ]\n",
    "            all_allowed_token_types = sum(all_allowed_token_types, [])\n",
    "\n",
    "            for possible_token_type, implicit_op in all_allowed_token_types:\n",
    "                re_pattern = re_tokens[possible_token_type]\n",
    "\n",
    "                l = re_match_length(string[i:], re_pattern)\n",
    "                if l > 0:\n",
    "\n",
    "                    if implicit_op == '':\n",
    "                        tokens.append(Token(TOKEN_TYPE_LITERAL, implicit_op, ln, offset, self.source))\n",
    "                    elif implicit_op != None:\n",
    "                        tokens.append(Token(TOKEN_TYPE_BINARY, implicit_op, ln, offset, self.source))\n",
    "\n",
    "                    token_type = possible_token_type\n",
    "                    token_str = string[i:i+l]\n",
    "                    break\n",
    "\n",
    "\n",
    "\n",
    "            # invalid token\n",
    "            if token_type == None:\n",
    "                raise TokenNotAllowedException(self.source, ln, offset)\n",
    "                i += 1\n",
    "            else:\n",
    "                tokens.append(Token(token_type, token_str, ln, offset, self.source))\n",
    "                i += len(token_str)\n",
    "\n",
    "        self.tokens += tokens\n",
    "        return tokens  "
   ]
  },
  {
   "cell_type": "markdown",
   "metadata": {},
   "source": [
    "## Treeify"
   ]
  },
  {
   "cell_type": "code",
   "execution_count": 86,
   "metadata": {
    "ExecuteTime": {
     "end_time": "2020-09-09T13:29:01.158579Z",
     "start_time": "2020-09-09T13:29:01.145575Z"
    }
   },
   "outputs": [],
   "source": [
    "def bubble_up(focus, new):\n",
    "    \"\"\"\n",
    "    Finds ancestor/parent in tree upwards from `token` thats the first group token or the first\n",
    "    \"\"\"\n",
    "    \n",
    "    while True:\n",
    "        if type(focus) == NodeGroup or focus.precedence < new.precedence:\n",
    "            return focus\n",
    "        else:\n",
    "            focus = focus.parent"
   ]
  },
  {
   "cell_type": "code",
   "execution_count": 87,
   "metadata": {
    "ExecuteTime": {
     "end_time": "2020-09-09T13:29:01.173751Z",
     "start_time": "2020-09-09T13:29:01.159577Z"
    }
   },
   "outputs": [],
   "source": [
    "def bubble_up_to_group(focus):\n",
    "    while True:\n",
    "        if type(focus) == NodeGroup:\n",
    "            return focus\n",
    "        else:\n",
    "            focus = focus.parent"
   ]
  },
  {
   "cell_type": "code",
   "execution_count": 88,
   "metadata": {
    "ExecuteTime": {
     "end_time": "2020-09-09T13:29:01.205574Z",
     "start_time": "2020-09-09T13:29:01.175580Z"
    }
   },
   "outputs": [],
   "source": [
    "class TokenTreeBuilder:\n",
    "    \n",
    "    def __init__(self):\n",
    "        self.root = NodeGroup(find_token_definition('{', TOKEN_TYPE_OPEN_GROUP, lambda x:x.open_token), None)\n",
    "        self.focus = self.root\n",
    "\n",
    "    def build(self, tokens):\n",
    "    \n",
    "        # TOKEN_TYPE_STRING\n",
    "        # TOKEN_TYPE_INTEGER\n",
    "        # TOKEN_TYPE_NUMBER\n",
    "        # TOKEN_TYPE_LITERAL\n",
    "\n",
    "        # TOKEN_TYPE_OPEN_GROUP\n",
    "        # TOKEN_TYPE_BINARY\n",
    "        # TOKEN_TYPE_UNARY_LEFT\n",
    "        # TOKEN_TYPE_UNARY_RIGHT\n",
    "\n",
    "        # TOKEN_TYPE_NEW_ITEM\n",
    "        # TOKEN_TYPE_CLOSE_GROUP\n",
    "\n",
    "        for token in tokens:\n",
    "\n",
    "\n",
    "            # focus is\n",
    "            # Binary Operator\n",
    "            # Left Unary Operator\n",
    "            if type(self.focus) in [\n",
    "                NodeBinary,\n",
    "                NodeUnaryLeft,\n",
    "            ]:\n",
    "\n",
    "                # next is \n",
    "                # Unary left\n",
    "                if token.token_type == TOKEN_TYPE_UNARY_LEFT:\n",
    "\n",
    "                    operand = find_token_definition(token.string, TOKEN_TYPE_UNARY_LEFT)\n",
    "                    next_node = NodeUnaryLeft(operand)\n",
    "\n",
    "                    self.focus.set_right(next_node)\n",
    "                    self.focus = next_node\n",
    "\n",
    "                # next is\n",
    "                # Group\n",
    "                elif token.token_type == TOKEN_TYPE_OPEN_GROUP:\n",
    "\n",
    "                    group = find_token_definition(token.string, TOKEN_TYPE_OPEN_GROUP, lambda x:x.open_token)\n",
    "                    next_node = NodeGroup(group)\n",
    "                    self.focus.set_right(next_node)\n",
    "                    self.focus = next_node\n",
    "\n",
    "                # next is\n",
    "                # TOKEN_TYPE_STRING\n",
    "                # TOKEN_TYPE_INTEGER\n",
    "                # TOKEN_TYPE_NUMBER\n",
    "                # TOKEN_TYPE_LITERAL\n",
    "                elif token.token_type in TOKEN_TYPE_VALUE:\n",
    "\n",
    "                    next_node = NodeValue(token.string, token.token_type)\n",
    "                    self.focus.set_right(next_node)\n",
    "                    self.focus = next_node\n",
    "\n",
    "                else:\n",
    "                    raise TokenNotAllowedException(token)\n",
    "\n",
    "\n",
    "            # focus is\n",
    "            # Value\n",
    "            # Closed Group\n",
    "            elif type(self.focus) == NodeValue or (type(self.focus) == NodeGroup and self.focus.is_complete()):\n",
    "\n",
    "                # next is\n",
    "                # Binary\n",
    "                if token.token_type in [TOKEN_TYPE_BINARY, TOKEN_TYPE_BINARY_CONTINUING]:\n",
    "\n",
    "                    operand = find_token_definition(token.string, TOKEN_TYPE_BINARY)\n",
    "                    next_node = NodeBinary(operand)\n",
    "\n",
    "                    parent_node = bubble_up(self.focus.parent, next_node)\n",
    "                    child_node = parent_node.get_right()\n",
    "                    parent_node.set_right(next_node)\n",
    "                    next_node.set_left(child_node)\n",
    "                    self.focus = next_node\n",
    "\n",
    "\n",
    "                # next is\n",
    "                # Unary right\n",
    "                elif token.token_type == TOKEN_TYPE_UNARY_RIGHT:\n",
    "\n",
    "                    operand = find_token_definition(token.string, TOKEN_TYPE_UNARY_RIGHT)\n",
    "                    next_node = NodeUnaryRight(operand)\n",
    "\n",
    "                    parent_node = self.focus.parent # bubble_up(self.focus.parent, next_node)\n",
    "                    child_node = parent_node.get_right()\n",
    "                    parent_node.set_right(next_node)\n",
    "                    next_node.set_left(child_node)\n",
    "                    # self.focus = next_node\n",
    "\n",
    "                # next is\n",
    "                # New item\n",
    "                elif token.token_type == TOKEN_TYPE_NEW_ITEM:\n",
    "\n",
    "                    token_definition = find_token_definition(token.string, TOKEN_TYPE_NEW_ITEM)\n",
    "\n",
    "                    parent_node = bubble_up_to_group(self.focus.parent)\n",
    "\n",
    "                    if token_definition.token in parent_node.group_definition.seperators:\n",
    "\n",
    "                        depth = parent_node.group_definition.seperators[token_definition.token]\n",
    "                        if depth > 0:\n",
    "                            parent_node.increase(depth)\n",
    "                            self.focus = parent_node\n",
    "                    else:\n",
    "                        raise TokenNotAllowedException(token)\n",
    "\n",
    "\n",
    "                # next is\n",
    "                # Close group\n",
    "                elif token.token_type == TOKEN_TYPE_CLOSE_GROUP:\n",
    "\n",
    "                    parent_node = bubble_up_to_group(self.focus.parent)\n",
    "                    parent_node.close()\n",
    "                    self.focus = parent_node\n",
    "\n",
    "                # next is\n",
    "                else:\n",
    "                    raise TokenNotAllowedException(token)\n",
    "\n",
    "\n",
    "            # focus is\n",
    "            # Open Group\n",
    "            elif type(self.focus) == NodeGroup and not self.focus.is_complete(): \n",
    "\n",
    "                # next is\n",
    "                # Binary - use ans on left\n",
    "                if token.token_type == TOKEN_TYPE_BINARY:\n",
    "\n",
    "                    left = NodeValue('ans', TOKEN_TYPE_LITERAL)\n",
    "\n",
    "                    operand = find_token_definition(token.string, TOKEN_TYPE_BINARY)\n",
    "                    next_node = NodeBinary(operand)\n",
    "                    next_node.set_left(left)\n",
    "\n",
    "                    self.focus.add(next_node)\n",
    "                    self.focus = next_node\n",
    "\n",
    "                # next is\n",
    "                # Unary left\n",
    "                elif token.token_type == TOKEN_TYPE_UNARY_LEFT:\n",
    "\n",
    "                    operand = find_token_definition(token.string, TOKEN_TYPE_UNARY_LEFT)\n",
    "                    next_node = NodeUnaryLeft(operand)\n",
    "\n",
    "                    self.focus.add(next_node)\n",
    "                    self.focus = next_node\n",
    "\n",
    "                # next is\n",
    "                # Group\n",
    "                elif token.token_type == TOKEN_TYPE_OPEN_GROUP:\n",
    "\n",
    "                    group = find_token_definition(token.string, TOKEN_TYPE_OPEN_GROUP, lambda x:x.open_token)\n",
    "                    next_node = NodeGroup(group)\n",
    "                    self.focus.add(next_node)\n",
    "                    self.focus = next_node\n",
    "\n",
    "                # next is\n",
    "                # Close Group\n",
    "                elif token.token_type == TOKEN_TYPE_CLOSE_GROUP:\n",
    "\n",
    "                    self.focus.close()\n",
    "\n",
    "                # next is\n",
    "                # TOKEN_TYPE_STRING\n",
    "                # TOKEN_TYPE_INTEGER\n",
    "                # TOKEN_TYPE_NUMBER\n",
    "                # TOKEN_TYPE_LITERAL\n",
    "                elif token.token_type in TOKEN_TYPE_VALUE:\n",
    "\n",
    "                    next_node = NodeValue(token.string, token.token_type)\n",
    "                    self.focus.add(next_node)\n",
    "                    self.focus = next_node\n",
    "\n",
    "                # next is \n",
    "                # TOKEN_TYPE_NEW_ITEM\n",
    "                elif token.token_type == TOKEN_TYPE_NEW_ITEM:\n",
    "\n",
    "                    token_definition = find_token_definition(token.string, TOKEN_TYPE_NEW_ITEM)\n",
    "\n",
    "                    if token_definition.token in self.focus.group_definition.seperators:\n",
    "\n",
    "                        depth = self.focus.group_definition.seperators[token_definition.token]\n",
    "                        if depth > 0:\n",
    "                            self.focus.increase(depth)\n",
    "                    else:\n",
    "                        raise TokenNotAllowedException(token)\n",
    "\n",
    "                # next is\n",
    "                else:\n",
    "                    raise TokenNotAllowedException(token)\n",
    "\n",
    "\n",
    "\n",
    "        return self.root\n"
   ]
  },
  {
   "cell_type": "markdown",
   "metadata": {
    "heading_collapsed": true
   },
   "source": [
    "## Computation Graph"
   ]
  },
  {
   "cell_type": "code",
   "execution_count": 89,
   "metadata": {
    "ExecuteTime": {
     "end_time": "2020-09-09T13:29:01.221575Z",
     "start_time": "2020-09-09T13:29:01.207580Z"
    },
    "hidden": true
   },
   "outputs": [],
   "source": [
    "def build_computation_graph(token_tree):\n",
    "    return token_tree.get_evaluable()"
   ]
  },
  {
   "cell_type": "markdown",
   "metadata": {},
   "source": [
    "# Excecute"
   ]
  },
  {
   "cell_type": "markdown",
   "metadata": {
    "heading_collapsed": true
   },
   "source": [
    "## Environment"
   ]
  },
  {
   "cell_type": "code",
   "execution_count": 90,
   "metadata": {
    "ExecuteTime": {
     "end_time": "2020-09-09T13:29:01.237576Z",
     "start_time": "2020-09-09T13:29:01.223581Z"
    },
    "hidden": true
   },
   "outputs": [],
   "source": [
    "class Environment():\n",
    "       \n",
    "    def __init__(self, parent=None, dictionary=None):\n",
    "        self.parent = parent\n",
    "        self.dictionary = dictionary or {}\n",
    "        self.ln_count = 1\n",
    "        self.ans_available = False\n",
    "        \n",
    "    def __getitem__(self, key):\n",
    "        \n",
    "        if key in self.dictionary:\n",
    "            return self.dictionary[key]\n",
    "        elif self.parent != None:\n",
    "            return self.parent[key]\n",
    "        else:\n",
    "            assert False, f'key {key} is not defined in this scope'\n",
    "        \n",
    "    def __setitem__(self, key, value):\n",
    "        \n",
    "        if type(key) in [list, tuple] and type(value) in [list, tuple]:\n",
    "            for k,v in zip(key, value):\n",
    "                self[key] = value\n",
    "        \n",
    "        else:\n",
    "            if key in self.dictionary:\n",
    "                self.dictionary[key] = value\n",
    "            elif self.parent != None:\n",
    "                self.parent[key] = value\n",
    "            else:\n",
    "                self.dictionary[key] = value\n",
    "    \n",
    "    def __contains__(self, key):\n",
    "        \n",
    "        if key in self.dictionary:\n",
    "            return True\n",
    "        elif self.parent != None:\n",
    "            return key in self.parent\n",
    "        else:\n",
    "            return False\n",
    "        \n",
    "    def getLnCount(self):\n",
    "        return str(self.ln_count)\n",
    "        \n",
    "    def addLn(self, value, code, environment):\n",
    "        in_name = f'in{self.ln_count}'\n",
    "        out_name = f'out{self.ln_count}'\n",
    "        self[in_name] = define_function(environment, (), code)\n",
    "        self[out_name] = value\n",
    "        self[''] = value\n",
    "        \n",
    "        self.ln_count += 1\n",
    "        self.ans_available = True\n",
    "        \n",
    "        return out_name\n",
    "    \n",
    "    def enterScope(self, dictionary=None):\n",
    "        return Environment(self, dictionary)\n",
    "        \n",
    "    def exitScope(self):\n",
    "        return self if self.parent == None else self.parent\n",
    "        \n",
    "    def __repr__(self):\n",
    "        return str(self)\n",
    "    \n",
    "    def __str__(self):\n",
    "        return f'Environment({self.dictionary, self.parent})'"
   ]
  },
  {
   "cell_type": "code",
   "execution_count": 91,
   "metadata": {
    "ExecuteTime": {
     "end_time": "2020-09-09T13:29:01.252762Z",
     "start_time": "2020-09-09T13:29:01.238577Z"
    },
    "hidden": true
   },
   "outputs": [],
   "source": [
    "def create_base_environment():\n",
    "    built_in_variables = {k:v for k,v in built_ins.vars}\n",
    "    built_in_functions = {}\n",
    "    built_in_conversion_function_sets = {}\n",
    "    built_in_units = {}\n",
    "    \n",
    "    for name, function, parameter_names, parameter_types, parameter_ranks, parameter_shapes, output_unit in built_ins.functions:\n",
    "        \n",
    "        parameter_evaluation_parameters = built_ins.function_parameter_evaluation_parameters.get(name, {})\n",
    "        \n",
    "        built_in_functions[name] = built_in_functions.get(name, FunctionSet(name, parameter_evaluation_parameters))\n",
    "        built_in_functions[name].add(FunctionSignature(\n",
    "            name, \n",
    "            function, \n",
    "            parameter_names, \n",
    "            parameter_types, \n",
    "            parameter_ranks, \n",
    "            parameter_shapes,\n",
    "            output_unit\n",
    "        ))\n",
    "        \n",
    "    for name, forward, reverse in built_ins.conversion_function_sets:\n",
    "        built_in_conversion_function_sets[name] = ConversionFunctionSet(name, forward, reverse)\n",
    "        \n",
    "    for name, unit in built_ins.units:\n",
    "        built_in_units[f'<unit>{name}'] = unit\n",
    "    \n",
    "    environment = Environment(None, {**built_in_variables, \n",
    "                                     **built_in_functions, \n",
    "                                     **built_in_conversion_function_sets, \n",
    "                                     **built_in_units\n",
    "                                    })\n",
    "    \n",
    "    return environment"
   ]
  },
  {
   "cell_type": "markdown",
   "metadata": {
    "heading_collapsed": true
   },
   "source": [
    "## Evaluate"
   ]
  },
  {
   "cell_type": "code",
   "execution_count": 92,
   "metadata": {
    "ExecuteTime": {
     "end_time": "2020-09-09T13:29:01.268758Z",
     "start_time": "2020-09-09T13:29:01.255762Z"
    },
    "hidden": true
   },
   "outputs": [],
   "source": [
    "def evaluate(computation_graph, environment):\n",
    "    return computation_graph.eval(environment)"
   ]
  },
  {
   "cell_type": "code",
   "execution_count": 93,
   "metadata": {
    "ExecuteTime": {
     "end_time": "2020-09-09T13:29:01.284761Z",
     "start_time": "2020-09-09T13:29:01.269760Z"
    },
    "hidden": true
   },
   "outputs": [],
   "source": [
    "def read(string, environment, lexer=None, token_tree_builder=None, **kwargs):\n",
    "    \n",
    "    lexer = lexer or Lexer(environment.ans_available)\n",
    "    tokens = lexer.process(string)\n",
    "    \n",
    "    token_tree_builder = token_tree_builder or TokenTreeBuilder()\n",
    "    token_tree = token_tree_builder.build(tokens)\n",
    "    is_complete = token_tree.is_complete(True)\n",
    "    \n",
    "    return {\n",
    "        'environment': environment,\n",
    "        'lexer':       lexer,\n",
    "        'token_tree_builder': token_tree_builder,\n",
    "        'is_complete': is_complete,\n",
    "    }"
   ]
  },
  {
   "cell_type": "code",
   "execution_count": 94,
   "metadata": {
    "ExecuteTime": {
     "end_time": "2020-09-09T13:29:01.300759Z",
     "start_time": "2020-09-09T13:29:01.286761Z"
    },
    "hidden": true
   },
   "outputs": [],
   "source": [
    "def execute(token_tree_builder, environment, **kwargs):\n",
    "    computation_graph = build_computation_graph(token_tree_builder.root)\n",
    "    result = evaluate(computation_graph, environment)\n",
    "    ln_name = environment.addLn(result, computation_graph, environment)\n",
    "    print_result(result, ln_name)\n",
    "\n",
    "    return result"
   ]
  },
  {
   "cell_type": "code",
   "execution_count": 95,
   "metadata": {
    "ExecuteTime": {
     "end_time": "2020-09-09T13:29:01.316760Z",
     "start_time": "2020-09-09T13:29:01.302764Z"
    },
    "hidden": true
   },
   "outputs": [],
   "source": [
    "def print_result(result, ln_name):\n",
    "    ln_name = ln_name + ': '\n",
    "    space = ' ' * len(ln_name)\n",
    "    lines = str(result).split('\\n')\n",
    "    pre = [ln_name] + (len(lines)-1) * [space]\n",
    "    \n",
    "    lines = [p+l for p,l in zip(pre, lines)]\n",
    "    \n",
    "    print(*lines, sep='\\n')"
   ]
  },
  {
   "cell_type": "markdown",
   "metadata": {
    "heading_collapsed": true
   },
   "source": [
    "## Run"
   ]
  },
  {
   "cell_type": "code",
   "execution_count": 96,
   "metadata": {
    "ExecuteTime": {
     "end_time": "2020-09-09T13:29:01.332759Z",
     "start_time": "2020-09-09T13:29:01.318761Z"
    },
    "hidden": true
   },
   "outputs": [],
   "source": [
    "def calc(query, environment, debug=False):\n",
    "\n",
    "    context = read(query, environment)\n",
    "    result = execute(**context)\n",
    "    return result"
   ]
  },
  {
   "cell_type": "markdown",
   "metadata": {},
   "source": [
    "## Test"
   ]
  },
  {
   "cell_type": "markdown",
   "metadata": {
    "heading_collapsed": true
   },
   "source": [
    "### Basics"
   ]
  },
  {
   "cell_type": "code",
   "execution_count": 97,
   "metadata": {
    "ExecuteTime": {
     "end_time": "2020-09-09T13:29:01.348761Z",
     "start_time": "2020-09-09T13:29:01.334761Z"
    },
    "hidden": true
   },
   "outputs": [],
   "source": [
    "e = create_base_environment()"
   ]
  },
  {
   "cell_type": "code",
   "execution_count": 98,
   "metadata": {
    "ExecuteTime": {
     "end_time": "2020-09-09T13:29:01.364761Z",
     "start_time": "2020-09-09T13:29:01.350760Z"
    },
    "hidden": true
   },
   "outputs": [
    {
     "name": "stdout",
     "output_type": "stream",
     "text": [
      "out1: 0.3\n"
     ]
    },
    {
     "data": {
      "text/plain": [
       "Tensor([Real(0.3, None)])"
      ]
     },
     "execution_count": 98,
     "metadata": {},
     "output_type": "execute_result"
    }
   ],
   "source": [
    "calc('0.1 + 0.2', e)"
   ]
  },
  {
   "cell_type": "code",
   "execution_count": 99,
   "metadata": {
    "ExecuteTime": {
     "end_time": "2020-09-09T13:29:01.380761Z",
     "start_time": "2020-09-09T13:29:01.365761Z"
    },
    "hidden": true
   },
   "outputs": [
    {
     "name": "stdout",
     "output_type": "stream",
     "text": [
      "out2: [1.61803398874989484820458683436563811772, 0.6180339887498948482045868344]\n"
     ]
    },
    {
     "data": {
      "text/plain": [
       "Tensor([Real(1.61803398874989484820458683436563811772, None)\n",
       " Real(0.6180339887498948482045868344, None)], (2,))"
      ]
     },
     "execution_count": 99,
     "metadata": {},
     "output_type": "execute_result"
    }
   ],
   "source": [
    "calc('[phi, 1/phi]', e)"
   ]
  },
  {
   "cell_type": "code",
   "execution_count": 100,
   "metadata": {
    "ExecuteTime": {
     "end_time": "2020-09-09T13:29:01.396758Z",
     "start_time": "2020-09-09T13:29:01.382760Z"
    },
    "hidden": true,
    "scrolled": true
   },
   "outputs": [
    {
     "name": "stdout",
     "output_type": "stream",
     "text": [
      "out3: [3, 5, 7]\n"
     ]
    },
    {
     "data": {
      "text/plain": [
       "Tensor([Real(3, None) Real(5, None) Real(7, None)], (3,))"
      ]
     },
     "execution_count": 100,
     "metadata": {},
     "output_type": "execute_result"
    }
   ],
   "source": [
    "calc('(1 + [1,2,3]) * 2; 1 + [1,2,3] * 2', e)"
   ]
  },
  {
   "cell_type": "code",
   "execution_count": 101,
   "metadata": {
    "ExecuteTime": {
     "end_time": "2020-09-09T13:29:01.412759Z",
     "start_time": "2020-09-09T13:29:01.398761Z"
    },
    "hidden": true,
    "scrolled": false
   },
   "outputs": [
    {
     "name": "stdout",
     "output_type": "stream",
     "text": [
      "out4: [1, 4, 9, 16]\n"
     ]
    },
    {
     "data": {
      "text/plain": [
       "Tensor([Real(1, None) Real(4, None) Real(9, None) Real(16, None)], (4,))"
      ]
     },
     "execution_count": 101,
     "metadata": {},
     "output_type": "execute_result"
    }
   ],
   "source": [
    "calc('2 ^ [1,2,3,4]; [1,2,3,4] ^ 2', e)"
   ]
  },
  {
   "cell_type": "code",
   "execution_count": 102,
   "metadata": {
    "ExecuteTime": {
     "end_time": "2020-09-09T13:29:01.428759Z",
     "start_time": "2020-09-09T13:29:01.414760Z"
    },
    "hidden": true
   },
   "outputs": [
    {
     "name": "stdout",
     "output_type": "stream",
     "text": [
      "out5: [4, 64, 4096]\n"
     ]
    },
    {
     "data": {
      "text/plain": [
       "Tensor([Real(4, None) Real(64, None) Real(4096, None)], (3,))"
      ]
     },
     "execution_count": 102,
     "metadata": {},
     "output_type": "execute_result"
    }
   ],
   "source": [
    "calc('[2,4,8] ^ [2,3,4]', e)"
   ]
  },
  {
   "cell_type": "code",
   "execution_count": 103,
   "metadata": {
    "ExecuteTime": {
     "end_time": "2020-09-09T13:29:01.444760Z",
     "start_time": "2020-09-09T13:29:01.430761Z"
    },
    "hidden": true
   },
   "outputs": [
    {
     "name": "stdout",
     "output_type": "stream",
     "text": [
      "out6: [[[1.570796326794896619231321692, 3.141592653589793238462643383, 6.283185307179586476925286767]]]\n"
     ]
    },
    {
     "data": {
      "text/plain": [
       "Tensor([Real(1.570796326794896619231321692, None)\n",
       " Real(3.141592653589793238462643383, None)\n",
       " Real(6.283185307179586476925286767, None)], (1, 1, 3))"
      ]
     },
     "execution_count": 103,
     "metadata": {},
     "output_type": "execute_result"
    }
   ],
   "source": [
    "calc('PI * [1/2, 1, 2,,,]', e)"
   ]
  },
  {
   "cell_type": "code",
   "execution_count": 104,
   "metadata": {
    "ExecuteTime": {
     "end_time": "2020-09-09T13:29:01.459758Z",
     "start_time": "2020-09-09T13:29:01.446761Z"
    },
    "hidden": true,
    "scrolled": true
   },
   "outputs": [
    {
     "name": "stdout",
     "output_type": "stream",
     "text": [
      "out7: [[9, 12, 15],\n",
      "       [19, 26, 33],\n",
      "       [29, 40, 51]]\n"
     ]
    },
    {
     "data": {
      "text/plain": [
       "Tensor([Real(9, None) Real(12, None) Real(15, None) Real(19, None) Real(26, None)\n",
       " Real(33, None) Real(29, None) Real(40, None) Real(51, None)], (3, 3))"
      ]
     },
     "execution_count": 104,
     "metadata": {},
     "output_type": "execute_result"
    }
   ],
   "source": [
    "calc('[1,2,,3,4,,5,6] # [1,2,3,,4,5,6]', e)"
   ]
  },
  {
   "cell_type": "code",
   "execution_count": 105,
   "metadata": {
    "ExecuteTime": {
     "end_time": "2020-09-09T13:29:01.474761Z",
     "start_time": "2020-09-09T13:29:01.461760Z"
    },
    "hidden": true
   },
   "outputs": [
    {
     "name": "stdout",
     "output_type": "stream",
     "text": [
      "out8: [1, 1, 2, 2]\n"
     ]
    },
    {
     "data": {
      "text/plain": [
       "Tensor([Real(1, None) Real(1, None) Real(2, None) Real(2, None)], (4,))"
      ]
     },
     "execution_count": 105,
     "metadata": {},
     "output_type": "execute_result"
    }
   ],
   "source": [
    "calc('|0 - |10-100| |; |0-1|; ||0-1||; |[1,-1,2,-2]|', e)"
   ]
  },
  {
   "cell_type": "code",
   "execution_count": 106,
   "metadata": {
    "ExecuteTime": {
     "end_time": "2020-09-09T13:29:01.490762Z",
     "start_time": "2020-09-09T13:29:01.475761Z"
    },
    "hidden": true
   },
   "outputs": [
    {
     "name": "stdout",
     "output_type": "stream",
     "text": [
      "out9: 10000000000\n"
     ]
    },
    {
     "data": {
      "text/plain": [
       "Tensor([Real(10000000000, None)])"
      ]
     },
     "execution_count": 106,
     "metadata": {},
     "output_type": "execute_result"
    }
   ],
   "source": [
    "calc('$[1,4,9,16]; 3$[1,8,27,64]; 0.1$10; 10^(1/0.1)', e)"
   ]
  },
  {
   "cell_type": "code",
   "execution_count": 107,
   "metadata": {
    "ExecuteTime": {
     "end_time": "2020-09-09T13:29:01.506760Z",
     "start_time": "2020-09-09T13:29:01.492762Z"
    },
    "hidden": true,
    "scrolled": true
   },
   "outputs": [
    {
     "name": "stdout",
     "output_type": "stream",
     "text": [
      "out10: [32, 122]\n"
     ]
    },
    {
     "data": {
      "text/plain": [
       "Tensor([Real(32, None) Real(122, None)], (2,))"
      ]
     },
     "execution_count": 107,
     "metadata": {},
     "output_type": "execute_result"
    }
   ],
   "source": [
    "calc('[1,2,3] .* [3,2,1]; [1,2,3,,] # [3,,2,,1]; [1,2,3,,4,5,6] .* [4,5,6,,7,8,9]', e)"
   ]
  },
  {
   "cell_type": "code",
   "execution_count": 108,
   "metadata": {
    "ExecuteTime": {
     "end_time": "2020-09-09T13:29:01.522776Z",
     "start_time": "2020-09-09T13:29:01.508761Z"
    },
    "hidden": true
   },
   "outputs": [
    {
     "name": "stdout",
     "output_type": "stream",
     "text": [
      "out11: [[[1, 2, 3],\n",
      "         [4, 5, 6]],\n",
      "       \n",
      "        [[6, 5, 4],\n",
      "         [3, 2, 1]],\n",
      "       \n",
      "        [[1, 2, 3],\n",
      "         [4, 5, 6]]]\n"
     ]
    },
    {
     "data": {
      "text/plain": [
       "Tensor([Real(1, None) Real(2, None) Real(3, None) Real(4, None) Real(5, None)\n",
       " Real(6, None) Real(6, None) Real(5, None) Real(4, None) Real(3, None)\n",
       " Real(2, None) Real(1, None) Real(1, None) Real(2, None) Real(3, None)\n",
       " Real(4, None) Real(5, None) Real(6, None)], (3, 2, 3))"
      ]
     },
     "execution_count": 108,
     "metadata": {},
     "output_type": "execute_result"
    }
   ],
   "source": [
    "calc(\"\"\"\n",
    "[\n",
    "    1,2,3,,\n",
    "    4,5,6\n",
    "    ,,,\n",
    "    6,5,4,,\n",
    "    3,2,1\n",
    "    ,,,\n",
    "    1,2,3,,\n",
    "    4,5,6\n",
    "]\n",
    "\"\"\", e)"
   ]
  },
  {
   "cell_type": "code",
   "execution_count": 109,
   "metadata": {
    "ExecuteTime": {
     "end_time": "2020-09-09T13:29:01.538758Z",
     "start_time": "2020-09-09T13:29:01.524762Z"
    },
    "hidden": true
   },
   "outputs": [
    {
     "name": "stdout",
     "output_type": "stream",
     "text": [
      "out12: [[[1, 2, 3],\n",
      "         [4, 5, 6]],\n",
      "       \n",
      "        [[6, 5, 4],\n",
      "         [3, 2, 1]],\n",
      "       \n",
      "        [[1, 2, 3],\n",
      "         [4, 5, 6]]]\n"
     ]
    },
    {
     "data": {
      "text/plain": [
       "Tensor([Real(1, None) Real(2, None) Real(3, None) Real(4, None) Real(5, None)\n",
       " Real(6, None) Real(6, None) Real(5, None) Real(4, None) Real(3, None)\n",
       " Real(2, None) Real(1, None) Real(1, None) Real(2, None) Real(3, None)\n",
       " Real(4, None) Real(5, None) Real(6, None)], (3, 2, 3))"
      ]
     },
     "execution_count": 109,
     "metadata": {},
     "output_type": "execute_result"
    }
   ],
   "source": [
    "calc(\"\"\"\n",
    "[[[1, 2, 3],\n",
    "  [4, 5, 6]],\n",
    "\n",
    " [[6, 5, 4],\n",
    "  [3, 2, 1]],\n",
    "\n",
    " [[1, 2, 3],\n",
    "  [4, 5, 6]]]\n",
    "\"\"\", e)"
   ]
  },
  {
   "cell_type": "markdown",
   "metadata": {
    "heading_collapsed": true
   },
   "source": [
    "### Variables"
   ]
  },
  {
   "cell_type": "code",
   "execution_count": 110,
   "metadata": {
    "ExecuteTime": {
     "end_time": "2020-09-09T13:29:01.554758Z",
     "start_time": "2020-09-09T13:29:01.540764Z"
    },
    "hidden": true,
    "scrolled": true
   },
   "outputs": [
    {
     "name": "stdout",
     "output_type": "stream",
     "text": [
      "out13: 9\n"
     ]
    },
    {
     "data": {
      "text/plain": [
       "Tensor([Real(9, None)])"
      ]
     },
     "execution_count": 110,
     "metadata": {},
     "output_type": "execute_result"
    }
   ],
   "source": [
    "calc('x = 1; y = 2; x = 3; x^y', e)"
   ]
  },
  {
   "cell_type": "code",
   "execution_count": 111,
   "metadata": {
    "ExecuteTime": {
     "end_time": "2020-09-09T13:29:01.570758Z",
     "start_time": "2020-09-09T13:29:01.556772Z"
    },
    "hidden": true
   },
   "outputs": [
    {
     "name": "stdout",
     "output_type": "stream",
     "text": [
      "out14: 65536\n"
     ]
    },
    {
     "data": {
      "text/plain": [
       "Tensor([Real(65536, None)])"
      ]
     },
     "execution_count": 111,
     "metadata": {},
     "output_type": "execute_result"
    }
   ],
   "source": [
    "calc('a = ((2, 4), 8); ((x, y), z) = a; x^y; y^z', e)"
   ]
  },
  {
   "cell_type": "code",
   "execution_count": 112,
   "metadata": {
    "ExecuteTime": {
     "end_time": "2020-09-09T13:29:01.586762Z",
     "start_time": "2020-09-09T13:29:01.572760Z"
    },
    "hidden": true,
    "scrolled": true
   },
   "outputs": [
    {
     "name": "stdout",
     "output_type": "stream",
     "text": [
      "out15: (1, 2, 3, 4)\n"
     ]
    },
    {
     "data": {
      "text/plain": [
       "Array([Tensor([Real(1, None)]) Tensor([Real(2, None)]) Tensor([Real(3, None)])\n",
       " Tensor([Real(4, None)])])"
      ]
     },
     "execution_count": 112,
     "metadata": {},
     "output_type": "execute_result"
    }
   ],
   "source": [
    "calc('x = [1,2,,3,4]; (a,b,c,d) = x; (a,b,c,d)', e)"
   ]
  },
  {
   "cell_type": "markdown",
   "metadata": {
    "heading_collapsed": true
   },
   "source": [
    "### Implicit Multiplication"
   ]
  },
  {
   "cell_type": "code",
   "execution_count": 113,
   "metadata": {
    "ExecuteTime": {
     "end_time": "2020-09-09T13:29:01.602759Z",
     "start_time": "2020-09-09T13:29:01.588763Z"
    },
    "hidden": true
   },
   "outputs": [],
   "source": [
    "# print(calc('x = 5; 2 * x; 2(3)(3+4)x; 3x^2'))"
   ]
  },
  {
   "cell_type": "code",
   "execution_count": 114,
   "metadata": {
    "ExecuteTime": {
     "end_time": "2020-09-09T13:29:01.617758Z",
     "start_time": "2020-09-09T13:29:01.604761Z"
    },
    "hidden": true
   },
   "outputs": [],
   "source": [
    "# print(calc('x = 5; 2 x x'))"
   ]
  },
  {
   "cell_type": "code",
   "execution_count": 115,
   "metadata": {
    "ExecuteTime": {
     "end_time": "2020-09-09T13:29:01.633758Z",
     "start_time": "2020-09-09T13:29:01.619761Z"
    },
    "hidden": true
   },
   "outputs": [],
   "source": [
    "# print(calc('f = x => 2x; 3 f(5)'))"
   ]
  },
  {
   "cell_type": "markdown",
   "metadata": {
    "heading_collapsed": true
   },
   "source": [
    "### Functions"
   ]
  },
  {
   "cell_type": "code",
   "execution_count": 116,
   "metadata": {
    "ExecuteTime": {
     "end_time": "2020-09-09T13:29:01.649757Z",
     "start_time": "2020-09-09T13:29:01.634761Z"
    },
    "hidden": true
   },
   "outputs": [
    {
     "name": "stdout",
     "output_type": "stream",
     "text": [
      "out16: 125\n"
     ]
    },
    {
     "data": {
      "text/plain": [
       "Tensor([Real(125, None)])"
      ]
     },
     "execution_count": 116,
     "metadata": {},
     "output_type": "execute_result"
    }
   ],
   "source": [
    "calc('f = x => x^3; f(5)', e)"
   ]
  },
  {
   "cell_type": "code",
   "execution_count": 117,
   "metadata": {
    "ExecuteTime": {
     "end_time": "2020-09-09T13:29:01.665759Z",
     "start_time": "2020-09-09T13:29:01.650761Z"
    },
    "hidden": true
   },
   "outputs": [
    {
     "name": "stdout",
     "output_type": "stream",
     "text": [
      "out17: [1, 32, 729]\n"
     ]
    },
    {
     "data": {
      "text/plain": [
       "Tensor([Real(1, None) Real(32, None) Real(729, None)], (3,))"
      ]
     },
     "execution_count": 117,
     "metadata": {},
     "output_type": "execute_result"
    }
   ],
   "source": [
    "calc('f = (x, y) => x^y; f(3,4); f([1,2,3], [4,5,6])', e)"
   ]
  },
  {
   "cell_type": "code",
   "execution_count": 118,
   "metadata": {
    "ExecuteTime": {
     "end_time": "2020-09-09T13:29:01.681761Z",
     "start_time": "2020-09-09T13:29:01.667759Z"
    },
    "hidden": true
   },
   "outputs": [
    {
     "name": "stdout",
     "output_type": "stream",
     "text": [
      "out18: 81\n"
     ]
    },
    {
     "data": {
      "text/plain": [
       "Tensor([Real(81, None)])"
      ]
     },
     "execution_count": 118,
     "metadata": {},
     "output_type": "execute_result"
    }
   ],
   "source": [
    "calc('f = x => {y = x + 1; x^y}; f(3)', e)"
   ]
  },
  {
   "cell_type": "code",
   "execution_count": 119,
   "metadata": {
    "ExecuteTime": {
     "end_time": "2020-09-09T13:29:01.697758Z",
     "start_time": "2020-09-09T13:29:01.682761Z"
    },
    "hidden": true
   },
   "outputs": [
    {
     "name": "stdout",
     "output_type": "stream",
     "text": [
      "out19: (8, 4)\n"
     ]
    },
    {
     "data": {
      "text/plain": [
       "Array([Tensor([Real(8, None)]) Tensor([Real(4, None)])])"
      ]
     },
     "execution_count": 119,
     "metadata": {},
     "output_type": "execute_result"
    }
   ],
   "source": [
    "calc(\"\"\"\n",
    "    f = x => {\n",
    "        inc = x => x + 1\n",
    "        y = inc(x)\n",
    "        x^y\n",
    "    }\n",
    "    g = x => x^x\n",
    "    \n",
    "    (\n",
    "        f(2)\n",
    "        g(2)\n",
    "    )\n",
    "\"\"\", e)"
   ]
  },
  {
   "cell_type": "code",
   "execution_count": 120,
   "metadata": {
    "ExecuteTime": {
     "end_time": "2020-09-09T13:29:01.713759Z",
     "start_time": "2020-09-09T13:29:01.698760Z"
    },
    "hidden": true
   },
   "outputs": [
    {
     "name": "stdout",
     "output_type": "stream",
     "text": [
      "out20: 1\n"
     ]
    },
    {
     "data": {
      "text/plain": [
       "Tensor([Real(1, None)])"
      ]
     },
     "execution_count": 120,
     "metadata": {},
     "output_type": "execute_result"
    }
   ],
   "source": [
    "calc('f = () => 1; f()', e)"
   ]
  },
  {
   "cell_type": "code",
   "execution_count": 121,
   "metadata": {
    "ExecuteTime": {
     "end_time": "2020-09-09T13:29:01.729760Z",
     "start_time": "2020-09-09T13:29:01.715760Z"
    },
    "hidden": true
   },
   "outputs": [
    {
     "name": "stdout",
     "output_type": "stream",
     "text": [
      "out21: [27, 9, 3]\n"
     ]
    },
    {
     "data": {
      "text/plain": [
       "Tensor([Real(27, None) Real(9, None) Real(3, None)], (3,))"
      ]
     },
     "execution_count": 121,
     "metadata": {},
     "output_type": "execute_result"
    }
   ],
   "source": [
    "calc(\"\"\"\n",
    "f = x => (x, x^2, x^3)\n",
    "(a,b,c) = f(3)\n",
    "[c,b,a]\n",
    "\"\"\", e)"
   ]
  },
  {
   "cell_type": "markdown",
   "metadata": {
    "heading_collapsed": true
   },
   "source": [
    "### Array and Tensor Item Lookup"
   ]
  },
  {
   "cell_type": "code",
   "execution_count": 122,
   "metadata": {
    "ExecuteTime": {
     "end_time": "2020-09-09T13:29:01.744758Z",
     "start_time": "2020-09-09T13:29:01.730760Z"
    },
    "hidden": true
   },
   "outputs": [
    {
     "name": "stdout",
     "output_type": "stream",
     "text": [
      "out22: 2\n"
     ]
    },
    {
     "data": {
      "text/plain": [
       "Tensor([Real(2, None)])"
      ]
     },
     "execution_count": 122,
     "metadata": {},
     "output_type": "execute_result"
    }
   ],
   "source": [
    "calc(\"\"\"\n",
    "    f = x => x^2\n",
    "    c = 1\n",
    "    a = (1,2,3)\n",
    "    t = [0.1, 0.2, 0.3,, 0.4, 0.5, 0.6]\n",
    "    t(1,c)\n",
    "    a(c)\n",
    "\"\"\", e)"
   ]
  },
  {
   "cell_type": "code",
   "execution_count": 123,
   "metadata": {
    "ExecuteTime": {
     "end_time": "2020-09-09T13:29:01.760758Z",
     "start_time": "2020-09-09T13:29:01.745759Z"
    },
    "hidden": true,
    "scrolled": true
   },
   "outputs": [
    {
     "name": "stdout",
     "output_type": "stream",
     "text": [
      "out23: 2\n"
     ]
    },
    {
     "data": {
      "text/plain": [
       "Tensor([Real(2, None)])"
      ]
     },
     "execution_count": 123,
     "metadata": {},
     "output_type": "execute_result"
    }
   ],
   "source": [
    "calc('a = (1,2,3); a(1)', e)"
   ]
  },
  {
   "cell_type": "code",
   "execution_count": 124,
   "metadata": {
    "ExecuteTime": {
     "end_time": "2020-09-09T13:29:01.776280Z",
     "start_time": "2020-09-09T13:29:01.761760Z"
    },
    "hidden": true
   },
   "outputs": [
    {
     "name": "stdout",
     "output_type": "stream",
     "text": [
      "out24: 2\n"
     ]
    },
    {
     "data": {
      "text/plain": [
       "Tensor([Real(2, None)])"
      ]
     },
     "execution_count": 124,
     "metadata": {},
     "output_type": "execute_result"
    }
   ],
   "source": [
    "calc('t = [1,2,3]; t(1)', e)"
   ]
  },
  {
   "cell_type": "markdown",
   "metadata": {},
   "source": [
    "### Conversions"
   ]
  },
  {
   "cell_type": "code",
   "execution_count": 125,
   "metadata": {
    "ExecuteTime": {
     "end_time": "2020-09-09T13:29:01.792281Z",
     "start_time": "2020-09-09T13:29:01.778282Z"
    }
   },
   "outputs": [
    {
     "name": "stdout",
     "output_type": "stream",
     "text": [
      "out25: 120.00cm\n"
     ]
    },
    {
     "data": {
      "text/plain": [
       "Tensor([Real(1.20, cm)])"
      ]
     },
     "execution_count": 125,
     "metadata": {},
     "output_type": "execute_result"
    }
   ],
   "source": [
    "calc('120cm', e)"
   ]
  },
  {
   "cell_type": "code",
   "execution_count": 126,
   "metadata": {
    "ExecuteTime": {
     "end_time": "2020-09-09T13:29:01.808283Z",
     "start_time": "2020-09-09T13:29:01.794282Z"
    }
   },
   "outputs": [
    {
     "name": "stdout",
     "output_type": "stream",
     "text": [
      "Units -> Units cm None\n",
      "out26: 135.00cm\n"
     ]
    },
    {
     "data": {
      "text/plain": [
       "Tensor([Real(1.35, cm)])"
      ]
     },
     "execution_count": 126,
     "metadata": {},
     "output_type": "execute_result"
    }
   ],
   "source": [
    "calc('120cm + 15cm', e)"
   ]
  },
  {
   "cell_type": "code",
   "execution_count": 127,
   "metadata": {
    "ExecuteTime": {
     "end_time": "2020-09-09T13:29:01.824281Z",
     "start_time": "2020-09-09T13:29:01.810283Z"
    }
   },
   "outputs": [
    {
     "name": "stdout",
     "output_type": "stream",
     "text": [
      "Units -> Units cm None\n",
      "out27: 121.500cm\n"
     ]
    },
    {
     "data": {
      "text/plain": [
       "Tensor([Real(1.215, cm)])"
      ]
     },
     "execution_count": 127,
     "metadata": {},
     "output_type": "execute_result"
    }
   ],
   "source": [
    "calc('120cm + 15mm', e)"
   ]
  },
  {
   "cell_type": "code",
   "execution_count": 128,
   "metadata": {
    "ExecuteTime": {
     "end_time": "2020-09-09T13:29:01.840282Z",
     "start_time": "2020-09-09T13:29:01.826282Z"
    },
    "scrolled": true
   },
   "outputs": [
    {
     "name": "stdout",
     "output_type": "stream",
     "text": [
      "Units -> Units m/s None\n",
      "out28: 4m/s\n"
     ]
    },
    {
     "data": {
      "text/plain": [
       "Tensor([Real(4, m/s)])"
      ]
     },
     "execution_count": 128,
     "metadata": {},
     "output_type": "execute_result"
    }
   ],
   "source": [
    "calc('20m / 5s', e)"
   ]
  },
  {
   "cell_type": "code",
   "execution_count": 129,
   "metadata": {
    "ExecuteTime": {
     "end_time": "2020-09-09T13:29:01.856279Z",
     "start_time": "2020-09-09T13:29:01.842284Z"
    }
   },
   "outputs": [
    {
     "name": "stdout",
     "output_type": "stream",
     "text": [
      "Units -> Units m^2 None\n",
      "out29: 2.00m^2\n"
     ]
    },
    {
     "data": {
      "text/plain": [
       "Tensor([Real(2.00, m^2)])"
      ]
     },
     "execution_count": 129,
     "metadata": {},
     "output_type": "execute_result"
    }
   ],
   "source": [
    "calc('20m * 10cm', e)"
   ]
  },
  {
   "cell_type": "code",
   "execution_count": 130,
   "metadata": {
    "ExecuteTime": {
     "end_time": "2020-09-09T13:29:01.871279Z",
     "start_time": "2020-09-09T13:29:01.858283Z"
    }
   },
   "outputs": [
    {
     "name": "stdout",
     "output_type": "stream",
     "text": [
      "out30: [20m^3/s^2, 5m^2/s, 5m/s]\n"
     ]
    },
    {
     "data": {
      "text/plain": [
       "Tensor([Real(20, m^3/s^2) Real(5, m^2/s) Real(5, m/s)], (3,))"
      ]
     },
     "execution_count": 130,
     "metadata": {},
     "output_type": "execute_result"
    }
   ],
   "source": [
    "calc('[20(m^3/s^2), 5(m/s*m), 5(m*s^-1)]', e)"
   ]
  },
  {
   "cell_type": "code",
   "execution_count": 131,
   "metadata": {
    "ExecuteTime": {
     "end_time": "2020-09-09T13:29:01.887279Z",
     "start_time": "2020-09-09T13:29:01.873283Z"
    }
   },
   "outputs": [
    {
     "name": "stdout",
     "output_type": "stream",
     "text": [
      "Units -> Units hr None\n",
      "Units -> Units hr None\n",
      "out31: 4.750000000000000000000000000hr\n"
     ]
    },
    {
     "data": {
      "text/plain": [
       "Tensor([Real(17100, hr)])"
      ]
     },
     "execution_count": 131,
     "metadata": {},
     "output_type": "execute_result"
    }
   ],
   "source": [
    "calc('(1hr + 35min) * 3', e)"
   ]
  },
  {
   "cell_type": "code",
   "execution_count": 132,
   "metadata": {
    "ExecuteTime": {
     "end_time": "2020-09-09T13:29:01.903280Z",
     "start_time": "2020-09-09T13:29:01.888280Z"
    },
    "scrolled": true
   },
   "outputs": [
    {
     "name": "stdout",
     "output_type": "stream",
     "text": [
      "Units -> Units m None\n",
      "Units -> Units s None\n",
      "out32: [25m, 2.000000000000000000000000000s]\n"
     ]
    },
    {
     "data": {
      "text/plain": [
       "Tensor([Real(25, m) Real(2.000000000000000000000000000, s)], (2,))"
      ]
     },
     "execution_count": 132,
     "metadata": {},
     "output_type": "execute_result"
    }
   ],
   "source": [
    "calc('[5m ^ 2, 4$16s]', e)"
   ]
  },
  {
   "cell_type": "code",
   "execution_count": 133,
   "metadata": {
    "ExecuteTime": {
     "end_time": "2020-09-09T13:29:01.918279Z",
     "start_time": "2020-09-09T13:29:01.905281Z"
    },
    "scrolled": true
   },
   "outputs": [
    {
     "name": "stdout",
     "output_type": "stream",
     "text": [
      "Units -> Units m^2 None\n",
      "out33: 10000.00mm^2\n"
     ]
    },
    {
     "data": {
      "text/plain": [
       "Tensor([Real(0.01, mm^2)])"
      ]
     },
     "execution_count": 133,
     "metadata": {},
     "output_type": "execute_result"
    }
   ],
   "source": [
    "calc('1m * 1cm @ (mm^2)', e)"
   ]
  },
  {
   "cell_type": "code",
   "execution_count": 134,
   "metadata": {
    "ExecuteTime": {
     "end_time": "2020-09-09T13:29:01.934293Z",
     "start_time": "2020-09-09T13:29:01.920281Z"
    }
   },
   "outputs": [
    {
     "name": "stdout",
     "output_type": "stream",
     "text": [
      "out34: 1.00cm\n"
     ]
    },
    {
     "data": {
      "text/plain": [
       "Tensor([Real(0.01, cm)])"
      ]
     },
     "execution_count": 134,
     "metadata": {},
     "output_type": "execute_result"
    }
   ],
   "source": [
    "calc('[1,2,3]cm', e)"
   ]
  },
  {
   "cell_type": "code",
   "execution_count": 135,
   "metadata": {
    "ExecuteTime": {
     "end_time": "2020-09-09T13:29:01.950069Z",
     "start_time": "2020-09-09T13:29:01.935295Z"
    }
   },
   "outputs": [
    {
     "name": "stdout",
     "output_type": "stream",
     "text": [
      "out35: [0.001m, 1.00cm, 1m, 1.000km]\n"
     ]
    },
    {
     "data": {
      "text/plain": [
       "Tensor([Real(0.001, m) Real(0.01, cm) Real(1, m) Real(1000, km)], (4,))"
      ]
     },
     "execution_count": 135,
     "metadata": {},
     "output_type": "execute_result"
    }
   ],
   "source": [
    "calc('[1mm, 1cm, 1m, 1km] @ m', e)"
   ]
  },
  {
   "cell_type": "code",
   "execution_count": 136,
   "metadata": {
    "ExecuteTime": {
     "end_time": "2020-09-09T13:29:01.965802Z",
     "start_time": "2020-09-09T13:29:01.951659Z"
    }
   },
   "outputs": [
    {
     "name": "stdout",
     "output_type": "stream",
     "text": [
      "Units -> Units cm^2 None\n",
      "Units -> Units cm^3 None\n",
      "out36: 320.000000L\n"
     ]
    },
    {
     "data": {
      "text/plain": [
       "Tensor([Real(0.320000, L)])"
      ]
     },
     "execution_count": 136,
     "metadata": {},
     "output_type": "execute_result"
    }
   ],
   "source": [
    "calc('160cm * 50cm * 40cm @ L', e)"
   ]
  },
  {
   "cell_type": "code",
   "execution_count": 137,
   "metadata": {
    "ExecuteTime": {
     "end_time": "2020-09-09T13:29:01.981787Z",
     "start_time": "2020-09-09T13:29:01.966805Z"
    }
   },
   "outputs": [
    {
     "name": "stdout",
     "output_type": "stream",
     "text": [
      "Units -> Units dm None\n",
      "out37: 4.0dm\n"
     ]
    },
    {
     "data": {
      "text/plain": [
       "Tensor([Real(0.4, dm)])"
      ]
     },
     "execution_count": 137,
     "metadata": {},
     "output_type": "execute_result"
    }
   ],
   "source": [
    "calc('2L / 50(cm^2) @ (L/m^2)', e)"
   ]
  },
  {
   "cell_type": "code",
   "execution_count": 138,
   "metadata": {
    "ExecuteTime": {
     "end_time": "2020-09-09T13:29:01.997788Z",
     "start_time": "2020-09-09T13:29:01.983790Z"
    }
   },
   "outputs": [
    {
     "name": "stdout",
     "output_type": "stream",
     "text": [
      "out38: 5\n"
     ]
    },
    {
     "data": {
      "text/plain": [
       "Tensor([Real(5, None)])"
      ]
     },
     "execution_count": 138,
     "metadata": {},
     "output_type": "execute_result"
    }
   ],
   "source": [
    "calc('1m / 20cm', e)"
   ]
  },
  {
   "cell_type": "code",
   "execution_count": 139,
   "metadata": {
    "ExecuteTime": {
     "end_time": "2020-09-09T13:29:02.013790Z",
     "start_time": "2020-09-09T13:29:01.999788Z"
    },
    "scrolled": true
   },
   "outputs": [
    {
     "name": "stdout",
     "output_type": "stream",
     "text": [
      "Units -> Units dm^2 None\n",
      "out39: 1.00dm^2\n"
     ]
    },
    {
     "data": {
      "text/plain": [
       "Tensor([Real(0.01, dm^2)])"
      ]
     },
     "execution_count": 139,
     "metadata": {},
     "output_type": "execute_result"
    }
   ],
   "source": [
    "calc('1L / 1dm', e)"
   ]
  },
  {
   "cell_type": "code",
   "execution_count": 140,
   "metadata": {
    "ExecuteTime": {
     "end_time": "2020-09-09T13:29:02.029790Z",
     "start_time": "2020-09-09T13:29:02.015790Z"
    },
    "scrolled": false
   },
   "outputs": [
    {
     "name": "stdout",
     "output_type": "stream",
     "text": [
      "out40: 16.66666666666666666666666667rev/s\n"
     ]
    },
    {
     "data": {
      "text/plain": [
       "Tensor([Real(104.7197551196597746154214461, rev/s)])"
      ]
     },
     "execution_count": 140,
     "metadata": {},
     "output_type": "execute_result"
    }
   ],
   "source": [
    "calc('1000rpm @ rev/s', e)"
   ]
  },
  {
   "cell_type": "code",
   "execution_count": 141,
   "metadata": {
    "ExecuteTime": {
     "end_time": "2020-09-09T13:29:02.045789Z",
     "start_time": "2020-09-09T13:29:02.031789Z"
    },
    "scrolled": true
   },
   "outputs": [
    {
     "name": "stdout",
     "output_type": "stream",
     "text": [
      "Units -> Units rad None\n",
      "out41: [0.17632698070846497540031805328908376395702362060546875, 44.99999999999999824582267538deg]\n"
     ]
    },
    {
     "data": {
      "text/plain": [
       "Tensor([Real(0.17632698070846497540031805328908376395702362060546875, None)\n",
       " Real(0.78539816339744827899949086713604629039764404296875, deg)], (2,))"
      ]
     },
     "execution_count": 141,
     "metadata": {},
     "output_type": "execute_result"
    }
   ],
   "source": [
    "calc('[tan 10deg, atan 10/10 @ deg]', e)"
   ]
  },
  {
   "cell_type": "code",
   "execution_count": 142,
   "metadata": {
    "ExecuteTime": {
     "end_time": "2020-09-09T13:29:02.060789Z",
     "start_time": "2020-09-09T13:29:02.046788Z"
    }
   },
   "outputs": [
    {
     "name": "stdout",
     "output_type": "stream",
     "text": [
      "Units -> Units s None\n",
      "out42: 1E-9s\n"
     ]
    },
    {
     "data": {
      "text/plain": [
       "Tensor([Real(1E-9, s)])"
      ]
     },
     "execution_count": 142,
     "metadata": {},
     "output_type": "execute_result"
    }
   ],
   "source": [
    "calc('10cm / 100000000(m/s)', e)"
   ]
  },
  {
   "cell_type": "code",
   "execution_count": null,
   "metadata": {},
   "outputs": [],
   "source": []
  },
  {
   "cell_type": "code",
   "execution_count": 143,
   "metadata": {
    "ExecuteTime": {
     "end_time": "2020-09-09T13:29:02.075789Z",
     "start_time": "2020-09-09T13:29:02.062791Z"
    }
   },
   "outputs": [],
   "source": [
    "# t = calc('1/2L', e)\n",
    "\n",
    "# t.first.unit"
   ]
  },
  {
   "cell_type": "code",
   "execution_count": 144,
   "metadata": {
    "ExecuteTime": {
     "end_time": "2020-09-09T13:29:02.091789Z",
     "start_time": "2020-09-09T13:29:02.077791Z"
    }
   },
   "outputs": [],
   "source": [
    "# calc('1hr + 5min + 1000ms @ time', e)"
   ]
  },
  {
   "cell_type": "code",
   "execution_count": 145,
   "metadata": {
    "ExecuteTime": {
     "end_time": "2020-09-09T13:29:02.107790Z",
     "start_time": "2020-09-09T13:29:02.093790Z"
    }
   },
   "outputs": [],
   "source": [
    "# calc(\"'1d 2:40:0.0001'time + '3d 1:35:0.001'time @ time\", e)"
   ]
  },
  {
   "cell_type": "code",
   "execution_count": 146,
   "metadata": {
    "ExecuteTime": {
     "end_time": "2020-09-09T13:29:02.123789Z",
     "start_time": "2020-09-09T13:29:02.109789Z"
    }
   },
   "outputs": [],
   "source": [
    "# calc(\"'1:35'time * 3 @ time\", e)"
   ]
  },
  {
   "cell_type": "code",
   "execution_count": 147,
   "metadata": {
    "ExecuteTime": {
     "end_time": "2020-09-09T13:29:02.139787Z",
     "start_time": "2020-09-09T13:29:02.125791Z"
    }
   },
   "outputs": [],
   "source": [
    "# calc(\"('10:00'time * 5) mod 24hr @ time\", e)"
   ]
  },
  {
   "cell_type": "code",
   "execution_count": 148,
   "metadata": {
    "ExecuteTime": {
     "end_time": "2020-09-09T13:29:02.154786Z",
     "start_time": "2020-09-09T13:29:02.141790Z"
    },
    "scrolled": false
   },
   "outputs": [],
   "source": [
    "# calc('\"1h:2m:3s\"time * 30 @ time', e)"
   ]
  },
  {
   "cell_type": "code",
   "execution_count": 149,
   "metadata": {
    "ExecuteTime": {
     "end_time": "2020-09-09T13:29:02.170789Z",
     "start_time": "2020-09-09T13:29:02.156789Z"
    }
   },
   "outputs": [
    {
     "name": "stdout",
     "output_type": "stream",
     "text": [
      "out43: 50.00mm\n"
     ]
    },
    {
     "data": {
      "text/plain": [
       "Tensor([Real(0.05, mm)])"
      ]
     },
     "execution_count": 149,
     "metadata": {},
     "output_type": "execute_result"
    }
   ],
   "source": [
    "calc('x = 5cm @ mm; x', e)"
   ]
  },
  {
   "cell_type": "markdown",
   "metadata": {
    "heading_collapsed": true
   },
   "source": [
    "### Continued Equations"
   ]
  },
  {
   "cell_type": "code",
   "execution_count": 150,
   "metadata": {
    "ExecuteTime": {
     "end_time": "2020-09-09T13:29:02.186789Z",
     "start_time": "2020-09-09T13:29:02.172791Z"
    },
    "hidden": true,
    "scrolled": true
   },
   "outputs": [
    {
     "name": "stdout",
     "output_type": "stream",
     "text": [
      "out44: 81\n",
      "out45: 20.25\n"
     ]
    },
    {
     "data": {
      "text/plain": [
       "Tensor([Real(20.25, None)])"
      ]
     },
     "execution_count": 150,
     "metadata": {},
     "output_type": "execute_result"
    }
   ],
   "source": [
    "# calc('3 ^ 4', e)\n",
    "# calc(' / 4', e)\n",
    "execute(**read('3 ^ 4', e))\n",
    "execute(**read(' / 4', e))"
   ]
  },
  {
   "cell_type": "code",
   "execution_count": 151,
   "metadata": {
    "ExecuteTime": {
     "end_time": "2020-09-09T13:29:02.202789Z",
     "start_time": "2020-09-09T13:29:02.188791Z"
    },
    "hidden": true,
    "scrolled": true
   },
   "outputs": [
    {
     "name": "stdout",
     "output_type": "stream",
     "text": [
      "out46: 8\n",
      "Units -> Units dm None\n",
      "out47: 8.0dm\n"
     ]
    },
    {
     "data": {
      "text/plain": [
       "Tensor([Real(0.8, dm)])"
      ]
     },
     "execution_count": 151,
     "metadata": {},
     "output_type": "execute_result"
    }
   ],
   "source": [
    "calc('2 ^ 3', e)\n",
    "calc('out37 * 2', e)"
   ]
  },
  {
   "cell_type": "code",
   "execution_count": 152,
   "metadata": {
    "ExecuteTime": {
     "end_time": "2020-09-09T13:29:02.218304Z",
     "start_time": "2020-09-09T13:29:02.204790Z"
    },
    "hidden": true,
    "scrolled": true
   },
   "outputs": [
    {
     "name": "stdout",
     "output_type": "stream",
     "text": [
      "out48: [1, 2, 3]\n"
     ]
    },
    {
     "data": {
      "text/plain": [
       "Tensor([Real(1, None) Real(2, None) Real(3, None)], (3,))"
      ]
     },
     "execution_count": 152,
     "metadata": {},
     "output_type": "execute_result"
    }
   ],
   "source": [
    "# calc('[1,2', e)\n",
    "context = read('[1,2', e)\n",
    "context = read(',3]', **context)\n",
    "execute(**context)"
   ]
  },
  {
   "cell_type": "code",
   "execution_count": 153,
   "metadata": {
    "ExecuteTime": {
     "end_time": "2020-09-09T13:29:02.234304Z",
     "start_time": "2020-09-09T13:29:02.220307Z"
    },
    "hidden": true
   },
   "outputs": [
    {
     "name": "stdout",
     "output_type": "stream",
     "text": [
      "out49: 3\n"
     ]
    },
    {
     "data": {
      "text/plain": [
       "Tensor([Real(3, None)])"
      ]
     },
     "execution_count": 153,
     "metadata": {},
     "output_type": "execute_result"
    }
   ],
   "source": [
    "# calc('1 +', e)\n",
    "context = read('1 +', e)\n",
    "context = read(' 2', **context)\n",
    "execute(**context)"
   ]
  },
  {
   "cell_type": "code",
   "execution_count": 154,
   "metadata": {
    "ExecuteTime": {
     "end_time": "2020-09-09T13:29:02.249307Z",
     "start_time": "2020-09-09T13:29:02.236307Z"
    },
    "hidden": true
   },
   "outputs": [
    {
     "name": "stdout",
     "output_type": "stream",
     "text": [
      "out50: [[[1, 2],\n",
      "         [3, 4]],\n",
      "       \n",
      "        [[5, 6],\n",
      "         [7, 8]]]\n"
     ]
    },
    {
     "data": {
      "text/plain": [
       "Tensor([Real(1, None) Real(2, None) Real(3, None) Real(4, None) Real(5, None)\n",
       " Real(6, None) Real(7, None) Real(8, None)], (2, 2, 2))"
      ]
     },
     "execution_count": 154,
     "metadata": {},
     "output_type": "execute_result"
    }
   ],
   "source": [
    "context = read('[1,2,,'   , e)\n",
    "context = read(' 3,4,,,'  , **context)\n",
    "context = read(''         , **context)\n",
    "context = read(' 5,6,,'   , **context)\n",
    "context = read(' 7,8]'    , **context)\n",
    "execute(**context)"
   ]
  },
  {
   "cell_type": "code",
   "execution_count": 155,
   "metadata": {
    "ExecuteTime": {
     "end_time": "2020-09-09T13:29:02.265209Z",
     "start_time": "2020-09-09T13:29:02.251307Z"
    },
    "hidden": true
   },
   "outputs": [
    {
     "name": "stdout",
     "output_type": "stream",
     "text": [
      "out51: 18\n"
     ]
    },
    {
     "data": {
      "text/plain": [
       "<__main__.Source at 0x19a20f13e48>"
      ]
     },
     "execution_count": 155,
     "metadata": {},
     "output_type": "execute_result"
    }
   ],
   "source": [
    "context = read('    f = x => {  ', e)\n",
    "context = read('\\n    y = 2 * x ', **context)\n",
    "context = read('\\n    x * y     ', **context)\n",
    "context = read('\\n  }; f(3)     ', **context)\n",
    "execute(**context)\n",
    "context['lexer'].source"
   ]
  },
  {
   "cell_type": "code",
   "execution_count": 156,
   "metadata": {
    "ExecuteTime": {
     "end_time": "2020-09-09T13:29:02.280806Z",
     "start_time": "2020-09-09T13:29:02.267209Z"
    },
    "hidden": true
   },
   "outputs": [
    {
     "name": "stdout",
     "output_type": "stream",
     "text": [
      "out52: (8, 4)\n",
      "10:         f(2)\n",
      "            ↑\n"
     ]
    }
   ],
   "source": [
    "context = read(\"\"\"\n",
    "    f = x => {\n",
    "        inc = x => x + 1\n",
    "        y = inc(x)\n",
    "        x^y\n",
    "    }\n",
    "    g = x => x^x\n",
    "    \n",
    "    (\n",
    "        f(2)\n",
    "        g(2)\n",
    "    )\n",
    "\"\"\", e)\n",
    "execute(**context)\n",
    "print(context['lexer'].tokens[40].getSourcePointerString())"
   ]
  },
  {
   "cell_type": "markdown",
   "metadata": {
    "heading_collapsed": true
   },
   "source": [
    "### Post Variable Assignment"
   ]
  },
  {
   "cell_type": "code",
   "execution_count": 157,
   "metadata": {
    "ExecuteTime": {
     "end_time": "2020-09-09T13:29:02.296703Z",
     "start_time": "2020-09-09T13:29:02.282702Z"
    },
    "hidden": true
   },
   "outputs": [
    {
     "name": "stdout",
     "output_type": "stream",
     "text": [
      "out53: 5\n",
      "out54: 81\n",
      "out55: 81\n",
      "out56: 81\n"
     ]
    },
    {
     "data": {
      "text/plain": [
       "Tensor([Real(81, None)])"
      ]
     },
     "execution_count": 157,
     "metadata": {},
     "output_type": "execute_result"
    }
   ],
   "source": [
    "calc('x = 5', e)\n",
    "calc('3 ^ 4', e)\n",
    "calc('= x', e)\n",
    "calc('x', e)"
   ]
  },
  {
   "cell_type": "markdown",
   "metadata": {
    "heading_collapsed": true
   },
   "source": [
    "### Syntaxt error pointers"
   ]
  },
  {
   "cell_type": "code",
   "execution_count": 158,
   "metadata": {
    "ExecuteTime": {
     "end_time": "2020-09-09T13:29:02.311897Z",
     "start_time": "2020-09-09T13:29:02.298703Z"
    },
    "hidden": true,
    "scrolled": true
   },
   "outputs": [],
   "source": [
    "# calc('123 ** 3', e)"
   ]
  },
  {
   "cell_type": "code",
   "execution_count": 159,
   "metadata": {
    "ExecuteTime": {
     "end_time": "2020-09-09T13:29:02.327883Z",
     "start_time": "2020-09-09T13:29:02.313872Z"
    },
    "hidden": true
   },
   "outputs": [],
   "source": [
    "# calc('(1,2;3)', e)"
   ]
  },
  {
   "cell_type": "code",
   "execution_count": 160,
   "metadata": {
    "ExecuteTime": {
     "end_time": "2020-09-09T13:29:02.343500Z",
     "start_time": "2020-09-09T13:29:02.329885Z"
    },
    "hidden": true
   },
   "outputs": [],
   "source": [
    "# calc('123 / 0', e)"
   ]
  },
  {
   "cell_type": "code",
   "execution_count": 161,
   "metadata": {
    "ExecuteTime": {
     "end_time": "2020-09-09T13:29:02.359501Z",
     "start_time": "2020-09-09T13:29:02.345501Z"
    },
    "hidden": true
   },
   "outputs": [],
   "source": [
    "# calc('non_existing_var', e)"
   ]
  },
  {
   "cell_type": "markdown",
   "metadata": {
    "heading_collapsed": true
   },
   "source": [
    "### Reuse Code Snipits"
   ]
  },
  {
   "cell_type": "code",
   "execution_count": 162,
   "metadata": {
    "ExecuteTime": {
     "end_time": "2020-09-09T13:29:02.375099Z",
     "start_time": "2020-09-09T13:29:02.361501Z"
    },
    "hidden": true,
    "scrolled": false
   },
   "outputs": [
    {
     "name": "stdout",
     "output_type": "stream",
     "text": [
      "out1: 2\n",
      "out2: 6\n",
      "out3: 5\n",
      "out4: 15\n",
      "out5: 6\n"
     ]
    },
    {
     "data": {
      "text/plain": [
       "Tensor([Real(6, None)])"
      ]
     },
     "execution_count": 162,
     "metadata": {},
     "output_type": "execute_result"
    }
   ],
   "source": [
    "e = create_base_environment()\n",
    "calc('x = 2', e)\n",
    "calc('x * 3', e)\n",
    "calc('x = 5', e)\n",
    "calc('in2()', e)\n",
    "calc('out2', e)"
   ]
  },
  {
   "cell_type": "markdown",
   "metadata": {},
   "source": [
    "### Functions"
   ]
  },
  {
   "cell_type": "code",
   "execution_count": 163,
   "metadata": {
    "ExecuteTime": {
     "end_time": "2020-09-09T13:29:02.390719Z",
     "start_time": "2020-09-09T13:29:02.377100Z"
    }
   },
   "outputs": [
    {
     "name": "stdout",
     "output_type": "stream",
     "text": [
      "out1: 3\n",
      "out2: 3\n",
      "out3: 3\n"
     ]
    },
    {
     "data": {
      "text/plain": [
       "Tensor([Real(3, None)])"
      ]
     },
     "execution_count": 163,
     "metadata": {},
     "output_type": "execute_result"
    }
   ],
   "source": [
    "e = create_base_environment()\n",
    "calc('-3 ? abs', e)\n",
    "calc('abs(-3)', e)\n",
    "calc('|-3|', e)"
   ]
  },
  {
   "cell_type": "code",
   "execution_count": 164,
   "metadata": {
    "ExecuteTime": {
     "end_time": "2020-09-09T13:29:02.406718Z",
     "start_time": "2020-09-09T13:29:02.392798Z"
    }
   },
   "outputs": [
    {
     "name": "stdout",
     "output_type": "stream",
     "text": [
      "out4: 2\n",
      "out5: 2\n",
      "out6: 1\n",
      "out7: 1\n",
      "out8: 2\n"
     ]
    },
    {
     "data": {
      "text/plain": [
       "Tensor([Real(2, None)])"
      ]
     },
     "execution_count": 164,
     "metadata": {},
     "output_type": "execute_result"
    }
   ],
   "source": [
    "calc('round(1.73)', e)\n",
    "calc('1.73 ? round', e)\n",
    "calc('1.23 ? round', e)\n",
    "calc('1.23 ? floor', e)\n",
    "calc('1.23 ? ceil', e)"
   ]
  },
  {
   "cell_type": "code",
   "execution_count": 165,
   "metadata": {
    "ExecuteTime": {
     "end_time": "2020-09-09T13:29:02.422798Z",
     "start_time": "2020-09-09T13:29:02.408720Z"
    }
   },
   "outputs": [
    {
     "name": "stdout",
     "output_type": "stream",
     "text": [
      "out9: 9.332621544394415268169923877E+157\n",
      "out10: 1\n",
      "out11: 1\n",
      "out12: 2\n",
      "out13: 6\n"
     ]
    },
    {
     "data": {
      "text/plain": [
       "Tensor([Real(6, None)])"
      ]
     },
     "execution_count": 165,
     "metadata": {},
     "output_type": "execute_result"
    }
   ],
   "source": [
    "calc('100!', e)\n",
    "calc('0!', e)\n",
    "calc('1!', e)\n",
    "calc('2!', e)\n",
    "calc('3!', e)"
   ]
  },
  {
   "cell_type": "code",
   "execution_count": null,
   "metadata": {},
   "outputs": [],
   "source": []
  }
 ],
 "metadata": {
  "kernelspec": {
   "display_name": "Python 3",
   "language": "python",
   "name": "python3"
  },
  "language_info": {
   "codemirror_mode": {
    "name": "ipython",
    "version": 3
   },
   "file_extension": ".py",
   "mimetype": "text/x-python",
   "name": "python",
   "nbconvert_exporter": "python",
   "pygments_lexer": "ipython3",
   "version": "3.6.8"
  },
  "varInspector": {
   "cols": {
    "lenName": 16,
    "lenType": 16,
    "lenVar": 40
   },
   "kernels_config": {
    "python": {
     "delete_cmd_postfix": "",
     "delete_cmd_prefix": "del ",
     "library": "var_list.py",
     "varRefreshCmd": "print(var_dic_list())"
    },
    "r": {
     "delete_cmd_postfix": ") ",
     "delete_cmd_prefix": "rm(",
     "library": "var_list.r",
     "varRefreshCmd": "cat(var_dic_list()) "
    }
   },
   "oldHeight": 275,
   "position": {
    "height": "297px",
    "left": "1537px",
    "right": "20px",
    "top": "119px",
    "width": "363px"
   },
   "types_to_exclude": [
    "module",
    "function",
    "builtin_function_or_method",
    "instance",
    "_Feature"
   ],
   "varInspector_section_display": "block",
   "window_display": true
  }
 },
 "nbformat": 4,
 "nbformat_minor": 2
}
