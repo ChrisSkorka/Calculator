{
 "cells": [
  {
   "cell_type": "markdown",
   "metadata": {
    "heading_collapsed": true
   },
   "source": [
    "# Imports"
   ]
  },
  {
   "cell_type": "code",
   "execution_count": 1,
   "metadata": {
    "hidden": true
   },
   "outputs": [],
   "source": [
    "import math, pyperclip, os, re\n",
    "from decimal import Decimal as _Decimal\n",
    "import numpy as np\n",
    "from functools import reduce\n",
    "import itertools"
   ]
  },
  {
   "cell_type": "markdown",
   "metadata": {
    "heading_collapsed": true
   },
   "source": [
    "# Docs"
   ]
  },
  {
   "cell_type": "code",
   "execution_count": 2,
   "metadata": {
    "hidden": true
   },
   "outputs": [],
   "source": [
    "\"\"\"\n",
    "Data types: Real, Complex, Int, Boolean, String, Undefined\n",
    "Data structures: Scalar, Vector, Matrix, ...\n",
    "Variables: v\n",
    "Functions: fun\n",
    "Named operators: v operation u\n",
    "Conversion specifier: 45deg\n",
    "Data properties: object.property\n",
    "Oppertation: Numeric, Sets, Comparison \n",
    "\n",
    "Named operators\n",
    "on two values: v operation u\n",
    "on one value: v.operation\n",
    "\n",
    "Input and Output conversion\n",
    "hex : 0b1100 * 3_210 + 15_12E3\n",
    "datetime : 2h + 45m + 1h + 30m\n",
    "base 4 : 10\n",
    "\n",
    "Basic Operations:\n",
    "Standard:       | Bitwise: int&bool | Comparison:           | \n",
    "+           add | ~             not | ==             equals | \n",
    "-      subtract | &&            and | !=          not equal | \n",
    "*      multiply | ||             or | <           less than | \n",
    "/        divide | <xor>         xor | >        greater then | \n",
    "//      int div | <<     left shift | <=      less or equal | \n",
    "%       modulus | >>    right shift | >=   greater or equal | \n",
    "^         power |                   |                       | \n",
    "!     factorial |                   |                       | \n",
    "|val|  absolute |                   |                       | \n",
    "=    assignment |                   |                       | \n",
    "\n",
    "Higher Ranking Data Structure Operations:\n",
    "Vector:                 | Matrix:                          | Reductions:\n",
    "<dot>       dot product | <matmul>   matrix multiplication | <all>\n",
    "<cross>   cross product | |mat|                            | <any>\n",
    "|vec|            length | .T              transpose matrix | <\n",
    ".length          length | \n",
    ".angle            angle | \n",
    "\n",
    "\n",
    "\n",
    "1 + sqrt 4\n",
    "1 + sqrt x\n",
    "1 + $4\n",
    "1 + 3 root 8\n",
    "1 + b root x\n",
    "1 + b $ x\n",
    "\n",
    "10 nPr 2\n",
    "n nPr r\n",
    "10 nCr 2\n",
    "n nCr r\n",
    "\n",
    "[1, 2,, 3, 4] matmul [5, 6,, 7, 8]\n",
    "[1, 2,, 3, 4] MatMul [5, 6,, 7, 8]\n",
    "[1, 2,, 3, 4] MATMUL [5, 6,, 7, 8]\n",
    "[1, 2,, 3, 4] # [5, 6,, 7, 8]\n",
    "mat1 matmul mat2\n",
    "mat1 MatMul mat2\n",
    "mat1 MATMUL mat2\n",
    "[1, 2,, 3, 4].T\n",
    "mat1.T\n",
    "\n",
    "5*x\n",
    "\n",
    "sin pi\n",
    "sin2 pi\n",
    "sini 0.5\n",
    "\n",
    "@display = scientific 8\n",
    "@display = hex\n",
    "\n",
    "\n",
    "Statistical Operations:\n",
    "\"\"\"\n",
    "None"
   ]
  },
  {
   "cell_type": "markdown",
   "metadata": {},
   "source": [
    "# Classes"
   ]
  },
  {
   "cell_type": "markdown",
   "metadata": {
    "heading_collapsed": true
   },
   "source": [
    "## Token Matching"
   ]
  },
  {
   "cell_type": "markdown",
   "metadata": {
    "heading_collapsed": true,
    "hidden": true
   },
   "source": [
    "### Operands"
   ]
  },
  {
   "cell_type": "code",
   "execution_count": 3,
   "metadata": {
    "hidden": true
   },
   "outputs": [],
   "source": [
    "class Operand():\n",
    "    def __init__(self, match, precedence):\n",
    "        self.match = match\n",
    "        self.re_match = re.escape(match)\n",
    "        self.precedence = float(precedence)\n",
    "        \n",
    "    def __repr__(self):\n",
    "        return f'Operand({self.re_match}, {self.precedence})'\n",
    "        \n",
    "    def __str__(self):\n",
    "        return f'Operand({self.re_match}, {self.precedence})'"
   ]
  },
  {
   "cell_type": "markdown",
   "metadata": {
    "heading_collapsed": true,
    "hidden": true
   },
   "source": [
    "### Groups"
   ]
  },
  {
   "cell_type": "code",
   "execution_count": 4,
   "metadata": {
    "hidden": true
   },
   "outputs": [],
   "source": [
    "class Group():\n",
    "    def __init__(self, re_match, close_op):\n",
    "        self.re_match = re_match\n",
    "        self.close_op = close_op\n",
    "        \n",
    "    def __repr__(self):\n",
    "        return f'Group({self.re_match}, {self.close_op})'\n",
    "        \n",
    "    def __str__(self):\n",
    "        return f'Group({self.re_match}, {self.close_op})'"
   ]
  },
  {
   "cell_type": "markdown",
   "metadata": {},
   "source": [
    "## Token Tree Nodes"
   ]
  },
  {
   "cell_type": "markdown",
   "metadata": {
    "heading_collapsed": true
   },
   "source": [
    "### Abstract NodeToken"
   ]
  },
  {
   "cell_type": "code",
   "execution_count": 5,
   "metadata": {
    "hidden": true
   },
   "outputs": [],
   "source": [
    "class NodeToken():\n",
    "    \"\"\"\n",
    "    represents a token that can be parsed\n",
    "    \"\"\"\n",
    "        \n",
    "    def dict(self):\n",
    "        raise Exception('dict() not implemented')\n",
    "    \n",
    "    def is_complete(self):\n",
    "        raise Exception('is_complete() not implemented')\n",
    "        \n",
    "    def set_left(self, node):\n",
    "        raise Exception('set_left(node) not implemented')\n",
    "\n",
    "    def set_right(self, node):\n",
    "        raise Exception('set_right(node) not implemented')\n",
    "        \n",
    "    def get_right(self):\n",
    "        raise Exception('get_right() not implemented')\n",
    "        \n",
    "    def get_evaluable(self):\n",
    "        raise Exception('get_evaluable() not implemented')"
   ]
  },
  {
   "cell_type": "markdown",
   "metadata": {
    "heading_collapsed": true
   },
   "source": [
    "### NodeBinary"
   ]
  },
  {
   "cell_type": "code",
   "execution_count": 6,
   "metadata": {
    "hidden": true
   },
   "outputs": [],
   "source": [
    "class NodeBinary(NodeToken):\n",
    "    \"\"\"\n",
    "    represents a token that can be parsed into a value/operation\n",
    "    \"\"\"\n",
    "    def __init__(self, value, precedence, parent=None):\n",
    "        self.parent = parent\n",
    "        self.value = value\n",
    "        self.precedence = precedence\n",
    "        self.left = None\n",
    "        self.right = None\n",
    "        \n",
    "    def dict(self):\n",
    "        return {self.value: {'left': self.left.dict(), 'right': self.right.dict()}}\n",
    "    \n",
    "    def is_complete(self):\n",
    "        return self.left != None and self.right != None\n",
    "        \n",
    "    def set_left(self, node):\n",
    "        self.left = node\n",
    "        node.parent = self\n",
    "\n",
    "    def set_right(self, node):\n",
    "        self.right = node\n",
    "        node.parent = self\n",
    "        \n",
    "    def get_right(self):\n",
    "        return self.right\n",
    "    \n",
    "    def get_evaluable(self):\n",
    "        return VariableFunction(self.value.match, (self.left.get_evaluable(), self.right.get_evaluable()))\n",
    "    \n",
    "    def __repr__(self):\n",
    "        return str(self)\n",
    "    \n",
    "    def __str__(self):\n",
    "        return f'NodeBinary({self.value}, left={self.left}, right={self.right})'"
   ]
  },
  {
   "cell_type": "markdown",
   "metadata": {
    "heading_collapsed": true
   },
   "source": [
    "### NodeUnaryLeft"
   ]
  },
  {
   "cell_type": "code",
   "execution_count": 7,
   "metadata": {
    "hidden": true
   },
   "outputs": [],
   "source": [
    "class NodeUnaryLeft(NodeToken):\n",
    "    \n",
    "    def __init__(self, value, precedence, parent=None):\n",
    "        self.parent = parent\n",
    "        self.value = value\n",
    "        self.precedence = precedence\n",
    "        self.child = None\n",
    "        \n",
    "    def dict(self):\n",
    "        return {self.value: {'child': self.child.dict()}}\n",
    "    \n",
    "    def is_complete(self):\n",
    "        return self.child != None\n",
    "        \n",
    "    def set_left(self, node):\n",
    "        self.child = node\n",
    "        node.parent = self\n",
    "\n",
    "    def set_right(self, node):\n",
    "        self.child = node\n",
    "        node.parent = self\n",
    "        \n",
    "    def get_right(self):\n",
    "        return self.child\n",
    "    \n",
    "    def get_evaluable(self):\n",
    "        return VariableFunction(self.value.match, (self.child.get_evaluable(), ))\n",
    "    \n",
    "    def __repr__(self):\n",
    "        return str(self)\n",
    "    \n",
    "    def __str__(self):\n",
    "        return f'NodeUnaryLeft({self.value}, child={self.child})'"
   ]
  },
  {
   "cell_type": "markdown",
   "metadata": {
    "heading_collapsed": true
   },
   "source": [
    "### NodeUnaryRight"
   ]
  },
  {
   "cell_type": "code",
   "execution_count": 8,
   "metadata": {
    "hidden": true
   },
   "outputs": [],
   "source": [
    "class NodeUnaryRight(NodeToken):\n",
    "    \n",
    "    def __init__(self, value, precedence, parent=None):\n",
    "        self.parent = parent\n",
    "        self.value = value\n",
    "        self.precedence = precedence\n",
    "        self.child = None\n",
    "        \n",
    "    def dict(self):\n",
    "        return {self.value: {'child': self.child.dict()}}\n",
    "    \n",
    "    def is_complete(self):\n",
    "        return self.child != None\n",
    "        \n",
    "    def set_left(self, node):\n",
    "        self.child = node\n",
    "        node.parent = self\n",
    "\n",
    "    def set_right(self, node):\n",
    "        self.child = node\n",
    "        node.parent = self\n",
    "        \n",
    "    def get_right(self):\n",
    "        return self.child\n",
    "    \n",
    "    def get_evaluable(self):\n",
    "        return VariableFunction(self.value.match, (self.child.get_evaluable(), ))\n",
    "    \n",
    "    def __repr__(self):\n",
    "        return str(self)\n",
    "    \n",
    "    def __str__(self):\n",
    "        return f'NodeUnaryRight({self.value}, child={self.child})'"
   ]
  },
  {
   "cell_type": "markdown",
   "metadata": {
    "heading_collapsed": true
   },
   "source": [
    "### NodeGroup"
   ]
  },
  {
   "cell_type": "code",
   "execution_count": 9,
   "metadata": {
    "hidden": true
   },
   "outputs": [],
   "source": [
    "class NodeGroup(NodeToken):\n",
    "    \n",
    "    def __init__(self, value, closing_token, parent=None):\n",
    "        self.parent = parent\n",
    "        self.value = value\n",
    "        self.closing_token = closing_token\n",
    "        self.complete = False\n",
    "        self.children = []\n",
    "        \n",
    "        self.shape = {0:1}\n",
    "        self.sep_count = 0\n",
    "        \n",
    "    def dict(self):\n",
    "        return {(self.value, self.get_shape()): [c.dict() for c in self.children]}\n",
    "    \n",
    "    def is_complete(self):\n",
    "        return self.complete\n",
    "\n",
    "    def close(self):\n",
    "        self.sep_count = 0\n",
    "        self.complete = True\n",
    "        \n",
    "        expected_size = 1\n",
    "        for s in self.get_shape(): expected_size *= s\n",
    "            \n",
    "        if len(self.children) < expected_size:\n",
    "            raise Exception('Inconsistent dimensions')\n",
    "    \n",
    "    def set_right(self, node):\n",
    "        self.children[-1] = node\n",
    "        node.parent = self\n",
    "        \n",
    "    def get_right(self):\n",
    "        return self.children[-1]\n",
    "\n",
    "    def add(self, node):\n",
    "        self.children.append(node)\n",
    "        node.parent = self\n",
    "        \n",
    "        if self.sep_count >= len(self.shape):\n",
    "            for i in range(len(self.shape), self.sep_count+1):\n",
    "                self.shape[i-1] = self.shape.get(i-1, 1)\n",
    "            self.shape[self.sep_count-1] += 1\n",
    "            \n",
    "        self.sep_count = 0\n",
    "        \n",
    "    def increase(self):\n",
    "        self.sep_count += 1\n",
    "        \n",
    "        # ensure minumum number of dimensions exists\n",
    "        for i in range(len(self.shape), self.sep_count+1):\n",
    "            self.shape[i-1] = self.shape.get(i-1, 1)\n",
    "    \n",
    "    def get_shape(self):\n",
    "        shape = [(d,s) for d,s in self.shape.items()]\n",
    "        shape.sort(key=lambda x:x[0], reverse=True)\n",
    "        shape = tuple(s for d,s in shape)\n",
    "        return shape\n",
    "    \n",
    "    def get_children(self):\n",
    "        return self.children\n",
    "    \n",
    "    def get_evaluable(self):\n",
    "        \n",
    "        # TODO recognise functions\n",
    "        \n",
    "        evaluables = [v.get_evaluable() for v in self.children]\n",
    "        \n",
    "        return VariableTensor(evaluables, self.get_shape())\n",
    "    \n",
    "    def __repr__(self):\n",
    "        return str(self)\n",
    "    \n",
    "    def __str__(self):\n",
    "        return f'NodeGroup({self.value}, children={self.children})'"
   ]
  },
  {
   "cell_type": "markdown",
   "metadata": {
    "heading_collapsed": true
   },
   "source": [
    "### NodeValue"
   ]
  },
  {
   "cell_type": "code",
   "execution_count": 10,
   "metadata": {
    "hidden": true
   },
   "outputs": [],
   "source": [
    "class NodeValue(NodeToken):\n",
    "    \n",
    "    def __init__(self, value, kind, parent=None):\n",
    "        self.parent = parent\n",
    "        self.value = value\n",
    "        self.kind = kind\n",
    "        \n",
    "    def dict(self):\n",
    "        return self.value\n",
    "    \n",
    "    def is_complete(self):\n",
    "        return True\n",
    "    \n",
    "    def get_evaluable(self):\n",
    "\n",
    "        value = None\n",
    "        if self.kind == TOKEN_TYPE_STRING:\n",
    "            value = String(self.value)\n",
    "            value = VariableTensor([value], ())\n",
    "            \n",
    "        if self.kind == TOKEN_TYPE_INTEGER:\n",
    "            value = Integer(self.value)\n",
    "            value = VariableTensor([value], ())\n",
    "            \n",
    "        if self.kind == TOKEN_TYPE_NUMBER:\n",
    "            value = Real(self.value)\n",
    "            value = VariableTensor([value], ())\n",
    "            \n",
    "        if self.kind == TOKEN_TYPE_LITERAL:\n",
    "            value = Variable(self.value)\n",
    "        \n",
    "        return value\n",
    "    \n",
    "    def __repr__(self):\n",
    "        return str(self)\n",
    "    \n",
    "    def __str__(self):\n",
    "        return f'NodeValue({self.value}, {self.kind})'"
   ]
  },
  {
   "cell_type": "markdown",
   "metadata": {
    "heading_collapsed": true
   },
   "source": [
    "## Evaluable Tree Nodes"
   ]
  },
  {
   "cell_type": "markdown",
   "metadata": {
    "heading_collapsed": true,
    "hidden": true
   },
   "source": [
    "### Abstract Evaluable"
   ]
  },
  {
   "cell_type": "code",
   "execution_count": 11,
   "metadata": {
    "hidden": true
   },
   "outputs": [],
   "source": [
    "class Evaluable():\n",
    "    \"\"\"\n",
    "    represents a node that can be evaluated\n",
    "    \"\"\"\n",
    "        \n",
    "    def dict(self):\n",
    "        raise Exception('dict() not implemented')\n",
    "    \n",
    "    def eval(self, environment):\n",
    "        raise Exception('eval(environment) not implemented')"
   ]
  },
  {
   "cell_type": "markdown",
   "metadata": {
    "heading_collapsed": true,
    "hidden": true
   },
   "source": [
    "### Statement - results in one print"
   ]
  },
  {
   "cell_type": "code",
   "execution_count": 12,
   "metadata": {
    "hidden": true
   },
   "outputs": [],
   "source": [
    "class Statement():\n",
    "    \n",
    "    def __init__(self, node):\n",
    "        self.node = node\n",
    "        \n",
    "    def dict(self):\n",
    "        return self.node.dict()\n",
    "        \n",
    "    def eval(self, environment):\n",
    "        \n",
    "        result = self.node.eval(environment)\n",
    "        print(result)\n",
    "        return result\n",
    "    \n",
    "    def __repr__(self):\n",
    "        return str(self)\n",
    "    \n",
    "    def __str__(self):\n",
    "        return f'Statement({self.node})'"
   ]
  },
  {
   "cell_type": "markdown",
   "metadata": {
    "heading_collapsed": true,
    "hidden": true
   },
   "source": [
    "### VariableFunction"
   ]
  },
  {
   "cell_type": "code",
   "execution_count": 13,
   "metadata": {
    "hidden": true
   },
   "outputs": [],
   "source": [
    "class VariableFunction(Evaluable):\n",
    "    \n",
    "    def __init__(self, name, parameters):\n",
    "        self.name = name\n",
    "        self.parameters = parameters\n",
    "        if isinstance(parameters, VariableTensor):\n",
    "            self.parameters = parameters.get_data()\n",
    "        \n",
    "    def dict(self):\n",
    "        return {\n",
    "            'function': self.name,\n",
    "            'parameters': [p.dict() for p in self.parameters],\n",
    "        }\n",
    "    \n",
    "    def eval(self, environment):\n",
    "        \n",
    "        if self.name not in environment:\n",
    "            raise Exception(f'Function {self.name} not found')\n",
    "        elif type(environment[self.name]) != Function:\n",
    "            raise Exception(f'{self.name} is not a function')\n",
    "        \n",
    "        parameters = [p.eval(environment) for p in self.parameters]\n",
    "        \n",
    "        return environment[self.name].eval(environment, parameters)\n",
    "    \n",
    "    def __repr__(self):\n",
    "        return str(self)\n",
    "    \n",
    "    def __str__(self):\n",
    "        return f'VariableFunction_{self.name}({self.parameters})'"
   ]
  },
  {
   "cell_type": "markdown",
   "metadata": {
    "heading_collapsed": true,
    "hidden": true
   },
   "source": [
    "### Variable"
   ]
  },
  {
   "cell_type": "code",
   "execution_count": 14,
   "metadata": {
    "hidden": true
   },
   "outputs": [],
   "source": [
    "class Variable(Evaluable):\n",
    "    \n",
    "    def __init__(self, name):\n",
    "        self.name = name\n",
    "        \n",
    "    def dict(self):\n",
    "        return name\n",
    "    \n",
    "    def eval(self, environment):\n",
    "        \n",
    "        if self.name not in environment:\n",
    "            raise Exception(f'Variable {self.name} not found')\n",
    "        \n",
    "        return environment[self.name]\n",
    "    \n",
    "    def __repr__(self):\n",
    "        return str(self)\n",
    "    \n",
    "    def __str__(self):\n",
    "        return f\"Variable({self.name})\""
   ]
  },
  {
   "cell_type": "markdown",
   "metadata": {
    "heading_collapsed": true,
    "hidden": true
   },
   "source": [
    "### VariableTensor"
   ]
  },
  {
   "cell_type": "code",
   "execution_count": 15,
   "metadata": {
    "hidden": true
   },
   "outputs": [],
   "source": [
    "class VariableTensor(Evaluable):\n",
    "    \n",
    "    def __init__(self, data, shape):\n",
    "        self.data = data\n",
    "        self.shape = shape\n",
    "        \n",
    "    def dict(self):\n",
    "        return {self.shape: self.data}\n",
    "        \n",
    "    def __get__(self, index):\n",
    "        return self.data[index]\n",
    "        \n",
    "    def __set__(self, index, value):\n",
    "        self.data[index] = value\n",
    "        \n",
    "    def get_shape(self):\n",
    "        return self.shape\n",
    "    \n",
    "    def get_rank(self):\n",
    "        return len(self.shape)\n",
    "    \n",
    "    def get_data(self):\n",
    "        return self.data\n",
    "    \n",
    "    def eval(self, environment):\n",
    "        \n",
    "        values = [v.eval(environment) for v in self.data]\n",
    "        if all(type(v) != Tensor or v.get_rank() == 0 for v in values):\n",
    "            values = [v[0] if type(v) == Tensor else v for v in values]\n",
    "            \n",
    "        return Tensor(values, self.shape)\n",
    "    \n",
    "    def __repr__(self):\n",
    "        return str(self)\n",
    "    \n",
    "    def __str__(self):\n",
    "        return f'VariableTensor({self.data}, {self.shape})'"
   ]
  },
  {
   "cell_type": "markdown",
   "metadata": {},
   "source": [
    "## Data Types"
   ]
  },
  {
   "cell_type": "markdown",
   "metadata": {},
   "source": [
    "### Tensor"
   ]
  },
  {
   "cell_type": "code",
   "execution_count": 16,
   "metadata": {},
   "outputs": [],
   "source": [
    "class Tensor(Evaluable):\n",
    "    \"\"\"\n",
    "    represents a value/tensor of any type, shape and rank\n",
    "    \"\"\"\n",
    "    def __init__(self, data, shape=(), dtype=None):\n",
    "        self.type = dtype\n",
    "        self.data = data\n",
    "        self.shape = shape\n",
    "        \n",
    "        if len(self.data) == 1:\n",
    "            self.type = type(data[0])\n",
    "        else:\n",
    "            self.type = reduce(lambda a,b: (a if a==b else Tensor), (type(v) for v in data))\n",
    "            \n",
    "            # TODO if Tensor, turn all non-Tensor into Tensor\n",
    "        \n",
    "    def dict(self):\n",
    "        return {self.shape: self.data}\n",
    "        \n",
    "    def __getitem__(self, index):\n",
    "        return self.data[self.get_location(index)]\n",
    "        \n",
    "    def __setitem__(self, index, value):\n",
    "        self.data[self.get_location(index)] = value\n",
    "        \n",
    "    def get_location(self, index):\n",
    "        #print('get_location', index)\n",
    "        \n",
    "        shape = self.shape\n",
    "        if type(index) == int:\n",
    "            loc = index\n",
    "            if loc < 0:\n",
    "                loc += reduce(lambda a,b: a*b, shape, 1)\n",
    "            \n",
    "        else:\n",
    "            index = [i+s if i<0 else i for s,i in zip(shape, index)]\n",
    "            \n",
    "            assert len(index) <= len(shape), 'Too many indices'\n",
    "            assert any(i<s for s,i in zip(shape, index)), 'Index larger than dimension'\n",
    "\n",
    "            loc = 0\n",
    "            j = 1\n",
    "            for dim, i in zip(shape[::-1], index[::-1]):\n",
    "                loc += j * i\n",
    "                j *= dim\n",
    "        \n",
    "        return loc\n",
    "        \n",
    "    def get_shape(self):\n",
    "        return self.shape\n",
    "    \n",
    "    def get_rank(self):\n",
    "        return len(self.shape)\n",
    "    \n",
    "    def get_type(self):\n",
    "        return self.type\n",
    "    \n",
    "    def get_data(self):\n",
    "        return self.data\n",
    "    \n",
    "    def eval(self, environment):\n",
    "        return self\n",
    "    \n",
    "    def __repr__(self):\n",
    "        return str(self)\n",
    "    \n",
    "    def __str__(self):\n",
    "        \n",
    "        if self.get_rank() == 0:\n",
    "            return f'Tensor({self.data[0]})'\n",
    "        else:\n",
    "            return f'Tensor({self.data}, {self.shape})'"
   ]
  },
  {
   "cell_type": "markdown",
   "metadata": {
    "heading_collapsed": true
   },
   "source": [
    "### Abstract Data"
   ]
  },
  {
   "cell_type": "code",
   "execution_count": 17,
   "metadata": {
    "hidden": true
   },
   "outputs": [],
   "source": [
    "class Data(Evaluable):\n",
    "    pass"
   ]
  },
  {
   "cell_type": "markdown",
   "metadata": {
    "heading_collapsed": true
   },
   "source": [
    "### String"
   ]
  },
  {
   "cell_type": "code",
   "execution_count": 18,
   "metadata": {
    "hidden": true
   },
   "outputs": [],
   "source": [
    "class String(Data):\n",
    "    \n",
    "    def __init__(self, value):\n",
    "        self.value = value\n",
    "        \n",
    "    def dict(self):\n",
    "        return self.value\n",
    "    \n",
    "    def eval(self, environment):\n",
    "        return self"
   ]
  },
  {
   "cell_type": "markdown",
   "metadata": {
    "heading_collapsed": true
   },
   "source": [
    "### Integer"
   ]
  },
  {
   "cell_type": "code",
   "execution_count": 19,
   "metadata": {
    "hidden": true
   },
   "outputs": [],
   "source": [
    "class Integer(Data):\n",
    "    \n",
    "    def __init__(self, value):\n",
    "        self.value = value\n",
    "        \n",
    "    def dict(self):\n",
    "        return self.value\n",
    "    \n",
    "    def eval(self, environment):\n",
    "        return self"
   ]
  },
  {
   "cell_type": "markdown",
   "metadata": {
    "heading_collapsed": true
   },
   "source": [
    "### Real"
   ]
  },
  {
   "cell_type": "code",
   "execution_count": 20,
   "metadata": {
    "hidden": true
   },
   "outputs": [],
   "source": [
    "class Real(Data):\n",
    "    \n",
    "    def __init__(self, value):\n",
    "        self.value = float(value)\n",
    "        \n",
    "    def dict(self):\n",
    "        return self.value\n",
    "    \n",
    "    def eval(self, environment):\n",
    "        return self\n",
    "    \n",
    "    def __repr__(self):\n",
    "        return str(self)\n",
    "    \n",
    "    def __str__(self):\n",
    "        return f'Real({self.value})'"
   ]
  },
  {
   "cell_type": "markdown",
   "metadata": {
    "heading_collapsed": true
   },
   "source": [
    "### Complex"
   ]
  },
  {
   "cell_type": "code",
   "execution_count": null,
   "metadata": {
    "hidden": true
   },
   "outputs": [],
   "source": []
  },
  {
   "cell_type": "markdown",
   "metadata": {
    "heading_collapsed": true
   },
   "source": [
    "### Boolean"
   ]
  },
  {
   "cell_type": "code",
   "execution_count": 21,
   "metadata": {
    "hidden": true
   },
   "outputs": [],
   "source": [
    "class Boolean(Data):\n",
    "    \n",
    "    def __init__(self, value):\n",
    "        self.value = value\n",
    "        \n",
    "    def dict(self):\n",
    "        return self.value\n",
    "    \n",
    "    def eval(self, environment):\n",
    "        return self"
   ]
  },
  {
   "cell_type": "markdown",
   "metadata": {
    "heading_collapsed": true
   },
   "source": [
    "### Function"
   ]
  },
  {
   "cell_type": "code",
   "execution_count": 22,
   "metadata": {
    "hidden": true
   },
   "outputs": [],
   "source": [
    "class Function(Data):\n",
    "        \n",
    "    def __init__(self, name):\n",
    "        self.name = name\n",
    "        self.signatures = {}\n",
    "        \n",
    "    def dict(self):\n",
    "        return self.name\n",
    "    \n",
    "    def eval(self, environment, parameters):\n",
    "        \n",
    "        signature = tuple(p.get_type() for p in parameters)\n",
    "            \n",
    "        function, parameter_names = None, []\n",
    "        \n",
    "        for candidate_signature in self.signatures:\n",
    "            \n",
    "            if len(signature) != len(candidate_signature):\n",
    "                continue\n",
    "            \n",
    "            if all(issubclass(a,b) for a,b in zip(signature, candidate_signature)):\n",
    "                parameter_names, function = self.signatures[candidate_signature]\n",
    "                break;\n",
    "                \n",
    "        if function == None:\n",
    "            raise Exception(f'Signature {self.name}{tuple(p.__name__ for p in signature)} has no matching overload')\n",
    "        \n",
    "        new_scoped_environment = {**environment, **{k:v for k,v in zip(parameter_names, parameters)}}\n",
    "        \n",
    "        return function(new_scoped_environment)\n",
    "    \n",
    "    def __getitem__(self, signature):\n",
    "        return self.signatures[signature]\n",
    "    \n",
    "    def __setitem__(self, signature, value):\n",
    "        self.signatures[signature] = value\n",
    "        \n",
    "    def __repr__(self):\n",
    "        return str(self)\n",
    "    \n",
    "    def __str__(self):\n",
    "        return f'Function({self.name}, {self.signatures})'"
   ]
  },
  {
   "cell_type": "markdown",
   "metadata": {},
   "source": [
    "## Built In Functions, Operators and Variables"
   ]
  },
  {
   "cell_type": "markdown",
   "metadata": {
    "heading_collapsed": true
   },
   "source": [
    "### BuiltIns"
   ]
  },
  {
   "cell_type": "code",
   "execution_count": 23,
   "metadata": {
    "hidden": true
   },
   "outputs": [],
   "source": [
    "class BuiltIns():\n",
    "    \n",
    "    def __init__(self):\n",
    "        self.functions = []\n",
    "        self.vars = []\n",
    "        self.binary_operators = []\n",
    "        self.left_unary_operators = []\n",
    "        self.right_unary_operators = []\n",
    "        \n",
    "    def register_function(self, name, signature, parameters, function):\n",
    "        self.functions.append((name, signature, parameters, function))\n",
    "        \n",
    "    def register_scalar_function(self, name, signature, function):\n",
    "        \n",
    "        num_parameters = function.__code__.co_argcount\n",
    "        parameters = [f'_p{i}' for i in range(num_parameters)]\n",
    "        \n",
    "        def wrapper(e):\n",
    "            tensors = [e[p] for p in parameters]\n",
    "            \n",
    "            shape = ()\n",
    "            for tensor in tensors:\n",
    "                if tensor.get_rank() > len(shape):\n",
    "                    shape = tensor.get_shape()\n",
    "                    \n",
    "            assert all([t.get_shape() in [(), shape] for t in tensors]), 'Tensor shapes must match or be scalars'\n",
    "            \n",
    "            size = reduce(lambda a,b: a*b, shape, 1)\n",
    "            values = []\n",
    "            \n",
    "            if shape == ():\n",
    "                values.append(function(*[t[0] for t in tensors]))\n",
    "            else:\n",
    "                for index in range(size):\n",
    "                    pars = [t[0] if t.get_rank() == 0 else t[index] for t in tensors]\n",
    "                    values.append(function(*pars))\n",
    "            \n",
    "            return Tensor(values, shape)\n",
    "        \n",
    "        self.register_function(name, signature, parameters, wrapper)\n",
    "        \n",
    "    def register_binary_operator(self, name, precedence, signature, parameters, function):\n",
    "        self.register_function(name, signature, parameters, function)\n",
    "        self.binary_operators.append(Operand(name, precedence))\n",
    "        \n",
    "    def register_scalar_binary_operator(self, name, precedence, signature, function):\n",
    "        self.register_scalar_function(name, signature, function)\n",
    "        self.binary_operators.append(Operand(name, precedence))\n",
    "        \n",
    "    def register_var(self, name, value):\n",
    "        self.vars.append((name, value))\n",
    "        \n",
    "built_ins = BuiltIns()"
   ]
  },
  {
   "cell_type": "markdown",
   "metadata": {
    "heading_collapsed": true
   },
   "source": [
    "### Variabels"
   ]
  },
  {
   "cell_type": "code",
   "execution_count": 24,
   "metadata": {
    "hidden": true
   },
   "outputs": [],
   "source": [
    "built_ins.register_var('PI', Tensor([Real(3.141592653589793238462643383279502884197)]))"
   ]
  },
  {
   "cell_type": "markdown",
   "metadata": {
    "heading_collapsed": true
   },
   "source": [
    "### Binary Operantors: +, -, *, /, //, %, ^"
   ]
  },
  {
   "cell_type": "code",
   "execution_count": 25,
   "metadata": {
    "hidden": true
   },
   "outputs": [],
   "source": [
    "# A + B\n",
    "built_ins.register_scalar_binary_operator('+', 3, (Real, Real), lambda a, b: Real(a.value + b.value))\n",
    "\n",
    "# A - B\n",
    "built_ins.register_scalar_binary_operator('-', 3, (Real, Real), lambda a, b: Real(a.value - b.value))\n",
    "\n",
    "# A * B\n",
    "built_ins.register_scalar_binary_operator('*', 4, (Real, Real), lambda a, b: Real(a.value * b.value))\n",
    "\n",
    "# A / B\n",
    "built_ins.register_scalar_binary_operator('/', 4, (Real, Real), lambda a, b: Real(a.value / b.value))\n",
    "\n",
    "# A // B\n",
    "built_ins.register_scalar_binary_operator('//', 4, (Real, Real), lambda a, b: Real(a.value // b.value))\n",
    "\n",
    "# A % B\n",
    "built_ins.register_scalar_binary_operator('%', 4, (Real, Real), lambda a, b: Real(a.value % b.value))\n",
    "\n",
    "# A ^ B\n",
    "built_ins.register_scalar_binary_operator('^', 5, (Real, Real), lambda a, b: Real(a.value ** b.value))"
   ]
  },
  {
   "cell_type": "markdown",
   "metadata": {},
   "source": [
    "### Matrix Multiplication: # #"
   ]
  },
  {
   "cell_type": "code",
   "execution_count": 26,
   "metadata": {},
   "outputs": [],
   "source": [
    "def matmul(e):\n",
    "    A, B = e['_A'], e['_B']\n",
    "    \n",
    "    a_shape = A.get_shape()\n",
    "    b_shape = B.get_shape()\n",
    "    \n",
    "    assert A.get_rank() >= 2 and B.get_rank() >= 2, 'left and right sides must be matrices'\n",
    "    assert a_shape[-1] == b_shape[-2], 'left n_cols must equal right n_rows'\n",
    "    assert A.get_rank() == 2 or B.get_rank() == 2 or a_shape[:-2] == b_shape[:-2], 'number of matrices on the left and right must be equal or 1'\n",
    "    \n",
    "    n_rows = a_shape[-2]\n",
    "    n_cols = b_shape[-1]\n",
    "    n_vec = a_shape[-1]\n",
    "    shape = (a_shape[:-2] if A.get_rank() > B.get_rank() else b_shape[:-2]) + (n_rows, n_cols)\n",
    "    \n",
    "    values = []\n",
    "    \n",
    "    for i_out in itertools.product(*[range(i) for i in shape]):\n",
    "        \n",
    "        v = 0\n",
    "        for j in range(n_vec):\n",
    "            i_a = i_out[:-1] + (j,)\n",
    "            i_b = i_out[:-2] + (j,) + i_out[-1:]\n",
    "            \n",
    "            if A.get_rank() == 2: i_a = i_a[-2:]\n",
    "            if B.get_rank() == 2: i_b = i_b[-2:]\n",
    "            \n",
    "            # print('matmul', i_out, i_a, i_b)\n",
    "            v += A[i_a].value * B[i_b].value\n",
    "    \n",
    "        values.append(Real(v))\n",
    "    \n",
    "    return Tensor(values, shape)\n",
    "\n",
    "built_ins.register_binary_operator('#', 4, (Real, Real), ('_A', '_B'), matmul)"
   ]
  },
  {
   "cell_type": "markdown",
   "metadata": {},
   "source": [
    "# Define Token"
   ]
  },
  {
   "cell_type": "markdown",
   "metadata": {
    "heading_collapsed": true
   },
   "source": [
    "## Tokens Types"
   ]
  },
  {
   "cell_type": "code",
   "execution_count": 27,
   "metadata": {
    "hidden": true
   },
   "outputs": [],
   "source": [
    "    \n",
    "# operand kinds\n",
    "# group, close_group, return_to_group, binary, unary_left, unary_right, *_ = enum(10)\n",
    "# (\n",
    "#     OPERAND_TYPE_GROUP, \n",
    "#     OPERAND_TYPE_CLOSE_GROUP, \n",
    "#     OPERAND_TYPE_RETURN_TO_GROUP, \n",
    "#     OPERAND_TYPE_BINARY, \n",
    "#     OPERAND_TYPE_UNARY_LEFT, \n",
    "#     OPERAND_TYPE_UNARY_RIGHT, \n",
    "# *_) = enum(10)\n",
    "\n",
    "\n",
    "TOKEN_TYPE_STRING =   'string'\n",
    "TOKEN_TYPE_INTEGER =  'integer'\n",
    "TOKEN_TYPE_NUMBER =   'number'\n",
    "TOKEN_TYPE_OPERATOR = 'operand'\n",
    "TOKEN_TYPE_GROUP =    'group'\n",
    "TOKEN_TYPE_LITERAL =  'literal'\n",
    "\n",
    "TOKEN_TYPE_CLOSE_GROUP = 'close group'\n",
    "TOKEN_TYPE_NEW_ITEM    = 'new item'\n",
    "TOKEN_TYPE_BINARY      = 'binary operand'\n",
    "TOKEN_TYPE_UNARY_LEFT  = 'left unary operand'\n",
    "TOKEN_TYPE_UNARY_RIGHT = 'right unary operand'\n",
    "\n",
    "OPERAND_TYPES = [\n",
    "    TOKEN_TYPE_CLOSE_GROUP, \n",
    "    TOKEN_TYPE_NEW_ITEM, \n",
    "    TOKEN_TYPE_BINARY, \n",
    "    TOKEN_TYPE_UNARY_LEFT, \n",
    "    TOKEN_TYPE_UNARY_RIGHT, \n",
    "]\n",
    "\n",
    "TOKEN_TYPE_VALUE = [\n",
    "    TOKEN_TYPE_STRING,\n",
    "    TOKEN_TYPE_INTEGER,\n",
    "    TOKEN_TYPE_NUMBER,\n",
    "    TOKEN_TYPE_LITERAL,\n",
    "]"
   ]
  },
  {
   "cell_type": "markdown",
   "metadata": {
    "heading_collapsed": true
   },
   "source": [
    "## Token Operations"
   ]
  },
  {
   "cell_type": "code",
   "execution_count": 28,
   "metadata": {
    "hidden": true,
    "scrolled": true
   },
   "outputs": [
    {
     "data": {
      "text/plain": [
       "([Operand(\\/\\/, 4.0),\n",
       "  Operand(\\^, 5.0),\n",
       "  Operand(\\*, 4.0),\n",
       "  Operand(\\/, 4.0),\n",
       "  Operand(\\%, 4.0),\n",
       "  Operand(\\#, 4.0),\n",
       "  Operand(\\+, 3.0),\n",
       "  Operand(\\-, 3.0)],\n",
       " [Operand(\\+, 7.0), Operand(\\-, 7.0), Operand(\\~, 7.0), Operand(\\=, 0.0)],\n",
       " [Operand(\\!, 7.0)],\n",
       " [Operand(\\,, -1.0)],\n",
       " [Operand(\\), -1.0), Operand(\\], -1.0), Operand(\\}, -1.0), Operand(\\), -1.0)])"
      ]
     },
     "execution_count": 28,
     "metadata": {},
     "output_type": "execute_result"
    }
   ],
   "source": [
    "# binary_operands = [\n",
    "#     Operand(r'.',   8), \n",
    "#     Operand(r':',   6), \n",
    "#     Operand(r'^',   5), \n",
    "#     Operand(r'*',   4), \n",
    "#     Operand(r'/',   4), \n",
    "#     Operand(r'//',  4), \n",
    "#     Operand(r'%',   4), \n",
    "#     Operand(r'+',   3), \n",
    "#     Operand(r'-',   3), \n",
    "#     Operand(r'&&',  2), \n",
    "#     Operand(r'||',  2), \n",
    "#     Operand(r'xor', 2), \n",
    "#     Operand(r'==',  1), \n",
    "#     Operand(r'!=',  1), \n",
    "#     Operand(r'>',   1), \n",
    "#     Operand(r'>=',  1), \n",
    "#     Operand(r'<',   1), \n",
    "#     Operand(r'<=',  1), \n",
    "#     Operand(r'=',   0),\n",
    "# ]\n",
    "\n",
    "binary_operands = built_ins.binary_operators\n",
    "\n",
    "left_unary_operands = [\n",
    "    Operand(r'+', 7), \n",
    "    Operand(r'-', 7), \n",
    "    Operand(r'~', 7), \n",
    "    Operand(r'=', 0),\n",
    "]\n",
    "\n",
    "right_unary_operands = [\n",
    "    Operand(r'!', 7),\n",
    "]\n",
    "\n",
    "new_item = [\n",
    "    Operand(r',', -1),\n",
    "]\n",
    "\n",
    "groups = [\n",
    "    Group(r'\\(', r')'),\n",
    "    Group(r'\\[', r']'),\n",
    "    Group(r'\\{', r'}'),\n",
    "    Group(r'[a-zA-Z][a-zA-Z0-9_]*\\(', r')'),\n",
    "]\n",
    "\n",
    "close_group = [Operand(g.close_op, -1) for g in groups]\n",
    "\n",
    "# sort by length\n",
    "binary_operands.sort(key = lambda o:(len(o.match), o.precedence), reverse=True)\n",
    "left_unary_operands.sort(key = lambda o:(len(o.match), o.precedence), reverse=True)\n",
    "right_unary_operands.sort(key = lambda o:(len(o.match), o.precedence), reverse=True)\n",
    "new_item.sort(key = lambda o:(len(o.match), o.precedence), reverse=True)\n",
    "\n",
    "(\n",
    "    binary_operands,\n",
    "    left_unary_operands,\n",
    "    right_unary_operands,\n",
    "    new_item,\n",
    "    close_group,\n",
    ")"
   ]
  },
  {
   "cell_type": "markdown",
   "metadata": {
    "heading_collapsed": true
   },
   "source": [
    "## Operation Indexing"
   ]
  },
  {
   "cell_type": "code",
   "execution_count": 29,
   "metadata": {
    "hidden": true
   },
   "outputs": [],
   "source": [
    "# def filter_attribute(items, exact={}, regex={}, reverse_regex={}):\n",
    "#     filtered = []\n",
    "    \n",
    "#     for item in items:\n",
    "#         match = True\n",
    "#         for p in exact:\n",
    "#             match &= getattr(item, p) == exact[p]\n",
    "#         for p in regex:\n",
    "#             match &= re.fullmatch(regex[p], getattr(item, p)) != None\n",
    "#         for p in reverse_regex:\n",
    "#             match &= re.fullmatch(getattr(item, p), reverse_regex[p]) != None\n",
    "            \n",
    "#         if match:\n",
    "#             filtered.append(item)\n",
    "            \n",
    "#     return filtered\n",
    "    \n",
    "    \n",
    "# def find_operand(string, op_kind):\n",
    "#     filtered = filter_attribute(operands, {'op_kind':op_kind},{},{'re_match':string})\n",
    "    \n",
    "#     if len(filtered) == 0:\n",
    "#         return None\n",
    "# #         raise Exception(f\"Operand '{string}' not found for this context.\")\n",
    "    \n",
    "#     return filtered[0]\n",
    "            \n",
    "        \n",
    "# def find_group(string):\n",
    "#     filtered = filter_attribute(groups, {},{},{'re_match':string})\n",
    "    \n",
    "#     if len(filtered) == 0:\n",
    "#         raise Exception(f\"Group token '{string}' not found.\")\n",
    "    \n",
    "#     return filtered[0]\n",
    "\n",
    "\n",
    "# def get_possible_operation_types(string):\n",
    "# #     types = [find_operand(string, t) for t in order]\n",
    "# #     types = [t for t in types if t != None]\n",
    "#     types = {t:find_operand(string, t) for t in OPERAND_TYPES}\n",
    "#     types = {t:o.op_kind for t,o in types.items() if o != None}\n",
    "#     return types\n",
    "\n",
    "def find_operand(string, operators):\n",
    "    for operator in operators:\n",
    "        if re.fullmatch(operator.re_match, string) != None:\n",
    "            return operator\n",
    "    return None"
   ]
  },
  {
   "cell_type": "markdown",
   "metadata": {
    "heading_collapsed": true
   },
   "source": [
    "## Define Token Regular Expressions"
   ]
  },
  {
   "cell_type": "code",
   "execution_count": 30,
   "metadata": {
    "hidden": true
   },
   "outputs": [
    {
     "data": {
      "text/plain": [
       "{'string': '((\\\\\"\"\".*?\\\\\"\"\")|(\\'\\'\\'.*?\\'\\'\\')|(\".*?\")|(\\'.*?\\'))',\n",
       " 'integer': '((0b|0o|0d|0x|[0-9]+_)[0-9a-zA-Z,]+)',\n",
       " 'number': '((([\\\\.][0-9_]+)|([0-9_]+[\\\\.]?[0-9_]*))([eE][-+]?[0-9_]+)?[a-z]*)',\n",
       " 'literal': '([A-Za-z_][A-Za-z0-9_]*)',\n",
       " 'group': '(\\\\()|(\\\\[)|(\\\\{)|([a-zA-Z][a-zA-Z0-9_]*\\\\()',\n",
       " 'binary operand': '(\\\\/\\\\/)|(\\\\^)|(\\\\*)|(\\\\/)|(\\\\%)|(\\\\#)|(\\\\+)|(\\\\-)',\n",
       " 'left unary operand': '(\\\\+)|(\\\\-)|(\\\\~)|(\\\\=)',\n",
       " 'right unary operand': '(\\\\!)',\n",
       " 'new item': '(\\\\,)',\n",
       " 'close group': '(\\\\))|(\\\\])|(\\\\})|(\\\\))'}"
      ]
     },
     "execution_count": 30,
     "metadata": {},
     "output_type": "execute_result"
    }
   ],
   "source": [
    "def re_join(l, f=lambda x:x):\n",
    "    return '(' + ')|('.join([f(i) for i in l]) + ')'\n",
    "\n",
    "# regex\n",
    "re_number =    r\"\"\"((([\\.][0-9_]+)|([0-9_]+[\\.]?[0-9_]*))([eE][-+]?[0-9_]+)?[a-z]*)\"\"\"\n",
    "re_integer =   r\"\"\"((0b|0o|0d|0x|[0-9]+_)[0-9a-zA-Z,]+)\"\"\"\n",
    "re_string =    r\"\"\"((\\\"\"\".*?\\\"\"\")|('''.*?''')|(\".*?\")|('.*?'))\"\"\"\n",
    "re_literal =   r\"\"\"([A-Za-z_][A-Za-z0-9_]*)\"\"\"\n",
    "\n",
    "re_groups =               re_join(groups, lambda x:x.re_match)\n",
    "re_binary_operands =      re_join(binary_operands, lambda x:x.re_match)\n",
    "re_left_unary_operands =  re_join(left_unary_operands, lambda x:x.re_match)\n",
    "re_right_unary_operands = re_join(right_unary_operands, lambda x:x.re_match)\n",
    "re_new_item =             re_join(new_item, lambda x:x.re_match)\n",
    "re_close_group =          re_join(close_group, lambda x:x.re_match)\n",
    "\n",
    "\n",
    "re_tokens = {\n",
    "    TOKEN_TYPE_STRING:      re_string,\n",
    "    TOKEN_TYPE_INTEGER:     re_integer,\n",
    "    TOKEN_TYPE_NUMBER:      re_number,\n",
    "    TOKEN_TYPE_LITERAL:     re_literal,\n",
    "    TOKEN_TYPE_GROUP:       re_groups,\n",
    "    TOKEN_TYPE_BINARY:      re_binary_operands,\n",
    "    TOKEN_TYPE_UNARY_LEFT:  re_left_unary_operands,\n",
    "    TOKEN_TYPE_UNARY_RIGHT: re_right_unary_operands,\n",
    "    TOKEN_TYPE_NEW_ITEM:    re_new_item,\n",
    "    TOKEN_TYPE_CLOSE_GROUP: re_close_group,\n",
    "}\n",
    "\n",
    "re_tokens"
   ]
  },
  {
   "cell_type": "markdown",
   "metadata": {
    "heading_collapsed": true
   },
   "source": [
    "# Parse"
   ]
  },
  {
   "cell_type": "markdown",
   "metadata": {
    "heading_collapsed": true,
    "hidden": true
   },
   "source": [
    "## Lexing"
   ]
  },
  {
   "cell_type": "code",
   "execution_count": 31,
   "metadata": {
    "hidden": true
   },
   "outputs": [],
   "source": [
    "def re_match_length(string, re_pattern):\n",
    "    match = re.match(re_pattern, string)\n",
    "    return match.span()[1] if match != None else 0\n",
    "\n",
    "# TOKEN_TYPE_STRING\n",
    "# TOKEN_TYPE_INTEGER\n",
    "# TOKEN_TYPE_NUMBER\n",
    "# TOKEN_TYPE_LITERAL\n",
    "\n",
    "# TOKEN_TYPE_GROUP\n",
    "# TOKEN_TYPE_BINARY\n",
    "# TOKEN_TYPE_UNARY_LEFT\n",
    "# TOKEN_TYPE_UNARY_RIGHT\n",
    "# TOKEN_TYPE_NEW_ITEM\n",
    "# TOKEN_TYPE_CLOSE_GROUP\n",
    "\n",
    "def lexing(string, ans_available=False):\n",
    "    tokens = []\n",
    "\n",
    "    i = 0\n",
    "    while i < len(string):\n",
    "            \n",
    "        last_token_type = tokens[-1][0] if len(tokens) > 0 else None\n",
    "        allowed_token_types = []\n",
    "\n",
    "        # begin with\n",
    "        if last_token_type in [\n",
    "            None,\n",
    "        ]:\n",
    "            \n",
    "            allowed_token_types = [TOKEN_TYPE_BINARY] if ans_available else []\n",
    "            allowed_token_types += [\n",
    "                TOKEN_TYPE_UNARY_LEFT,\n",
    "                TOKEN_TYPE_GROUP,\n",
    "                TOKEN_TYPE_NEW_ITEM,\n",
    "                TOKEN_TYPE_CLOSE_GROUP,\n",
    "                *TOKEN_TYPE_VALUE,\n",
    "            ]\n",
    "        \n",
    "        if last_token_type in [\\\n",
    "            TOKEN_TYPE_GROUP,\n",
    "            TOKEN_TYPE_NEW_ITEM,\n",
    "        ]:\n",
    "            allowed_token_types = [\n",
    "                TOKEN_TYPE_UNARY_LEFT,\n",
    "                TOKEN_TYPE_GROUP,\n",
    "                TOKEN_TYPE_NEW_ITEM,\n",
    "                TOKEN_TYPE_CLOSE_GROUP,\n",
    "                *TOKEN_TYPE_VALUE,\n",
    "            ]\n",
    "\n",
    "        # after value\n",
    "        if last_token_type in [\n",
    "            TOKEN_TYPE_CLOSE_GROUP,\n",
    "            TOKEN_TYPE_UNARY_RIGHT,\n",
    "            *TOKEN_TYPE_VALUE,\n",
    "        ]:\n",
    "            allowed_token_types = [\n",
    "                TOKEN_TYPE_UNARY_RIGHT,\n",
    "                TOKEN_TYPE_BINARY,\n",
    "                TOKEN_TYPE_NEW_ITEM,\n",
    "                TOKEN_TYPE_CLOSE_GROUP,\n",
    "            ]\n",
    "\n",
    "        # after operator\n",
    "        if last_token_type in [\n",
    "            TOKEN_TYPE_BINARY,\n",
    "            TOKEN_TYPE_UNARY_LEFT,\n",
    "\n",
    "        ]:\n",
    "            allowed_token_types = [\n",
    "                TOKEN_TYPE_GROUP,\n",
    "                TOKEN_TYPE_UNARY_LEFT,\n",
    "                *TOKEN_TYPE_VALUE,\n",
    "            ]\n",
    "            \n",
    "        \n",
    "        # find matching token type\n",
    "        token_type, token_str = None, None\n",
    "        \n",
    "        for possible_token_type in allowed_token_types:\n",
    "            re_pattern = re_tokens[possible_token_type]\n",
    "            \n",
    "            l = re_match_length(string[i:], re_pattern)\n",
    "            if l > 0:\n",
    "                token_type = possible_token_type\n",
    "                token_str = string[i:i+l]\n",
    "                break\n",
    "                \n",
    "\n",
    "                    \n",
    "        # invalid token\n",
    "        if token_type == None:\n",
    "#             raise Exception(f\"Token not allowed at position {i}\")\n",
    "            i += 1\n",
    "        else:\n",
    "            tokens.append((token_type, token_str))\n",
    "            i += len(token_str)\n",
    "\n",
    "    return tokens\n"
   ]
  },
  {
   "cell_type": "markdown",
   "metadata": {
    "heading_collapsed": true,
    "hidden": true
   },
   "source": [
    "## Treeify"
   ]
  },
  {
   "cell_type": "code",
   "execution_count": 32,
   "metadata": {
    "hidden": true
   },
   "outputs": [],
   "source": [
    "def bubble_up(focus, new):\n",
    "    \"\"\"\n",
    "    Finds ancestor/parent in tree upwards from `token` thats the first group token or the first\n",
    "    \"\"\"\n",
    "    \n",
    "    while True:\n",
    "#         print('bubble_up', focus.value, type(focus))\n",
    "#         if type(focus) != NodeValue and (type(focus) == NodeGroup or focus.precedence < new.precedence):\n",
    "        if type(focus) == NodeGroup or focus.precedence < new.precedence:\n",
    "#             print('return', focus.value)\n",
    "            return focus\n",
    "        else:\n",
    "            focus = focus.parent\n",
    "        \n",
    "def bubble_up_to_group(focus):\n",
    "    while True:\n",
    "        if type(focus) == NodeGroup:\n",
    "            return focus\n",
    "        else:\n",
    "            focus = focus.parent\n",
    "\n",
    "# TOKEN_TYPE_STRING\n",
    "# TOKEN_TYPE_INTEGER\n",
    "# TOKEN_TYPE_NUMBER\n",
    "# TOKEN_TYPE_LITERAL\n",
    "\n",
    "# TOKEN_TYPE_GROUP\n",
    "# TOKEN_TYPE_BINARY\n",
    "# TOKEN_TYPE_UNARY_LEFT\n",
    "# TOKEN_TYPE_UNARY_RIGHT\n",
    "\n",
    "# TOKEN_TYPE_NEW_ITEM\n",
    "# TOKEN_TYPE_CLOSE_GROUP\n",
    "\n",
    "def build_token_tree(tokens):\n",
    "    \n",
    "    root = NodeGroup(\"ROOT\", None)\n",
    "    focus = root\n",
    "    \n",
    "    for token_type, value in tokens:\n",
    "        \n",
    "        \n",
    "        # focus is\n",
    "        # Binary Operator\n",
    "        # Unary Operator\n",
    "        if type(focus) in [\n",
    "            NodeBinary,\n",
    "            NodeUnaryLeft,\n",
    "        ]:\n",
    "            \n",
    "            # next is \n",
    "            # Unary left\n",
    "            if token_type == TOKEN_TYPE_UNARY_LEFT:\n",
    "#                 print('insert lef unary')\n",
    "                \n",
    "                operand = find_operand(value, left_unary_operands)\n",
    "                next_node = NodeUnaryLeft(operand, operand.precedence)\n",
    "                \n",
    "                focus.set_right(next_node)\n",
    "                focus = next_node\n",
    "                \n",
    "            # next is\n",
    "            # Group\n",
    "            elif token_type == TOKEN_TYPE_GROUP:\n",
    "#                 print('insert open group')\n",
    "                \n",
    "                group = find_operand(value, groups)\n",
    "                next_node = NodeGroup(group, group.close_op)\n",
    "                focus.set_right(next_node)\n",
    "                focus = next_node\n",
    "            \n",
    "            # next is\n",
    "            # TOKEN_TYPE_STRING\n",
    "            # TOKEN_TYPE_INTEGER\n",
    "            # TOKEN_TYPE_NUMBER\n",
    "            # TOKEN_TYPE_LITERAL\n",
    "            elif token_type in TOKEN_TYPE_VALUE:\n",
    "#                 print('insert value')\n",
    "                \n",
    "                next_node = NodeValue(value, token_type)\n",
    "                focus.set_right(next_node)\n",
    "                focus = next_node\n",
    "                \n",
    "            else:\n",
    "                raise Exception(f\"token '{value}' not allowed here\")\n",
    "            \n",
    "            \n",
    "        # focus is\n",
    "        # Value\n",
    "        # Closed Group\n",
    "        elif type(focus) == NodeValue or (type(focus) == NodeGroup and focus.is_complete()):\n",
    "            \n",
    "            # next is\n",
    "            # Binary\n",
    "            if token_type == TOKEN_TYPE_BINARY:\n",
    "#                 print('insert binary')\n",
    "                \n",
    "                operand = find_operand(value, binary_operands)\n",
    "                next_node = NodeBinary(operand, operand.precedence)\n",
    "                    \n",
    "                parent_node = bubble_up(focus.parent, next_node)\n",
    "                child_node = parent_node.get_right()\n",
    "                parent_node.set_right(next_node)\n",
    "                next_node.set_left(child_node)\n",
    "                focus = next_node\n",
    "                \n",
    "            \n",
    "            # next is\n",
    "            # Unary right\n",
    "            elif token_type == TOKEN_TYPE_UNARY_RIGHT:\n",
    "#                 print('insert right unary')\n",
    "                \n",
    "                operand = find_operand(value, right_unary_operands)\n",
    "                next_node = NodeUnaryRight(operand, operand.precedence)\n",
    "                    \n",
    "                parent_node = focus.parent # bubble_up(focus.parent, next_node)\n",
    "                child_node = parent_node.get_right()\n",
    "                parent_node.set_right(next_node)\n",
    "                next_node.set_left(child_node)\n",
    "                # focus = next_node\n",
    "            \n",
    "            # next is\n",
    "            # Close group\n",
    "            elif token_type == TOKEN_TYPE_NEW_ITEM:\n",
    "#                 print('new item')\n",
    "                \n",
    "                parent_node = bubble_up_to_group(focus.parent)\n",
    "                parent_node.increase()\n",
    "                focus = parent_node\n",
    "            \n",
    "            # next is\n",
    "            # New item\n",
    "            elif token_type == TOKEN_TYPE_CLOSE_GROUP:\n",
    "#                 print('close group')\n",
    "                \n",
    "                parent_node = bubble_up_to_group(focus.parent)\n",
    "                parent_node.close()\n",
    "                focus = parent_node\n",
    "            \n",
    "            # next is\n",
    "            else:\n",
    "                raise Exception(f\"token '{value}' not allowed here\")\n",
    "#                 print('start new item in parent group')\n",
    "        \n",
    "        \n",
    "        # focus is\n",
    "        # Open Group\n",
    "        elif type(focus) == NodeGroup and not focus.is_complete(): \n",
    "            \n",
    "            # next is\n",
    "            # Binary - use ans on left\n",
    "            if token_type == TOKEN_TYPE_BINARY:\n",
    "#                 print('insert binary with ans as left')\n",
    "\n",
    "                left = NodeValue('ans', TOKEN_TYPE_LITERAL)\n",
    "                \n",
    "                operand = find_operand(value, binary_operands)\n",
    "                next_node = NodeBinary(operand, operand.precedence)\n",
    "                next_node.set_left(left)\n",
    "                \n",
    "                focus.add(next_node)\n",
    "                focus = next_node\n",
    "            \n",
    "            # next is\n",
    "            # Unary left\n",
    "            elif token_type == TOKEN_TYPE_UNARY_LEFT:\n",
    "#                 print('add unary left')\n",
    "                \n",
    "                operand = find_operand(value, left_unary_operands)\n",
    "                next_node = NodeUnaryLeft(operand, operand.precedence)\n",
    "                \n",
    "                focus.add(next_node)\n",
    "                focus = next_node\n",
    "            \n",
    "            # next is\n",
    "            # Group\n",
    "            elif token_type == TOKEN_TYPE_GROUP:\n",
    "#                 print('add open group')\n",
    "                \n",
    "                group = find_operand(value, groups)\n",
    "                next_node = NodeGroup(group, group.close_op)\n",
    "                focus.add(next_node)\n",
    "                focus = next_node\n",
    "            \n",
    "            # next is\n",
    "            # New item\n",
    "            elif token_type == TOKEN_TYPE_CLOSE_GROUP:\n",
    "#                 print('close group')\n",
    "                \n",
    "                focus.close()\n",
    "            \n",
    "            # next is\n",
    "            # TOKEN_TYPE_STRING\n",
    "            # TOKEN_TYPE_INTEGER\n",
    "            # TOKEN_TYPE_NUMBER\n",
    "            # TOKEN_TYPE_LITERAL\n",
    "            elif token_type in TOKEN_TYPE_VALUE:\n",
    "#                 print('add value')\n",
    "                \n",
    "                next_node = NodeValue(value, token_type)\n",
    "                focus.add(next_node)\n",
    "                focus = next_node\n",
    "                \n",
    "            # next is \n",
    "            # TOKEN_TYPE_NEW_ITEM\n",
    "            elif token_type == TOKEN_TYPE_NEW_ITEM:\n",
    "#                 print('new item/dimension')\n",
    "                \n",
    "                focus.increase()\n",
    "                \n",
    "            # next is\n",
    "            else:\n",
    "                raise Exception(f\"token '{value}' not allowed here\")\n",
    "#                 print('start new item in parent group')\n",
    "            \n",
    "        \n",
    "    \n",
    "    return root\n",
    "    "
   ]
  },
  {
   "cell_type": "markdown",
   "metadata": {
    "heading_collapsed": true,
    "hidden": true
   },
   "source": [
    "## Computation Graph"
   ]
  },
  {
   "cell_type": "code",
   "execution_count": 33,
   "metadata": {
    "hidden": true
   },
   "outputs": [],
   "source": [
    "def build_computation_graphs(token_tree):\n",
    "    \n",
    "    satatement_root_tokens = token_tree.get_children()\n",
    "    statements = [Statement(t.get_evaluable()) for t in satatement_root_tokens]\n",
    "    \n",
    "    return statements"
   ]
  },
  {
   "cell_type": "markdown",
   "metadata": {},
   "source": [
    "# Excecute"
   ]
  },
  {
   "cell_type": "markdown",
   "metadata": {
    "heading_collapsed": true
   },
   "source": [
    "## Evaluate"
   ]
  },
  {
   "cell_type": "code",
   "execution_count": 34,
   "metadata": {
    "hidden": true
   },
   "outputs": [],
   "source": [
    "def evaluate(computation_graphs, environment):\n",
    "    return [g.eval(environment) for g in computation_graphs]"
   ]
  },
  {
   "cell_type": "markdown",
   "metadata": {
    "heading_collapsed": true
   },
   "source": [
    "## Run"
   ]
  },
  {
   "cell_type": "code",
   "execution_count": 35,
   "metadata": {
    "hidden": true
   },
   "outputs": [],
   "source": [
    "def calc(query, ans_available=False):\n",
    "        \n",
    "#     commands\n",
    "#     if   query == 'exit':   break\n",
    "#     elif query == 'help':   help()\n",
    "#     elif query == 'ref':    ref()\n",
    "#     elif query == 'clear':  clear()\n",
    "#     elif query == 'copy':   pyperclip.copy(ans)\n",
    "#     elif query == '=':      pyperclip.copy(ans)\n",
    "\n",
    "#     # evaluate query\n",
    "#     elif query != \"\":\n",
    "    \n",
    "    built_in_variables = {k:v for k,v in built_ins.vars}\n",
    "    built_in_functions = {}\n",
    "    \n",
    "    for name, signature, parameters, function in built_ins.functions:\n",
    "        built_in_functions[name] = built_in_functions.get(name, Function(name))\n",
    "        built_in_functions[name][signature] = (parameters, function)\n",
    "        \n",
    "    \n",
    "    environment = {**built_in_variables, **built_in_functions}\n",
    "    print(environment, end='\\n\\n')\n",
    "    \n",
    "\n",
    "    tokens = lexing(query, ans_available)\n",
    "    print(tokens, end='\\n\\n')\n",
    "    \n",
    "    token_tree = build_token_tree(tokens)\n",
    "    print(token_tree, end='\\n\\n')\n",
    "    \n",
    "    computation_graphs = build_computation_graphs(token_tree)\n",
    "    print(computation_graphs, end='\\n\\n')\n",
    "    \n",
    "    results = evaluate(computation_graphs, environment)\n",
    "\n",
    "    return results"
   ]
  },
  {
   "cell_type": "markdown",
   "metadata": {},
   "source": [
    "## Test"
   ]
  },
  {
   "cell_type": "code",
   "execution_count": 36,
   "metadata": {},
   "outputs": [],
   "source": [
    "# calc('(1.2e-4+e) ^ -2j! -000.4e3j % fun(12cm, a, 7).abs')"
   ]
  },
  {
   "cell_type": "code",
   "execution_count": 37,
   "metadata": {
    "scrolled": true
   },
   "outputs": [
    {
     "name": "stdout",
     "output_type": "stream",
     "text": [
      "{'PI': Tensor(Real(3.141592653589793)), '+': Function(+, {(<class '__main__.Real'>, <class '__main__.Real'>): (['_p0', '_p1'], <function BuiltIns.register_scalar_function.<locals>.wrapper at 0x000001E2A4466730>)}), '-': Function(-, {(<class '__main__.Real'>, <class '__main__.Real'>): (['_p0', '_p1'], <function BuiltIns.register_scalar_function.<locals>.wrapper at 0x000001E2A4466488>)}), '*': Function(*, {(<class '__main__.Real'>, <class '__main__.Real'>): (['_p0', '_p1'], <function BuiltIns.register_scalar_function.<locals>.wrapper at 0x000001E2A4466620>)}), '/': Function(/, {(<class '__main__.Real'>, <class '__main__.Real'>): (['_p0', '_p1'], <function BuiltIns.register_scalar_function.<locals>.wrapper at 0x000001E2A4466598>)}), '//': Function(//, {(<class '__main__.Real'>, <class '__main__.Real'>): (['_p0', '_p1'], <function BuiltIns.register_scalar_function.<locals>.wrapper at 0x000001E2A4466158>)}), '%': Function(%, {(<class '__main__.Real'>, <class '__main__.Real'>): (['_p0', '_p1'], <function BuiltIns.register_scalar_function.<locals>.wrapper at 0x000001E2A44660D0>)}), '^': Function(^, {(<class '__main__.Real'>, <class '__main__.Real'>): (['_p0', '_p1'], <function BuiltIns.register_scalar_function.<locals>.wrapper at 0x000001E2A4458D90>)}), '#': Function(#, {(<class '__main__.Real'>, <class '__main__.Real'>): (('_A', '_B'), <function matmul at 0x000001E2A4458400>)})}\n",
      "\n",
      "[('number', '1'), ('binary operand', '+'), ('group', '['), ('number', '1'), ('new item', ','), ('number', '2'), ('new item', ','), ('number', '4'), ('close group', ']'), ('binary operand', '/'), ('group', '['), ('number', '2'), ('new item', ','), ('number', '4'), ('new item', ','), ('number', '8'), ('close group', ']'), ('binary operand', '*'), ('number', '2'), ('binary operand', '-'), ('number', '1')]\n",
      "\n",
      "NodeGroup(ROOT, children=[NodeBinary(Operand(\\-, 3.0), left=NodeBinary(Operand(\\+, 3.0), left=NodeValue(1, number), right=NodeBinary(Operand(\\*, 4.0), left=NodeBinary(Operand(\\/, 4.0), left=NodeGroup(Group(\\[, ]), children=[NodeValue(1, number), NodeValue(2, number), NodeValue(4, number)]), right=NodeGroup(Group(\\[, ]), children=[NodeValue(2, number), NodeValue(4, number), NodeValue(8, number)])), right=NodeValue(2, number))), right=NodeValue(1, number))])\n",
      "\n",
      "[Statement(VariableFunction_-((VariableFunction_+((VariableTensor([Real(1.0)], ()), VariableFunction_*((VariableFunction_/((VariableTensor([VariableTensor([Real(1.0)], ()), VariableTensor([Real(2.0)], ()), VariableTensor([Real(4.0)], ())], (3,)), VariableTensor([VariableTensor([Real(2.0)], ()), VariableTensor([Real(4.0)], ()), VariableTensor([Real(8.0)], ())], (3,)))), VariableTensor([Real(2.0)], ()))))), VariableTensor([Real(1.0)], ()))))]\n",
      "\n",
      "Tensor([Real(1.0), Real(1.0), Real(1.0)], (3,))\n"
     ]
    },
    {
     "data": {
      "text/plain": [
       "[Tensor([Real(1.0), Real(1.0), Real(1.0)], (3,))]"
      ]
     },
     "execution_count": 37,
     "metadata": {},
     "output_type": "execute_result"
    }
   ],
   "source": [
    "calc('1 + [1,2,4] / [2,4,8] * 2 - 1')"
   ]
  },
  {
   "cell_type": "code",
   "execution_count": 38,
   "metadata": {
    "scrolled": true
   },
   "outputs": [
    {
     "name": "stdout",
     "output_type": "stream",
     "text": [
      "{'PI': Tensor(Real(3.141592653589793)), '+': Function(+, {(<class '__main__.Real'>, <class '__main__.Real'>): (['_p0', '_p1'], <function BuiltIns.register_scalar_function.<locals>.wrapper at 0x000001E2A4466730>)}), '-': Function(-, {(<class '__main__.Real'>, <class '__main__.Real'>): (['_p0', '_p1'], <function BuiltIns.register_scalar_function.<locals>.wrapper at 0x000001E2A4466488>)}), '*': Function(*, {(<class '__main__.Real'>, <class '__main__.Real'>): (['_p0', '_p1'], <function BuiltIns.register_scalar_function.<locals>.wrapper at 0x000001E2A4466620>)}), '/': Function(/, {(<class '__main__.Real'>, <class '__main__.Real'>): (['_p0', '_p1'], <function BuiltIns.register_scalar_function.<locals>.wrapper at 0x000001E2A4466598>)}), '//': Function(//, {(<class '__main__.Real'>, <class '__main__.Real'>): (['_p0', '_p1'], <function BuiltIns.register_scalar_function.<locals>.wrapper at 0x000001E2A4466158>)}), '%': Function(%, {(<class '__main__.Real'>, <class '__main__.Real'>): (['_p0', '_p1'], <function BuiltIns.register_scalar_function.<locals>.wrapper at 0x000001E2A44660D0>)}), '^': Function(^, {(<class '__main__.Real'>, <class '__main__.Real'>): (['_p0', '_p1'], <function BuiltIns.register_scalar_function.<locals>.wrapper at 0x000001E2A4458D90>)}), '#': Function(#, {(<class '__main__.Real'>, <class '__main__.Real'>): (('_A', '_B'), <function matmul at 0x000001E2A4458400>)})}\n",
      "\n",
      "[('number', '2'), ('binary operand', '^'), ('group', '['), ('number', '1'), ('new item', ','), ('number', '2'), ('new item', ','), ('number', '3'), ('new item', ','), ('number', '4'), ('close group', ']'), ('new item', ','), ('group', '['), ('number', '1'), ('new item', ','), ('number', '2'), ('new item', ','), ('number', '3'), ('new item', ','), ('number', '4'), ('close group', ']'), ('binary operand', '^'), ('number', '2'), ('new item', ','), ('group', '['), ('number', '2'), ('new item', ','), ('number', '4'), ('new item', ','), ('number', '8'), ('close group', ']'), ('binary operand', '^'), ('group', '['), ('number', '2'), ('new item', ','), ('number', '3'), ('new item', ','), ('number', '4'), ('close group', ']'), ('new item', ','), ('literal', 'PI'), ('binary operand', '*'), ('group', '['), ('number', '1'), ('binary operand', '/'), ('number', '2'), ('new item', ','), ('number', '1'), ('new item', ','), ('number', '2'), ('new item', ','), ('new item', ','), ('new item', ','), ('close group', ']')]\n",
      "\n",
      "NodeGroup(ROOT, children=[NodeBinary(Operand(\\^, 5.0), left=NodeValue(2, number), right=NodeGroup(Group(\\[, ]), children=[NodeValue(1, number), NodeValue(2, number), NodeValue(3, number), NodeValue(4, number)])), NodeBinary(Operand(\\^, 5.0), left=NodeGroup(Group(\\[, ]), children=[NodeValue(1, number), NodeValue(2, number), NodeValue(3, number), NodeValue(4, number)]), right=NodeValue(2, number)), NodeBinary(Operand(\\^, 5.0), left=NodeGroup(Group(\\[, ]), children=[NodeValue(2, number), NodeValue(4, number), NodeValue(8, number)]), right=NodeGroup(Group(\\[, ]), children=[NodeValue(2, number), NodeValue(3, number), NodeValue(4, number)])), NodeBinary(Operand(\\*, 4.0), left=NodeValue(PI, literal), right=NodeGroup(Group(\\[, ]), children=[NodeBinary(Operand(\\/, 4.0), left=NodeValue(1, number), right=NodeValue(2, number)), NodeValue(1, number), NodeValue(2, number)]))])\n",
      "\n",
      "[Statement(VariableFunction_^((VariableTensor([Real(2.0)], ()), VariableTensor([VariableTensor([Real(1.0)], ()), VariableTensor([Real(2.0)], ()), VariableTensor([Real(3.0)], ()), VariableTensor([Real(4.0)], ())], (4,))))), Statement(VariableFunction_^((VariableTensor([VariableTensor([Real(1.0)], ()), VariableTensor([Real(2.0)], ()), VariableTensor([Real(3.0)], ()), VariableTensor([Real(4.0)], ())], (4,)), VariableTensor([Real(2.0)], ())))), Statement(VariableFunction_^((VariableTensor([VariableTensor([Real(2.0)], ()), VariableTensor([Real(4.0)], ()), VariableTensor([Real(8.0)], ())], (3,)), VariableTensor([VariableTensor([Real(2.0)], ()), VariableTensor([Real(3.0)], ()), VariableTensor([Real(4.0)], ())], (3,))))), Statement(VariableFunction_*((Variable(PI), VariableTensor([VariableFunction_/((VariableTensor([Real(1.0)], ()), VariableTensor([Real(2.0)], ()))), VariableTensor([Real(1.0)], ()), VariableTensor([Real(2.0)], ())], (1, 1, 3)))))]\n",
      "\n",
      "Tensor([Real(2.0), Real(4.0), Real(8.0), Real(16.0)], (4,))\n",
      "Tensor([Real(1.0), Real(4.0), Real(9.0), Real(16.0)], (4,))\n",
      "Tensor([Real(4.0), Real(64.0), Real(4096.0)], (3,))\n",
      "Tensor([Real(1.5707963267948966), Real(3.141592653589793), Real(6.283185307179586)], (1, 1, 3))\n"
     ]
    },
    {
     "data": {
      "text/plain": [
       "[Tensor([Real(2.0), Real(4.0), Real(8.0), Real(16.0)], (4,)),\n",
       " Tensor([Real(1.0), Real(4.0), Real(9.0), Real(16.0)], (4,)),\n",
       " Tensor([Real(4.0), Real(64.0), Real(4096.0)], (3,)),\n",
       " Tensor([Real(1.5707963267948966), Real(3.141592653589793), Real(6.283185307179586)], (1, 1, 3))]"
      ]
     },
     "execution_count": 38,
     "metadata": {},
     "output_type": "execute_result"
    }
   ],
   "source": [
    "calc('2 ^ [1,2,3,4], [1,2,3,4] ^ 2, [2,4,8] ^ [2,3,4], PI * [1/2, 1, 2,,,]')"
   ]
  },
  {
   "cell_type": "code",
   "execution_count": 39,
   "metadata": {},
   "outputs": [
    {
     "name": "stdout",
     "output_type": "stream",
     "text": [
      "{'PI': Tensor(Real(3.141592653589793)), '+': Function(+, {(<class '__main__.Real'>, <class '__main__.Real'>): (['_p0', '_p1'], <function BuiltIns.register_scalar_function.<locals>.wrapper at 0x000001E2A4466730>)}), '-': Function(-, {(<class '__main__.Real'>, <class '__main__.Real'>): (['_p0', '_p1'], <function BuiltIns.register_scalar_function.<locals>.wrapper at 0x000001E2A4466488>)}), '*': Function(*, {(<class '__main__.Real'>, <class '__main__.Real'>): (['_p0', '_p1'], <function BuiltIns.register_scalar_function.<locals>.wrapper at 0x000001E2A4466620>)}), '/': Function(/, {(<class '__main__.Real'>, <class '__main__.Real'>): (['_p0', '_p1'], <function BuiltIns.register_scalar_function.<locals>.wrapper at 0x000001E2A4466598>)}), '//': Function(//, {(<class '__main__.Real'>, <class '__main__.Real'>): (['_p0', '_p1'], <function BuiltIns.register_scalar_function.<locals>.wrapper at 0x000001E2A4466158>)}), '%': Function(%, {(<class '__main__.Real'>, <class '__main__.Real'>): (['_p0', '_p1'], <function BuiltIns.register_scalar_function.<locals>.wrapper at 0x000001E2A44660D0>)}), '^': Function(^, {(<class '__main__.Real'>, <class '__main__.Real'>): (['_p0', '_p1'], <function BuiltIns.register_scalar_function.<locals>.wrapper at 0x000001E2A4458D90>)}), '#': Function(#, {(<class '__main__.Real'>, <class '__main__.Real'>): (('_A', '_B'), <function matmul at 0x000001E2A4458400>)})}\n",
      "\n",
      "[('group', '['), ('number', '1'), ('new item', ','), ('number', '2'), ('new item', ','), ('new item', ','), ('number', '3'), ('new item', ','), ('number', '4'), ('new item', ','), ('new item', ','), ('new item', ','), ('number', '5'), ('new item', ','), ('number', '6'), ('new item', ','), ('new item', ','), ('number', '7'), ('new item', ','), ('number', '8'), ('close group', ']'), ('binary operand', '#'), ('group', '['), ('number', '5'), ('new item', ','), ('number', '6'), ('new item', ','), ('new item', ','), ('number', '7'), ('new item', ','), ('number', '8'), ('new item', ','), ('new item', ','), ('new item', ','), ('number', '1'), ('new item', ','), ('number', '2'), ('new item', ','), ('new item', ','), ('number', '3'), ('new item', ','), ('number', '4'), ('close group', ']')]\n",
      "\n",
      "NodeGroup(ROOT, children=[NodeBinary(Operand(\\#, 4.0), left=NodeGroup(Group(\\[, ]), children=[NodeValue(1, number), NodeValue(2, number), NodeValue(3, number), NodeValue(4, number), NodeValue(5, number), NodeValue(6, number), NodeValue(7, number), NodeValue(8, number)]), right=NodeGroup(Group(\\[, ]), children=[NodeValue(5, number), NodeValue(6, number), NodeValue(7, number), NodeValue(8, number), NodeValue(1, number), NodeValue(2, number), NodeValue(3, number), NodeValue(4, number)]))])\n",
      "\n",
      "[Statement(VariableFunction_#((VariableTensor([VariableTensor([Real(1.0)], ()), VariableTensor([Real(2.0)], ()), VariableTensor([Real(3.0)], ()), VariableTensor([Real(4.0)], ()), VariableTensor([Real(5.0)], ()), VariableTensor([Real(6.0)], ()), VariableTensor([Real(7.0)], ()), VariableTensor([Real(8.0)], ())], (2, 2, 2)), VariableTensor([VariableTensor([Real(5.0)], ()), VariableTensor([Real(6.0)], ()), VariableTensor([Real(7.0)], ()), VariableTensor([Real(8.0)], ()), VariableTensor([Real(1.0)], ()), VariableTensor([Real(2.0)], ()), VariableTensor([Real(3.0)], ()), VariableTensor([Real(4.0)], ())], (2, 2, 2)))))]\n",
      "\n",
      "Tensor([Real(19.0), Real(22.0), Real(43.0), Real(50.0), Real(23.0), Real(34.0), Real(31.0), Real(46.0)], (2, 2, 2))\n"
     ]
    },
    {
     "data": {
      "text/plain": [
       "[Tensor([Real(19.0), Real(22.0), Real(43.0), Real(50.0), Real(23.0), Real(34.0), Real(31.0), Real(46.0)], (2, 2, 2))]"
      ]
     },
     "execution_count": 39,
     "metadata": {},
     "output_type": "execute_result"
    }
   ],
   "source": [
    "calc('[1,2,,3,4,,,5,6,,7,8] # [5,6,,7,8,,,1,2,,3,4]')"
   ]
  },
  {
   "cell_type": "code",
   "execution_count": null,
   "metadata": {},
   "outputs": [],
   "source": []
  }
 ],
 "metadata": {
  "kernelspec": {
   "display_name": "Python 3",
   "language": "python",
   "name": "python3"
  },
  "language_info": {
   "codemirror_mode": {
    "name": "ipython",
    "version": 3
   },
   "file_extension": ".py",
   "mimetype": "text/x-python",
   "name": "python",
   "nbconvert_exporter": "python",
   "pygments_lexer": "ipython3",
   "version": "3.6.8"
  }
 },
 "nbformat": 4,
 "nbformat_minor": 2
}
